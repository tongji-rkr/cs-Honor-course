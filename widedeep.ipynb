{
 "cells": [
  {
   "cell_type": "code",
   "execution_count": 1,
   "id": "5757bf5b",
   "metadata": {
    "execution": {
     "iopub.execute_input": "2022-07-03T10:10:48.729685Z",
     "iopub.status.busy": "2022-07-03T10:10:48.728678Z",
     "iopub.status.idle": "2022-07-03T10:10:59.638051Z",
     "shell.execute_reply": "2022-07-03T10:10:59.636746Z"
    },
    "papermill": {
     "duration": 10.921263,
     "end_time": "2022-07-03T10:10:59.641206",
     "exception": false,
     "start_time": "2022-07-03T10:10:48.719943",
     "status": "completed"
    },
    "tags": []
   },
   "outputs": [],
   "source": [
    "import pandas as pd\n",
    "import numpy as np\n",
    "from matplotlib import pyplot as plt\n",
    "from sklearn.model_selection import train_test_split\n",
    "from matplotlib import pyplot as plt\n",
    "from keras.layers import Embedding, Lambda, Dense, Input, concatenate, dot, multiply,Flatten\n",
    "from keras.models import Model\n",
    "import keras.backend as K\n",
    "\n",
    "np.random.seed(555)"
   ]
  },
  {
   "cell_type": "code",
   "execution_count": 2,
   "id": "4e38fdae",
   "metadata": {
    "execution": {
     "iopub.execute_input": "2022-07-03T10:10:59.654561Z",
     "iopub.status.busy": "2022-07-03T10:10:59.653828Z",
     "iopub.status.idle": "2022-07-03T10:10:59.662286Z",
     "shell.execute_reply": "2022-07-03T10:10:59.661045Z"
    },
    "papermill": {
     "duration": 0.017535,
     "end_time": "2022-07-03T10:10:59.664573",
     "exception": false,
     "start_time": "2022-07-03T10:10:59.647038",
     "status": "completed"
    },
    "tags": []
   },
   "outputs": [],
   "source": [
    " def get_users_attr(df_users):\n",
    "    df_users = pd.read_csv(users_path,sep=\"::\",names=['uid','gender','age','occupation','zipcode'],encoding='utf-8')\n",
    "    user_ids=set(df_users['uid'].values)\n",
    "    df_users = df_users.drop(['zipcode'],axis=1)\n",
    "    for i in range(len(df_users)):\n",
    "        if df_users.loc[i,'gender'] == 'F':\n",
    "            df_users.loc[i,'gender'] = 1\n",
    "        else:\n",
    "            df_users.loc[i,'gender'] = 0\n",
    "    return df_users,user_ids"
   ]
  },
  {
   "cell_type": "code",
   "execution_count": 3,
   "id": "c5d04e09",
   "metadata": {
    "execution": {
     "iopub.execute_input": "2022-07-03T10:10:59.677774Z",
     "iopub.status.busy": "2022-07-03T10:10:59.677384Z",
     "iopub.status.idle": "2022-07-03T10:10:59.687099Z",
     "shell.execute_reply": "2022-07-03T10:10:59.686055Z"
    },
    "papermill": {
     "duration": 0.019042,
     "end_time": "2022-07-03T10:10:59.689273",
     "exception": false,
     "start_time": "2022-07-03T10:10:59.670231",
     "status": "completed"
    },
    "tags": []
   },
   "outputs": [],
   "source": [
    "def get_movies_attr(df_movies):\n",
    "    year=df_movies['title'].values\n",
    "    for i in range(len(year)):\n",
    "        year[i]=year[i].split('(')[-1].split(')')[0]\n",
    "    df_movies['year']=year\n",
    "    genres_list = set()\n",
    "    for sstr in df_movies['genres'].str.split('|'):\n",
    "        genres_list = set().union(sstr, genres_list)\n",
    "    genres_list = list(genres_list)\n",
    "    #genres_dict = dict(zip(genres_list,np.zeros(len(genres_list)) ))\n",
    "    #for sstr in df_movies['genres'].str.split('|'):\n",
    "    #    for s in sstr:\n",
    "    #        genres_dict[s]+=1\n",
    "    #rank=sorted(genres_dict.items(),key=lambda kv:kv[1],reverse=True)\n",
    "    #for i in range(5):\n",
    "    #    genres=rank[i][0]\n",
    "    for genres in genres_list:\n",
    "        df_movies[genres] = df_movies['genres'].str.contains(genres).apply(lambda x:1 if x else 0)\n",
    "    item_ids=set(df_movies['iid'].values)\n",
    "    df_movies = df_movies.drop(['title','genres'],axis=1)\n",
    "    return df_movies,item_ids"
   ]
  },
  {
   "cell_type": "code",
   "execution_count": 4,
   "id": "0dc9693f",
   "metadata": {
    "execution": {
     "iopub.execute_input": "2022-07-03T10:10:59.703286Z",
     "iopub.status.busy": "2022-07-03T10:10:59.702192Z",
     "iopub.status.idle": "2022-07-03T10:10:59.708082Z",
     "shell.execute_reply": "2022-07-03T10:10:59.707212Z"
    },
    "papermill": {
     "duration": 0.015046,
     "end_time": "2022-07-03T10:10:59.710294",
     "exception": false,
     "start_time": "2022-07-03T10:10:59.695248",
     "status": "completed"
    },
    "tags": []
   },
   "outputs": [],
   "source": [
    "def get_dict(data):\n",
    "    k_ids = set(data)\n",
    "    n = len(k_ids)\n",
    "    k_dict = dict(zip(k_ids, range(n)))\n",
    "    return k_dict,n"
   ]
  },
  {
   "cell_type": "code",
   "execution_count": 5,
   "id": "8f80930a",
   "metadata": {
    "execution": {
     "iopub.execute_input": "2022-07-03T10:10:59.723591Z",
     "iopub.status.busy": "2022-07-03T10:10:59.722839Z",
     "iopub.status.idle": "2022-07-03T10:10:59.737251Z",
     "shell.execute_reply": "2022-07-03T10:10:59.735970Z"
    },
    "papermill": {
     "duration": 0.024069,
     "end_time": "2022-07-03T10:10:59.739850",
     "exception": false,
     "start_time": "2022-07-03T10:10:59.715781",
     "status": "completed"
    },
    "tags": []
   },
   "outputs": [],
   "source": [
    "class DataProcess:\n",
    "    def __init__(self, ratings_path, users_path, movies_path, alpha=0.8):\n",
    "        print(\"start load data\")\n",
    "        df_ratings=pd.read_csv(ratings_path,sep=\"::\",names=['uid', 'iid', 'ratings','time'],encoding='utf-8',engine='python')\n",
    "        df_users=pd.read_csv(users_path,sep=\"::\",names=['uid', 'gender', 'age','occupation','zipcode'],encoding='utf-8',engine='python')\n",
    "        df_movies=pd.read_csv(movies_path,sep=\"::\",names=['iid', 'title', 'genres'],encoding='ISO-8859-1',engine='python')\n",
    "        print(\"start process data\")\n",
    "        df_ratings=df_ratings.drop('time',axis=1)\n",
    "        df_users,user_ids=get_users_attr(df_users)\n",
    "        df_movies,item_ids=get_movies_attr(df_movies)\n",
    "    \n",
    "        self.n_user=len(user_ids)\n",
    "        self.n_item=len(item_ids)\n",
    "        u_id2idx = dict(zip(user_ids, range(self.n_user)))\n",
    "        i_id2idx = dict(zip(item_ids, range(self.n_item)))\n",
    "        \n",
    "        df_ratings = df_ratings.assign(uid=[u_id2idx[uid] for uid in df_ratings.uid])\n",
    "        df_ratings = df_ratings.assign(iid=[i_id2idx[iid] for iid in df_ratings.iid])\n",
    "        df_ratings = df_ratings.loc[df_ratings['uid']<=100]\n",
    "        df_ratings = df_ratings.loc[df_ratings['iid']<=100]\n",
    "        \n",
    "        self.df = pd.merge(pd.merge(df_ratings, df_users, on='uid'), df_movies, on='iid')\n",
    "        '''\n",
    "        gender_dict,self.n_gender=get_dict(self.df['gender'])\n",
    "        self.df = self.df.assign(gender=[gender_dict[k] for k in self.df['gender']])\n",
    "        \n",
    "        age_dict,self.n_age=get_dict(self.df['age'])\n",
    "        self.df = self.df.assign(age=[age_dict[k] for k in self.df['age']])\n",
    "        \n",
    "        occupation_dict,self.n_occupation=get_dict(self.df['occupation'])\n",
    "        self.df = self.df.assign(occupation=[occupation_dict[k] for k in self.df['occupation']])\n",
    "        \n",
    "        year_dict,self.n_year=get_dict(self.df['year'])\n",
    "        self.df = self.df.assign(year=[year_dict[k] for k in self.df['year']])\n",
    "        \n",
    "        self.df=pd.DataFrame(self.df,dtype=np.float64)\n",
    "        '''\n",
    "        self.X = self.df.drop('ratings', axis=1)\n",
    "        self.Y = self.df['ratings'].values"
   ]
  },
  {
   "cell_type": "markdown",
   "id": "0cb61646",
   "metadata": {
    "papermill": {
     "duration": 0.005359,
     "end_time": "2022-07-03T10:10:59.751034",
     "exception": false,
     "start_time": "2022-07-03T10:10:59.745675",
     "status": "completed"
    },
    "tags": []
   },
   "source": [
    "# FM model"
   ]
  },
  {
   "cell_type": "code",
   "execution_count": 6,
   "id": "2bbf03ff",
   "metadata": {
    "execution": {
     "iopub.execute_input": "2022-07-03T10:10:59.764350Z",
     "iopub.status.busy": "2022-07-03T10:10:59.763215Z",
     "iopub.status.idle": "2022-07-03T10:10:59.777066Z",
     "shell.execute_reply": "2022-07-03T10:10:59.775982Z"
    },
    "papermill": {
     "duration": 0.022925,
     "end_time": "2022-07-03T10:10:59.779408",
     "exception": false,
     "start_time": "2022-07-03T10:10:59.756483",
     "status": "completed"
    },
    "tags": []
   },
   "outputs": [],
   "source": [
    "class WideDeep:\n",
    "    def __init__(self,n_gender,n_age,n_occupation,n_year):\n",
    "    #,n_uid,n_iid):\n",
    "\n",
    "        # Input layer\n",
    "        a_in = Input(shape=[n_gender], name='gender')\n",
    "        b_in = Input(shape=[n_age], name='age')\n",
    "        c_in = Input(shape=[n_occupation], name='occupation')\n",
    "        d_in = Input(shape=[n_year], name='year')\n",
    "        #e_in = Input(shape=[n_uid], name='uid')\n",
    "        #f_in = Input(shape=[n_iid], name='iid')\n",
    "        \n",
    "        # Layer 2\n",
    "        embedding_a = Embedding(input_dim=n_gender, output_dim=100, name='embedding_a')(a_in)\n",
    "        embedding_b = Embedding(input_dim=n_age, output_dim=100, name='embedding_b')(b_in)\n",
    "        embedding_c = Embedding(input_dim=n_occupation, output_dim=100, name='embedding_c')(c_in)\n",
    "        embedding_d = Embedding(input_dim=n_year, output_dim=100, name='embedding_d')(d_in)\n",
    "        #embedding_e = Embedding(input_dim=n_uid, output_dim=100, name='embedding_e')(e_in)\n",
    "        #embedding_f = Embedding(input_dim=n_iid, output_dim=100, name='embedding_f')(f_in)\n",
    "\n",
    "        # Layer 3\n",
    "        f=Flatten()\n",
    "        Sa=f(embedding_a)\n",
    "        Sb=f(embedding_b)\n",
    "        Sc=f(embedding_c)\n",
    "        Sd=f(embedding_d)\n",
    "        #Se=f(embedding_e)\n",
    "        #Sf=f(embedding_f)\n",
    "        concat_h = concatenate([Sa,Sb,Sc,Sd])\n",
    "        #concat_h = concatenate([embedding_a,embedding_b,embedding_c,embedding_d])\n",
    "\n",
    "        # Layer 4\n",
    "        h_6 = Dense(units=200, activation='tanh',  name='h_6')(concat_h)\n",
    "        concat_h_6 = concatenate([a_in, b_in, c_in, d_in, h_6])\n",
    "        \n",
    "        # Output Layer\n",
    "        y = Dense(units=1, activation='sigmoid', input_dim=6, name='output')(concat_h_6)\n",
    "\n",
    "        self.model = Model(inputs=[a_in, b_in, c_in, d_in], outputs=[y], name='WideDeep')"
   ]
  },
  {
   "cell_type": "markdown",
   "id": "69fc54ba",
   "metadata": {
    "papermill": {
     "duration": 0.004932,
     "end_time": "2022-07-03T10:10:59.789723",
     "exception": false,
     "start_time": "2022-07-03T10:10:59.784791",
     "status": "completed"
    },
    "tags": []
   },
   "source": [
    "# Train & Predict"
   ]
  },
  {
   "cell_type": "code",
   "execution_count": 7,
   "id": "8c401418",
   "metadata": {
    "execution": {
     "iopub.execute_input": "2022-07-03T10:10:59.802337Z",
     "iopub.status.busy": "2022-07-03T10:10:59.801730Z",
     "iopub.status.idle": "2022-07-03T10:11:11.288230Z",
     "shell.execute_reply": "2022-07-03T10:11:11.286769Z"
    },
    "papermill": {
     "duration": 11.496248,
     "end_time": "2022-07-03T10:11:11.291162",
     "exception": false,
     "start_time": "2022-07-03T10:10:59.794914",
     "status": "completed"
    },
    "tags": []
   },
   "outputs": [
    {
     "name": "stdout",
     "output_type": "stream",
     "text": [
      "start load data\n",
      "start process data\n"
     ]
    },
    {
     "name": "stderr",
     "output_type": "stream",
     "text": [
      "/opt/conda/lib/python3.7/site-packages/pandas/util/_decorators.py:311: ParserWarning: Falling back to the 'python' engine because the 'c' engine does not support regex separators (separators > 1 char and different from '\\s+' are interpreted as regex); you can avoid this warning by specifying engine='python'.\n",
      "  return func(*args, **kwargs)\n"
     ]
    }
   ],
   "source": [
    "ratings_path=\"../input/movielens-1m-dataset/ratings.dat\"\n",
    "users_path=\"../input/movielens-1m-dataset/users.dat\"\n",
    "movies_path=\"../input/movielens-1m-dataset/movies.dat\"\n",
    "dp = DataProcess(ratings_path,users_path,movies_path)\n",
    "X_train,X_test,Y_train,Y_test=train_test_split(dp.X,dp.Y,test_size=0.2,random_state=123)"
   ]
  },
  {
   "cell_type": "code",
   "execution_count": 8,
   "id": "ad0f25a0",
   "metadata": {
    "execution": {
     "iopub.execute_input": "2022-07-03T10:11:11.304302Z",
     "iopub.status.busy": "2022-07-03T10:11:11.303870Z",
     "iopub.status.idle": "2022-07-03T10:11:11.326104Z",
     "shell.execute_reply": "2022-07-03T10:11:11.324909Z"
    },
    "papermill": {
     "duration": 0.031974,
     "end_time": "2022-07-03T10:11:11.328918",
     "exception": false,
     "start_time": "2022-07-03T10:11:11.296944",
     "status": "completed"
    },
    "tags": []
   },
   "outputs": [],
   "source": [
    "headers=['gender','age','occupation','year','uid','iid']\n",
    "df = pd.concat([X_train[headers],X_test[headers]])\n",
    "df = df.reset_index(drop=True)\n",
    "n_gender=len(set(df['gender'].values))\n",
    "n_age=len(set(df['age'].values))\n",
    "n_occupation=len(set(df['occupation'].values))\n",
    "n_year=len(set(df['year'].values))\n",
    "n_uid=len(set(df['uid'].values))\n",
    "n_iid=len(set(df['iid'].values))\n",
    "df=pd.get_dummies(df,columns=headers)\n",
    "X_train = df.iloc[:len(X_train),:].values\n",
    "X_test = df.iloc[len(X_train):,:].values"
   ]
  },
  {
   "cell_type": "code",
   "execution_count": 9,
   "id": "3f275f48",
   "metadata": {
    "execution": {
     "iopub.execute_input": "2022-07-03T10:11:11.342068Z",
     "iopub.status.busy": "2022-07-03T10:11:11.341638Z",
     "iopub.status.idle": "2022-07-03T10:11:11.346916Z",
     "shell.execute_reply": "2022-07-03T10:11:11.345697Z"
    },
    "papermill": {
     "duration": 0.014641,
     "end_time": "2022-07-03T10:11:11.349355",
     "exception": false,
     "start_time": "2022-07-03T10:11:11.334714",
     "status": "completed"
    },
    "tags": []
   },
   "outputs": [],
   "source": [
    "Y_train[Y_train<=3]=0\n",
    "Y_train[Y_train>3]=1"
   ]
  },
  {
   "cell_type": "code",
   "execution_count": 10,
   "id": "e4c3805e",
   "metadata": {
    "execution": {
     "iopub.execute_input": "2022-07-03T10:11:11.362722Z",
     "iopub.status.busy": "2022-07-03T10:11:11.361777Z",
     "iopub.status.idle": "2022-07-03T10:11:11.367080Z",
     "shell.execute_reply": "2022-07-03T10:11:11.365829Z"
    },
    "papermill": {
     "duration": 0.014448,
     "end_time": "2022-07-03T10:11:11.369359",
     "exception": false,
     "start_time": "2022-07-03T10:11:11.354911",
     "status": "completed"
    },
    "tags": []
   },
   "outputs": [],
   "source": [
    "Y_test[Y_test<=3]=0\n",
    "Y_test[Y_test>3]=1"
   ]
  },
  {
   "cell_type": "code",
   "execution_count": 11,
   "id": "24dc79d2",
   "metadata": {
    "execution": {
     "iopub.execute_input": "2022-07-03T10:11:11.382143Z",
     "iopub.status.busy": "2022-07-03T10:11:11.381719Z",
     "iopub.status.idle": "2022-07-03T10:11:11.392917Z",
     "shell.execute_reply": "2022-07-03T10:11:11.391684Z"
    },
    "papermill": {
     "duration": 0.020499,
     "end_time": "2022-07-03T10:11:11.395433",
     "exception": false,
     "start_time": "2022-07-03T10:11:11.374934",
     "status": "completed"
    },
    "tags": []
   },
   "outputs": [
    {
     "data": {
      "text/plain": [
       "array([1, 1, 1, 1, 1, 0, 1, 1, 1, 0, 1, 1, 1, 0, 1, 0, 0, 0, 0, 0, 1, 1,\n",
       "       0, 0, 1, 0, 0, 0, 1, 0, 1, 1, 0, 1, 0, 1, 0, 0, 0, 0, 0, 0, 0, 1,\n",
       "       0, 0, 1, 1, 0, 1, 1, 0, 1, 0, 1, 0, 0, 0, 1, 1, 1, 0, 1, 0, 0, 1,\n",
       "       1, 0, 1, 1, 0, 1, 1, 1, 1, 1, 1, 1, 1, 0, 1, 0, 0, 1, 0, 1, 0, 1,\n",
       "       0, 1, 0, 1, 0, 1, 0, 0, 1, 0, 0, 0, 1, 0, 1, 1, 0, 1, 1, 1, 0, 1,\n",
       "       0, 0, 0, 1, 0, 1, 1, 1, 1, 0, 1, 0, 1, 1, 1, 0, 0, 1, 1, 1, 1, 1,\n",
       "       0, 0, 0, 1, 1, 0, 1, 1, 0, 0, 0, 1, 1, 0, 1, 0, 0, 0, 1, 1, 1, 1,\n",
       "       1, 0, 1, 0, 1, 1, 0, 0, 0, 1, 1, 0, 0, 0, 1, 0, 0, 1, 1, 0, 1, 0,\n",
       "       1, 1, 0, 1, 1, 1, 1, 1, 1, 1, 1, 0, 1, 0, 0, 0, 1, 1, 0, 1, 0, 0,\n",
       "       0, 0, 0, 1, 0, 1, 1, 0, 0, 1, 0, 0, 1, 1, 1, 1, 0, 0, 0, 1, 1, 1,\n",
       "       1, 1, 1, 1, 0, 1, 1, 1, 1, 1, 0, 0, 1, 1, 0, 1, 0, 1, 0, 0, 1, 0,\n",
       "       1, 0, 0, 1, 1, 1, 0, 1, 0, 1, 0, 0, 1, 0, 1, 1, 0, 0, 1, 1, 1, 0,\n",
       "       1, 0, 1, 1, 0, 1, 1, 0, 1, 0, 1, 0, 1, 1, 1, 0, 1, 1, 1, 0, 1, 0,\n",
       "       1, 0, 1, 1, 0, 1, 1, 0, 1, 1, 0, 0, 1, 0, 0, 1, 0, 0, 1, 0, 1, 1,\n",
       "       0, 1, 0, 1, 0, 1, 1, 0, 1, 0, 0, 0, 1, 1, 0, 1, 1, 1, 0, 1, 1, 0,\n",
       "       0, 0, 1, 0, 0, 1, 1, 1, 0, 1])"
      ]
     },
     "execution_count": 11,
     "metadata": {},
     "output_type": "execute_result"
    }
   ],
   "source": [
    "Y_train"
   ]
  },
  {
   "cell_type": "code",
   "execution_count": 12,
   "id": "9b500c37",
   "metadata": {
    "execution": {
     "iopub.execute_input": "2022-07-03T10:11:11.409290Z",
     "iopub.status.busy": "2022-07-03T10:11:11.408040Z",
     "iopub.status.idle": "2022-07-03T10:11:11.416928Z",
     "shell.execute_reply": "2022-07-03T10:11:11.416131Z"
    },
    "papermill": {
     "duration": 0.018049,
     "end_time": "2022-07-03T10:11:11.419263",
     "exception": false,
     "start_time": "2022-07-03T10:11:11.401214",
     "status": "completed"
    },
    "tags": []
   },
   "outputs": [],
   "source": [
    "X1=X_train[:,:n_gender]\n",
    "X2=X_train[:,n_gender:n_gender+n_age]\n",
    "X3=X_train[:,n_gender+n_age:n_gender+n_age+n_occupation]\n",
    "X4=X_train[:,n_gender+n_age+n_occupation:n_gender+n_age+n_occupation+n_year]\n",
    "#X5=X_train[:,n_gender+n_age+n_occupation+n_year:n_gender+n_age+n_occupation+n_year+n_uid]\n",
    "#X6=X_train[:,n_gender+n_age+n_occupation+n_year+n_uid:]\n",
    "X_train=[X1,X2,X3,X4]\n",
    "X1=X_test[:,:n_gender]\n",
    "X2=X_test[:,n_gender:n_gender+n_age]\n",
    "X3=X_test[:,n_gender+n_age:n_gender+n_age+n_occupation]\n",
    "X4=X_test[:,n_gender+n_age+n_occupation:n_gender+n_age+n_occupation+n_year]\n",
    "#X5=X_test[:,n_gender+n_age+n_occupation+n_year:n_gender+n_age+n_occupation+n_year+n_uid]\n",
    "#X6=X_test[:,n_gender+n_age+n_occupation+n_year+n_uid:]\n",
    "X_test=[X1,X2,X3,X4]"
   ]
  },
  {
   "cell_type": "code",
   "execution_count": 13,
   "id": "1f8fb7db",
   "metadata": {
    "execution": {
     "iopub.execute_input": "2022-07-03T10:11:11.433035Z",
     "iopub.status.busy": "2022-07-03T10:11:11.431793Z",
     "iopub.status.idle": "2022-07-03T10:11:11.619092Z",
     "shell.execute_reply": "2022-07-03T10:11:11.617821Z"
    },
    "papermill": {
     "duration": 0.197737,
     "end_time": "2022-07-03T10:11:11.622717",
     "exception": false,
     "start_time": "2022-07-03T10:11:11.424980",
     "status": "completed"
    },
    "scrolled": true,
    "tags": []
   },
   "outputs": [
    {
     "name": "stdout",
     "output_type": "stream",
     "text": [
      "Model: \"WideDeep\"\n",
      "__________________________________________________________________________________________________\n",
      "Layer (type)                    Output Shape         Param #     Connected to                     \n",
      "==================================================================================================\n",
      "gender (InputLayer)             [(None, 2)]          0                                            \n",
      "__________________________________________________________________________________________________\n",
      "age (InputLayer)                [(None, 7)]          0                                            \n",
      "__________________________________________________________________________________________________\n",
      "occupation (InputLayer)         [(None, 19)]         0                                            \n",
      "__________________________________________________________________________________________________\n",
      "year (InputLayer)               [(None, 3)]          0                                            \n",
      "__________________________________________________________________________________________________\n",
      "embedding_a (Embedding)         (None, 2, 100)       200         gender[0][0]                     \n",
      "__________________________________________________________________________________________________\n",
      "embedding_b (Embedding)         (None, 7, 100)       700         age[0][0]                        \n",
      "__________________________________________________________________________________________________\n",
      "embedding_c (Embedding)         (None, 19, 100)      1900        occupation[0][0]                 \n",
      "__________________________________________________________________________________________________\n",
      "embedding_d (Embedding)         (None, 3, 100)       300         year[0][0]                       \n",
      "__________________________________________________________________________________________________\n",
      "flatten (Flatten)               multiple             0           embedding_a[0][0]                \n",
      "                                                                 embedding_b[0][0]                \n",
      "                                                                 embedding_c[0][0]                \n",
      "                                                                 embedding_d[0][0]                \n",
      "__________________________________________________________________________________________________\n",
      "concatenate (Concatenate)       (None, 3100)         0           flatten[0][0]                    \n",
      "                                                                 flatten[1][0]                    \n",
      "                                                                 flatten[2][0]                    \n",
      "                                                                 flatten[3][0]                    \n",
      "__________________________________________________________________________________________________\n",
      "h_6 (Dense)                     (None, 200)          620200      concatenate[0][0]                \n",
      "__________________________________________________________________________________________________\n",
      "concatenate_1 (Concatenate)     (None, 231)          0           gender[0][0]                     \n",
      "                                                                 age[0][0]                        \n",
      "                                                                 occupation[0][0]                 \n",
      "                                                                 year[0][0]                       \n",
      "                                                                 h_6[0][0]                        \n",
      "__________________________________________________________________________________________________\n",
      "output (Dense)                  (None, 1)            232         concatenate_1[0][0]              \n",
      "==================================================================================================\n",
      "Total params: 623,532\n",
      "Trainable params: 623,532\n",
      "Non-trainable params: 0\n",
      "__________________________________________________________________________________________________\n"
     ]
    },
    {
     "name": "stderr",
     "output_type": "stream",
     "text": [
      "2022-07-03 10:11:11.492356: I tensorflow/core/common_runtime/process_util.cc:146] Creating new thread pool with default inter op setting: 2. Tune using inter_op_parallelism_threads for best performance.\n"
     ]
    }
   ],
   "source": [
    "md = WideDeep(n_gender,n_age,n_occupation,n_year)\n",
    "md.model.compile(optimizer='adam', loss='binary_crossentropy')\n",
    "md.model.summary()"
   ]
  },
  {
   "cell_type": "code",
   "execution_count": 14,
   "id": "0c445316",
   "metadata": {
    "execution": {
     "iopub.execute_input": "2022-07-03T10:11:11.636590Z",
     "iopub.status.busy": "2022-07-03T10:11:11.636204Z",
     "iopub.status.idle": "2022-07-03T10:11:13.348123Z",
     "shell.execute_reply": "2022-07-03T10:11:13.346814Z"
    },
    "papermill": {
     "duration": 1.721742,
     "end_time": "2022-07-03T10:11:13.350426",
     "exception": false,
     "start_time": "2022-07-03T10:11:11.628684",
     "status": "completed"
    },
    "tags": []
   },
   "outputs": [
    {
     "name": "stdout",
     "output_type": "stream",
     "text": [
      "Epoch 1/10\n"
     ]
    },
    {
     "name": "stderr",
     "output_type": "stream",
     "text": [
      "2022-07-03 10:11:11.722702: I tensorflow/compiler/mlir/mlir_graph_optimization_pass.cc:185] None of the MLIR Optimization Passes are enabled (registered 2)\n"
     ]
    },
    {
     "name": "stdout",
     "output_type": "stream",
     "text": [
      "6/6 [==============================] - 1s 7ms/step - loss: 0.7173\n",
      "Epoch 2/10\n",
      "6/6 [==============================] - 0s 6ms/step - loss: 0.6926\n",
      "Epoch 3/10\n",
      "6/6 [==============================] - 0s 6ms/step - loss: 0.6933\n",
      "Epoch 4/10\n",
      "6/6 [==============================] - 0s 6ms/step - loss: 0.6732\n",
      "Epoch 5/10\n",
      "6/6 [==============================] - 0s 7ms/step - loss: 0.6749\n",
      "Epoch 6/10\n",
      "6/6 [==============================] - 0s 7ms/step - loss: 0.6624\n",
      "Epoch 7/10\n",
      "6/6 [==============================] - 0s 6ms/step - loss: 0.6564\n",
      "Epoch 8/10\n",
      "6/6 [==============================] - 0s 7ms/step - loss: 0.6517\n",
      "Epoch 9/10\n",
      "6/6 [==============================] - 0s 6ms/step - loss: 0.6528\n",
      "Epoch 10/10\n",
      "6/6 [==============================] - 0s 6ms/step - loss: 0.6475\n"
     ]
    },
    {
     "data": {
      "text/plain": [
       "<keras.callbacks.History at 0x7f73c5b40ad0>"
      ]
     },
     "execution_count": 14,
     "metadata": {},
     "output_type": "execute_result"
    }
   ],
   "source": [
    "# 模型训练\n",
    "md.model.fit(x=X_train, y=Y_train, epochs=10, batch_size=64)"
   ]
  },
  {
   "cell_type": "code",
   "execution_count": 15,
   "id": "7522ff0c",
   "metadata": {
    "execution": {
     "iopub.execute_input": "2022-07-03T10:11:13.368184Z",
     "iopub.status.busy": "2022-07-03T10:11:13.367306Z",
     "iopub.status.idle": "2022-07-03T10:11:13.565855Z",
     "shell.execute_reply": "2022-07-03T10:11:13.564593Z"
    },
    "papermill": {
     "duration": 0.210151,
     "end_time": "2022-07-03T10:11:13.568440",
     "exception": false,
     "start_time": "2022-07-03T10:11:13.358289",
     "status": "completed"
    },
    "tags": []
   },
   "outputs": [
    {
     "name": "stdout",
     "output_type": "stream",
     "text": [
      "test MAE :0.3953|test RMSE :0.6288\n"
     ]
    }
   ],
   "source": [
    "# 模型预测\n",
    "Y_predict = md.model.predict(x=X_test)\n",
    "\n",
    "# MAE\n",
    "n = len(Y_predict)\n",
    "Y_predict[Y_predict>=0.55]=1\n",
    "Y_predict[Y_predict<0.55]=0\n",
    "test_mae = np.sum(np.fabs(Y_predict.flatten() - Y_test)) / n\n",
    "test_rmse = np.sqrt(np.sum((Y_predict.flatten() - Y_test)**2) / n)\n",
    "print('test MAE :{:.4f}|test RMSE :{:.4f}'.format(test_mae,test_rmse))"
   ]
  }
 ],
 "metadata": {
  "kernelspec": {
   "display_name": "Python 3",
   "language": "python",
   "name": "python3"
  },
  "language_info": {
   "codemirror_mode": {
    "name": "ipython",
    "version": 3
   },
   "file_extension": ".py",
   "mimetype": "text/x-python",
   "name": "python",
   "nbconvert_exporter": "python",
   "pygments_lexer": "ipython3",
   "version": "3.7.12"
  },
  "papermill": {
   "default_parameters": {},
   "duration": 38.671214,
   "end_time": "2022-07-03T10:11:17.004217",
   "environment_variables": {},
   "exception": null,
   "input_path": "__notebook__.ipynb",
   "output_path": "__notebook__.ipynb",
   "parameters": {},
   "start_time": "2022-07-03T10:10:38.333003",
   "version": "2.3.4"
  }
 },
 "nbformat": 4,
 "nbformat_minor": 5
}
