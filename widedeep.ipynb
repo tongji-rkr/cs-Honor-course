{
 "cells": [
  {
   "cell_type": "code",
   "execution_count": 1,
   "id": "aaec4980",
   "metadata": {
    "execution": {
     "iopub.execute_input": "2022-07-03T10:20:24.062105Z",
     "iopub.status.busy": "2022-07-03T10:20:24.061518Z",
     "iopub.status.idle": "2022-07-03T10:20:34.152947Z",
     "shell.execute_reply": "2022-07-03T10:20:34.151768Z"
    },
    "papermill": {
     "duration": 10.102348,
     "end_time": "2022-07-03T10:20:34.155815",
     "exception": false,
     "start_time": "2022-07-03T10:20:24.053467",
     "status": "completed"
    },
    "tags": []
   },
   "outputs": [],
   "source": [
    "import pandas as pd\n",
    "import numpy as np\n",
    "from matplotlib import pyplot as plt\n",
    "from sklearn.model_selection import train_test_split\n",
    "from matplotlib import pyplot as plt\n",
    "from keras.layers import Embedding, Lambda, Dense, Input, concatenate, dot, multiply,Flatten\n",
    "from keras.models import Model\n",
    "import keras.backend as K\n",
    "\n",
    "np.random.seed(555)"
   ]
  },
  {
   "cell_type": "code",
   "execution_count": 2,
   "id": "39958a8f",
   "metadata": {
    "execution": {
     "iopub.execute_input": "2022-07-03T10:20:34.168881Z",
     "iopub.status.busy": "2022-07-03T10:20:34.168180Z",
     "iopub.status.idle": "2022-07-03T10:20:34.176185Z",
     "shell.execute_reply": "2022-07-03T10:20:34.175122Z"
    },
    "papermill": {
     "duration": 0.016728,
     "end_time": "2022-07-03T10:20:34.178310",
     "exception": false,
     "start_time": "2022-07-03T10:20:34.161582",
     "status": "completed"
    },
    "tags": []
   },
   "outputs": [],
   "source": [
    " def get_users_attr(df_users):\n",
    "    df_users = pd.read_csv(users_path,sep=\"::\",names=['uid','gender','age','occupation','zipcode'],encoding='utf-8')\n",
    "    user_ids=set(df_users['uid'].values)\n",
    "    df_users = df_users.drop(['zipcode'],axis=1)\n",
    "    for i in range(len(df_users)):\n",
    "        if df_users.loc[i,'gender'] == 'F':\n",
    "            df_users.loc[i,'gender'] = 1\n",
    "        else:\n",
    "            df_users.loc[i,'gender'] = 0\n",
    "    return df_users,user_ids"
   ]
  },
  {
   "cell_type": "code",
   "execution_count": 3,
   "id": "9c63cb33",
   "metadata": {
    "execution": {
     "iopub.execute_input": "2022-07-03T10:20:34.190827Z",
     "iopub.status.busy": "2022-07-03T10:20:34.190434Z",
     "iopub.status.idle": "2022-07-03T10:20:34.199268Z",
     "shell.execute_reply": "2022-07-03T10:20:34.198437Z"
    },
    "papermill": {
     "duration": 0.017559,
     "end_time": "2022-07-03T10:20:34.201325",
     "exception": false,
     "start_time": "2022-07-03T10:20:34.183766",
     "status": "completed"
    },
    "tags": []
   },
   "outputs": [],
   "source": [
    "def get_movies_attr(df_movies):\n",
    "    year=df_movies['title'].values\n",
    "    for i in range(len(year)):\n",
    "        year[i]=year[i].split('(')[-1].split(')')[0]\n",
    "    df_movies['year']=year\n",
    "    genres_list = set()\n",
    "    for sstr in df_movies['genres'].str.split('|'):\n",
    "        genres_list = set().union(sstr, genres_list)\n",
    "    genres_list = list(genres_list)\n",
    "    #genres_dict = dict(zip(genres_list,np.zeros(len(genres_list)) ))\n",
    "    #for sstr in df_movies['genres'].str.split('|'):\n",
    "    #    for s in sstr:\n",
    "    #        genres_dict[s]+=1\n",
    "    #rank=sorted(genres_dict.items(),key=lambda kv:kv[1],reverse=True)\n",
    "    #for i in range(5):\n",
    "    #    genres=rank[i][0]\n",
    "    for genres in genres_list:\n",
    "        df_movies[genres] = df_movies['genres'].str.contains(genres).apply(lambda x:1 if x else 0)\n",
    "    item_ids=set(df_movies['iid'].values)\n",
    "    df_movies = df_movies.drop(['title','genres'],axis=1)\n",
    "    return df_movies,item_ids"
   ]
  },
  {
   "cell_type": "code",
   "execution_count": 4,
   "id": "27143b5c",
   "metadata": {
    "execution": {
     "iopub.execute_input": "2022-07-03T10:20:34.214379Z",
     "iopub.status.busy": "2022-07-03T10:20:34.213724Z",
     "iopub.status.idle": "2022-07-03T10:20:34.218776Z",
     "shell.execute_reply": "2022-07-03T10:20:34.217687Z"
    },
    "papermill": {
     "duration": 0.014209,
     "end_time": "2022-07-03T10:20:34.220960",
     "exception": false,
     "start_time": "2022-07-03T10:20:34.206751",
     "status": "completed"
    },
    "tags": []
   },
   "outputs": [],
   "source": [
    "def get_dict(data):\n",
    "    k_ids = set(data)\n",
    "    n = len(k_ids)\n",
    "    k_dict = dict(zip(k_ids, range(n)))\n",
    "    return k_dict,n"
   ]
  },
  {
   "cell_type": "code",
   "execution_count": 5,
   "id": "407687d9",
   "metadata": {
    "execution": {
     "iopub.execute_input": "2022-07-03T10:20:34.234516Z",
     "iopub.status.busy": "2022-07-03T10:20:34.233395Z",
     "iopub.status.idle": "2022-07-03T10:20:34.247577Z",
     "shell.execute_reply": "2022-07-03T10:20:34.246494Z"
    },
    "papermill": {
     "duration": 0.023495,
     "end_time": "2022-07-03T10:20:34.250013",
     "exception": false,
     "start_time": "2022-07-03T10:20:34.226518",
     "status": "completed"
    },
    "tags": []
   },
   "outputs": [],
   "source": [
    "class DataProcess:\n",
    "    def __init__(self, ratings_path, users_path, movies_path, alpha=0.8):\n",
    "        print(\"start load data\")\n",
    "        df_ratings=pd.read_csv(ratings_path,sep=\"::\",names=['uid', 'iid', 'ratings','time'],encoding='utf-8',engine='python')\n",
    "        df_users=pd.read_csv(users_path,sep=\"::\",names=['uid', 'gender', 'age','occupation','zipcode'],encoding='utf-8',engine='python')\n",
    "        df_movies=pd.read_csv(movies_path,sep=\"::\",names=['iid', 'title', 'genres'],encoding='ISO-8859-1',engine='python')\n",
    "        print(\"start process data\")\n",
    "        df_ratings=df_ratings.drop('time',axis=1)\n",
    "        df_users,user_ids=get_users_attr(df_users)\n",
    "        df_movies,item_ids=get_movies_attr(df_movies)\n",
    "    \n",
    "        self.n_user=len(user_ids)\n",
    "        self.n_item=len(item_ids)\n",
    "        u_id2idx = dict(zip(user_ids, range(self.n_user)))\n",
    "        i_id2idx = dict(zip(item_ids, range(self.n_item)))\n",
    "        \n",
    "        df_ratings = df_ratings.assign(uid=[u_id2idx[uid] for uid in df_ratings.uid])\n",
    "        df_ratings = df_ratings.assign(iid=[i_id2idx[iid] for iid in df_ratings.iid])\n",
    "        df_ratings = df_ratings.loc[df_ratings['uid']<=100]\n",
    "        df_ratings = df_ratings.loc[df_ratings['iid']<=100]\n",
    "        \n",
    "        self.df = pd.merge(pd.merge(df_ratings, df_users, on='uid'), df_movies, on='iid')\n",
    "        '''\n",
    "        gender_dict,self.n_gender=get_dict(self.df['gender'])\n",
    "        self.df = self.df.assign(gender=[gender_dict[k] for k in self.df['gender']])\n",
    "        \n",
    "        age_dict,self.n_age=get_dict(self.df['age'])\n",
    "        self.df = self.df.assign(age=[age_dict[k] for k in self.df['age']])\n",
    "        \n",
    "        occupation_dict,self.n_occupation=get_dict(self.df['occupation'])\n",
    "        self.df = self.df.assign(occupation=[occupation_dict[k] for k in self.df['occupation']])\n",
    "        \n",
    "        year_dict,self.n_year=get_dict(self.df['year'])\n",
    "        self.df = self.df.assign(year=[year_dict[k] for k in self.df['year']])\n",
    "        \n",
    "        self.df=pd.DataFrame(self.df,dtype=np.float64)\n",
    "        '''\n",
    "        self.X = self.df.drop('ratings', axis=1)\n",
    "        self.Y = self.df['ratings'].values"
   ]
  },
  {
   "cell_type": "markdown",
   "id": "9d9c30b5",
   "metadata": {
    "papermill": {
     "duration": 0.005033,
     "end_time": "2022-07-03T10:20:34.260481",
     "exception": false,
     "start_time": "2022-07-03T10:20:34.255448",
     "status": "completed"
    },
    "tags": []
   },
   "source": [
    "# FM model"
   ]
  },
  {
   "cell_type": "code",
   "execution_count": 6,
   "id": "a9e271f8",
   "metadata": {
    "execution": {
     "iopub.execute_input": "2022-07-03T10:20:34.273087Z",
     "iopub.status.busy": "2022-07-03T10:20:34.272424Z",
     "iopub.status.idle": "2022-07-03T10:20:34.284337Z",
     "shell.execute_reply": "2022-07-03T10:20:34.283255Z"
    },
    "papermill": {
     "duration": 0.021084,
     "end_time": "2022-07-03T10:20:34.286830",
     "exception": false,
     "start_time": "2022-07-03T10:20:34.265746",
     "status": "completed"
    },
    "tags": []
   },
   "outputs": [],
   "source": [
    "class WideDeep:\n",
    "    def __init__(self,n_gender,n_age,n_occupation,n_year):\n",
    "    #,n_uid,n_iid):\n",
    "\n",
    "        # Input layer\n",
    "        a_in = Input(shape=[n_gender], name='gender')\n",
    "        b_in = Input(shape=[n_age], name='age')\n",
    "        c_in = Input(shape=[n_occupation], name='occupation')\n",
    "        d_in = Input(shape=[n_year], name='year')\n",
    "        #e_in = Input(shape=[n_uid], name='uid')\n",
    "        #f_in = Input(shape=[n_iid], name='iid')\n",
    "        \n",
    "        # Layer 2\n",
    "        embedding_a = Embedding(input_dim=n_gender, output_dim=100, name='embedding_a')(a_in)\n",
    "        embedding_b = Embedding(input_dim=n_age, output_dim=100, name='embedding_b')(b_in)\n",
    "        embedding_c = Embedding(input_dim=n_occupation, output_dim=100, name='embedding_c')(c_in)\n",
    "        embedding_d = Embedding(input_dim=n_year, output_dim=100, name='embedding_d')(d_in)\n",
    "        #embedding_e = Embedding(input_dim=n_uid, output_dim=100, name='embedding_e')(e_in)\n",
    "        #embedding_f = Embedding(input_dim=n_iid, output_dim=100, name='embedding_f')(f_in)\n",
    "\n",
    "        # Layer 3\n",
    "        f=Flatten()\n",
    "        Sa=f(embedding_a)\n",
    "        Sb=f(embedding_b)\n",
    "        Sc=f(embedding_c)\n",
    "        Sd=f(embedding_d)\n",
    "        #Se=f(embedding_e)\n",
    "        #Sf=f(embedding_f)\n",
    "        concat_h = concatenate([Sa,Sb,Sc,Sd])\n",
    "        #concat_h = concatenate([embedding_a,embedding_b,embedding_c,embedding_d])\n",
    "\n",
    "        # Layer 4\n",
    "        h_6 = Dense(units=200, activation='tanh',  name='h_6')(concat_h)\n",
    "        concat_h_6 = concatenate([a_in, b_in, c_in, d_in, h_6])\n",
    "        \n",
    "        # Output Layer\n",
    "        y = Dense(units=1, activation='sigmoid', input_dim=6, name='output')(concat_h_6)\n",
    "\n",
    "        self.model = Model(inputs=[a_in, b_in, c_in, d_in], outputs=[y], name='WideDeep')"
   ]
  },
  {
   "cell_type": "markdown",
   "id": "f13e6adb",
   "metadata": {
    "papermill": {
     "duration": 0.004997,
     "end_time": "2022-07-03T10:20:34.297160",
     "exception": false,
     "start_time": "2022-07-03T10:20:34.292163",
     "status": "completed"
    },
    "tags": []
   },
   "source": [
    "# Train & Predict"
   ]
  },
  {
   "cell_type": "code",
   "execution_count": 7,
   "id": "a2537471",
   "metadata": {
    "execution": {
     "iopub.execute_input": "2022-07-03T10:20:34.310117Z",
     "iopub.status.busy": "2022-07-03T10:20:34.309060Z",
     "iopub.status.idle": "2022-07-03T10:20:45.460851Z",
     "shell.execute_reply": "2022-07-03T10:20:45.459802Z"
    },
    "papermill": {
     "duration": 11.160836,
     "end_time": "2022-07-03T10:20:45.463330",
     "exception": false,
     "start_time": "2022-07-03T10:20:34.302494",
     "status": "completed"
    },
    "tags": []
   },
   "outputs": [
    {
     "name": "stdout",
     "output_type": "stream",
     "text": [
      "start load data\n",
      "start process data\n"
     ]
    },
    {
     "name": "stderr",
     "output_type": "stream",
     "text": [
      "/opt/conda/lib/python3.7/site-packages/pandas/util/_decorators.py:311: ParserWarning: Falling back to the 'python' engine because the 'c' engine does not support regex separators (separators > 1 char and different from '\\s+' are interpreted as regex); you can avoid this warning by specifying engine='python'.\n",
      "  return func(*args, **kwargs)\n"
     ]
    }
   ],
   "source": [
    "ratings_path=\"../input/movielens-1m-dataset/ratings.dat\"\n",
    "users_path=\"../input/movielens-1m-dataset/users.dat\"\n",
    "movies_path=\"../input/movielens-1m-dataset/movies.dat\"\n",
    "dp = DataProcess(ratings_path,users_path,movies_path)\n",
    "X_train,X_test,Y_train,Y_test=train_test_split(dp.X,dp.Y,test_size=0.2,random_state=123)"
   ]
  },
  {
   "cell_type": "code",
   "execution_count": 8,
   "id": "f23fdcba",
   "metadata": {
    "execution": {
     "iopub.execute_input": "2022-07-03T10:20:45.476493Z",
     "iopub.status.busy": "2022-07-03T10:20:45.475985Z",
     "iopub.status.idle": "2022-07-03T10:20:45.497438Z",
     "shell.execute_reply": "2022-07-03T10:20:45.496547Z"
    },
    "papermill": {
     "duration": 0.030889,
     "end_time": "2022-07-03T10:20:45.499949",
     "exception": false,
     "start_time": "2022-07-03T10:20:45.469060",
     "status": "completed"
    },
    "tags": []
   },
   "outputs": [],
   "source": [
    "headers=['gender','age','occupation','year','uid','iid']\n",
    "df = pd.concat([X_train[headers],X_test[headers]])\n",
    "df = df.reset_index(drop=True)\n",
    "n_gender=len(set(df['gender'].values))\n",
    "n_age=len(set(df['age'].values))\n",
    "n_occupation=len(set(df['occupation'].values))\n",
    "n_year=len(set(df['year'].values))\n",
    "n_uid=len(set(df['uid'].values))\n",
    "n_iid=len(set(df['iid'].values))\n",
    "df=pd.get_dummies(df,columns=headers)\n",
    "X_train = df.iloc[:len(X_train),:].values\n",
    "X_test = df.iloc[len(X_train):,:].values"
   ]
  },
  {
   "cell_type": "code",
   "execution_count": 9,
   "id": "28548746",
   "metadata": {
    "execution": {
     "iopub.execute_input": "2022-07-03T10:20:45.513329Z",
     "iopub.status.busy": "2022-07-03T10:20:45.512897Z",
     "iopub.status.idle": "2022-07-03T10:20:45.519128Z",
     "shell.execute_reply": "2022-07-03T10:20:45.518142Z"
    },
    "papermill": {
     "duration": 0.016794,
     "end_time": "2022-07-03T10:20:45.522405",
     "exception": false,
     "start_time": "2022-07-03T10:20:45.505611",
     "status": "completed"
    },
    "tags": []
   },
   "outputs": [],
   "source": [
    "Y_train[Y_train<=3]=0\n",
    "Y_train[Y_train>3]=1"
   ]
  },
  {
   "cell_type": "code",
   "execution_count": 10,
   "id": "9b626fde",
   "metadata": {
    "execution": {
     "iopub.execute_input": "2022-07-03T10:20:45.541261Z",
     "iopub.status.busy": "2022-07-03T10:20:45.540154Z",
     "iopub.status.idle": "2022-07-03T10:20:45.545766Z",
     "shell.execute_reply": "2022-07-03T10:20:45.544499Z"
    },
    "papermill": {
     "duration": 0.01769,
     "end_time": "2022-07-03T10:20:45.548289",
     "exception": false,
     "start_time": "2022-07-03T10:20:45.530599",
     "status": "completed"
    },
    "tags": []
   },
   "outputs": [],
   "source": [
    "Y_test[Y_test<=3]=0\n",
    "Y_test[Y_test>3]=1"
   ]
  },
  {
   "cell_type": "code",
   "execution_count": 11,
   "id": "1c66b265",
   "metadata": {
    "execution": {
     "iopub.execute_input": "2022-07-03T10:20:45.564413Z",
     "iopub.status.busy": "2022-07-03T10:20:45.563408Z",
     "iopub.status.idle": "2022-07-03T10:20:45.578746Z",
     "shell.execute_reply": "2022-07-03T10:20:45.577814Z"
    },
    "papermill": {
     "duration": 0.028981,
     "end_time": "2022-07-03T10:20:45.583706",
     "exception": false,
     "start_time": "2022-07-03T10:20:45.554725",
     "status": "completed"
    },
    "tags": []
   },
   "outputs": [
    {
     "data": {
      "text/plain": [
       "array([1, 1, 1, 1, 1, 0, 1, 1, 1, 0, 1, 1, 1, 0, 1, 0, 0, 0, 0, 0, 1, 1,\n",
       "       0, 0, 1, 0, 0, 0, 1, 0, 1, 1, 0, 1, 0, 1, 0, 0, 0, 0, 0, 0, 0, 1,\n",
       "       0, 0, 1, 1, 0, 1, 1, 0, 1, 0, 1, 0, 0, 0, 1, 1, 1, 0, 1, 0, 0, 1,\n",
       "       1, 0, 1, 1, 0, 1, 1, 1, 1, 1, 1, 1, 1, 0, 1, 0, 0, 1, 0, 1, 0, 1,\n",
       "       0, 1, 0, 1, 0, 1, 0, 0, 1, 0, 0, 0, 1, 0, 1, 1, 0, 1, 1, 1, 0, 1,\n",
       "       0, 0, 0, 1, 0, 1, 1, 1, 1, 0, 1, 0, 1, 1, 1, 0, 0, 1, 1, 1, 1, 1,\n",
       "       0, 0, 0, 1, 1, 0, 1, 1, 0, 0, 0, 1, 1, 0, 1, 0, 0, 0, 1, 1, 1, 1,\n",
       "       1, 0, 1, 0, 1, 1, 0, 0, 0, 1, 1, 0, 0, 0, 1, 0, 0, 1, 1, 0, 1, 0,\n",
       "       1, 1, 0, 1, 1, 1, 1, 1, 1, 1, 1, 0, 1, 0, 0, 0, 1, 1, 0, 1, 0, 0,\n",
       "       0, 0, 0, 1, 0, 1, 1, 0, 0, 1, 0, 0, 1, 1, 1, 1, 0, 0, 0, 1, 1, 1,\n",
       "       1, 1, 1, 1, 0, 1, 1, 1, 1, 1, 0, 0, 1, 1, 0, 1, 0, 1, 0, 0, 1, 0,\n",
       "       1, 0, 0, 1, 1, 1, 0, 1, 0, 1, 0, 0, 1, 0, 1, 1, 0, 0, 1, 1, 1, 0,\n",
       "       1, 0, 1, 1, 0, 1, 1, 0, 1, 0, 1, 0, 1, 1, 1, 0, 1, 1, 1, 0, 1, 0,\n",
       "       1, 0, 1, 1, 0, 1, 1, 0, 1, 1, 0, 0, 1, 0, 0, 1, 0, 0, 1, 0, 1, 1,\n",
       "       0, 1, 0, 1, 0, 1, 1, 0, 1, 0, 0, 0, 1, 1, 0, 1, 1, 1, 0, 1, 1, 0,\n",
       "       0, 0, 1, 0, 0, 1, 1, 1, 0, 1])"
      ]
     },
     "execution_count": 11,
     "metadata": {},
     "output_type": "execute_result"
    }
   ],
   "source": [
    "Y_train"
   ]
  },
  {
   "cell_type": "code",
   "execution_count": 12,
   "id": "45a570e9",
   "metadata": {
    "execution": {
     "iopub.execute_input": "2022-07-03T10:20:45.600921Z",
     "iopub.status.busy": "2022-07-03T10:20:45.600229Z",
     "iopub.status.idle": "2022-07-03T10:20:45.610675Z",
     "shell.execute_reply": "2022-07-03T10:20:45.609397Z"
    },
    "papermill": {
     "duration": 0.022194,
     "end_time": "2022-07-03T10:20:45.614667",
     "exception": false,
     "start_time": "2022-07-03T10:20:45.592473",
     "status": "completed"
    },
    "tags": []
   },
   "outputs": [],
   "source": [
    "X1=X_train[:,:n_gender]\n",
    "X2=X_train[:,n_gender:n_gender+n_age]\n",
    "X3=X_train[:,n_gender+n_age:n_gender+n_age+n_occupation]\n",
    "X4=X_train[:,n_gender+n_age+n_occupation:n_gender+n_age+n_occupation+n_year]\n",
    "#X5=X_train[:,n_gender+n_age+n_occupation+n_year:n_gender+n_age+n_occupation+n_year+n_uid]\n",
    "#X6=X_train[:,n_gender+n_age+n_occupation+n_year+n_uid:]\n",
    "X_train=[X1,X2,X3,X4]\n",
    "X1=X_test[:,:n_gender]\n",
    "X2=X_test[:,n_gender:n_gender+n_age]\n",
    "X3=X_test[:,n_gender+n_age:n_gender+n_age+n_occupation]\n",
    "X4=X_test[:,n_gender+n_age+n_occupation:n_gender+n_age+n_occupation+n_year]\n",
    "#X5=X_test[:,n_gender+n_age+n_occupation+n_year:n_gender+n_age+n_occupation+n_year+n_uid]\n",
    "#X6=X_test[:,n_gender+n_age+n_occupation+n_year+n_uid:]\n",
    "X_test=[X1,X2,X3,X4]"
   ]
  },
  {
   "cell_type": "code",
   "execution_count": 13,
   "id": "373ea4db",
   "metadata": {
    "execution": {
     "iopub.execute_input": "2022-07-03T10:20:45.629975Z",
     "iopub.status.busy": "2022-07-03T10:20:45.629137Z",
     "iopub.status.idle": "2022-07-03T10:20:45.797683Z",
     "shell.execute_reply": "2022-07-03T10:20:45.796508Z"
    },
    "papermill": {
     "duration": 0.179402,
     "end_time": "2022-07-03T10:20:45.801347",
     "exception": false,
     "start_time": "2022-07-03T10:20:45.621945",
     "status": "completed"
    },
    "scrolled": true,
    "tags": []
   },
   "outputs": [
    {
     "name": "stdout",
     "output_type": "stream",
     "text": [
      "Model: \"WideDeep\"\n",
      "__________________________________________________________________________________________________\n",
      "Layer (type)                    Output Shape         Param #     Connected to                     \n",
      "==================================================================================================\n",
      "gender (InputLayer)             [(None, 2)]          0                                            \n",
      "__________________________________________________________________________________________________\n",
      "age (InputLayer)                [(None, 7)]          0                                            \n",
      "__________________________________________________________________________________________________\n",
      "occupation (InputLayer)         [(None, 19)]         0                                            \n",
      "__________________________________________________________________________________________________\n",
      "year (InputLayer)               [(None, 3)]          0                                            \n",
      "__________________________________________________________________________________________________\n",
      "embedding_a (Embedding)         (None, 2, 100)       200         gender[0][0]                     \n",
      "__________________________________________________________________________________________________\n",
      "embedding_b (Embedding)         (None, 7, 100)       700         age[0][0]                        \n",
      "__________________________________________________________________________________________________\n",
      "embedding_c (Embedding)         (None, 19, 100)      1900        occupation[0][0]                 \n",
      "__________________________________________________________________________________________________\n",
      "embedding_d (Embedding)         (None, 3, 100)       300         year[0][0]                       \n",
      "__________________________________________________________________________________________________\n",
      "flatten (Flatten)               multiple             0           embedding_a[0][0]                \n",
      "                                                                 embedding_b[0][0]                \n",
      "                                                                 embedding_c[0][0]                \n",
      "                                                                 embedding_d[0][0]                \n",
      "__________________________________________________________________________________________________\n",
      "concatenate (Concatenate)       (None, 3100)         0           flatten[0][0]                    \n",
      "                                                                 flatten[1][0]                    \n",
      "                                                                 flatten[2][0]                    \n",
      "                                                                 flatten[3][0]                    \n",
      "__________________________________________________________________________________________________\n",
      "h_6 (Dense)                     (None, 200)          620200      concatenate[0][0]                \n",
      "__________________________________________________________________________________________________\n",
      "concatenate_1 (Concatenate)     (None, 231)          0           gender[0][0]                     \n",
      "                                                                 age[0][0]                        \n",
      "                                                                 occupation[0][0]                 \n",
      "                                                                 year[0][0]                       \n",
      "                                                                 h_6[0][0]                        \n",
      "__________________________________________________________________________________________________\n",
      "output (Dense)                  (None, 1)            232         concatenate_1[0][0]              \n",
      "==================================================================================================\n",
      "Total params: 623,532\n",
      "Trainable params: 623,532\n",
      "Non-trainable params: 0\n",
      "__________________________________________________________________________________________________\n"
     ]
    },
    {
     "name": "stderr",
     "output_type": "stream",
     "text": [
      "2022-07-03 10:20:45.678961: I tensorflow/core/common_runtime/process_util.cc:146] Creating new thread pool with default inter op setting: 2. Tune using inter_op_parallelism_threads for best performance.\n"
     ]
    }
   ],
   "source": [
    "md = WideDeep(n_gender,n_age,n_occupation,n_year)\n",
    "md.model.compile(optimizer='adam', loss='binary_crossentropy')\n",
    "md.model.summary()"
   ]
  },
  {
   "cell_type": "code",
   "execution_count": 14,
   "id": "d009a590",
   "metadata": {
    "execution": {
     "iopub.execute_input": "2022-07-03T10:20:45.814517Z",
     "iopub.status.busy": "2022-07-03T10:20:45.814123Z",
     "iopub.status.idle": "2022-07-03T10:20:47.484515Z",
     "shell.execute_reply": "2022-07-03T10:20:47.483474Z"
    },
    "papermill": {
     "duration": 1.679673,
     "end_time": "2022-07-03T10:20:47.486764",
     "exception": false,
     "start_time": "2022-07-03T10:20:45.807091",
     "status": "completed"
    },
    "tags": []
   },
   "outputs": [
    {
     "name": "stdout",
     "output_type": "stream",
     "text": [
      "Epoch 1/10\n"
     ]
    },
    {
     "name": "stderr",
     "output_type": "stream",
     "text": [
      "2022-07-03 10:20:45.893948: I tensorflow/compiler/mlir/mlir_graph_optimization_pass.cc:185] None of the MLIR Optimization Passes are enabled (registered 2)\n"
     ]
    },
    {
     "name": "stdout",
     "output_type": "stream",
     "text": [
      "6/6 [==============================] - 1s 7ms/step - loss: 0.7003\n",
      "Epoch 2/10\n",
      "6/6 [==============================] - 0s 6ms/step - loss: 0.6900\n",
      "Epoch 3/10\n",
      "6/6 [==============================] - 0s 6ms/step - loss: 0.6773\n",
      "Epoch 4/10\n",
      "6/6 [==============================] - 0s 6ms/step - loss: 0.6675\n",
      "Epoch 5/10\n",
      "6/6 [==============================] - 0s 6ms/step - loss: 0.6686\n",
      "Epoch 6/10\n",
      "6/6 [==============================] - 0s 6ms/step - loss: 0.6639\n",
      "Epoch 7/10\n",
      "6/6 [==============================] - 0s 6ms/step - loss: 0.6583\n",
      "Epoch 8/10\n",
      "6/6 [==============================] - 0s 6ms/step - loss: 0.6512\n",
      "Epoch 9/10\n",
      "6/6 [==============================] - 0s 6ms/step - loss: 0.6567\n",
      "Epoch 10/10\n",
      "6/6 [==============================] - 0s 6ms/step - loss: 0.6553\n"
     ]
    },
    {
     "data": {
      "text/plain": [
       "<keras.callbacks.History at 0x7f0e071e4fd0>"
      ]
     },
     "execution_count": 14,
     "metadata": {},
     "output_type": "execute_result"
    }
   ],
   "source": [
    "# 模型训练\n",
    "md.model.fit(x=X_train, y=Y_train, epochs=10, batch_size=64)"
   ]
  },
  {
   "cell_type": "code",
   "execution_count": 15,
   "id": "7c259408",
   "metadata": {
    "execution": {
     "iopub.execute_input": "2022-07-03T10:20:47.504400Z",
     "iopub.status.busy": "2022-07-03T10:20:47.503782Z",
     "iopub.status.idle": "2022-07-03T10:20:47.703140Z",
     "shell.execute_reply": "2022-07-03T10:20:47.701802Z"
    },
    "papermill": {
     "duration": 0.211032,
     "end_time": "2022-07-03T10:20:47.705655",
     "exception": false,
     "start_time": "2022-07-03T10:20:47.494623",
     "status": "completed"
    },
    "tags": []
   },
   "outputs": [
    {
     "name": "stdout",
     "output_type": "stream",
     "text": [
      "test MAE :0.4186|test RMSE :0.6470\n"
     ]
    }
   ],
   "source": [
    "# 模型预测\n",
    "Y_predict = md.model.predict(x=X_test)\n",
    "\n",
    "# MAE\n",
    "n = len(Y_predict)\n",
    "Y_predict[Y_predict>=0.55]=1\n",
    "Y_predict[Y_predict<0.55]=0\n",
    "test_mae = np.sum(np.fabs(Y_predict.flatten() - Y_test)) / n\n",
    "test_rmse = np.sqrt(np.sum((Y_predict.flatten() - Y_test)**2) / n)\n",
    "print('test MAE :{:.4f}|test RMSE :{:.4f}'.format(test_mae,test_rmse))"
   ]
  }
 ],
 "metadata": {
  "kernelspec": {
   "display_name": "Python 3",
   "language": "python",
   "name": "python3"
  },
  "language_info": {
   "codemirror_mode": {
    "name": "ipython",
    "version": 3
   },
   "file_extension": ".py",
   "mimetype": "text/x-python",
   "name": "python",
   "nbconvert_exporter": "python",
   "pygments_lexer": "ipython3",
   "version": "3.7.12"
  },
  "papermill": {
   "default_parameters": {},
   "duration": 36.567277,
   "end_time": "2022-07-03T10:20:50.938959",
   "environment_variables": {},
   "exception": null,
   "input_path": "__notebook__.ipynb",
   "output_path": "__notebook__.ipynb",
   "parameters": {},
   "start_time": "2022-07-03T10:20:14.371682",
   "version": "2.3.4"
  }
 },
 "nbformat": 4,
 "nbformat_minor": 5
}
