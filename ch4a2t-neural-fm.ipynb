{
 "cells": [
  {
   "cell_type": "code",
   "execution_count": 1,
   "id": "cddacc4d",
   "metadata": {
    "execution": {
     "iopub.execute_input": "2022-07-03T14:46:35.888467Z",
     "iopub.status.busy": "2022-07-03T14:46:35.887504Z",
     "iopub.status.idle": "2022-07-03T14:46:46.879047Z",
     "shell.execute_reply": "2022-07-03T14:46:46.877712Z"
    },
    "papermill": {
     "duration": 11.008302,
     "end_time": "2022-07-03T14:46:46.883006",
     "exception": false,
     "start_time": "2022-07-03T14:46:35.874704",
     "status": "completed"
    },
    "tags": []
   },
   "outputs": [],
   "source": [
    "import pandas as pd\n",
    "import numpy as np\n",
    "from matplotlib import pyplot as plt\n",
    "from sklearn.model_selection import train_test_split\n",
    "from matplotlib import pyplot as plt\n",
    "from datetime import datetime, timedelta\n",
    "import math\n",
    "from keras.layers import Embedding, Dense, Input, Concatenate, BatchNormalization, Layer, Dropout\n",
    "from keras.models import Model\n",
    "import keras.backend as K\n",
    "import tensorflow as tf\n",
    "\n",
    "np.random.seed(555)"
   ]
  },
  {
   "cell_type": "markdown",
   "id": "c00798b3",
   "metadata": {
    "papermill": {
     "duration": 0.006872,
     "end_time": "2022-07-03T14:46:46.898236",
     "exception": false,
     "start_time": "2022-07-03T14:46:46.891364",
     "status": "completed"
    },
    "tags": []
   },
   "source": [
    "**数据处理**\n",
    "\n",
    "数据集来源为FourSquare - NYC and Tokyo Check-ins\n",
    "\n",
    "选择dataset_TSMC2014_NYC.csv中打卡数最多的100个用户和500个地点作为数据集。\n",
    "\n",
    "通过时间戳和偏移时间得到正确时间，并归类于用户在一周中第几天在某地Check-in，将时间信息记录在df[’dayweek‘]中，范围为0-6（周一-周天）。之后对数据进行分组，将用户和时间作为分组基准，在每个组中对包含地点的Check-in次数进行计数。在提取出隐式特征后，对次数进行排序并对其二值化（将序列前一半对应地点为1，后一半为0），\n",
    "\n",
    "以‘uid’和’dayweek‘作为基准来划分训练集和测试集，其中训练集占比为0.8，之后进行训练得到结果"
   ]
  },
  {
   "cell_type": "code",
   "execution_count": 2,
   "id": "ec39e424",
   "metadata": {
    "execution": {
     "iopub.execute_input": "2022-07-03T14:46:46.917581Z",
     "iopub.status.busy": "2022-07-03T14:46:46.916678Z",
     "iopub.status.idle": "2022-07-03T14:46:46.927554Z",
     "shell.execute_reply": "2022-07-03T14:46:46.925938Z"
    },
    "papermill": {
     "duration": 0.02372,
     "end_time": "2022-07-03T14:46:46.930833",
     "exception": false,
     "start_time": "2022-07-03T14:46:46.907113",
     "status": "completed"
    },
    "tags": []
   },
   "outputs": [],
   "source": [
    "#\n",
    "def get_ids(k_data,n):\n",
    "    k_dict=dict()\n",
    "    for k in k_data:\n",
    "        if k_dict.get(k)==None:\n",
    "            k_dict[k]=0\n",
    "        k_dict[k]+=1\n",
    "    rank=sorted(k_dict.items(),key=lambda kv:kv[1],reverse=True)\n",
    "    k_ids=[]\n",
    "    for i in range(min(n,len(rank))):\n",
    "        k_ids.append(rank[i][0])\n",
    "    return k_ids"
   ]
  },
  {
   "cell_type": "code",
   "execution_count": 3,
   "id": "c1658f86",
   "metadata": {
    "execution": {
     "iopub.execute_input": "2022-07-03T14:46:46.947799Z",
     "iopub.status.busy": "2022-07-03T14:46:46.947360Z",
     "iopub.status.idle": "2022-07-03T14:46:46.953743Z",
     "shell.execute_reply": "2022-07-03T14:46:46.952515Z"
    },
    "papermill": {
     "duration": 0.017826,
     "end_time": "2022-07-03T14:46:46.956295",
     "exception": false,
     "start_time": "2022-07-03T14:46:46.938469",
     "status": "completed"
    },
    "tags": []
   },
   "outputs": [],
   "source": [
    "def date_convert(date_to_convert):\n",
    "    pru = datetime.datetime.strptime(date_to_convert, '%a %b %d %H:%M:%S +0000 %Y')+ datetime.timedelta(hours=-240//60)\n",
    "    return pru.strftime('%b %d %Y %H:%M:%S')\n",
    "\n",
    "def min2hour(m):\n",
    "    return  timedelta(hours=m/60)"
   ]
  },
  {
   "cell_type": "code",
   "execution_count": 4,
   "id": "018472c4",
   "metadata": {
    "execution": {
     "iopub.execute_input": "2022-07-03T14:46:46.974225Z",
     "iopub.status.busy": "2022-07-03T14:46:46.973858Z",
     "iopub.status.idle": "2022-07-03T14:46:46.994222Z",
     "shell.execute_reply": "2022-07-03T14:46:46.993030Z"
    },
    "papermill": {
     "duration": 0.033826,
     "end_time": "2022-07-03T14:46:46.997103",
     "exception": false,
     "start_time": "2022-07-03T14:46:46.963277",
     "status": "completed"
    },
    "tags": []
   },
   "outputs": [],
   "source": [
    "class DataProcess:\n",
    "    def __init__(self, data_path, n_user=100, n_venue=500, n_venuecat=40, alpha=0.8):\n",
    "        print(\"start load data\")\n",
    "        custom_date_parser = lambda x: datetime.strptime(x, \"%a %b %d %H:%M:%S +0000 %Y\")\n",
    "        df = pd.read_csv(data_path,parse_dates=['utcTimestamp'],date_parser=custom_date_parser)\n",
    "        print(\"start process data\")\n",
    "        df[\"realtime\"] = df['utcTimestamp'] + df['timezoneOffset'].apply(min2hour)\n",
    "        df[\"hour\"] = df[\"realtime\"].dt.hour \n",
    "        #df[\"work\"] = df['hour'].apply(lambda x: 'Not' if (17 <= x < 24) or (0 <= x < 9)else 'Yes')\n",
    "        df[\"dayweek\"] = df[\"realtime\"].dt.dayofweek \n",
    "        #df[\"workday\"] = df['dayweek'].apply(lambda x: 'True' if x <= 5 else 'False')\n",
    "        \n",
    "        user_ids=get_ids(df['userId'].values,n_user)\n",
    "        df = df[(df['userId'].isin(user_ids))]\n",
    "        venue_ids=get_ids(df['venueId'].values,n_venue)\n",
    "        df = df[(df['venueId'].isin(venue_ids))]\n",
    "        venuecat_ids=get_ids(df['venueCategoryId'].values,n_venuecat)\n",
    "        df = df[(df['venueCategoryId'].isin(venuecat_ids))]\n",
    "        user_ids=get_ids(df['userId'].values,n_user)\n",
    "        venue_ids=get_ids(df['venueId'].values,n_venue)\n",
    "        venuecat_ids=get_ids(df['venueCategoryId'].values,n_venuecat)\n",
    "        \n",
    "        self.n_user=len(user_ids)\n",
    "        self.n_venue=len(venue_ids)\n",
    "        self.n_venuecat=len(venuecat_ids)\n",
    "        print(\"Number of users = {} , Number of venues = {} , Number of venuecategorys = {}\".format(self.n_user,self.n_venue,self.n_venuecat))\n",
    "        \n",
    "        u_id2idx = dict(zip(user_ids, range(self.n_user)))\n",
    "        v_id2idx = dict(zip(venue_ids, range(self.n_venue)))\n",
    "        vc_id2idx = dict(zip(venuecat_ids, range(self.n_venuecat)))\n",
    "        \n",
    "        df = df[(df['userId'].isin(user_ids))&(df['venueId'].isin(venue_ids))&(df['venueCategoryId'].isin(venuecat_ids))]\n",
    "        df = df.assign(userId=[u_id2idx[uid] for uid in df.userId])\n",
    "        df = df.assign(venueId=[v_id2idx[vid] for vid in df.venueId])\n",
    "        df = df.assign(venueCategoryId=[vc_id2idx[vcid] for vcid in df.venueCategoryId])\n",
    "        headers = ['userId','venueId','venueCategoryId','hour','dayweek']\n",
    "        df = pd.DataFrame(df,columns = headers)\n",
    "        df = df.reset_index(drop=True)\n",
    "        self.df = df\n",
    "        self.v2vc=dict()\n",
    "        for i in range(len(df)):\n",
    "            self.v2vc[df.loc[i,'venueId']]=df.loc[i,'venueCategoryId']"
   ]
  },
  {
   "cell_type": "markdown",
   "id": "ba0dcc65",
   "metadata": {
    "papermill": {
     "duration": 0.0066,
     "end_time": "2022-07-03T14:46:47.011022",
     "exception": false,
     "start_time": "2022-07-03T14:46:47.004422",
     "status": "completed"
    },
    "tags": []
   },
   "source": [
    "# FM model"
   ]
  },
  {
   "cell_type": "code",
   "execution_count": 5,
   "id": "5cb050b8",
   "metadata": {
    "execution": {
     "iopub.execute_input": "2022-07-03T14:46:47.026506Z",
     "iopub.status.busy": "2022-07-03T14:46:47.026149Z",
     "iopub.status.idle": "2022-07-03T14:46:47.037892Z",
     "shell.execute_reply": "2022-07-03T14:46:47.036491Z"
    },
    "papermill": {
     "duration": 0.022406,
     "end_time": "2022-07-03T14:46:47.040403",
     "exception": false,
     "start_time": "2022-07-03T14:46:47.017997",
     "status": "completed"
    },
    "tags": []
   },
   "outputs": [],
   "source": [
    "class bi_interaction_pooling(Layer):\n",
    "    def __init__(self):\n",
    "        super(bi_interaction_pooling, self).__init__()\n",
    "\n",
    "    def call(self, inputs):\n",
    "        x = inputs\n",
    "        x = 0.5 * (tf.square(tf.reduce_sum(x, axis=1)) - tf.reduce_sum(tf.square(x), axis=1))\n",
    "        return x\n",
    "\n",
    "def NFM(feature_dict,embedding_size=32,num_hidden_layers=1,if_bn=False,if_dropout=True,dropout_factor=[0.5]):\n",
    "    inputs_dict = {}\n",
    "    for fea in feature_dict:\n",
    "        inputs_dict[fea] = Input(shape=(1,), name=fea)\n",
    "    embedded = []\n",
    "    for fea in inputs_dict:\n",
    "        embedded.append(Embedding(feature_dict[fea], embedding_size)(inputs_dict[fea]))\n",
    "    x = Concatenate(axis=1)(embedded)\n",
    "    x = bi_interaction_pooling()(x)\n",
    "    if if_bn:\n",
    "        x = BatchNormalization()(x)\n",
    "    for i in range(num_hidden_layers):\n",
    "        x = Dense(32, activation='relu')(x)\n",
    "        if if_dropout:\n",
    "            x = Dropout(dropout_factor[i])(x)\n",
    "    output = Dense(1, activation='sigmoid')(x)\n",
    "    return Model(inputs_dict.values(), output)\n"
   ]
  },
  {
   "cell_type": "markdown",
   "id": "d54bb3c3",
   "metadata": {
    "papermill": {
     "duration": 0.006918,
     "end_time": "2022-07-03T14:46:47.054488",
     "exception": false,
     "start_time": "2022-07-03T14:46:47.047570",
     "status": "completed"
    },
    "tags": []
   },
   "source": [
    "# Train & Predict"
   ]
  },
  {
   "cell_type": "code",
   "execution_count": 6,
   "id": "8ed3128a",
   "metadata": {
    "execution": {
     "iopub.execute_input": "2022-07-03T14:46:47.070187Z",
     "iopub.status.busy": "2022-07-03T14:46:47.069786Z",
     "iopub.status.idle": "2022-07-03T14:46:55.222235Z",
     "shell.execute_reply": "2022-07-03T14:46:55.221174Z"
    },
    "papermill": {
     "duration": 8.163541,
     "end_time": "2022-07-03T14:46:55.225028",
     "exception": false,
     "start_time": "2022-07-03T14:46:47.061487",
     "status": "completed"
    },
    "tags": []
   },
   "outputs": [
    {
     "name": "stdout",
     "output_type": "stream",
     "text": [
      "start load data\n",
      "start process data\n",
      "Number of users = 100 , Number of venues = 392 , Number of venuecategorys = 40\n"
     ]
    }
   ],
   "source": [
    "data_path=\"../input/foursquare-nyc-and-tokyo-checkin-dataset/dataset_TSMC2014_NYC.csv\"\n",
    "dp = DataProcess(data_path)"
   ]
  },
  {
   "cell_type": "code",
   "execution_count": 7,
   "id": "57eaec08",
   "metadata": {
    "execution": {
     "iopub.execute_input": "2022-07-03T14:46:55.241958Z",
     "iopub.status.busy": "2022-07-03T14:46:55.241107Z",
     "iopub.status.idle": "2022-07-03T14:46:56.274420Z",
     "shell.execute_reply": "2022-07-03T14:46:56.273322Z"
    },
    "papermill": {
     "duration": 1.044612,
     "end_time": "2022-07-03T14:46:56.277090",
     "exception": false,
     "start_time": "2022-07-03T14:46:55.232478",
     "status": "completed"
    },
    "tags": []
   },
   "outputs": [],
   "source": [
    "user_day_venue_mx=np.zeros((dp.n_user*7,dp.n_venue))\n",
    "for i in range(len(dp.df)):\n",
    "    u=dp.df.loc[i,'userId']\n",
    "    d=dp.df.loc[i,'dayweek']\n",
    "    v=dp.df.loc[i,'venueId']\n",
    "    user_day_venue_mx[u*7+d][v]+=1\n",
    "user_day_venue_mx=user_day_venue_mx[np.sum(user_day_venue_mx,axis=-1)>10]"
   ]
  },
  {
   "cell_type": "code",
   "execution_count": 8,
   "id": "01823cc5",
   "metadata": {
    "execution": {
     "iopub.execute_input": "2022-07-03T14:46:56.294203Z",
     "iopub.status.busy": "2022-07-03T14:46:56.293389Z",
     "iopub.status.idle": "2022-07-03T14:46:57.164685Z",
     "shell.execute_reply": "2022-07-03T14:46:57.163520Z"
    },
    "papermill": {
     "duration": 0.883062,
     "end_time": "2022-07-03T14:46:57.167459",
     "exception": false,
     "start_time": "2022-07-03T14:46:56.284397",
     "status": "completed"
    },
    "tags": []
   },
   "outputs": [],
   "source": [
    "alpha=0.8\n",
    "train_data=[]\n",
    "test_data=[]\n",
    "for i in range(user_day_venue_mx.shape[0]):\n",
    "    if np.random.rand()<alpha:\n",
    "        for j in range(user_day_venue_mx.shape[1]):\n",
    "            train_data.append([i//7,j,dp.v2vc[j],i&7,user_day_venue_mx[i][j]])\n",
    "    else:\n",
    "        for j in range(user_day_venue_mx.shape[1]):\n",
    "            test_data.append([i//7,j,dp.v2vc[j],i&7,user_day_venue_mx[i][j]])\n",
    "train_data=np.array(train_data)\n",
    "test_data=np.array(test_data)"
   ]
  },
  {
   "cell_type": "code",
   "execution_count": 9,
   "id": "0552b762",
   "metadata": {
    "execution": {
     "iopub.execute_input": "2022-07-03T14:46:57.184524Z",
     "iopub.status.busy": "2022-07-03T14:46:57.183914Z",
     "iopub.status.idle": "2022-07-03T14:46:57.194061Z",
     "shell.execute_reply": "2022-07-03T14:46:57.192911Z"
    },
    "papermill": {
     "duration": 0.021807,
     "end_time": "2022-07-03T14:46:57.196719",
     "exception": false,
     "start_time": "2022-07-03T14:46:57.174912",
     "status": "completed"
    },
    "tags": []
   },
   "outputs": [],
   "source": [
    "df_train=pd.DataFrame(train_data,columns=['uid','vid','vcid','day','times'])\n",
    "df_test=pd.DataFrame(test_data,columns=['uid','vid','vcid','day','times'])\n",
    "df_train=df_train[df_train['times']>0]\n",
    "df_test=df_test[df_test['times']>0]"
   ]
  },
  {
   "cell_type": "code",
   "execution_count": 10,
   "id": "775134fd",
   "metadata": {
    "execution": {
     "iopub.execute_input": "2022-07-03T14:46:57.213188Z",
     "iopub.status.busy": "2022-07-03T14:46:57.212758Z",
     "iopub.status.idle": "2022-07-03T14:46:57.225071Z",
     "shell.execute_reply": "2022-07-03T14:46:57.224046Z"
    },
    "papermill": {
     "duration": 0.023174,
     "end_time": "2022-07-03T14:46:57.227312",
     "exception": false,
     "start_time": "2022-07-03T14:46:57.204138",
     "status": "completed"
    },
    "tags": []
   },
   "outputs": [],
   "source": [
    "df=pd.concat([df_train,df_test])\n",
    "df = df.reset_index(drop=True)\n",
    "feature_dict={}\n",
    "feature_dict['uid']=len(set(df.uid.values))\n",
    "feature_dict['vid']=len(set(df.vid.values))\n",
    "feature_dict['vcid']=len(set(df.vcid.values))\n",
    "feature_dict['day']=len(set(df.day.values))"
   ]
  },
  {
   "cell_type": "code",
   "execution_count": 11,
   "id": "d585a612",
   "metadata": {
    "execution": {
     "iopub.execute_input": "2022-07-03T14:46:57.244893Z",
     "iopub.status.busy": "2022-07-03T14:46:57.244200Z",
     "iopub.status.idle": "2022-07-03T14:46:58.129772Z",
     "shell.execute_reply": "2022-07-03T14:46:58.128579Z"
    },
    "papermill": {
     "duration": 0.897809,
     "end_time": "2022-07-03T14:46:58.132614",
     "exception": false,
     "start_time": "2022-07-03T14:46:57.234805",
     "status": "completed"
    },
    "tags": []
   },
   "outputs": [],
   "source": [
    "t=df.loc[0,'uid']*7+df.loc[0,'day']\n",
    "venue_dict=dict()\n",
    "venue_dict[df.loc[0,'vid']]=df.loc[0,'times']\n",
    "cnt=0\n",
    "for i in range(1,len(df)):\n",
    "    u=df.loc[i,'uid']\n",
    "    d=df.loc[i,'day']\n",
    "    v=df.loc[i,'vid']\n",
    "    t_=u*7+d\n",
    "    if t!=t_:\n",
    "        rank=sorted(venue_dict.items(),key=lambda kv:kv[1],reverse=True)\n",
    "        m=min((len(rank)+1)//2,10)\n",
    "        for k in range(len(rank)):\n",
    "            if k<m:\n",
    "                venue_dict[rank[k][0]]=1\n",
    "            else:\n",
    "                venue_dict[rank[k][0]]=0\n",
    "        for j in range(cnt,i):\n",
    "            df.loc[j,'times']=venue_dict[df.loc[j,'vid']]\n",
    "        t=t_\n",
    "        cnt=i\n",
    "        venue_dict=dict()\n",
    "    venue_dict[v]=df.loc[i,'times']\n",
    "rank=sorted(venue_dict.items(),key=lambda kv:kv[1],reverse=True)\n",
    "m=min((len(rank)+1)//2,10)\n",
    "for k in range(len(rank)):\n",
    "    if k<m:\n",
    "        venue_dict[rank[k][0]]=1\n",
    "    else:\n",
    "        venue_dict[rank[k][0]]=0\n",
    "for j in range(cnt,len(df)):\n",
    "    df.loc[j,'times']=venue_dict[df.loc[j,'vid']]"
   ]
  },
  {
   "cell_type": "code",
   "execution_count": 12,
   "id": "bc804a29",
   "metadata": {
    "execution": {
     "iopub.execute_input": "2022-07-03T14:46:58.149352Z",
     "iopub.status.busy": "2022-07-03T14:46:58.148755Z",
     "iopub.status.idle": "2022-07-03T14:46:58.173738Z",
     "shell.execute_reply": "2022-07-03T14:46:58.172531Z"
    },
    "papermill": {
     "duration": 0.036369,
     "end_time": "2022-07-03T14:46:58.176225",
     "exception": false,
     "start_time": "2022-07-03T14:46:58.139856",
     "status": "completed"
    },
    "tags": []
   },
   "outputs": [
    {
     "data": {
      "text/html": [
       "<div>\n",
       "<style scoped>\n",
       "    .dataframe tbody tr th:only-of-type {\n",
       "        vertical-align: middle;\n",
       "    }\n",
       "\n",
       "    .dataframe tbody tr th {\n",
       "        vertical-align: top;\n",
       "    }\n",
       "\n",
       "    .dataframe thead th {\n",
       "        text-align: right;\n",
       "    }\n",
       "</style>\n",
       "<table border=\"1\" class=\"dataframe\">\n",
       "  <thead>\n",
       "    <tr style=\"text-align: right;\">\n",
       "      <th></th>\n",
       "      <th>uid</th>\n",
       "      <th>vid</th>\n",
       "      <th>vcid</th>\n",
       "      <th>day</th>\n",
       "      <th>times</th>\n",
       "    </tr>\n",
       "  </thead>\n",
       "  <tbody>\n",
       "    <tr>\n",
       "      <th>0</th>\n",
       "      <td>0.0</td>\n",
       "      <td>3.0</td>\n",
       "      <td>9.0</td>\n",
       "      <td>0.0</td>\n",
       "      <td>1.0</td>\n",
       "    </tr>\n",
       "    <tr>\n",
       "      <th>1</th>\n",
       "      <td>0.0</td>\n",
       "      <td>4.0</td>\n",
       "      <td>7.0</td>\n",
       "      <td>0.0</td>\n",
       "      <td>0.0</td>\n",
       "    </tr>\n",
       "    <tr>\n",
       "      <th>2</th>\n",
       "      <td>0.0</td>\n",
       "      <td>7.0</td>\n",
       "      <td>20.0</td>\n",
       "      <td>0.0</td>\n",
       "      <td>0.0</td>\n",
       "    </tr>\n",
       "    <tr>\n",
       "      <th>3</th>\n",
       "      <td>0.0</td>\n",
       "      <td>16.0</td>\n",
       "      <td>1.0</td>\n",
       "      <td>0.0</td>\n",
       "      <td>1.0</td>\n",
       "    </tr>\n",
       "    <tr>\n",
       "      <th>4</th>\n",
       "      <td>0.0</td>\n",
       "      <td>18.0</td>\n",
       "      <td>11.0</td>\n",
       "      <td>0.0</td>\n",
       "      <td>1.0</td>\n",
       "    </tr>\n",
       "    <tr>\n",
       "      <th>...</th>\n",
       "      <td>...</td>\n",
       "      <td>...</td>\n",
       "      <td>...</td>\n",
       "      <td>...</td>\n",
       "      <td>...</td>\n",
       "    </tr>\n",
       "    <tr>\n",
       "      <th>3646</th>\n",
       "      <td>81.0</td>\n",
       "      <td>171.0</td>\n",
       "      <td>28.0</td>\n",
       "      <td>7.0</td>\n",
       "      <td>0.0</td>\n",
       "    </tr>\n",
       "    <tr>\n",
       "      <th>3647</th>\n",
       "      <td>81.0</td>\n",
       "      <td>217.0</td>\n",
       "      <td>8.0</td>\n",
       "      <td>7.0</td>\n",
       "      <td>1.0</td>\n",
       "    </tr>\n",
       "    <tr>\n",
       "      <th>3648</th>\n",
       "      <td>81.0</td>\n",
       "      <td>323.0</td>\n",
       "      <td>15.0</td>\n",
       "      <td>7.0</td>\n",
       "      <td>1.0</td>\n",
       "    </tr>\n",
       "    <tr>\n",
       "      <th>3649</th>\n",
       "      <td>81.0</td>\n",
       "      <td>209.0</td>\n",
       "      <td>5.0</td>\n",
       "      <td>0.0</td>\n",
       "      <td>0.0</td>\n",
       "    </tr>\n",
       "    <tr>\n",
       "      <th>3650</th>\n",
       "      <td>81.0</td>\n",
       "      <td>364.0</td>\n",
       "      <td>2.0</td>\n",
       "      <td>0.0</td>\n",
       "      <td>1.0</td>\n",
       "    </tr>\n",
       "  </tbody>\n",
       "</table>\n",
       "<p>3651 rows × 5 columns</p>\n",
       "</div>"
      ],
      "text/plain": [
       "       uid    vid  vcid  day  times\n",
       "0      0.0    3.0   9.0  0.0    1.0\n",
       "1      0.0    4.0   7.0  0.0    0.0\n",
       "2      0.0    7.0  20.0  0.0    0.0\n",
       "3      0.0   16.0   1.0  0.0    1.0\n",
       "4      0.0   18.0  11.0  0.0    1.0\n",
       "...    ...    ...   ...  ...    ...\n",
       "3646  81.0  171.0  28.0  7.0    0.0\n",
       "3647  81.0  217.0   8.0  7.0    1.0\n",
       "3648  81.0  323.0  15.0  7.0    1.0\n",
       "3649  81.0  209.0   5.0  0.0    0.0\n",
       "3650  81.0  364.0   2.0  0.0    1.0\n",
       "\n",
       "[3651 rows x 5 columns]"
      ]
     },
     "execution_count": 12,
     "metadata": {},
     "output_type": "execute_result"
    }
   ],
   "source": [
    "df"
   ]
  },
  {
   "cell_type": "code",
   "execution_count": 13,
   "id": "d4885c40",
   "metadata": {
    "execution": {
     "iopub.execute_input": "2022-07-03T14:46:58.195803Z",
     "iopub.status.busy": "2022-07-03T14:46:58.193460Z",
     "iopub.status.idle": "2022-07-03T14:46:58.202087Z",
     "shell.execute_reply": "2022-07-03T14:46:58.200954Z"
    },
    "papermill": {
     "duration": 0.020921,
     "end_time": "2022-07-03T14:46:58.204794",
     "exception": false,
     "start_time": "2022-07-03T14:46:58.183873",
     "status": "completed"
    },
    "tags": []
   },
   "outputs": [],
   "source": [
    "df_train = df.iloc[:len(df_train),:]\n",
    "df_test = df.iloc[len(df_train):,:]"
   ]
  },
  {
   "cell_type": "code",
   "execution_count": 14,
   "id": "e34bd885",
   "metadata": {
    "execution": {
     "iopub.execute_input": "2022-07-03T14:46:58.222386Z",
     "iopub.status.busy": "2022-07-03T14:46:58.221653Z",
     "iopub.status.idle": "2022-07-03T14:46:58.229764Z",
     "shell.execute_reply": "2022-07-03T14:46:58.228761Z"
    },
    "papermill": {
     "duration": 0.01965,
     "end_time": "2022-07-03T14:46:58.232203",
     "exception": false,
     "start_time": "2022-07-03T14:46:58.212553",
     "status": "completed"
    },
    "tags": []
   },
   "outputs": [],
   "source": [
    "X1 = df_train['uid'].values\n",
    "X2 = df_train['vid'].values\n",
    "X3 = df_train['vcid'].values\n",
    "X4 = df_train['day'].values\n",
    "X_train = [X1,X2,X3,X4]\n",
    "Y_train = df_train['times'].values\n",
    "X1 = df_test['uid'].values\n",
    "X2 = df_test['vid'].values\n",
    "X3 = df_test['vcid'].values\n",
    "X4 = df_test['day'].values\n",
    "X_test = [X1,X2,X3,X4]\n",
    "Y_test = df_test['times'].values"
   ]
  },
  {
   "cell_type": "code",
   "execution_count": 15,
   "id": "588eb4d4",
   "metadata": {
    "execution": {
     "iopub.execute_input": "2022-07-03T14:46:58.249808Z",
     "iopub.status.busy": "2022-07-03T14:46:58.248766Z",
     "iopub.status.idle": "2022-07-03T14:47:01.080035Z",
     "shell.execute_reply": "2022-07-03T14:47:01.078684Z"
    },
    "papermill": {
     "duration": 2.842984,
     "end_time": "2022-07-03T14:47:01.082801",
     "exception": false,
     "start_time": "2022-07-03T14:46:58.239817",
     "status": "completed"
    },
    "scrolled": true,
    "tags": []
   },
   "outputs": [
    {
     "name": "stderr",
     "output_type": "stream",
     "text": [
      "2022-07-03 14:46:58.302560: I tensorflow/core/common_runtime/process_util.cc:146] Creating new thread pool with default inter op setting: 2. Tune using inter_op_parallelism_threads for best performance.\n",
      "2022-07-03 14:46:58.559308: I tensorflow/compiler/mlir/mlir_graph_optimization_pass.cc:185] None of the MLIR Optimization Passes are enabled (registered 2)\n"
     ]
    },
    {
     "name": "stdout",
     "output_type": "stream",
     "text": [
      "Epoch 1/10\n",
      "46/46 [==============================] - 1s 3ms/step - loss: 0.2497\n",
      "Epoch 2/10\n",
      "46/46 [==============================] - 0s 2ms/step - loss: 0.2483\n",
      "Epoch 3/10\n",
      "46/46 [==============================] - 0s 3ms/step - loss: 0.2398\n",
      "Epoch 4/10\n",
      "46/46 [==============================] - 0s 3ms/step - loss: 0.2083\n",
      "Epoch 5/10\n",
      "46/46 [==============================] - 0s 2ms/step - loss: 0.1669\n",
      "Epoch 6/10\n",
      "46/46 [==============================] - 0s 3ms/step - loss: 0.1416\n",
      "Epoch 7/10\n",
      "46/46 [==============================] - 0s 2ms/step - loss: 0.1267\n",
      "Epoch 8/10\n",
      "46/46 [==============================] - 0s 3ms/step - loss: 0.1142\n",
      "Epoch 9/10\n",
      "46/46 [==============================] - 0s 3ms/step - loss: 0.1028\n",
      "Epoch 10/10\n",
      "46/46 [==============================] - 0s 3ms/step - loss: 0.0908\n"
     ]
    },
    {
     "data": {
      "text/plain": [
       "<keras.callbacks.History at 0x7f9ab7ae1050>"
      ]
     },
     "execution_count": 15,
     "metadata": {},
     "output_type": "execute_result"
    }
   ],
   "source": [
    "md = NFM(feature_dict)\n",
    "md.compile(optimizer='adam', loss='mse')\n",
    "# 模型训练\n",
    "md.fit(x=X_train, y=Y_train, epochs=10, batch_size=64)\n",
    "# 模型预测"
   ]
  },
  {
   "cell_type": "markdown",
   "id": "5d9e234e",
   "metadata": {
    "papermill": {
     "duration": 0.010188,
     "end_time": "2022-07-03T14:47:01.104341",
     "exception": false,
     "start_time": "2022-07-03T14:47:01.094153",
     "status": "completed"
    },
    "tags": []
   },
   "source": []
  },
  {
   "cell_type": "code",
   "execution_count": 16,
   "id": "566296e3",
   "metadata": {
    "execution": {
     "iopub.execute_input": "2022-07-03T14:47:01.127712Z",
     "iopub.status.busy": "2022-07-03T14:47:01.127287Z",
     "iopub.status.idle": "2022-07-03T14:47:01.134612Z",
     "shell.execute_reply": "2022-07-03T14:47:01.133652Z"
    },
    "papermill": {
     "duration": 0.021502,
     "end_time": "2022-07-03T14:47:01.136709",
     "exception": false,
     "start_time": "2022-07-03T14:47:01.115207",
     "status": "completed"
    },
    "tags": []
   },
   "outputs": [],
   "source": [
    "def get_list(p,r):\n",
    "    p_=[]\n",
    "    r_=[]\n",
    "    for i in range(len(p)):\n",
    "        p_.append(p[i][0])\n",
    "        r_.append(r[i][0])\n",
    "    return p_,r_\n",
    "def Recall(p,r):\n",
    "    num=0\n",
    "    for i in range(len(p)):\n",
    "        if p[i] in r:\n",
    "            num+=1\n",
    "    return num/len(p)"
   ]
  },
  {
   "cell_type": "code",
   "execution_count": 17,
   "id": "273048d2",
   "metadata": {
    "execution": {
     "iopub.execute_input": "2022-07-03T14:47:01.160300Z",
     "iopub.status.busy": "2022-07-03T14:47:01.159899Z",
     "iopub.status.idle": "2022-07-03T14:47:01.165875Z",
     "shell.execute_reply": "2022-07-03T14:47:01.164978Z"
    },
    "papermill": {
     "duration": 0.020552,
     "end_time": "2022-07-03T14:47:01.168093",
     "exception": false,
     "start_time": "2022-07-03T14:47:01.147541",
     "status": "completed"
    },
    "tags": []
   },
   "outputs": [],
   "source": [
    "def AP(p,r,k):\n",
    "    sum_ap=num=0\n",
    "    n=len(p)\n",
    "    for i in range(k):\n",
    "        if p[i] in r:\n",
    "            num+=1\n",
    "            sum_ap+=num/(i+1)\n",
    "    return sum_ap/(min(k,n))"
   ]
  },
  {
   "cell_type": "code",
   "execution_count": 18,
   "id": "9d16aeca",
   "metadata": {
    "execution": {
     "iopub.execute_input": "2022-07-03T14:47:01.191934Z",
     "iopub.status.busy": "2022-07-03T14:47:01.191522Z",
     "iopub.status.idle": "2022-07-03T14:47:01.197549Z",
     "shell.execute_reply": "2022-07-03T14:47:01.196624Z"
    },
    "papermill": {
     "duration": 0.021094,
     "end_time": "2022-07-03T14:47:01.200021",
     "exception": false,
     "start_time": "2022-07-03T14:47:01.178927",
     "status": "completed"
    },
    "tags": []
   },
   "outputs": [],
   "source": [
    "def nDCG(p,r,k):\n",
    "    sum_dcg=0\n",
    "    sum_idcg=0\n",
    "    for i in range(k):\n",
    "        sum_idcg+=1/math.log(i+2,2)\n",
    "        if p[i] in r:\n",
    "            sum_dcg+=1/math.log(i+2,2)\n",
    "    return sum_dcg/sum_idcg    "
   ]
  },
  {
   "cell_type": "code",
   "execution_count": 19,
   "id": "88b113fb",
   "metadata": {
    "execution": {
     "iopub.execute_input": "2022-07-03T14:47:01.223723Z",
     "iopub.status.busy": "2022-07-03T14:47:01.223295Z",
     "iopub.status.idle": "2022-07-03T14:47:01.258618Z",
     "shell.execute_reply": "2022-07-03T14:47:01.257646Z"
    },
    "papermill": {
     "duration": 0.050206,
     "end_time": "2022-07-03T14:47:01.261041",
     "exception": false,
     "start_time": "2022-07-03T14:47:01.210835",
     "status": "completed"
    },
    "tags": []
   },
   "outputs": [
    {
     "data": {
      "text/plain": [
       "[array([ 0.,  0.,  0.,  0.,  0.,  0.,  0.,  0.,  0.,  0.,  0.,  0.,  0.,\n",
       "         0.,  0.,  0.,  0.,  0.,  0.,  0.,  0.,  0.,  0.,  0.,  0.,  0.,\n",
       "         0.,  0.,  0.,  0.,  0.,  0.,  0.,  0.,  0.,  0.,  0.,  0.,  0.,\n",
       "         0.,  0.,  0.,  0.,  0.,  0.,  0.,  0.,  1.,  1.,  1.,  1.,  1.,\n",
       "         1.,  1.,  1.,  1.,  1.,  1.,  1.,  1.,  1.,  1.,  2.,  2.,  2.,\n",
       "         2.,  2.,  2.,  2.,  2.,  2.,  2.,  2.,  5.,  5.,  5.,  5.,  5.,\n",
       "         5.,  5.,  5.,  6.,  6.,  6.,  6.,  6.,  6.,  6.,  6.,  6.,  6.,\n",
       "         6.,  6.,  8.,  8.,  8.,  8.,  8.,  9.,  9.,  9.,  9.,  9.,  9.,\n",
       "         9.,  9.,  9.,  9.,  9.,  9.,  9., 10., 10., 10., 10., 10., 10.,\n",
       "        10., 10., 10., 10., 10., 10., 10., 10., 10., 10., 10., 10., 11.,\n",
       "        11., 11., 11., 11., 11., 11., 11., 12., 12., 12., 12., 12., 12.,\n",
       "        12., 12., 12., 13., 13., 13., 13., 13., 13., 13., 13., 13., 13.,\n",
       "        13., 13., 13., 13., 13., 13., 13., 13., 13., 13., 13., 14., 14.,\n",
       "        14., 14., 14., 14., 14., 14., 14., 14., 15., 15., 15., 15., 15.,\n",
       "        15., 15., 15., 16., 16., 16., 16., 16., 16., 16., 16., 16., 16.,\n",
       "        16., 16., 16., 16., 16., 16., 16., 16., 16., 16., 16., 16., 16.,\n",
       "        16., 16., 16., 17., 17., 17., 17., 17., 17., 17., 17., 17., 17.,\n",
       "        17., 17., 17., 17., 18., 18., 18., 18., 18., 18., 20., 20., 20.,\n",
       "        20., 20., 20., 20., 20., 20., 20., 20., 20., 20., 20., 20., 20.,\n",
       "        20., 20., 20., 20., 20., 20., 20., 20., 20., 20., 20., 20., 21.,\n",
       "        21., 21., 21., 21., 21., 21., 21., 21., 21., 21., 21., 21., 21.,\n",
       "        21., 21., 21., 21., 22., 22., 22., 22., 22., 22., 22., 22., 22.,\n",
       "        22., 22., 22., 22., 22., 22., 22., 22., 22., 22., 22., 22., 22.,\n",
       "        22., 22., 22., 22., 22., 22., 22., 22., 22., 22., 22., 22., 22.,\n",
       "        22., 22., 22., 22., 22., 22., 22., 23., 23., 23., 23., 23., 23.,\n",
       "        23., 23., 23., 23., 23., 23., 23., 23., 23., 23., 23., 23., 23.,\n",
       "        23., 23., 23., 23., 23., 23., 23., 23., 23., 23., 23., 24., 24.,\n",
       "        24., 24., 24., 24., 24., 24., 24., 24., 24., 24., 24., 24., 24.,\n",
       "        25., 25., 25., 25., 25., 25., 25., 25., 25., 25., 25., 26., 26.,\n",
       "        26., 26., 26., 27., 27., 27., 27., 27., 27., 27., 27., 28., 28.,\n",
       "        28., 28., 28., 28., 28., 28., 28., 28., 28., 28., 28., 28., 28.,\n",
       "        28., 28., 28., 29., 29., 29., 29., 29., 29., 29., 29., 29., 29.,\n",
       "        29., 30., 30., 30., 30., 30., 31., 31., 31., 31., 31., 31., 32.,\n",
       "        32., 32., 32., 32., 32., 32., 32., 32., 32., 32., 32., 32., 32.,\n",
       "        32., 32., 32., 32., 32., 32., 32., 32., 32., 33., 33., 33., 33.,\n",
       "        33., 33., 35., 35., 35., 35., 35., 35., 35., 35., 35., 35., 35.,\n",
       "        35., 35., 35., 35., 35., 35., 35., 35., 35., 35., 35., 35., 36.,\n",
       "        36., 36., 36., 36., 36., 36., 36., 36., 36., 37., 37., 37., 37.,\n",
       "        37., 37., 37., 37., 37., 37., 37., 38., 38., 38., 38., 39., 39.,\n",
       "        39., 39., 39., 39., 39., 39., 39., 39., 39., 39., 40., 40., 40.,\n",
       "        40., 40., 40., 40., 41., 41., 41., 41., 41., 41., 41., 41., 41.,\n",
       "        41., 41., 41., 42., 42., 42., 42., 42., 42., 42., 42., 42., 43.,\n",
       "        43., 43., 43., 43., 43., 43., 45., 45., 45., 45., 45., 46., 46.,\n",
       "        46., 46., 46., 48., 48., 48., 48., 49., 49., 49., 49., 49., 51.,\n",
       "        51., 51., 55., 55., 55., 55., 56., 56., 56., 56., 56., 56., 56.,\n",
       "        56., 56., 56., 56., 56., 57., 57., 57., 57., 57., 57., 57., 57.,\n",
       "        57., 59., 60., 60., 61., 61., 61., 61., 61., 61., 62., 62., 62.,\n",
       "        62., 62., 62., 62., 62., 62., 62., 62., 63., 63., 63., 63., 63.,\n",
       "        63., 63., 64., 64., 64., 64., 64., 65., 65., 67., 67., 67., 67.,\n",
       "        67., 67., 67., 67., 68., 68., 68., 68., 68., 69., 69., 69., 69.,\n",
       "        70., 70., 70., 71., 71., 71., 71., 71., 73., 73., 73., 73., 73.,\n",
       "        73., 73., 73., 73., 73., 74., 74., 74., 74., 74., 74., 74., 74.,\n",
       "        74., 74., 75., 75., 77., 77., 77., 77., 77., 77., 77., 77., 77.,\n",
       "        78., 78., 78., 78., 79., 80., 80., 80., 80., 80., 80., 80., 80.,\n",
       "        80., 80., 80., 80., 80., 80., 81., 81., 81., 81., 81., 81.]),\n",
       " array([  3.,   7.,  16.,  18.,  25.,  28.,  32.,  35.,  77.,  82.,  90.,\n",
       "         95.,  97., 121., 123., 125., 130., 146., 168., 169., 219., 241.,\n",
       "        289., 290.,   3.,   7.,  16.,  18.,  25.,  28.,  32.,  35.,  77.,\n",
       "         82.,  90.,  95.,  97., 123., 125., 130., 146., 168., 169., 219.,\n",
       "        241., 290., 335.,  31.,  47.,  61.,  63.,  68.,  72., 102., 107.,\n",
       "        114., 119., 162., 195., 215., 267., 336.,   8.,   9.,  13.,  20.,\n",
       "         21., 109., 155., 192., 258., 339., 385.,  29.,  37.,  43.,  54.,\n",
       "        142., 151., 250., 291.,   2.,  40.,  42.,  53.,  79., 103., 190.,\n",
       "          2.,  40.,  42.,  53.,  79.,  98., 198., 228., 316., 327.,   2.,\n",
       "          7.,  56.,  60.,  95., 154., 170., 178., 186., 243., 275., 276.,\n",
       "        289.,  93., 100., 110., 133., 188., 209., 226., 274., 315.,  10.,\n",
       "         93., 100., 110., 188., 209., 226., 274., 315.,   5.,  22.,  26.,\n",
       "        107.,   5.,  22.,  26.,  67.,  33.,  36., 129., 133., 270., 281.,\n",
       "        311., 312., 361.,   0., 139., 141., 144., 158., 185., 218., 375.,\n",
       "          0., 139., 141., 144., 158., 185., 218., 375., 139., 144., 335.,\n",
       "        369., 375.,  65.,  73., 134., 145., 182., 232., 266., 346., 349.,\n",
       "        353.,   0.,  23.,  58.,  89., 101., 137., 273., 371.,   4.,  30.,\n",
       "         52.,  76., 121., 171., 172., 217., 222., 236., 237., 268., 299.,\n",
       "          4.,  52.,  76.,  99., 171., 172., 211., 217., 222., 236., 237.,\n",
       "        268., 299.,   6.,  43.,  75., 117., 121., 124., 133., 245.,   6.,\n",
       "         43.,  56.,  81., 117., 335.,  70.,  78., 111., 180., 249., 251.,\n",
       "        135., 206., 262., 283., 297., 303., 306., 331., 345., 135., 206.,\n",
       "        262., 283., 297., 303., 306., 331., 345., 135., 206., 262., 283.,\n",
       "        297., 303., 306., 331., 335., 345., 175., 187., 235., 246., 324.,\n",
       "        334., 356.,   7.,  46.,  85., 175., 187., 221., 235., 246., 324.,\n",
       "        334., 356.,   0.,  23., 112., 156., 176., 301., 305., 332., 357.,\n",
       "        358., 362.,   0.,  23., 106., 112., 124., 176., 301., 305., 328.,\n",
       "        332., 357., 358., 362.,   0.,   4.,  23.,  48., 112., 176., 301.,\n",
       "        305., 332., 357., 358., 362., 112., 176., 193., 332., 357., 358.,\n",
       "          4.,  19.,  99., 145., 163., 266., 299., 300., 319., 326., 376.,\n",
       "          4.,  19.,  30.,  99., 163., 266., 299., 316., 319., 326.,  19.,\n",
       "         43.,  99., 163., 266., 299., 300., 319., 326.,   2.,  38.,  57.,\n",
       "        145., 184., 227., 376.,  57.,  73., 133., 145., 184., 227., 376.,\n",
       "        380.,  30.,  59., 113., 156., 160.,  52.,  59., 121., 156., 160.,\n",
       "        252.,  41.,  51., 164., 379., 387.,   2.,  46.,  81.,  85., 175.,\n",
       "        309., 314., 390.,  27.,  67., 295., 382.,  27.,  67., 295., 382.,\n",
       "         27.,  67., 295., 382.,  84., 173., 233., 238., 333., 369.,  84.,\n",
       "        173., 233., 238., 333.,  84., 173., 233., 238., 270., 333.,  87.,\n",
       "        157., 177., 340., 347.,  56.,  87., 157., 177., 340., 347.,  56.,\n",
       "         94., 104., 128., 138., 181., 191., 239., 256., 270., 342., 380.,\n",
       "         94., 138., 165., 181., 191., 239., 256., 281., 316., 342., 343.,\n",
       "        105., 166., 321., 355., 368., 370.,   0.,   4.,  14.,  56., 124.,\n",
       "        133., 197., 269., 286.,   0.,   2.,  56., 104., 133., 197., 276.,\n",
       "        286., 379.,   0.,  56., 197., 218., 286.,  81.,  88., 259., 264.,\n",
       "        325.,  43.,  88., 185., 259., 325.,  83., 128., 220., 252., 282.,\n",
       "        287.,  83., 220., 252., 282., 287.,  23., 147., 159., 247.,  96.,\n",
       "        127., 174., 365., 378., 379.,  67.,  96., 127., 174., 365., 378.,\n",
       "          2.,   7.,  43., 133., 149., 208., 294.,  52., 122., 133., 150.,\n",
       "        171., 276., 344.,   2., 122., 133., 150., 171.,  69., 148., 210.,\n",
       "        231., 152., 165., 291., 292., 381., 152., 165., 256., 292., 381.,\n",
       "         62.,  74.,   4.,  30.,  55.,  91.,  99.,   4.,  23., 118., 255.,\n",
       "        376.,   2., 183., 307., 317.,  39., 257.,  39., 257., 283., 194.,\n",
       "        223., 388.,  48., 167., 240., 302.,   0.,  66., 242.,   0.,  66.,\n",
       "        242.,   0.,   7., 156., 284., 285., 286.,   0.,   4.,   7.,  48.,\n",
       "        156., 218., 284., 285., 286.,  17.,   7.,  50.,  11.,  46., 120.,\n",
       "        129., 164., 296.,   7.,  36.,  46., 120., 129., 269., 352., 369.,\n",
       "         44., 156., 285.,  46., 175., 199., 254., 280., 337., 363.,  66.,\n",
       "        115., 121., 156., 277., 115., 277., 193., 211., 214., 318., 193.,\n",
       "        211., 214., 318.,  52., 335., 338.,  80., 293.,  80., 293.,  80.,\n",
       "        293.,  34.,  34.,  34.,   7.,  36.,  49., 296., 374.,   4., 260.,\n",
       "        271.,   4., 252., 260., 271.,  52., 131., 202., 131., 202., 216.,\n",
       "        291., 313., 353.,   2., 216., 291., 313., 230., 234., 108., 133.,\n",
       "          2.,   4.,  73., 217., 300., 344., 369., 204., 389.,   4.,  94.,\n",
       "        132.,  67., 171., 174., 272., 343., 369.,  23.,  48., 145., 320.,\n",
       "        138., 211., 248., 384.,  52., 171., 217., 323., 209., 364.]),\n",
       " array([ 9., 20.,  1., 11.,  0.,  6.,  0.,  0.,  3.,  8.,  1., 13.,  3.,\n",
       "         1., 11., 33., 26., 14., 35., 16., 11.,  3., 13., 11.,  9., 20.,\n",
       "         1., 11.,  0.,  6.,  0.,  0.,  3.,  8.,  1., 13.,  3., 11., 33.,\n",
       "        26., 14., 35., 16., 11.,  3., 11., 33.,  6.,  2.,  5.,  8., 22.,\n",
       "        36.,  5., 14.,  6., 31.,  9.,  0., 22., 19., 26., 16.,  3., 39.,\n",
       "        16., 26., 30., 30., 29., 16., 30., 30., 15.,  2.,  1.,  1.,  3.,\n",
       "         0.,  1.,  1., 27., 18.,  5., 10.,  2., 19., 19., 27., 18.,  5.,\n",
       "        10.,  2., 33.,  4., 14.,  4.,  6., 27., 20.,  1.,  4., 13.,  1.,\n",
       "        10.,  0.,  0.,  0.,  0., 24., 13.,  3., 17.,  0.,  8.,  3.,  5.,\n",
       "        19., 23., 19., 28.,  3., 17.,  0.,  3.,  5., 19., 23., 19.,  0.,\n",
       "        20., 11., 14.,  0., 20., 11.,  6., 25.,  4.,  1.,  8., 20.,  4.,\n",
       "         0.,  0.,  6.,  1.,  4.,  2.,  4.,  1.,  1.,  1.,  4.,  1.,  4.,\n",
       "         2.,  4.,  1.,  1.,  1.,  4.,  4.,  4., 33.,  9.,  4.,  0.,  7.,\n",
       "         1.,  7.,  1.,  2.,  1.,  1., 23.,  1.,  1., 12.,  1.,  3.,  3.,\n",
       "         3.,  3., 29.,  7.,  1.,  7.,  6.,  1., 28.,  4.,  8.,  2., 13.,\n",
       "        21., 15.,  1.,  7.,  7.,  6.,  1., 28.,  4., 24.,  8.,  2., 13.,\n",
       "        21., 15.,  1.,  1.,  1.,  1.,  0.,  1.,  1.,  8.,  1.,  1.,  1.,\n",
       "         1.,  1.,  0., 33.,  5.,  5.,  5.,  5.,  5.,  5.,  0.,  0.,  0.,\n",
       "         4.,  6.,  0.,  0.,  0.,  0.,  0.,  0.,  0.,  4.,  6.,  0.,  0.,\n",
       "         0.,  0.,  0.,  0.,  0.,  4.,  6.,  0.,  0.,  0., 33.,  0.,  1.,\n",
       "        34.,  0.,  0.,  1., 38., 14., 20.,  1.,  4.,  1., 34.,  9.,  0.,\n",
       "         0.,  1., 38., 14.,  1., 12.,  3., 24., 17.,  2., 14., 14.,  9.,\n",
       "         2.,  2.,  1., 12., 20.,  3.,  1., 17.,  2., 14.,  4., 14.,  9.,\n",
       "         2.,  2.,  1.,  7., 12.,  6.,  3., 17.,  2., 14., 14.,  9.,  2.,\n",
       "         2.,  3., 17., 20., 14.,  9.,  2.,  7.,  0.,  1.,  7.,  1.,  1.,\n",
       "         1.,  1., 17.,  2.,  7.,  7.,  0.,  1.,  1.,  1.,  1.,  1.,  4.,\n",
       "        17.,  2.,  0.,  1.,  1.,  1.,  1.,  1.,  1., 17.,  2., 27.,  2.,\n",
       "         0.,  7.,  0., 18.,  7.,  0.,  7.,  8.,  7.,  0., 18.,  7.,  7.,\n",
       "         1.,  0.,  2., 24.,  1.,  7.,  0.,  1., 24.,  1.,  1., 34.,  0.,\n",
       "        24., 20., 18., 27.,  1.,  1.,  4.,  1.,  8.,  7., 17., 23.,  6.,\n",
       "        25.,  0., 23.,  6., 25.,  0., 23.,  6., 25.,  0.,  0.,  0.,  3.,\n",
       "         0.,  8.,  9.,  0.,  0.,  3.,  0.,  8.,  0.,  0.,  3.,  0., 20.,\n",
       "         8.,  3., 35., 18., 29., 10.,  1.,  3., 35., 18., 29., 10.,  1.,\n",
       "         1., 36.,  4.,  1., 21.,  6., 15.,  1., 20., 21.,  7.,  1.,  1.,\n",
       "         1., 21.,  6., 15.,  1.,  4.,  4., 21., 20.,  8.,  0.,  6., 37.,\n",
       "        17.,  4.,  1.,  7.,  7.,  1.,  1.,  8.,  0.,  7.,  1.,  1., 27.,\n",
       "         1., 36.,  8.,  0., 24.,  1., 20.,  1.,  1.,  0.,  1.,  1.,  1.,\n",
       "         0.,  1., 13.,  1.,  1.,  0.,  1.,  1.,  1.,  0.,  4.,  0.,  1.,\n",
       "         3., 18.,  0.,  0.,  1.,  3., 18., 12.,  5., 38.,  0.,  0.,  6.,\n",
       "        20., 22.,  6., 20.,  6.,  0.,  6., 20., 22.,  6., 27., 20.,  1.,\n",
       "         8.,  0.,  3.,  1.,  7.,  0.,  8.,  2., 28., 24.,  8., 27.,  0.,\n",
       "         8.,  2., 28., 12., 37.,  0.,  1.,  0.,  1.,  1.,  1., 10.,  0.,\n",
       "         1.,  1.,  1., 10.,  0.,  2.,  7.,  1.,  0., 10.,  1.,  7., 12.,\n",
       "         2.,  7.,  7., 27.,  8., 12.,  0., 32.,  8., 32.,  8.,  4., 31.,\n",
       "        10.,  3.,  6.,  0.,  0., 25.,  1.,  1.,  0.,  1.,  1.,  0.,  1.,\n",
       "        20., 24.,  0., 24.,  1.,  1.,  7., 20.,  6., 24.,  1.,  0., 24.,\n",
       "         1.,  0., 20.,  0.,  1.,  1.,  0.,  1., 24., 13., 20.,  4.,  1.,\n",
       "         0.,  1.,  7.,  7.,  9.,  0., 24., 24.,  1.,  1.,  0.,  1.,  1.,\n",
       "        12.,  1.,  1., 32.,  1., 24.,  0., 32.,  0., 20., 24.,  4., 25.,\n",
       "        20., 24.,  4., 25.,  7., 33.,  0.,  3.,  0.,  3.,  0.,  3.,  0.,\n",
       "         0.,  0.,  0., 20.,  4.,  1., 13.,  0.,  7.,  0.,  0.,  7.,  1.,\n",
       "         0.,  0.,  7., 12., 12., 12., 12., 10.,  1., 37.,  1., 27., 10.,\n",
       "         1., 37.,  2., 15.,  2.,  8., 27.,  7.,  7.,  8.,  1.,  8.,  9.,\n",
       "         0.,  0.,  7.,  1., 38.,  6., 28., 20.,  0., 20.,  9., 12.,  6.,\n",
       "         7., 17.,  1., 24.,  1.,  1.,  7., 28.,  8., 15.,  5.,  2.]),\n",
       " array([2., 2., 2., 2., 2., 2., 2., 2., 2., 2., 2., 2., 2., 2., 2., 2., 2.,\n",
       "        2., 2., 2., 2., 2., 2., 2., 6., 6., 6., 6., 6., 6., 6., 6., 6., 6.,\n",
       "        6., 6., 6., 6., 6., 6., 6., 6., 6., 6., 6., 6., 6., 5., 5., 5., 5.,\n",
       "        5., 5., 5., 5., 5., 5., 5., 5., 5., 5., 5., 2., 2., 2., 2., 2., 2.,\n",
       "        2., 2., 2., 2., 2., 7., 7., 7., 7., 7., 7., 7., 7., 2., 2., 2., 2.,\n",
       "        2., 2., 2., 0., 0., 0., 0., 0., 5., 5., 5., 5., 5., 3., 3., 3., 3.,\n",
       "        3., 3., 3., 3., 3., 3., 3., 3., 3., 1., 1., 1., 1., 1., 1., 1., 1.,\n",
       "        1., 2., 2., 2., 2., 2., 2., 2., 2., 2., 6., 6., 6., 6., 1., 1., 1.,\n",
       "        1., 7., 7., 7., 7., 7., 7., 7., 7., 7., 4., 4., 4., 4., 4., 4., 4.,\n",
       "        4., 7., 7., 7., 7., 7., 7., 7., 7., 1., 1., 1., 1., 1., 2., 2., 2.,\n",
       "        2., 2., 2., 2., 2., 2., 2., 4., 4., 4., 4., 4., 4., 4., 4., 3., 3.,\n",
       "        3., 3., 3., 3., 3., 3., 3., 3., 3., 3., 3., 4., 4., 4., 4., 4., 4.,\n",
       "        4., 4., 4., 4., 4., 4., 4., 2., 2., 2., 2., 2., 2., 2., 2., 5., 5.,\n",
       "        5., 5., 5., 5., 0., 0., 0., 0., 0., 0., 5., 5., 5., 5., 5., 5., 5.,\n",
       "        5., 5., 6., 6., 6., 6., 6., 6., 6., 6., 6., 2., 2., 2., 2., 2., 2.,\n",
       "        2., 2., 2., 2., 3., 3., 3., 3., 3., 3., 3., 1., 1., 1., 1., 1., 1.,\n",
       "        1., 1., 1., 1., 1., 2., 2., 2., 2., 2., 2., 2., 2., 2., 2., 2., 3.,\n",
       "        3., 3., 3., 3., 3., 3., 3., 3., 3., 3., 3., 3., 4., 4., 4., 4., 4.,\n",
       "        4., 4., 4., 4., 4., 4., 4., 7., 7., 7., 7., 7., 7., 3., 3., 3., 3.,\n",
       "        3., 3., 3., 3., 3., 3., 3., 4., 4., 4., 4., 4., 4., 4., 4., 4., 4.,\n",
       "        5., 5., 5., 5., 5., 5., 5., 5., 5., 0., 0., 0., 0., 0., 0., 0., 5.,\n",
       "        5., 5., 5., 5., 5., 5., 5., 4., 4., 4., 4., 4., 5., 5., 5., 5., 5.,\n",
       "        5., 1., 1., 1., 1., 1., 6., 6., 6., 6., 6., 6., 6., 6., 4., 4., 4.,\n",
       "        4., 5., 5., 5., 5., 0., 0., 0., 0., 2., 2., 2., 2., 2., 2., 3., 3.,\n",
       "        3., 3., 3., 4., 4., 4., 4., 4., 4., 0., 0., 0., 0., 0., 6., 6., 6.,\n",
       "        6., 6., 6., 2., 2., 2., 2., 2., 2., 2., 2., 2., 2., 2., 2., 4., 4.,\n",
       "        4., 4., 4., 4., 4., 4., 4., 4., 4., 2., 2., 2., 2., 2., 2., 6., 6.,\n",
       "        6., 6., 6., 6., 6., 6., 6., 1., 1., 1., 1., 1., 1., 1., 1., 1., 2.,\n",
       "        2., 2., 2., 2., 6., 6., 6., 6., 6., 0., 0., 0., 0., 0., 6., 6., 6.,\n",
       "        6., 6., 6., 7., 7., 7., 7., 7., 6., 6., 6., 6., 4., 4., 4., 4., 4.,\n",
       "        4., 5., 5., 5., 5., 5., 5., 0., 0., 0., 0., 0., 0., 0., 0., 0., 0.,\n",
       "        0., 0., 0., 0., 4., 4., 4., 4., 4., 2., 2., 2., 2., 4., 4., 4., 4.,\n",
       "        4., 5., 5., 5., 5., 5., 3., 3., 7., 7., 7., 7., 7., 6., 6., 6., 6.,\n",
       "        6., 4., 4., 4., 4., 7., 7., 0., 0., 0., 3., 3., 3., 1., 1., 1., 1.,\n",
       "        0., 0., 0., 2., 2., 2., 6., 6., 6., 6., 6., 6., 7., 7., 7., 7., 7.,\n",
       "        7., 7., 7., 7., 0., 7., 7., 0., 0., 0., 0., 0., 0., 4., 4., 4., 4.,\n",
       "        4., 4., 4., 4., 0., 0., 0., 5., 5., 5., 5., 5., 5., 5., 3., 3., 3.,\n",
       "        3., 3., 0., 0., 5., 5., 5., 5., 1., 1., 1., 1., 1., 1., 1., 2., 2.,\n",
       "        5., 5., 7., 7., 4., 5., 6., 7., 7., 7., 7., 7., 7., 7., 7., 2., 2.,\n",
       "        2., 2., 4., 4., 4., 6., 6., 2., 2., 2., 2., 3., 3., 3., 3., 3., 3.,\n",
       "        5., 5., 6., 6., 6., 6., 6., 6., 6., 3., 3., 0., 0., 6., 1., 1., 1.,\n",
       "        1., 1., 1., 4., 4., 4., 4., 5., 5., 5., 5., 7., 7., 7., 7., 0., 0.])]"
      ]
     },
     "execution_count": 19,
     "metadata": {},
     "output_type": "execute_result"
    }
   ],
   "source": [
    "X_test"
   ]
  },
  {
   "cell_type": "code",
   "execution_count": 20,
   "id": "60f57d09",
   "metadata": {
    "execution": {
     "iopub.execute_input": "2022-07-03T14:47:01.285682Z",
     "iopub.status.busy": "2022-07-03T14:47:01.285064Z",
     "iopub.status.idle": "2022-07-03T14:47:01.520193Z",
     "shell.execute_reply": "2022-07-03T14:47:01.518565Z"
    },
    "papermill": {
     "duration": 0.250743,
     "end_time": "2022-07-03T14:47:01.523027",
     "exception": false,
     "start_time": "2022-07-03T14:47:01.272284",
     "status": "completed"
    },
    "tags": []
   },
   "outputs": [
    {
     "name": "stdout",
     "output_type": "stream",
     "text": [
      "Recall :0.8000 |AP@5 :1.0000 |AP@10 :0.8000 |nDCG@5 :1.0000 |nDCG@10 :0.8701\n",
      "Recall :0.6000 |AP@5 :0.8000 |AP@10 :0.5314 |nDCG@5 :0.8688 |nDCG@10 :0.7008\n",
      "Recall :0.8000 |AP@5 :1.0000 |AP@10 :0.7764 |nDCG@5 :1.0000 |nDCG@10 :0.8630\n",
      "Recall :1.0000 |AP@5 :1.0000 |AP@10 :1.0000 |nDCG@5 :1.0000 |nDCG@10 :1.0000\n",
      "Recall :0.8000 |AP@5 :0.6433 |AP@10 :0.6485 |nDCG@5 :0.7860 |nDCG@10 :0.7917\n",
      "Recall :1.0000 |AP@5 :1.0000 |AP@10 :1.0000 |nDCG@5 :1.0000 |nDCG@10 :1.0000\n",
      "Recall :0.9000 |AP@5 :1.0000 |AP@10 :0.9000 |nDCG@5 :1.0000 |nDCG@10 :0.9364\n",
      "Recall :0.9000 |AP@5 :1.0000 |AP@10 :0.9000 |nDCG@5 :1.0000 |nDCG@10 :0.9364\n",
      "Recall :1.0000 |AP@5 :1.0000 |AP@10 :1.0000 |nDCG@5 :1.0000 |nDCG@10 :1.0000\n",
      "Recall :0.9000 |AP@5 :1.0000 |AP@10 :0.8521 |nDCG@5 :1.0000 |nDCG@10 :0.9216\n",
      "Recall :0.9000 |AP@5 :0.7600 |AP@10 :0.8154 |nDCG@5 :0.8539 |nDCG@10 :0.9052\n",
      "Recall :0.7000 |AP@5 :0.7600 |AP@10 :0.6268 |nDCG@5 :0.8539 |nDCG@10 :0.7722\n",
      "Recall :0.8000 |AP@5 :0.5200 |AP@10 :0.6309 |nDCG@5 :0.6844 |nDCG@10 :0.7952\n",
      "Recall :1.0000 |AP@5 :1.0000 |AP@10 :1.0000 |nDCG@5 :1.0000 |nDCG@10 :1.0000\n",
      "Recall :1.0000 |AP@5 :1.0000 |AP@10 :1.0000 |nDCG@5 :1.0000 |nDCG@10 :1.0000\n",
      "Recall :0.9000 |AP@5 :1.0000 |AP@10 :0.8789 |nDCG@5 :1.0000 |nDCG@10 :0.9306\n",
      "Recall :0.9000 |AP@5 :1.0000 |AP@10 :0.8789 |nDCG@5 :1.0000 |nDCG@10 :0.9306\n",
      "MAP5 :0.9108 |MAP10 :0.8376\n"
     ]
    }
   ],
   "source": [
    "Y_predict=md.predict(x=X_test)\n",
    "n=10\n",
    "m=len(Y_predict)\n",
    "t=X_test[0][0]*7+X_test[-1][0]\n",
    "cnt=0\n",
    "map5=0\n",
    "map10=0\n",
    "num=0\n",
    "for i in range(1,m):\n",
    "    t_=X_test[0][i]*7+X_test[-1][i]\n",
    "    if t!=t_:\n",
    "        predict = dict(zip(range(i-cnt),Y_predict[cnt:i]))\n",
    "        real = dict(zip(range(i-cnt),Y_test[cnt:i]))\n",
    "        p=sorted(predict.items(),key=lambda kv:kv[1],reverse=True)\n",
    "        r=sorted(real.items(),key=lambda kv:kv[1],reverse=True)\n",
    "        p,r=get_list(p,r)\n",
    "        cnt=i\n",
    "        t=t_\n",
    "        if len(p)<10:\n",
    "            continue\n",
    "        num+=1\n",
    "        p=p[0:n]\n",
    "        r=r[0:n]\n",
    "        recall=Recall(p,r)\n",
    "        ap5=AP(p,r,5)\n",
    "        map5+=ap5\n",
    "        ap10=AP(p,r,10)\n",
    "        map10+=ap10\n",
    "        ndcg5=nDCG(p,r,5)\n",
    "        ndcg10=nDCG(p,r,10)\n",
    "        print('Recall :{:.4f} |AP@5 :{:.4f} |AP@10 :{:.4f} |nDCG@5 :{:.4f} |nDCG@10 :{:.4f}'.format(recall,ap5,ap10,ndcg5,ndcg10))\n",
    "map5/=num\n",
    "map10/=num\n",
    "print('MAP5 :{:.4f} |MAP10 :{:.4f}'.format(map5,map10))"
   ]
  }
 ],
 "metadata": {
  "kernelspec": {
   "display_name": "Python 3",
   "language": "python",
   "name": "python3"
  },
  "language_info": {
   "codemirror_mode": {
    "name": "ipython",
    "version": 3
   },
   "file_extension": ".py",
   "mimetype": "text/x-python",
   "name": "python",
   "nbconvert_exporter": "python",
   "pygments_lexer": "ipython3",
   "version": "3.7.12"
  },
  "papermill": {
   "default_parameters": {},
   "duration": 38.65796,
   "end_time": "2022-07-03T14:47:04.370303",
   "environment_variables": {},
   "exception": null,
   "input_path": "__notebook__.ipynb",
   "output_path": "__notebook__.ipynb",
   "parameters": {},
   "start_time": "2022-07-03T14:46:25.712343",
   "version": "2.3.4"
  }
 },
 "nbformat": 4,
 "nbformat_minor": 5
}
