{
 "cells": [
  {
   "cell_type": "code",
   "execution_count": 1,
   "id": "b9bd2048",
   "metadata": {
    "execution": {
     "iopub.execute_input": "2022-07-03T14:59:54.499398Z",
     "iopub.status.busy": "2022-07-03T14:59:54.498899Z",
     "iopub.status.idle": "2022-07-03T15:00:04.890182Z",
     "shell.execute_reply": "2022-07-03T15:00:04.889087Z"
    },
    "papermill": {
     "duration": 10.404364,
     "end_time": "2022-07-03T15:00:04.893238",
     "exception": false,
     "start_time": "2022-07-03T14:59:54.488874",
     "status": "completed"
    },
    "tags": []
   },
   "outputs": [],
   "source": [
    "import pandas as pd\n",
    "import numpy as np\n",
    "from matplotlib import pyplot as plt\n",
    "from sklearn.model_selection import train_test_split\n",
    "from matplotlib import pyplot as plt\n",
    "from datetime import datetime, timedelta\n",
    "import math\n",
    "from keras.layers import Embedding, Dense, Input, Concatenate, BatchNormalization, Layer, Dropout\n",
    "from keras.models import Model\n",
    "import keras.backend as K\n",
    "import tensorflow as tf\n",
    "\n",
    "np.random.seed(555)"
   ]
  },
  {
   "cell_type": "markdown",
   "id": "1d7f4368",
   "metadata": {
    "papermill": {
     "duration": 0.007121,
     "end_time": "2022-07-03T15:00:04.908076",
     "exception": false,
     "start_time": "2022-07-03T15:00:04.900955",
     "status": "completed"
    },
    "tags": []
   },
   "source": [
    "#### **数据处理**\n",
    "##### 数据集来源为FourSquare - NYC and Tokyo Check-ins\n",
    "##### 选择dataset_TSMC2014_NYC.csv中打卡数最多的100个用户和500个地点作为数据集。\n",
    "##### 通过时间戳和偏移时间得到正确时间，并归类于用户在一周中第几天在某地Check-in，将时间信息记录在df[’dayweek‘]中，范围为0-6（周一-周\n",
    "##### 天）。之后对数据进行分组，将用户和时间作为分组基准，在每个组中对包含地点的Check-in次数进行计数。在提取出隐式特征后，对次数进行排\n",
    "##### 序并对其二值化（将序列前一半对应地点为1，后一半为0），\n",
    "##### 以‘uid’和’dayweek‘作为基准来划分训练集和测试集，其中训练集占比为0.8，之后进行训练得到结果"
   ]
  },
  {
   "cell_type": "code",
   "execution_count": 2,
   "id": "40206486",
   "metadata": {
    "execution": {
     "iopub.execute_input": "2022-07-03T15:00:04.924872Z",
     "iopub.status.busy": "2022-07-03T15:00:04.924207Z",
     "iopub.status.idle": "2022-07-03T15:00:04.931745Z",
     "shell.execute_reply": "2022-07-03T15:00:04.930547Z"
    },
    "papermill": {
     "duration": 0.018552,
     "end_time": "2022-07-03T15:00:04.933917",
     "exception": false,
     "start_time": "2022-07-03T15:00:04.915365",
     "status": "completed"
    },
    "tags": []
   },
   "outputs": [],
   "source": [
    "def get_ids(k_data,n):\n",
    "    k_dict=dict()\n",
    "    for k in k_data:\n",
    "        if k_dict.get(k)==None:\n",
    "            k_dict[k]=0\n",
    "        k_dict[k]+=1\n",
    "    rank=sorted(k_dict.items(),key=lambda kv:kv[1],reverse=True)\n",
    "    k_ids=[]\n",
    "    for i in range(min(n,len(rank))):\n",
    "        k_ids.append(rank[i][0])\n",
    "    return k_ids"
   ]
  },
  {
   "cell_type": "code",
   "execution_count": 3,
   "id": "7bb81d70",
   "metadata": {
    "execution": {
     "iopub.execute_input": "2022-07-03T15:00:04.950398Z",
     "iopub.status.busy": "2022-07-03T15:00:04.949705Z",
     "iopub.status.idle": "2022-07-03T15:00:04.955723Z",
     "shell.execute_reply": "2022-07-03T15:00:04.955033Z"
    },
    "papermill": {
     "duration": 0.016582,
     "end_time": "2022-07-03T15:00:04.957799",
     "exception": false,
     "start_time": "2022-07-03T15:00:04.941217",
     "status": "completed"
    },
    "tags": []
   },
   "outputs": [],
   "source": [
    "def date_convert(date_to_convert):\n",
    "    pru = datetime.datetime.strptime(date_to_convert, '%a %b %d %H:%M:%S +0000 %Y')+ datetime.timedelta(hours=-240//60)\n",
    "    return pru.strftime('%b %d %Y %H:%M:%S')\n",
    "\n",
    "def min2hour(m):\n",
    "    return  timedelta(hours=m/60)"
   ]
  },
  {
   "cell_type": "code",
   "execution_count": 4,
   "id": "906e07ba",
   "metadata": {
    "execution": {
     "iopub.execute_input": "2022-07-03T15:00:04.974495Z",
     "iopub.status.busy": "2022-07-03T15:00:04.973409Z",
     "iopub.status.idle": "2022-07-03T15:00:04.993961Z",
     "shell.execute_reply": "2022-07-03T15:00:04.992665Z"
    },
    "papermill": {
     "duration": 0.031853,
     "end_time": "2022-07-03T15:00:04.996789",
     "exception": false,
     "start_time": "2022-07-03T15:00:04.964936",
     "status": "completed"
    },
    "tags": []
   },
   "outputs": [],
   "source": [
    "class DataProcess:\n",
    "    def __init__(self, data_path, n_user=100, n_venue=500, n_venuecat=40, alpha=0.8):\n",
    "        print(\"start load data\")\n",
    "        custom_date_parser = lambda x: datetime.strptime(x, \"%a %b %d %H:%M:%S +0000 %Y\")\n",
    "        df = pd.read_csv(data_path,parse_dates=['utcTimestamp'],date_parser=custom_date_parser)\n",
    "        print(\"start process data\")\n",
    "        df[\"realtime\"] = df['utcTimestamp'] + df['timezoneOffset'].apply(min2hour)\n",
    "        df[\"hour\"] = df[\"realtime\"].dt.hour \n",
    "        #df[\"work\"] = df['hour'].apply(lambda x: 'Not' if (17 <= x < 24) or (0 <= x < 9)else 'Yes')\n",
    "        df[\"dayweek\"] = df[\"realtime\"].dt.dayofweek \n",
    "        #df[\"workday\"] = df['dayweek'].apply(lambda x: 'True' if x <= 5 else 'False')\n",
    "        \n",
    "        user_ids=get_ids(df['userId'].values,n_user)\n",
    "        df = df[(df['userId'].isin(user_ids))]\n",
    "        venue_ids=get_ids(df['venueId'].values,n_venue)\n",
    "        df = df[(df['venueId'].isin(venue_ids))]\n",
    "        venuecat_ids=get_ids(df['venueCategoryId'].values,n_venuecat)\n",
    "        df = df[(df['venueCategoryId'].isin(venuecat_ids))]\n",
    "        user_ids=get_ids(df['userId'].values,n_user)\n",
    "        venue_ids=get_ids(df['venueId'].values,n_venue)\n",
    "        venuecat_ids=get_ids(df['venueCategoryId'].values,n_venuecat)\n",
    "        \n",
    "        self.n_user=len(user_ids)\n",
    "        self.n_venue=len(venue_ids)\n",
    "        self.n_venuecat=len(venuecat_ids)\n",
    "        print(\"Number of users = {} , Number of venues = {} , Number of venuecategorys = {}\".format(self.n_user,self.n_venue,self.n_venuecat))\n",
    "        \n",
    "        u_id2idx = dict(zip(user_ids, range(self.n_user)))\n",
    "        v_id2idx = dict(zip(venue_ids, range(self.n_venue)))\n",
    "        vc_id2idx = dict(zip(venuecat_ids, range(self.n_venuecat)))\n",
    "        \n",
    "        #将三个数据进行相连并对其数值映射到0-k\n",
    "        df = df[(df['userId'].isin(user_ids))&(df['venueId'].isin(venue_ids))&(df['venueCategoryId'].isin(venuecat_ids))]\n",
    "        df = df.assign(userId=[u_id2idx[uid] for uid in df.userId])\n",
    "        df = df.assign(venueId=[v_id2idx[vid] for vid in df.venueId])\n",
    "        df = df.assign(venueCategoryId=[vc_id2idx[vcid] for vcid in df.venueCategoryId])\n",
    "        \n",
    "        headers = ['userId','venueId','venueCategoryId','hour','dayweek']\n",
    "        df = pd.DataFrame(df,columns = headers)\n",
    "        df = df.reset_index(drop=True)\n",
    "        self.df = df\n",
    "        self.v2vc=dict()\n",
    "        for i in range(len(df)):\n",
    "            self.v2vc[df.loc[i,'venueId']]=df.loc[i,'venueCategoryId']"
   ]
  },
  {
   "cell_type": "markdown",
   "id": "b99acab7",
   "metadata": {
    "papermill": {
     "duration": 0.006804,
     "end_time": "2022-07-03T15:00:05.010952",
     "exception": false,
     "start_time": "2022-07-03T15:00:05.004148",
     "status": "completed"
    },
    "tags": []
   },
   "source": [
    "#### **NFM**\n",
    "##### 结构如下"
   ]
  },
  {
   "cell_type": "code",
   "execution_count": 5,
   "id": "5a1b4020",
   "metadata": {
    "execution": {
     "iopub.execute_input": "2022-07-03T15:00:05.027329Z",
     "iopub.status.busy": "2022-07-03T15:00:05.026535Z",
     "iopub.status.idle": "2022-07-03T15:00:05.038181Z",
     "shell.execute_reply": "2022-07-03T15:00:05.037000Z"
    },
    "papermill": {
     "duration": 0.022464,
     "end_time": "2022-07-03T15:00:05.040592",
     "exception": false,
     "start_time": "2022-07-03T15:00:05.018128",
     "status": "completed"
    },
    "tags": []
   },
   "outputs": [],
   "source": [
    "class bi_interaction_pooling(Layer):\n",
    "    def __init__(self):\n",
    "        super(bi_interaction_pooling, self).__init__()\n",
    "\n",
    "    def call(self, inputs):\n",
    "        x = inputs\n",
    "        x = 0.5 * (tf.square(tf.reduce_sum(x, axis=1)) - tf.reduce_sum(tf.square(x), axis=1))\n",
    "        return x\n",
    "\n",
    "def NFM(feature_dict,embedding_size=32,num_hidden_layers=1,if_bn=False,if_dropout=True,dropout_factor=[0.5]):\n",
    "    inputs_dict = {}\n",
    "    for fea in feature_dict:\n",
    "        inputs_dict[fea] = Input(shape=(1,), name=fea)\n",
    "    embedded = []\n",
    "    for fea in inputs_dict:\n",
    "        embedded.append(Embedding(feature_dict[fea], embedding_size)(inputs_dict[fea]))\n",
    "    x = Concatenate(axis=1)(embedded)\n",
    "    x = bi_interaction_pooling()(x)\n",
    "    if if_bn:\n",
    "        x = BatchNormalization()(x)\n",
    "    for i in range(num_hidden_layers):\n",
    "        x = Dense(32, activation='relu')(x)\n",
    "        if if_dropout:\n",
    "            x = Dropout(dropout_factor[i])(x)\n",
    "    output = Dense(1, activation='sigmoid')(x)\n",
    "    return Model(inputs_dict.values(), output)\n"
   ]
  },
  {
   "cell_type": "markdown",
   "id": "05aa8b85",
   "metadata": {
    "papermill": {
     "duration": 0.007112,
     "end_time": "2022-07-03T15:00:05.054835",
     "exception": false,
     "start_time": "2022-07-03T15:00:05.047723",
     "status": "completed"
    },
    "tags": []
   },
   "source": [
    "#### **数据导入及二次处理**\n",
    "##### 这些本应放在DataProcess里面，但是由于不方便测试而且DataProcess中内容已经很多，所以我把部分数据处理放到后面"
   ]
  },
  {
   "cell_type": "code",
   "execution_count": 6,
   "id": "0e73496f",
   "metadata": {
    "execution": {
     "iopub.execute_input": "2022-07-03T15:00:05.071142Z",
     "iopub.status.busy": "2022-07-03T15:00:05.070736Z",
     "iopub.status.idle": "2022-07-03T15:00:13.316955Z",
     "shell.execute_reply": "2022-07-03T15:00:13.315662Z"
    },
    "papermill": {
     "duration": 8.257504,
     "end_time": "2022-07-03T15:00:13.319702",
     "exception": false,
     "start_time": "2022-07-03T15:00:05.062198",
     "status": "completed"
    },
    "tags": []
   },
   "outputs": [
    {
     "name": "stdout",
     "output_type": "stream",
     "text": [
      "start load data\n",
      "start process data\n",
      "Number of users = 100 , Number of venues = 392 , Number of venuecategorys = 40\n"
     ]
    }
   ],
   "source": [
    "data_path=\"../input/foursquare-nyc-and-tokyo-checkin-dataset/dataset_TSMC2014_NYC.csv\"\n",
    "dp = DataProcess(data_path)"
   ]
  },
  {
   "cell_type": "code",
   "execution_count": 7,
   "id": "1b538626",
   "metadata": {
    "execution": {
     "iopub.execute_input": "2022-07-03T15:00:13.336849Z",
     "iopub.status.busy": "2022-07-03T15:00:13.336452Z",
     "iopub.status.idle": "2022-07-03T15:00:14.386496Z",
     "shell.execute_reply": "2022-07-03T15:00:14.385357Z"
    },
    "papermill": {
     "duration": 1.061712,
     "end_time": "2022-07-03T15:00:14.389352",
     "exception": false,
     "start_time": "2022-07-03T15:00:13.327640",
     "status": "completed"
    },
    "tags": []
   },
   "outputs": [],
   "source": [
    "user_day_venue_mx=np.zeros((dp.n_user*7,dp.n_venue))\n",
    "for i in range(len(dp.df)):\n",
    "    u=dp.df.loc[i,'userId']\n",
    "    d=dp.df.loc[i,'dayweek']\n",
    "    v=dp.df.loc[i,'venueId']\n",
    "    user_day_venue_mx[u*7+d][v]+=1\n",
    "user_day_venue_mx=user_day_venue_mx[np.sum(user_day_venue_mx,axis=-1)>10]"
   ]
  },
  {
   "cell_type": "code",
   "execution_count": 8,
   "id": "14e6b17e",
   "metadata": {
    "execution": {
     "iopub.execute_input": "2022-07-03T15:00:14.405819Z",
     "iopub.status.busy": "2022-07-03T15:00:14.405458Z",
     "iopub.status.idle": "2022-07-03T15:00:15.265667Z",
     "shell.execute_reply": "2022-07-03T15:00:15.264441Z"
    },
    "papermill": {
     "duration": 0.871515,
     "end_time": "2022-07-03T15:00:15.268475",
     "exception": false,
     "start_time": "2022-07-03T15:00:14.396960",
     "status": "completed"
    },
    "tags": []
   },
   "outputs": [],
   "source": [
    "alpha=0.8\n",
    "train_data=[]\n",
    "test_data=[]\n",
    "for i in range(user_day_venue_mx.shape[0]):\n",
    "    if np.random.rand()<alpha:\n",
    "        for j in range(user_day_venue_mx.shape[1]):\n",
    "            train_data.append([i//7,j,dp.v2vc[j],i&7,user_day_venue_mx[i][j]])\n",
    "    else:\n",
    "        for j in range(user_day_venue_mx.shape[1]):\n",
    "            test_data.append([i//7,j,dp.v2vc[j],i&7,user_day_venue_mx[i][j]])\n",
    "train_data=np.array(train_data)\n",
    "test_data=np.array(test_data)"
   ]
  },
  {
   "cell_type": "code",
   "execution_count": 9,
   "id": "6c5b0d92",
   "metadata": {
    "execution": {
     "iopub.execute_input": "2022-07-03T15:00:15.285172Z",
     "iopub.status.busy": "2022-07-03T15:00:15.284763Z",
     "iopub.status.idle": "2022-07-03T15:00:15.295488Z",
     "shell.execute_reply": "2022-07-03T15:00:15.294247Z"
    },
    "papermill": {
     "duration": 0.021814,
     "end_time": "2022-07-03T15:00:15.297933",
     "exception": false,
     "start_time": "2022-07-03T15:00:15.276119",
     "status": "completed"
    },
    "tags": []
   },
   "outputs": [],
   "source": [
    "df_train=pd.DataFrame(train_data,columns=['uid','vid','vcid','day','times'])\n",
    "df_test=pd.DataFrame(test_data,columns=['uid','vid','vcid','day','times'])\n",
    "df_train=df_train[df_train['times']>0]\n",
    "df_test=df_test[df_test['times']>0]"
   ]
  },
  {
   "cell_type": "code",
   "execution_count": 10,
   "id": "f7e82d75",
   "metadata": {
    "execution": {
     "iopub.execute_input": "2022-07-03T15:00:15.315112Z",
     "iopub.status.busy": "2022-07-03T15:00:15.314574Z",
     "iopub.status.idle": "2022-07-03T15:00:15.327531Z",
     "shell.execute_reply": "2022-07-03T15:00:15.326419Z"
    },
    "papermill": {
     "duration": 0.024289,
     "end_time": "2022-07-03T15:00:15.329756",
     "exception": false,
     "start_time": "2022-07-03T15:00:15.305467",
     "status": "completed"
    },
    "tags": []
   },
   "outputs": [],
   "source": [
    "df=pd.concat([df_train,df_test])\n",
    "df = df.reset_index(drop=True)\n",
    "feature_dict={}\n",
    "feature_dict['uid']=len(set(df.uid.values))\n",
    "feature_dict['vid']=len(set(df.vid.values))\n",
    "feature_dict['vcid']=len(set(df.vcid.values))\n",
    "feature_dict['day']=len(set(df.day.values))"
   ]
  },
  {
   "cell_type": "markdown",
   "id": "fb375652",
   "metadata": {
    "papermill": {
     "duration": 0.007237,
     "end_time": "2022-07-03T15:00:15.344418",
     "exception": false,
     "start_time": "2022-07-03T15:00:15.337181",
     "status": "completed"
    },
    "tags": []
   },
   "source": [
    "#### **数据处理关键步骤——将次数通过排序转换为0和1**"
   ]
  },
  {
   "cell_type": "code",
   "execution_count": 11,
   "id": "d2147a5a",
   "metadata": {
    "execution": {
     "iopub.execute_input": "2022-07-03T15:00:15.360924Z",
     "iopub.status.busy": "2022-07-03T15:00:15.360529Z",
     "iopub.status.idle": "2022-07-03T15:00:16.337535Z",
     "shell.execute_reply": "2022-07-03T15:00:16.336292Z"
    },
    "papermill": {
     "duration": 0.988541,
     "end_time": "2022-07-03T15:00:16.340327",
     "exception": false,
     "start_time": "2022-07-03T15:00:15.351786",
     "status": "completed"
    },
    "tags": []
   },
   "outputs": [],
   "source": [
    "t=df.loc[0,'uid']*7+df.loc[0,'day']\n",
    "venue_dict=dict()\n",
    "venue_dict[df.loc[0,'vid']]=df.loc[0,'times']\n",
    "cnt=0\n",
    "for i in range(1,len(df)):\n",
    "    u=df.loc[i,'uid']\n",
    "    d=df.loc[i,'day']\n",
    "    v=df.loc[i,'vid']\n",
    "    t_=u*7+d\n",
    "    if t!=t_:\n",
    "        rank=sorted(venue_dict.items(),key=lambda kv:kv[1],reverse=True)\n",
    "        m=min((len(rank)+1)//2,10)\n",
    "        for k in range(len(rank)):\n",
    "            if k<m:\n",
    "                venue_dict[rank[k][0]]=1\n",
    "            else:\n",
    "                venue_dict[rank[k][0]]=0\n",
    "        for j in range(cnt,i):\n",
    "            df.loc[j,'times']=venue_dict[df.loc[j,'vid']]\n",
    "        t=t_\n",
    "        cnt=i\n",
    "        venue_dict=dict()\n",
    "    venue_dict[v]=df.loc[i,'times']\n",
    "rank=sorted(venue_dict.items(),key=lambda kv:kv[1],reverse=True)\n",
    "m=min((len(rank)+1)//2,10)\n",
    "for k in range(len(rank)):\n",
    "    if k<m:\n",
    "        venue_dict[rank[k][0]]=1\n",
    "    else:\n",
    "        venue_dict[rank[k][0]]=0\n",
    "for j in range(cnt,len(df)):\n",
    "    df.loc[j,'times']=venue_dict[df.loc[j,'vid']]"
   ]
  },
  {
   "cell_type": "code",
   "execution_count": 12,
   "id": "73db00c5",
   "metadata": {
    "execution": {
     "iopub.execute_input": "2022-07-03T15:00:16.358002Z",
     "iopub.status.busy": "2022-07-03T15:00:16.357212Z",
     "iopub.status.idle": "2022-07-03T15:00:16.382991Z",
     "shell.execute_reply": "2022-07-03T15:00:16.382067Z"
    },
    "papermill": {
     "duration": 0.03719,
     "end_time": "2022-07-03T15:00:16.385292",
     "exception": false,
     "start_time": "2022-07-03T15:00:16.348102",
     "status": "completed"
    },
    "tags": []
   },
   "outputs": [
    {
     "data": {
      "text/html": [
       "<div>\n",
       "<style scoped>\n",
       "    .dataframe tbody tr th:only-of-type {\n",
       "        vertical-align: middle;\n",
       "    }\n",
       "\n",
       "    .dataframe tbody tr th {\n",
       "        vertical-align: top;\n",
       "    }\n",
       "\n",
       "    .dataframe thead th {\n",
       "        text-align: right;\n",
       "    }\n",
       "</style>\n",
       "<table border=\"1\" class=\"dataframe\">\n",
       "  <thead>\n",
       "    <tr style=\"text-align: right;\">\n",
       "      <th></th>\n",
       "      <th>uid</th>\n",
       "      <th>vid</th>\n",
       "      <th>vcid</th>\n",
       "      <th>day</th>\n",
       "      <th>times</th>\n",
       "    </tr>\n",
       "  </thead>\n",
       "  <tbody>\n",
       "    <tr>\n",
       "      <th>0</th>\n",
       "      <td>0.0</td>\n",
       "      <td>3.0</td>\n",
       "      <td>9.0</td>\n",
       "      <td>0.0</td>\n",
       "      <td>1.0</td>\n",
       "    </tr>\n",
       "    <tr>\n",
       "      <th>1</th>\n",
       "      <td>0.0</td>\n",
       "      <td>4.0</td>\n",
       "      <td>7.0</td>\n",
       "      <td>0.0</td>\n",
       "      <td>0.0</td>\n",
       "    </tr>\n",
       "    <tr>\n",
       "      <th>2</th>\n",
       "      <td>0.0</td>\n",
       "      <td>7.0</td>\n",
       "      <td>20.0</td>\n",
       "      <td>0.0</td>\n",
       "      <td>0.0</td>\n",
       "    </tr>\n",
       "    <tr>\n",
       "      <th>3</th>\n",
       "      <td>0.0</td>\n",
       "      <td>16.0</td>\n",
       "      <td>1.0</td>\n",
       "      <td>0.0</td>\n",
       "      <td>1.0</td>\n",
       "    </tr>\n",
       "    <tr>\n",
       "      <th>4</th>\n",
       "      <td>0.0</td>\n",
       "      <td>18.0</td>\n",
       "      <td>11.0</td>\n",
       "      <td>0.0</td>\n",
       "      <td>1.0</td>\n",
       "    </tr>\n",
       "    <tr>\n",
       "      <th>...</th>\n",
       "      <td>...</td>\n",
       "      <td>...</td>\n",
       "      <td>...</td>\n",
       "      <td>...</td>\n",
       "      <td>...</td>\n",
       "    </tr>\n",
       "    <tr>\n",
       "      <th>3646</th>\n",
       "      <td>81.0</td>\n",
       "      <td>171.0</td>\n",
       "      <td>28.0</td>\n",
       "      <td>7.0</td>\n",
       "      <td>0.0</td>\n",
       "    </tr>\n",
       "    <tr>\n",
       "      <th>3647</th>\n",
       "      <td>81.0</td>\n",
       "      <td>217.0</td>\n",
       "      <td>8.0</td>\n",
       "      <td>7.0</td>\n",
       "      <td>1.0</td>\n",
       "    </tr>\n",
       "    <tr>\n",
       "      <th>3648</th>\n",
       "      <td>81.0</td>\n",
       "      <td>323.0</td>\n",
       "      <td>15.0</td>\n",
       "      <td>7.0</td>\n",
       "      <td>1.0</td>\n",
       "    </tr>\n",
       "    <tr>\n",
       "      <th>3649</th>\n",
       "      <td>81.0</td>\n",
       "      <td>209.0</td>\n",
       "      <td>5.0</td>\n",
       "      <td>0.0</td>\n",
       "      <td>0.0</td>\n",
       "    </tr>\n",
       "    <tr>\n",
       "      <th>3650</th>\n",
       "      <td>81.0</td>\n",
       "      <td>364.0</td>\n",
       "      <td>2.0</td>\n",
       "      <td>0.0</td>\n",
       "      <td>1.0</td>\n",
       "    </tr>\n",
       "  </tbody>\n",
       "</table>\n",
       "<p>3651 rows × 5 columns</p>\n",
       "</div>"
      ],
      "text/plain": [
       "       uid    vid  vcid  day  times\n",
       "0      0.0    3.0   9.0  0.0    1.0\n",
       "1      0.0    4.0   7.0  0.0    0.0\n",
       "2      0.0    7.0  20.0  0.0    0.0\n",
       "3      0.0   16.0   1.0  0.0    1.0\n",
       "4      0.0   18.0  11.0  0.0    1.0\n",
       "...    ...    ...   ...  ...    ...\n",
       "3646  81.0  171.0  28.0  7.0    0.0\n",
       "3647  81.0  217.0   8.0  7.0    1.0\n",
       "3648  81.0  323.0  15.0  7.0    1.0\n",
       "3649  81.0  209.0   5.0  0.0    0.0\n",
       "3650  81.0  364.0   2.0  0.0    1.0\n",
       "\n",
       "[3651 rows x 5 columns]"
      ]
     },
     "execution_count": 12,
     "metadata": {},
     "output_type": "execute_result"
    }
   ],
   "source": [
    "df"
   ]
  },
  {
   "cell_type": "code",
   "execution_count": 13,
   "id": "a0d0c787",
   "metadata": {
    "execution": {
     "iopub.execute_input": "2022-07-03T15:00:16.403620Z",
     "iopub.status.busy": "2022-07-03T15:00:16.403254Z",
     "iopub.status.idle": "2022-07-03T15:00:16.408055Z",
     "shell.execute_reply": "2022-07-03T15:00:16.407174Z"
    },
    "papermill": {
     "duration": 0.016551,
     "end_time": "2022-07-03T15:00:16.410257",
     "exception": false,
     "start_time": "2022-07-03T15:00:16.393706",
     "status": "completed"
    },
    "tags": []
   },
   "outputs": [],
   "source": [
    "df_train = df.iloc[:len(df_train),:]\n",
    "df_test = df.iloc[len(df_train):,:]"
   ]
  },
  {
   "cell_type": "code",
   "execution_count": 14,
   "id": "7cb99e5b",
   "metadata": {
    "execution": {
     "iopub.execute_input": "2022-07-03T15:00:16.427529Z",
     "iopub.status.busy": "2022-07-03T15:00:16.427154Z",
     "iopub.status.idle": "2022-07-03T15:00:16.436049Z",
     "shell.execute_reply": "2022-07-03T15:00:16.434765Z"
    },
    "papermill": {
     "duration": 0.020551,
     "end_time": "2022-07-03T15:00:16.438562",
     "exception": false,
     "start_time": "2022-07-03T15:00:16.418011",
     "status": "completed"
    },
    "tags": []
   },
   "outputs": [],
   "source": [
    "X1 = df_train['uid'].values\n",
    "X2 = df_train['vid'].values\n",
    "X3 = df_train['vcid'].values\n",
    "X4 = df_train['day'].values\n",
    "X_train = [X1,X2,X3,X4]\n",
    "Y_train = df_train['times'].values\n",
    "X1 = df_test['uid'].values\n",
    "X2 = df_test['vid'].values\n",
    "X3 = df_test['vcid'].values\n",
    "X4 = df_test['day'].values\n",
    "X_test = [X1,X2,X3,X4]\n",
    "Y_test = df_test['times'].values"
   ]
  },
  {
   "cell_type": "markdown",
   "id": "cb54991c",
   "metadata": {
    "papermill": {
     "duration": 0.007538,
     "end_time": "2022-07-03T15:00:16.453908",
     "exception": false,
     "start_time": "2022-07-03T15:00:16.446370",
     "status": "completed"
    },
    "tags": []
   },
   "source": [
    "#### **开始训练**\n",
    "##### optimizer='adam', loss='binary_crossentropy'\n",
    "##### epochs=10, batch_size=64"
   ]
  },
  {
   "cell_type": "code",
   "execution_count": 15,
   "id": "27829b0b",
   "metadata": {
    "execution": {
     "iopub.execute_input": "2022-07-03T15:00:16.471173Z",
     "iopub.status.busy": "2022-07-03T15:00:16.470777Z",
     "iopub.status.idle": "2022-07-03T15:00:19.222347Z",
     "shell.execute_reply": "2022-07-03T15:00:19.221090Z"
    },
    "papermill": {
     "duration": 2.763205,
     "end_time": "2022-07-03T15:00:19.224922",
     "exception": false,
     "start_time": "2022-07-03T15:00:16.461717",
     "status": "completed"
    },
    "scrolled": true,
    "tags": []
   },
   "outputs": [
    {
     "name": "stderr",
     "output_type": "stream",
     "text": [
      "2022-07-03 15:00:16.520264: I tensorflow/core/common_runtime/process_util.cc:146] Creating new thread pool with default inter op setting: 2. Tune using inter_op_parallelism_threads for best performance.\n",
      "2022-07-03 15:00:16.779574: I tensorflow/compiler/mlir/mlir_graph_optimization_pass.cc:185] None of the MLIR Optimization Passes are enabled (registered 2)\n"
     ]
    },
    {
     "name": "stdout",
     "output_type": "stream",
     "text": [
      "Epoch 1/10\n",
      "46/46 [==============================] - 1s 2ms/step - loss: 0.6928\n",
      "Epoch 2/10\n",
      "46/46 [==============================] - 0s 2ms/step - loss: 0.6905\n",
      "Epoch 3/10\n",
      "46/46 [==============================] - 0s 2ms/step - loss: 0.6756\n",
      "Epoch 4/10\n",
      "46/46 [==============================] - 0s 2ms/step - loss: 0.6174\n",
      "Epoch 5/10\n",
      "46/46 [==============================] - 0s 2ms/step - loss: 0.5293\n",
      "Epoch 6/10\n",
      "46/46 [==============================] - 0s 2ms/step - loss: 0.4608\n",
      "Epoch 7/10\n",
      "46/46 [==============================] - 0s 2ms/step - loss: 0.4125\n",
      "Epoch 8/10\n",
      "46/46 [==============================] - 0s 2ms/step - loss: 0.3748\n",
      "Epoch 9/10\n",
      "46/46 [==============================] - 0s 2ms/step - loss: 0.3479\n",
      "Epoch 10/10\n",
      "46/46 [==============================] - 0s 2ms/step - loss: 0.3068\n"
     ]
    },
    {
     "data": {
      "text/plain": [
       "<keras.callbacks.History at 0x7f569bf3b850>"
      ]
     },
     "execution_count": 15,
     "metadata": {},
     "output_type": "execute_result"
    }
   ],
   "source": [
    "md = NFM(feature_dict)\n",
    "md.compile(optimizer='adam', loss='binary_crossentropy')\n",
    "# 模型训练\n",
    "md.fit(x=X_train, y=Y_train, epochs=10, batch_size=64)\n",
    "# 模型预测"
   ]
  },
  {
   "cell_type": "markdown",
   "id": "70c4c9ca",
   "metadata": {
    "papermill": {
     "duration": 0.010259,
     "end_time": "2022-07-03T15:00:19.246323",
     "exception": false,
     "start_time": "2022-07-03T15:00:19.236064",
     "status": "completed"
    },
    "tags": []
   },
   "source": [
    "#### **构建Recall、MAP、nDCG等相关函数**"
   ]
  },
  {
   "cell_type": "code",
   "execution_count": 16,
   "id": "c6909ae0",
   "metadata": {
    "execution": {
     "iopub.execute_input": "2022-07-03T15:00:19.269564Z",
     "iopub.status.busy": "2022-07-03T15:00:19.268461Z",
     "iopub.status.idle": "2022-07-03T15:00:19.276561Z",
     "shell.execute_reply": "2022-07-03T15:00:19.275482Z"
    },
    "papermill": {
     "duration": 0.022075,
     "end_time": "2022-07-03T15:00:19.278856",
     "exception": false,
     "start_time": "2022-07-03T15:00:19.256781",
     "status": "completed"
    },
    "tags": []
   },
   "outputs": [],
   "source": [
    "def get_list(p,r):\n",
    "    p_=[]\n",
    "    r_=[]\n",
    "    for i in range(len(p)):\n",
    "        p_.append(p[i][0])\n",
    "        r_.append(r[i][0])\n",
    "    return p_,r_\n",
    "def Recall(p,r):\n",
    "    num=0\n",
    "    for i in range(len(p)):\n",
    "        if p[i] in r:\n",
    "            num+=1\n",
    "    return num/len(p)"
   ]
  },
  {
   "cell_type": "code",
   "execution_count": 17,
   "id": "849878e2",
   "metadata": {
    "execution": {
     "iopub.execute_input": "2022-07-03T15:00:19.302563Z",
     "iopub.status.busy": "2022-07-03T15:00:19.301857Z",
     "iopub.status.idle": "2022-07-03T15:00:19.308829Z",
     "shell.execute_reply": "2022-07-03T15:00:19.307953Z"
    },
    "papermill": {
     "duration": 0.021498,
     "end_time": "2022-07-03T15:00:19.311176",
     "exception": false,
     "start_time": "2022-07-03T15:00:19.289678",
     "status": "completed"
    },
    "tags": []
   },
   "outputs": [],
   "source": [
    "def AP(p,r,k):\n",
    "    sum_ap=num=0\n",
    "    n=len(p)\n",
    "    for i in range(k):\n",
    "        if p[i] in r:\n",
    "            num+=1\n",
    "            sum_ap+=num/(i+1)\n",
    "    return sum_ap/(min(k,n))"
   ]
  },
  {
   "cell_type": "code",
   "execution_count": 18,
   "id": "aa67746b",
   "metadata": {
    "execution": {
     "iopub.execute_input": "2022-07-03T15:00:19.336116Z",
     "iopub.status.busy": "2022-07-03T15:00:19.335304Z",
     "iopub.status.idle": "2022-07-03T15:00:19.342396Z",
     "shell.execute_reply": "2022-07-03T15:00:19.341573Z"
    },
    "papermill": {
     "duration": 0.021694,
     "end_time": "2022-07-03T15:00:19.344580",
     "exception": false,
     "start_time": "2022-07-03T15:00:19.322886",
     "status": "completed"
    },
    "tags": []
   },
   "outputs": [],
   "source": [
    "def nDCG(p,r,k):\n",
    "    sum_dcg=0\n",
    "    sum_idcg=0\n",
    "    for i in range(k):\n",
    "        sum_idcg+=1/math.log(i+2,2)\n",
    "        if p[i] in r:\n",
    "            sum_dcg+=1/math.log(i+2,2)\n",
    "    return sum_dcg/sum_idcg    "
   ]
  },
  {
   "cell_type": "markdown",
   "id": "5c60a78c",
   "metadata": {
    "papermill": {
     "duration": 0.010289,
     "end_time": "2022-07-03T15:00:19.365552",
     "exception": false,
     "start_time": "2022-07-03T15:00:19.355263",
     "status": "completed"
    },
    "tags": []
   },
   "source": [
    "#### **开始测试**\n",
    "##### 由于测试中有多组数据，每组数据都有对应计算的Recall、AP@5、AP@10、nDCG@5、nDCG@10\n",
    "##### 求平均值得到MAP@5、MAP@10"
   ]
  },
  {
   "cell_type": "code",
   "execution_count": 19,
   "id": "a2fd4537",
   "metadata": {
    "execution": {
     "iopub.execute_input": "2022-07-03T15:00:19.389682Z",
     "iopub.status.busy": "2022-07-03T15:00:19.388343Z",
     "iopub.status.idle": "2022-07-03T15:00:19.621909Z",
     "shell.execute_reply": "2022-07-03T15:00:19.619754Z"
    },
    "papermill": {
     "duration": 0.24821,
     "end_time": "2022-07-03T15:00:19.624547",
     "exception": false,
     "start_time": "2022-07-03T15:00:19.376337",
     "status": "completed"
    },
    "tags": []
   },
   "outputs": [
    {
     "name": "stdout",
     "output_type": "stream",
     "text": [
      "Recall :0.8000 |AP@5 :1.0000 |AP@10 :0.8000 |nDCG@5 :1.0000 |nDCG@10 :0.8701\n",
      "Recall :0.5000 |AP@5 :1.0000 |AP@10 :0.5000 |nDCG@5 :1.0000 |nDCG@10 :0.6489\n",
      "Recall :0.9000 |AP@5 :1.0000 |AP@10 :0.8900 |nDCG@5 :1.0000 |nDCG@10 :0.9337\n",
      "Recall :0.9000 |AP@5 :1.0000 |AP@10 :0.9000 |nDCG@5 :1.0000 |nDCG@10 :0.9364\n",
      "Recall :0.8000 |AP@5 :0.5433 |AP@10 :0.6082 |nDCG@5 :0.6608 |nDCG@10 :0.7137\n",
      "Recall :1.0000 |AP@5 :1.0000 |AP@10 :1.0000 |nDCG@5 :1.0000 |nDCG@10 :1.0000\n",
      "Recall :1.0000 |AP@5 :1.0000 |AP@10 :1.0000 |nDCG@5 :1.0000 |nDCG@10 :1.0000\n",
      "Recall :0.9000 |AP@5 :1.0000 |AP@10 :0.8664 |nDCG@5 :1.0000 |nDCG@10 :0.9266\n",
      "Recall :1.0000 |AP@5 :1.0000 |AP@10 :1.0000 |nDCG@5 :1.0000 |nDCG@10 :1.0000\n",
      "Recall :0.9000 |AP@5 :1.0000 |AP@10 :0.8664 |nDCG@5 :1.0000 |nDCG@10 :0.9266\n",
      "Recall :0.9000 |AP@5 :0.7600 |AP@10 :0.8154 |nDCG@5 :0.8539 |nDCG@10 :0.9052\n",
      "Recall :0.8000 |AP@5 :1.0000 |AP@10 :0.7532 |nDCG@5 :1.0000 |nDCG@10 :0.8553\n",
      "Recall :0.8000 |AP@5 :0.6000 |AP@10 :0.6709 |nDCG@5 :0.7227 |nDCG@10 :0.8201\n",
      "Recall :1.0000 |AP@5 :1.0000 |AP@10 :1.0000 |nDCG@5 :1.0000 |nDCG@10 :1.0000\n",
      "Recall :1.0000 |AP@5 :1.0000 |AP@10 :1.0000 |nDCG@5 :1.0000 |nDCG@10 :1.0000\n",
      "Recall :0.9000 |AP@5 :1.0000 |AP@10 :0.8664 |nDCG@5 :1.0000 |nDCG@10 :0.9266\n",
      "Recall :0.9000 |AP@5 :1.0000 |AP@10 :0.8789 |nDCG@5 :1.0000 |nDCG@10 :0.9306\n",
      "MAP5 :0.9355 |MAP10 :0.8480\n"
     ]
    }
   ],
   "source": [
    "Y_predict=md.predict(x=X_test)\n",
    "n=10\n",
    "m=len(Y_predict)\n",
    "t=X_test[0][0]*7+X_test[-1][0]\n",
    "cnt=0\n",
    "map5=0\n",
    "map10=0\n",
    "num=0\n",
    "for i in range(1,m):\n",
    "    t_=X_test[0][i]*7+X_test[-1][i]\n",
    "    if t!=t_:\n",
    "        predict = dict(zip(range(i-cnt),Y_predict[cnt:i]))\n",
    "        real = dict(zip(range(i-cnt),Y_test[cnt:i]))\n",
    "        p=sorted(predict.items(),key=lambda kv:kv[1],reverse=True)\n",
    "        r=sorted(real.items(),key=lambda kv:kv[1],reverse=True)\n",
    "        p,r=get_list(p,r)\n",
    "        cnt=i\n",
    "        t=t_\n",
    "        if len(p)<10:\n",
    "            continue\n",
    "        num+=1\n",
    "        p=p[0:n]\n",
    "        r=r[0:n]\n",
    "        recall=Recall(p,r)\n",
    "        ap5=AP(p,r,5)\n",
    "        map5+=ap5\n",
    "        ap10=AP(p,r,10)\n",
    "        map10+=ap10\n",
    "        ndcg5=nDCG(p,r,5)\n",
    "        ndcg10=nDCG(p,r,10)\n",
    "        print('Recall :{:.4f} |AP@5 :{:.4f} |AP@10 :{:.4f} |nDCG@5 :{:.4f} |nDCG@10 :{:.4f}'.format(recall,ap5,ap10,ndcg5,ndcg10))\n",
    "map5/=num\n",
    "map10/=num\n",
    "print('MAP5 :{:.4f} |MAP10 :{:.4f}'.format(map5,map10))"
   ]
  }
 ],
 "metadata": {
  "kernelspec": {
   "display_name": "Python 3",
   "language": "python",
   "name": "python3"
  },
  "language_info": {
   "codemirror_mode": {
    "name": "ipython",
    "version": 3
   },
   "file_extension": ".py",
   "mimetype": "text/x-python",
   "name": "python",
   "nbconvert_exporter": "python",
   "pygments_lexer": "ipython3",
   "version": "3.7.12"
  },
  "papermill": {
   "default_parameters": {},
   "duration": 37.615113,
   "end_time": "2022-07-03T15:00:22.324362",
   "environment_variables": {},
   "exception": null,
   "input_path": "__notebook__.ipynb",
   "output_path": "__notebook__.ipynb",
   "parameters": {},
   "start_time": "2022-07-03T14:59:44.709249",
   "version": "2.3.4"
  }
 },
 "nbformat": 4,
 "nbformat_minor": 5
}
