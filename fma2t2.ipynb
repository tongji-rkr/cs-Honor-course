{
 "cells": [
  {
   "cell_type": "code",
   "execution_count": 1,
   "id": "a9738f0a",
   "metadata": {
    "execution": {
     "iopub.execute_input": "2022-07-03T15:23:02.133623Z",
     "iopub.status.busy": "2022-07-03T15:23:02.133018Z",
     "iopub.status.idle": "2022-07-03T15:23:03.343905Z",
     "shell.execute_reply": "2022-07-03T15:23:03.342600Z"
    },
    "papermill": {
     "duration": 1.224922,
     "end_time": "2022-07-03T15:23:03.346910",
     "exception": false,
     "start_time": "2022-07-03T15:23:02.121988",
     "status": "completed"
    },
    "tags": []
   },
   "outputs": [],
   "source": [
    "import pandas as pd\n",
    "import numpy as np\n",
    "from matplotlib import pyplot as plt\n",
    "from sklearn.model_selection import train_test_split\n",
    "from matplotlib import pyplot as plt\n",
    "from datetime import datetime, timedelta\n",
    "import math\n",
    "\n",
    "np.random.seed(555)"
   ]
  },
  {
   "cell_type": "markdown",
   "id": "6bc2075c",
   "metadata": {
    "papermill": {
     "duration": 0.006831,
     "end_time": "2022-07-03T15:23:03.361187",
     "exception": false,
     "start_time": "2022-07-03T15:23:03.354356",
     "status": "completed"
    },
    "tags": []
   },
   "source": [
    "#### **数据处理**\n",
    "##### 数据集来源为FourSquare - NYC and Tokyo Check-ins\n",
    "##### 选择dataset_TSMC2014_NYC.csv中打卡数最多的100个用户和500个地点作为数据集。\n",
    "##### 通过时间戳和偏移时间得到正确时间，并归类于用户在一周中第几天在某地Check-in，将时间信息记录在df[’dayweek‘]中，范围为0-6（周一-周\n",
    "##### 天）。之后对数据进行分组，将用户和时间作为分组基准，在每个组中对包含地点的Check-in次数进行计数，提取出隐式特征。\n",
    "##### 以‘uid’和’dayweek‘作为基准来划分训练集和测试集，其中训练集占比为0.8，之后进行训练得到结果"
   ]
  },
  {
   "cell_type": "code",
   "execution_count": 2,
   "id": "e78c107b",
   "metadata": {
    "execution": {
     "iopub.execute_input": "2022-07-03T15:23:03.377228Z",
     "iopub.status.busy": "2022-07-03T15:23:03.376862Z",
     "iopub.status.idle": "2022-07-03T15:23:09.230163Z",
     "shell.execute_reply": "2022-07-03T15:23:09.229124Z"
    },
    "papermill": {
     "duration": 5.864729,
     "end_time": "2022-07-03T15:23:09.232987",
     "exception": false,
     "start_time": "2022-07-03T15:23:03.368258",
     "status": "completed"
    },
    "tags": []
   },
   "outputs": [],
   "source": [
    "data_path=\"../input/foursquare-nyc-and-tokyo-checkin-dataset/dataset_TSMC2014_NYC.csv\"\n",
    "custom_date_parser = lambda x: datetime.strptime(x, \"%a %b %d %H:%M:%S +0000 %Y\")\n",
    "df = pd.read_csv(data_path,parse_dates=['utcTimestamp'],date_parser=custom_date_parser)"
   ]
  },
  {
   "cell_type": "code",
   "execution_count": 3,
   "id": "ae709ed0",
   "metadata": {
    "execution": {
     "iopub.execute_input": "2022-07-03T15:23:09.249089Z",
     "iopub.status.busy": "2022-07-03T15:23:09.248700Z",
     "iopub.status.idle": "2022-07-03T15:23:09.255823Z",
     "shell.execute_reply": "2022-07-03T15:23:09.254619Z"
    },
    "papermill": {
     "duration": 0.018194,
     "end_time": "2022-07-03T15:23:09.258346",
     "exception": false,
     "start_time": "2022-07-03T15:23:09.240152",
     "status": "completed"
    },
    "tags": []
   },
   "outputs": [],
   "source": [
    "def get_ids(k_data,n):\n",
    "    k_dict=dict()\n",
    "    for k in k_data:\n",
    "        if k_dict.get(k)==None:\n",
    "            k_dict[k]=0\n",
    "        k_dict[k]+=1\n",
    "    rank=sorted(k_dict.items(),key=lambda kv:kv[1],reverse=True)\n",
    "    k_ids=[]\n",
    "    for i in range(min(n,len(rank))):\n",
    "        k_ids.append(rank[i][0])\n",
    "    return k_ids"
   ]
  },
  {
   "cell_type": "code",
   "execution_count": 4,
   "id": "65f9d91a",
   "metadata": {
    "execution": {
     "iopub.execute_input": "2022-07-03T15:23:09.274422Z",
     "iopub.status.busy": "2022-07-03T15:23:09.274051Z",
     "iopub.status.idle": "2022-07-03T15:23:09.281625Z",
     "shell.execute_reply": "2022-07-03T15:23:09.280509Z"
    },
    "papermill": {
     "duration": 0.018585,
     "end_time": "2022-07-03T15:23:09.283943",
     "exception": false,
     "start_time": "2022-07-03T15:23:09.265358",
     "status": "completed"
    },
    "tags": []
   },
   "outputs": [],
   "source": [
    "def date_convert(date_to_convert):\n",
    "    pru = datetime.datetime.strptime(date_to_convert, '%a %b %d %H:%M:%S +0000 %Y')+ datetime.timedelta(hours=-240//60)\n",
    "    return pru.strftime('%b %d %Y %H:%M:%S')\n",
    "\n",
    "def min2hour(m):\n",
    "    return  timedelta(hours=m/60)"
   ]
  },
  {
   "cell_type": "code",
   "execution_count": 5,
   "id": "652a0da8",
   "metadata": {
    "execution": {
     "iopub.execute_input": "2022-07-03T15:23:09.299800Z",
     "iopub.status.busy": "2022-07-03T15:23:09.299351Z",
     "iopub.status.idle": "2022-07-03T15:23:09.317151Z",
     "shell.execute_reply": "2022-07-03T15:23:09.316040Z"
    },
    "papermill": {
     "duration": 0.028606,
     "end_time": "2022-07-03T15:23:09.319516",
     "exception": false,
     "start_time": "2022-07-03T15:23:09.290910",
     "status": "completed"
    },
    "tags": []
   },
   "outputs": [],
   "source": [
    "class DataProcess:\n",
    "    def __init__(self, data_path, n_user=100, n_venue=500, n_venuecat=40, alpha=0.8):\n",
    "        print(\"start load data\")\n",
    "        custom_date_parser = lambda x: datetime.strptime(x, \"%a %b %d %H:%M:%S +0000 %Y\")\n",
    "        df = pd.read_csv(data_path,parse_dates=['utcTimestamp'],date_parser=custom_date_parser)\n",
    "        print(\"start process data\")\n",
    "        df[\"realtime\"] = df['utcTimestamp'] + df['timezoneOffset'].apply(min2hour)\n",
    "        df[\"hour\"] = df[\"realtime\"].dt.hour \n",
    "        #df[\"work\"] = df['hour'].apply(lambda x: 'Not' if (17 <= x < 24) or (0 <= x < 9)else 'Yes')\n",
    "        df[\"dayweek\"] = df[\"realtime\"].dt.dayofweek \n",
    "        #df[\"workday\"] = df['dayweek'].apply(lambda x: 'True' if x <= 5 else 'False')\n",
    "        \n",
    "        user_ids=get_ids(df['userId'].values,n_user)\n",
    "        df = df[(df['userId'].isin(user_ids))]\n",
    "        venue_ids=get_ids(df['venueId'].values,n_venue)\n",
    "        df = df[(df['venueId'].isin(venue_ids))]\n",
    "        venuecat_ids=get_ids(df['venueCategoryId'].values,n_venuecat)\n",
    "        df = df[(df['venueCategoryId'].isin(venuecat_ids))]\n",
    "        user_ids=get_ids(df['userId'].values,n_user)\n",
    "        venue_ids=get_ids(df['venueId'].values,n_venue)\n",
    "        venuecat_ids=get_ids(df['venueCategoryId'].values,n_venuecat)\n",
    "        \n",
    "        self.n_user=len(user_ids)\n",
    "        self.n_venue=len(venue_ids)\n",
    "        self.n_venuecat=len(venuecat_ids)\n",
    "        print(\"Number of users = {} , Number of venues = {} , Number of venuecategorys = {}\".format(self.n_user,self.n_venue,self.n_venuecat))\n",
    "        \n",
    "        u_id2idx = dict(zip(user_ids, range(self.n_user)))\n",
    "        v_id2idx = dict(zip(venue_ids, range(self.n_venue)))\n",
    "        vc_id2idx = dict(zip(venuecat_ids, range(self.n_venuecat)))\n",
    "        \n",
    "        df = df[(df['userId'].isin(user_ids))&(df['venueId'].isin(venue_ids))&(df['venueCategoryId'].isin(venuecat_ids))]\n",
    "        df = df.assign(userId=[u_id2idx[uid] for uid in df.userId])\n",
    "        df = df.assign(venueId=[v_id2idx[vid] for vid in df.venueId])\n",
    "        df = df.assign(venueCategoryId=[vc_id2idx[vcid] for vcid in df.venueCategoryId])\n",
    "        headers = ['userId','venueId','venueCategoryId','hour','dayweek']\n",
    "        df = pd.DataFrame(df,columns = headers)\n",
    "        df = df.reset_index(drop=True)\n",
    "        self.df = df\n",
    "        self.v2vc=dict()\n",
    "        for i in range(len(df)):\n",
    "            self.v2vc[df.loc[i,'venueId']]=df.loc[i,'venueCategoryId']"
   ]
  },
  {
   "cell_type": "markdown",
   "id": "8ce4a9ca",
   "metadata": {
    "papermill": {
     "duration": 0.006982,
     "end_time": "2022-07-03T15:23:09.334155",
     "exception": false,
     "start_time": "2022-07-03T15:23:09.327173",
     "status": "completed"
    },
    "tags": []
   },
   "source": [
    "#### **FM**\n",
    "##### 纯手写，没调keras库函数"
   ]
  },
  {
   "cell_type": "code",
   "execution_count": 6,
   "id": "b242bf1c",
   "metadata": {
    "execution": {
     "iopub.execute_input": "2022-07-03T15:23:09.350277Z",
     "iopub.status.busy": "2022-07-03T15:23:09.349546Z",
     "iopub.status.idle": "2022-07-03T15:23:09.366408Z",
     "shell.execute_reply": "2022-07-03T15:23:09.365572Z"
    },
    "papermill": {
     "duration": 0.027741,
     "end_time": "2022-07-03T15:23:09.368912",
     "exception": false,
     "start_time": "2022-07-03T15:23:09.341171",
     "status": "completed"
    },
    "tags": []
   },
   "outputs": [],
   "source": [
    "class FactorizationMachine():\n",
    "    def __init__(self, k=5, lr=0.001, iterations=100): \n",
    "        self.w0 = None \n",
    "        self.w = None \n",
    "        self.v = None \n",
    "        self.k = k \n",
    "        self.lr = lr\n",
    "        self.iterations = iterations\n",
    "        self.losses = []\n",
    "        \n",
    "        \n",
    "    def FM_cul(self, x):\n",
    "        inter2 = np.sum((x.dot(self.v)) ** 2 - (x ** 2).dot(self.v ** 2)) \n",
    "        y = self.w0 + x.dot(self.w) + inter2 / 2  \n",
    "        return y[0]\n",
    "        \n",
    "        \n",
    "    def train(self, X, Y):\n",
    "        m, n = np.shape(X)\n",
    "        self.w0 = 0\n",
    "        self.w = np.random.uniform(size=(n, 1))\n",
    "        self.v = np.random.uniform(size=(n, self.k)) \n",
    "        \n",
    "        for it in range(self.iterations):\n",
    "            loss = 0  \n",
    "            for i in range(m):  \n",
    "                y = self.FM_cul(x=X[i])  \n",
    "                loss += pow(Y[i]-y,2)  #计算损失函数值\n",
    "                dloss_w0 = -2*(Y[i]-y)# 对w0求导\n",
    "                self.w0 = self.w0 - self.lr * dloss_w0 \n",
    "                for j in range(n): \n",
    "                    if X[i][j] > 0:\n",
    "                        dloss_wj = dloss_w0 * X[i][j]  # 对wj求导\n",
    "                        self.w[j] = self.w[j] - self.lr * dloss_wj \n",
    "                        for f in range(self.k):  # 对vjf求导\n",
    "                            dloss_vjf = dloss_wj * (X[i].dot(self.v[:, f]) - self.v[j, f] * X[i, j])\n",
    "                            self.v[j][f] = self.v[j][f] - self.lr * dloss_vjf \n",
    "                            \n",
    "            self.losses.append(loss/m)\n",
    "            if it % 10==0:\n",
    "                print(\"iter :{}| loss :{:.4f}\".format(it, loss/m))\n",
    "                \n",
    "    def evaluate(self, X, Y):\n",
    "        Y_predict=[]\n",
    "        m=X.shape[0]\n",
    "        for i in range(m):  # 遍历测试集\n",
    "            y = self.FM_cul(x=X[i])  # FM的模型方程 \n",
    "            Y_predict.append(y)\n",
    "        return Y_predict\n",
    "    "
   ]
  },
  {
   "cell_type": "markdown",
   "id": "ff57e9fa",
   "metadata": {
    "papermill": {
     "duration": 0.006888,
     "end_time": "2022-07-03T15:23:09.383073",
     "exception": false,
     "start_time": "2022-07-03T15:23:09.376185",
     "status": "completed"
    },
    "tags": []
   },
   "source": [
    "#### **数据导入及二次处理**\n",
    "##### 这些本应放在DataProcess里面，但是由于不方便测试而且DataProcess中内容已经很多，所以我把部分数据处理放到后面"
   ]
  },
  {
   "cell_type": "code",
   "execution_count": 7,
   "id": "63aa176b",
   "metadata": {
    "execution": {
     "iopub.execute_input": "2022-07-03T15:23:09.399118Z",
     "iopub.status.busy": "2022-07-03T15:23:09.398421Z",
     "iopub.status.idle": "2022-07-03T15:23:17.154935Z",
     "shell.execute_reply": "2022-07-03T15:23:17.153784Z"
    },
    "papermill": {
     "duration": 7.767706,
     "end_time": "2022-07-03T15:23:17.157833",
     "exception": false,
     "start_time": "2022-07-03T15:23:09.390127",
     "status": "completed"
    },
    "tags": []
   },
   "outputs": [
    {
     "name": "stdout",
     "output_type": "stream",
     "text": [
      "start load data\n",
      "start process data\n",
      "Number of users = 100 , Number of venues = 392 , Number of venuecategorys = 40\n"
     ]
    }
   ],
   "source": [
    "data_path=\"../input/foursquare-nyc-and-tokyo-checkin-dataset/dataset_TSMC2014_NYC.csv\"\n",
    "dp = DataProcess(data_path)"
   ]
  },
  {
   "cell_type": "code",
   "execution_count": 8,
   "id": "1ecf34ae",
   "metadata": {
    "execution": {
     "iopub.execute_input": "2022-07-03T15:23:17.175394Z",
     "iopub.status.busy": "2022-07-03T15:23:17.174676Z",
     "iopub.status.idle": "2022-07-03T15:23:18.214988Z",
     "shell.execute_reply": "2022-07-03T15:23:18.213844Z"
    },
    "papermill": {
     "duration": 1.051965,
     "end_time": "2022-07-03T15:23:18.217714",
     "exception": false,
     "start_time": "2022-07-03T15:23:17.165749",
     "status": "completed"
    },
    "tags": []
   },
   "outputs": [],
   "source": [
    "user_day_venue_mx=np.zeros((dp.n_user*7,dp.n_venue))\n",
    "for i in range(len(dp.df)):\n",
    "    u=dp.df.loc[i,'userId']\n",
    "    d=dp.df.loc[i,'dayweek']\n",
    "    v=dp.df.loc[i,'venueId']\n",
    "    user_day_venue_mx[u*7+d][v]+=1\n",
    "user_day_venue_mx=user_day_venue_mx[np.sum(user_day_venue_mx,axis=-1)>10]"
   ]
  },
  {
   "cell_type": "code",
   "execution_count": 9,
   "id": "864f099e",
   "metadata": {
    "execution": {
     "iopub.execute_input": "2022-07-03T15:23:18.234392Z",
     "iopub.status.busy": "2022-07-03T15:23:18.233845Z",
     "iopub.status.idle": "2022-07-03T15:23:19.151494Z",
     "shell.execute_reply": "2022-07-03T15:23:19.150493Z"
    },
    "papermill": {
     "duration": 0.929169,
     "end_time": "2022-07-03T15:23:19.154199",
     "exception": false,
     "start_time": "2022-07-03T15:23:18.225030",
     "status": "completed"
    },
    "tags": []
   },
   "outputs": [],
   "source": [
    "alpha=0.8\n",
    "train_data=[]\n",
    "test_data=[]\n",
    "for i in range(user_day_venue_mx.shape[0]):\n",
    "    if np.random.rand()<alpha:\n",
    "        for j in range(user_day_venue_mx.shape[1]):\n",
    "            train_data.append([i//7,j,dp.v2vc[j],i&7,user_day_venue_mx[i][j]])\n",
    "    else:\n",
    "        for j in range(user_day_venue_mx.shape[1]):\n",
    "            test_data.append([i//7,j,dp.v2vc[j],i&7,user_day_venue_mx[i][j]])\n",
    "train_data=np.array(train_data)\n",
    "test_data=np.array(test_data)"
   ]
  },
  {
   "cell_type": "code",
   "execution_count": 10,
   "id": "96961080",
   "metadata": {
    "execution": {
     "iopub.execute_input": "2022-07-03T15:23:19.170753Z",
     "iopub.status.busy": "2022-07-03T15:23:19.170314Z",
     "iopub.status.idle": "2022-07-03T15:23:19.181227Z",
     "shell.execute_reply": "2022-07-03T15:23:19.179877Z"
    },
    "papermill": {
     "duration": 0.022806,
     "end_time": "2022-07-03T15:23:19.184322",
     "exception": false,
     "start_time": "2022-07-03T15:23:19.161516",
     "status": "completed"
    },
    "tags": []
   },
   "outputs": [],
   "source": [
    "df_train=pd.DataFrame(train_data,columns=['uid','vid','vcid','day','times'])\n",
    "df_test=pd.DataFrame(test_data,columns=['uid','vid','vcid','day','times'])\n",
    "df_train=df_train[df_train['times']>0]\n",
    "df_test=df_test[df_test['times']>0]"
   ]
  },
  {
   "cell_type": "code",
   "execution_count": 11,
   "id": "8b6a7d58",
   "metadata": {
    "execution": {
     "iopub.execute_input": "2022-07-03T15:23:19.200928Z",
     "iopub.status.busy": "2022-07-03T15:23:19.200253Z",
     "iopub.status.idle": "2022-07-03T15:23:19.233400Z",
     "shell.execute_reply": "2022-07-03T15:23:19.232489Z"
    },
    "papermill": {
     "duration": 0.044476,
     "end_time": "2022-07-03T15:23:19.236013",
     "exception": false,
     "start_time": "2022-07-03T15:23:19.191537",
     "status": "completed"
    },
    "tags": []
   },
   "outputs": [],
   "source": [
    "df=pd.concat([df_train,df_test])\n",
    "df = df.reset_index(drop=True)\n",
    "df=pd.get_dummies(df,columns=['uid','vid','vcid','day'])\n",
    "df_train = df.iloc[:len(df_train),:]\n",
    "df_test = df.iloc[len(df_train):,:]"
   ]
  },
  {
   "cell_type": "code",
   "execution_count": 12,
   "id": "141c3d39",
   "metadata": {
    "execution": {
     "iopub.execute_input": "2022-07-03T15:23:19.252634Z",
     "iopub.status.busy": "2022-07-03T15:23:19.251836Z",
     "iopub.status.idle": "2022-07-03T15:23:19.262548Z",
     "shell.execute_reply": "2022-07-03T15:23:19.261645Z"
    },
    "papermill": {
     "duration": 0.021748,
     "end_time": "2022-07-03T15:23:19.265012",
     "exception": false,
     "start_time": "2022-07-03T15:23:19.243264",
     "status": "completed"
    },
    "tags": []
   },
   "outputs": [],
   "source": [
    "X_train = df_train.drop('times', axis=1).values\n",
    "Y_train = df_train['times'].values\n",
    "X_test = df_test.drop('times', axis=1).values\n",
    "Y_test = df_test['times'].values"
   ]
  },
  {
   "cell_type": "markdown",
   "id": "985dbf19",
   "metadata": {
    "papermill": {
     "duration": 0.006891,
     "end_time": "2022-07-03T15:23:19.279912",
     "exception": false,
     "start_time": "2022-07-03T15:23:19.273021",
     "status": "completed"
    },
    "tags": []
   },
   "source": [
    "#### **开始训练**\n",
    "##### k=10, lr=0.001, iterations=100"
   ]
  },
  {
   "cell_type": "code",
   "execution_count": 13,
   "id": "f50c4706",
   "metadata": {
    "execution": {
     "iopub.execute_input": "2022-07-03T15:23:19.296514Z",
     "iopub.status.busy": "2022-07-03T15:23:19.295680Z",
     "iopub.status.idle": "2022-07-03T15:32:41.674102Z",
     "shell.execute_reply": "2022-07-03T15:32:41.673108Z"
    },
    "papermill": {
     "duration": 562.389597,
     "end_time": "2022-07-03T15:32:41.676640",
     "exception": false,
     "start_time": "2022-07-03T15:23:19.287043",
     "status": "completed"
    },
    "scrolled": true,
    "tags": []
   },
   "outputs": [
    {
     "name": "stdout",
     "output_type": "stream",
     "text": [
      "iter :0| loss :21.7135\n",
      "iter :10| loss :7.1270\n",
      "iter :20| loss :4.7633\n",
      "iter :30| loss :3.1933\n",
      "iter :40| loss :2.1710\n",
      "iter :50| loss :1.5656\n",
      "iter :60| loss :1.2249\n",
      "iter :70| loss :1.0224\n",
      "iter :80| loss :0.8889\n",
      "iter :90| loss :0.7939\n"
     ]
    }
   ],
   "source": [
    "md=FactorizationMachine(k=10, lr=0.001, iterations=100)\n",
    "md.train(X_train, Y_train)"
   ]
  },
  {
   "cell_type": "markdown",
   "id": "b1b21595",
   "metadata": {
    "papermill": {
     "duration": 0.007653,
     "end_time": "2022-07-03T15:32:41.692204",
     "exception": false,
     "start_time": "2022-07-03T15:32:41.684551",
     "status": "completed"
    },
    "tags": []
   },
   "source": [
    "#### **绘制训练过程中loss变化**"
   ]
  },
  {
   "cell_type": "code",
   "execution_count": 14,
   "id": "2ba86521",
   "metadata": {
    "execution": {
     "iopub.execute_input": "2022-07-03T15:32:41.709719Z",
     "iopub.status.busy": "2022-07-03T15:32:41.709287Z",
     "iopub.status.idle": "2022-07-03T15:32:41.917218Z",
     "shell.execute_reply": "2022-07-03T15:32:41.916481Z"
    },
    "papermill": {
     "duration": 0.219185,
     "end_time": "2022-07-03T15:32:41.919204",
     "exception": false,
     "start_time": "2022-07-03T15:32:41.700019",
     "status": "completed"
    },
    "tags": []
   },
   "outputs": [
    {
     "data": {
      "text/plain": [
       "Text(0, 0.5, 'loss')"
      ]
     },
     "execution_count": 14,
     "metadata": {},
     "output_type": "execute_result"
    },
    {
     "data": {
      "image/png": "[encoded data removed]",
      "text/plain": [
       "<Figure size 432x288 with 1 Axes>"
      ]
     },
     "metadata": {
      "needs_background": "light"
     },
     "output_type": "display_data"
    }
   ],
   "source": [
    "plt.plot(md.losses)\n",
    "plt.xlabel('Iteration')\n",
    "plt.ylabel('loss')"
   ]
  },
  {
   "cell_type": "markdown",
   "id": "cd4d4209",
   "metadata": {
    "papermill": {
     "duration": 0.007782,
     "end_time": "2022-07-03T15:32:41.935469",
     "exception": false,
     "start_time": "2022-07-03T15:32:41.927687",
     "status": "completed"
    },
    "tags": []
   },
   "source": [
    "#### **构建Recall、MAP、nDCG等相关函数**"
   ]
  },
  {
   "cell_type": "code",
   "execution_count": 15,
   "id": "90c4e5c9",
   "metadata": {
    "execution": {
     "iopub.execute_input": "2022-07-03T15:32:41.953609Z",
     "iopub.status.busy": "2022-07-03T15:32:41.952608Z",
     "iopub.status.idle": "2022-07-03T15:32:41.959885Z",
     "shell.execute_reply": "2022-07-03T15:32:41.958823Z"
    },
    "papermill": {
     "duration": 0.01878,
     "end_time": "2022-07-03T15:32:41.962182",
     "exception": false,
     "start_time": "2022-07-03T15:32:41.943402",
     "status": "completed"
    },
    "tags": []
   },
   "outputs": [],
   "source": [
    "def get_list(p,r):\n",
    "    p_=[]\n",
    "    r_=[]\n",
    "    for i in range(len(p)):\n",
    "        p_.append(p[i][0])\n",
    "        r_.append(r[i][0])\n",
    "    return p_,r_\n",
    "def Recall(p,r):\n",
    "    num=0\n",
    "    for i in range(len(p)):\n",
    "        if p[i] in r:\n",
    "            num+=1\n",
    "    return num/len(p)"
   ]
  },
  {
   "cell_type": "code",
   "execution_count": 16,
   "id": "ccb5d64c",
   "metadata": {
    "execution": {
     "iopub.execute_input": "2022-07-03T15:32:41.981266Z",
     "iopub.status.busy": "2022-07-03T15:32:41.980601Z",
     "iopub.status.idle": "2022-07-03T15:32:41.986051Z",
     "shell.execute_reply": "2022-07-03T15:32:41.985303Z"
    },
    "papermill": {
     "duration": 0.01771,
     "end_time": "2022-07-03T15:32:41.988183",
     "exception": false,
     "start_time": "2022-07-03T15:32:41.970473",
     "status": "completed"
    },
    "tags": []
   },
   "outputs": [],
   "source": [
    "def AP(p,r,k):\n",
    "    sum_ap=num=0\n",
    "    n=len(p)\n",
    "    for i in range(k):\n",
    "        if p[i] in r:\n",
    "            num+=1\n",
    "            sum_ap+=num/(i+1)\n",
    "    return sum_ap/(max(k,n))"
   ]
  },
  {
   "cell_type": "code",
   "execution_count": 17,
   "id": "f3581884",
   "metadata": {
    "execution": {
     "iopub.execute_input": "2022-07-03T15:32:42.006774Z",
     "iopub.status.busy": "2022-07-03T15:32:42.006315Z",
     "iopub.status.idle": "2022-07-03T15:32:42.012092Z",
     "shell.execute_reply": "2022-07-03T15:32:42.011255Z"
    },
    "papermill": {
     "duration": 0.017648,
     "end_time": "2022-07-03T15:32:42.014041",
     "exception": false,
     "start_time": "2022-07-03T15:32:41.996393",
     "status": "completed"
    },
    "tags": []
   },
   "outputs": [],
   "source": [
    "def nDCG(p,r,k):\n",
    "    sum_dcg=0\n",
    "    sum_idcg=0\n",
    "    for i in range(k):\n",
    "        sum_idcg+=1/math.log(i+2,2)\n",
    "        if p[i] in r:\n",
    "            sum_dcg+=1/math.log(i+2,2)\n",
    "    return sum_dcg/sum_idcg    "
   ]
  },
  {
   "cell_type": "markdown",
   "id": "2e600479",
   "metadata": {
    "papermill": {
     "duration": 0.00843,
     "end_time": "2022-07-03T15:32:42.030670",
     "exception": false,
     "start_time": "2022-07-03T15:32:42.022240",
     "status": "completed"
    },
    "tags": []
   },
   "source": [
    "#### **开始测试**\n",
    "##### 由于测试中有多组数据，每组数据都有对应计算的Recall、AP@5、AP@10、nDCG@5、nDCG@10\n",
    "##### 求平均值得到MAP@5、MAP@10"
   ]
  },
  {
   "cell_type": "code",
   "execution_count": 18,
   "id": "c041f6cd",
   "metadata": {
    "execution": {
     "iopub.execute_input": "2022-07-03T15:32:42.049023Z",
     "iopub.status.busy": "2022-07-03T15:32:42.048344Z",
     "iopub.status.idle": "2022-07-03T15:32:42.096576Z",
     "shell.execute_reply": "2022-07-03T15:32:42.095369Z"
    },
    "papermill": {
     "duration": 0.060245,
     "end_time": "2022-07-03T15:32:42.099071",
     "exception": false,
     "start_time": "2022-07-03T15:32:42.038826",
     "status": "completed"
    },
    "tags": []
   },
   "outputs": [
    {
     "name": "stdout",
     "output_type": "stream",
     "text": [
      "Recall :0.6000 |AP@5 :0.5000 |AP@10 :0.5750 |nDCG@5 :1.0000 |nDCG@10 :0.7184\n",
      "Recall :0.6000 |AP@5 :0.3217 |AP@10 :0.4681 |nDCG@5 :0.7860 |nDCG@10 :0.6529\n",
      "Recall :0.8000 |AP@5 :0.5000 |AP@10 :0.8000 |nDCG@5 :1.0000 |nDCG@10 :0.8701\n",
      "Recall :0.9000 |AP@5 :0.5000 |AP@10 :0.9000 |nDCG@5 :1.0000 |nDCG@10 :0.9364\n",
      "Recall :0.8000 |AP@5 :0.2717 |AP@10 :0.6082 |nDCG@5 :0.6608 |nDCG@10 :0.7137\n",
      "Recall :1.0000 |AP@5 :0.5000 |AP@10 :1.0000 |nDCG@5 :1.0000 |nDCG@10 :1.0000\n",
      "Recall :0.9000 |AP@5 :0.5000 |AP@10 :0.8900 |nDCG@5 :1.0000 |nDCG@10 :0.9337\n",
      "Recall :0.7000 |AP@5 :0.5000 |AP@10 :0.6732 |nDCG@5 :1.0000 |nDCG@10 :0.7917\n",
      "Recall :1.0000 |AP@5 :0.5000 |AP@10 :1.0000 |nDCG@5 :1.0000 |nDCG@10 :1.0000\n",
      "Recall :0.9000 |AP@5 :0.5000 |AP@10 :0.8664 |nDCG@5 :1.0000 |nDCG@10 :0.9266\n",
      "Recall :0.9000 |AP@5 :0.5000 |AP@10 :0.8900 |nDCG@5 :1.0000 |nDCG@10 :0.9337\n",
      "Recall :0.9000 |AP@5 :0.5000 |AP@10 :0.8900 |nDCG@5 :1.0000 |nDCG@10 :0.9337\n",
      "Recall :0.9000 |AP@5 :0.5000 |AP@10 :0.8900 |nDCG@5 :1.0000 |nDCG@10 :0.9337\n",
      "Recall :0.9000 |AP@5 :0.5000 |AP@10 :0.9000 |nDCG@5 :1.0000 |nDCG@10 :0.9364\n",
      "Recall :1.0000 |AP@5 :0.5000 |AP@10 :1.0000 |nDCG@5 :1.0000 |nDCG@10 :1.0000\n",
      "Recall :0.9000 |AP@5 :0.5000 |AP@10 :0.8789 |nDCG@5 :1.0000 |nDCG@10 :0.9306\n",
      "Recall :0.9000 |AP@5 :0.5000 |AP@10 :0.8900 |nDCG@5 :1.0000 |nDCG@10 :0.9337\n",
      "MAP5 :0.4761 |MAP10 :0.8306\n"
     ]
    }
   ],
   "source": [
    "Y_predict=md.evaluate(X_test, Y_test)\n",
    "n=10\n",
    "m=len(Y_predict)\n",
    "t=[X_test[0].nonzero()[0][0],X_test[0].nonzero()[0][-1]]\n",
    "cnt=0\n",
    "map5=0\n",
    "map10=0\n",
    "num=0\n",
    "for i in range(1,m):\n",
    "    t_=[X_test[i].nonzero()[0][0],X_test[i].nonzero()[0][-1]]\n",
    "    if t!=t_:\n",
    "        predict = dict(zip(range(i-cnt),Y_predict[cnt:i]))\n",
    "        real = dict(zip(range(i-cnt),Y_test[cnt:i]))\n",
    "        p=sorted(predict.items(),key=lambda kv:kv[1],reverse=True)\n",
    "        r=sorted(real.items(),key=lambda kv:kv[1],reverse=True)\n",
    "        p,r=get_list(p,r)\n",
    "        cnt=i\n",
    "        t=t_\n",
    "        if len(p)<10:\n",
    "            continue\n",
    "        num+=1\n",
    "        p=p[0:n]\n",
    "        r=r[0:n]\n",
    "        recall=Recall(p,r)\n",
    "        ap5=AP(p,r,5)\n",
    "        map5+=ap5\n",
    "        ap10=AP(p,r,10)\n",
    "        map10+=ap10\n",
    "        ndcg5=nDCG(p,r,5)\n",
    "        ndcg10=nDCG(p,r,10)\n",
    "        print('Recall :{:.4f} |AP@5 :{:.4f} |AP@10 :{:.4f} |nDCG@5 :{:.4f} |nDCG@10 :{:.4f}'.format(recall,ap5,ap10,ndcg5,ndcg10))\n",
    "map5/=num\n",
    "map10/=num\n",
    "print('MAP5 :{:.4f} |MAP10 :{:.4f}'.format(map5,map10))"
   ]
  }
 ],
 "metadata": {
  "kernelspec": {
   "display_name": "Python 3",
   "language": "python",
   "name": "python3"
  },
  "language_info": {
   "codemirror_mode": {
    "name": "ipython",
    "version": 3
   },
   "file_extension": ".py",
   "mimetype": "text/x-python",
   "name": "python",
   "nbconvert_exporter": "python",
   "pygments_lexer": "ipython3",
   "version": "3.7.12"
  },
  "papermill": {
   "default_parameters": {},
   "duration": 591.012568,
   "end_time": "2022-07-03T15:32:42.830311",
   "environment_variables": {},
   "exception": null,
   "input_path": "__notebook__.ipynb",
   "output_path": "__notebook__.ipynb",
   "parameters": {},
   "start_time": "2022-07-03T15:22:51.817743",
   "version": "2.3.4"
  }
 },
 "nbformat": 4,
 "nbformat_minor": 5
}
