{
 "cells": [
  {
   "cell_type": "code",
   "execution_count": 1,
   "id": "17d25b07",
   "metadata": {
    "execution": {
     "iopub.execute_input": "2022-07-02T19:37:05.065302Z",
     "iopub.status.busy": "2022-07-02T19:37:05.064669Z",
     "iopub.status.idle": "2022-07-02T19:37:06.275131Z",
     "shell.execute_reply": "2022-07-02T19:37:06.273917Z"
    },
    "papermill": {
     "duration": 1.220746,
     "end_time": "2022-07-02T19:37:06.277785",
     "exception": false,
     "start_time": "2022-07-02T19:37:05.057039",
     "status": "completed"
    },
    "tags": []
   },
   "outputs": [],
   "source": [
    "import pandas as pd\n",
    "import numpy as np\n",
    "from matplotlib import pyplot as plt\n",
    "from sklearn.model_selection import train_test_split\n",
    "from matplotlib import pyplot as plt\n",
    "from datetime import datetime, timedelta\n",
    "import math\n",
    "\n",
    "np.random.seed(555)"
   ]
  },
  {
   "cell_type": "code",
   "execution_count": 2,
   "id": "74f00c07",
   "metadata": {
    "execution": {
     "iopub.execute_input": "2022-07-02T19:37:06.289753Z",
     "iopub.status.busy": "2022-07-02T19:37:06.289219Z",
     "iopub.status.idle": "2022-07-02T19:37:10.359670Z",
     "shell.execute_reply": "2022-07-02T19:37:10.358613Z"
    },
    "papermill": {
     "duration": 4.079323,
     "end_time": "2022-07-02T19:37:10.362151",
     "exception": false,
     "start_time": "2022-07-02T19:37:06.282828",
     "status": "completed"
    },
    "tags": []
   },
   "outputs": [],
   "source": [
    "data_path=\"../input/foursquare-nyc-and-tokyo-checkin-dataset/dataset_TSMC2014_NYC.csv\"\n",
    "custom_date_parser = lambda x: datetime.strptime(x, \"%a %b %d %H:%M:%S +0000 %Y\")\n",
    "df = pd.read_csv(data_path,parse_dates=['utcTimestamp'],date_parser=custom_date_parser)"
   ]
  },
  {
   "cell_type": "code",
   "execution_count": 3,
   "id": "d6048c6c",
   "metadata": {
    "execution": {
     "iopub.execute_input": "2022-07-02T19:37:10.373242Z",
     "iopub.status.busy": "2022-07-02T19:37:10.372895Z",
     "iopub.status.idle": "2022-07-02T19:37:10.379983Z",
     "shell.execute_reply": "2022-07-02T19:37:10.378766Z"
    },
    "papermill": {
     "duration": 0.015226,
     "end_time": "2022-07-02T19:37:10.382243",
     "exception": false,
     "start_time": "2022-07-02T19:37:10.367017",
     "status": "completed"
    },
    "tags": []
   },
   "outputs": [],
   "source": [
    "def get_ids(k_data,n):\n",
    "    k_dict=dict()\n",
    "    for k in k_data:\n",
    "        if k_dict.get(k)==None:\n",
    "            k_dict[k]=0\n",
    "        k_dict[k]+=1\n",
    "    rank=sorted(k_dict.items(),key=lambda kv:kv[1],reverse=True)\n",
    "    k_ids=[]\n",
    "    for i in range(min(n,len(rank))):\n",
    "        k_ids.append(rank[i][0])\n",
    "    return k_ids"
   ]
  },
  {
   "cell_type": "code",
   "execution_count": 4,
   "id": "0f0c3714",
   "metadata": {
    "execution": {
     "iopub.execute_input": "2022-07-02T19:37:10.393291Z",
     "iopub.status.busy": "2022-07-02T19:37:10.392919Z",
     "iopub.status.idle": "2022-07-02T19:37:10.398893Z",
     "shell.execute_reply": "2022-07-02T19:37:10.397739Z"
    },
    "papermill": {
     "duration": 0.013996,
     "end_time": "2022-07-02T19:37:10.400996",
     "exception": false,
     "start_time": "2022-07-02T19:37:10.387000",
     "status": "completed"
    },
    "tags": []
   },
   "outputs": [],
   "source": [
    "def date_convert(date_to_convert):\n",
    "    pru = datetime.datetime.strptime(date_to_convert, '%a %b %d %H:%M:%S +0000 %Y')+ datetime.timedelta(hours=-240//60)\n",
    "    return pru.strftime('%b %d %Y %H:%M:%S')\n",
    "\n",
    "def min2hour(m):\n",
    "    return  timedelta(hours=m/60)"
   ]
  },
  {
   "cell_type": "code",
   "execution_count": 5,
   "id": "f746ef71",
   "metadata": {
    "execution": {
     "iopub.execute_input": "2022-07-02T19:37:10.412828Z",
     "iopub.status.busy": "2022-07-02T19:37:10.411825Z",
     "iopub.status.idle": "2022-07-02T19:37:10.426368Z",
     "shell.execute_reply": "2022-07-02T19:37:10.425253Z"
    },
    "papermill": {
     "duration": 0.022849,
     "end_time": "2022-07-02T19:37:10.428720",
     "exception": false,
     "start_time": "2022-07-02T19:37:10.405871",
     "status": "completed"
    },
    "tags": []
   },
   "outputs": [],
   "source": [
    "class DataProcess:\n",
    "    def __init__(self, data_path, n_user=100, n_venue=500, n_venuecat=40, alpha=0.8):\n",
    "        print(\"start load data\")\n",
    "        custom_date_parser = lambda x: datetime.strptime(x, \"%a %b %d %H:%M:%S +0000 %Y\")\n",
    "        df = pd.read_csv(data_path,parse_dates=['utcTimestamp'],date_parser=custom_date_parser)\n",
    "        print(\"start process data\")\n",
    "        df[\"realtime\"] = df['utcTimestamp'] + df['timezoneOffset'].apply(min2hour)\n",
    "        df[\"hour\"] = df[\"realtime\"].dt.hour \n",
    "        #df[\"work\"] = df['hour'].apply(lambda x: 'Not' if (17 <= x < 24) or (0 <= x < 9)else 'Yes')\n",
    "        df[\"dayweek\"] = df[\"realtime\"].dt.dayofweek \n",
    "        #df[\"workday\"] = df['dayweek'].apply(lambda x: 'True' if x <= 5 else 'False')\n",
    "        \n",
    "        user_ids=get_ids(df['userId'].values,n_user)\n",
    "        df = df[(df['userId'].isin(user_ids))]\n",
    "        venue_ids=get_ids(df['venueId'].values,n_venue)\n",
    "        df = df[(df['venueId'].isin(venue_ids))]\n",
    "        venuecat_ids=get_ids(df['venueCategoryId'].values,n_venuecat)\n",
    "        df = df[(df['venueCategoryId'].isin(venuecat_ids))]\n",
    "        user_ids=get_ids(df['userId'].values,n_user)\n",
    "        venue_ids=get_ids(df['venueId'].values,n_venue)\n",
    "        venuecat_ids=get_ids(df['venueCategoryId'].values,n_venuecat)\n",
    "        \n",
    "        self.n_user=len(user_ids)\n",
    "        self.n_venue=len(venue_ids)\n",
    "        self.n_venuecat=len(venuecat_ids)\n",
    "        print(\"Number of users = {} , Number of venues = {} , Number of venuecategorys = {}\".format(self.n_user,self.n_venue,self.n_venuecat))\n",
    "        \n",
    "        u_id2idx = dict(zip(user_ids, range(self.n_user)))\n",
    "        v_id2idx = dict(zip(venue_ids, range(self.n_venue)))\n",
    "        vc_id2idx = dict(zip(venuecat_ids, range(self.n_venuecat)))\n",
    "        \n",
    "        df = df[(df['userId'].isin(user_ids))&(df['venueId'].isin(venue_ids))&(df['venueCategoryId'].isin(venuecat_ids))]\n",
    "        df = df.assign(userId=[u_id2idx[uid] for uid in df.userId])\n",
    "        df = df.assign(venueId=[v_id2idx[vid] for vid in df.venueId])\n",
    "        df = df.assign(venueCategoryId=[vc_id2idx[vcid] for vcid in df.venueCategoryId])\n",
    "        headers = ['userId','venueId','venueCategoryId','hour','dayweek']\n",
    "        df = pd.DataFrame(df,columns = headers)\n",
    "        df = df.reset_index(drop=True)\n",
    "        self.df = df\n",
    "        self.v2vc=dict()\n",
    "        for i in range(len(df)):\n",
    "            self.v2vc[df.loc[i,'venueId']]=df.loc[i,'venueCategoryId']"
   ]
  },
  {
   "cell_type": "markdown",
   "id": "2b7862ed",
   "metadata": {
    "papermill": {
     "duration": 0.004333,
     "end_time": "2022-07-02T19:37:10.437799",
     "exception": false,
     "start_time": "2022-07-02T19:37:10.433466",
     "status": "completed"
    },
    "tags": []
   },
   "source": [
    "# FM model"
   ]
  },
  {
   "cell_type": "code",
   "execution_count": 6,
   "id": "de0ab835",
   "metadata": {
    "execution": {
     "iopub.execute_input": "2022-07-02T19:37:10.449185Z",
     "iopub.status.busy": "2022-07-02T19:37:10.448465Z",
     "iopub.status.idle": "2022-07-02T19:37:10.462691Z",
     "shell.execute_reply": "2022-07-02T19:37:10.461561Z"
    },
    "papermill": {
     "duration": 0.023035,
     "end_time": "2022-07-02T19:37:10.465505",
     "exception": false,
     "start_time": "2022-07-02T19:37:10.442470",
     "status": "completed"
    },
    "tags": []
   },
   "outputs": [],
   "source": [
    "class FactorizationMachine():\n",
    "    def __init__(self, k=5, lr=0.001, iterations=100): \n",
    "        self.w0 = None \n",
    "        self.w = None \n",
    "        self.v = None \n",
    "        self.k = k \n",
    "        self.lr = lr\n",
    "        self.iterations = iterations\n",
    "        self.losses = []\n",
    "        \n",
    "        \n",
    "    def FM_cul(self, x):\n",
    "        inter2 = np.sum((x.dot(self.v)) ** 2 - (x ** 2).dot(self.v ** 2)) \n",
    "        y = self.w0 + x.dot(self.w) + inter2 / 2  \n",
    "        return y[0]\n",
    "        \n",
    "        \n",
    "    def train(self, X, Y):\n",
    "        m, n = np.shape(X)\n",
    "        self.w0 = 0\n",
    "        self.w = np.random.uniform(size=(n, 1))\n",
    "        self.v = np.random.uniform(size=(n, self.k)) \n",
    "        \n",
    "        for it in range(self.iterations):\n",
    "            loss = 0  \n",
    "            for i in range(m):  \n",
    "                y = self.FM_cul(x=X[i])  \n",
    "                loss += pow(Y[i]-y,2)  #计算损失函数值\n",
    "                dloss_w0 = -2*(Y[i]-y)# 对w0求导\n",
    "                self.w0 = self.w0 - self.lr * dloss_w0 \n",
    "                for j in range(n): \n",
    "                    if X[i][j] > 0:\n",
    "                        dloss_wj = dloss_w0 * X[i][j]  # 对wj求导\n",
    "                        self.w[j] = self.w[j] - self.lr * dloss_wj \n",
    "                        for f in range(self.k):  # 对vjf求导\n",
    "                            dloss_vjf = dloss_wj * (X[i].dot(self.v[:, f]) - self.v[j, f] * X[i, j])\n",
    "                            self.v[j][f] = self.v[j][f] - self.lr * dloss_vjf \n",
    "                            \n",
    "            self.losses.append(loss/m)\n",
    "            if it % 10==0:\n",
    "                print(\"iter :{}| loss :{:.4f}\".format(it, loss/m))\n",
    "                \n",
    "    def evaluate(self, X, Y):\n",
    "        Y_predict=[]\n",
    "        m=X.shape[0]\n",
    "        for i in range(m):  # 遍历测试集\n",
    "            y = self.FM_cul(x=X[i])  # FM的模型方程 \n",
    "            Y_predict.append(y)\n",
    "        return Y_predict\n",
    "    "
   ]
  },
  {
   "cell_type": "markdown",
   "id": "577780fc",
   "metadata": {
    "papermill": {
     "duration": 0.004368,
     "end_time": "2022-07-02T19:37:10.474546",
     "exception": false,
     "start_time": "2022-07-02T19:37:10.470178",
     "status": "completed"
    },
    "tags": []
   },
   "source": [
    "# Train & Predict"
   ]
  },
  {
   "cell_type": "code",
   "execution_count": 7,
   "id": "a6074909",
   "metadata": {
    "execution": {
     "iopub.execute_input": "2022-07-02T19:37:10.485663Z",
     "iopub.status.busy": "2022-07-02T19:37:10.484942Z",
     "iopub.status.idle": "2022-07-02T19:37:15.504493Z",
     "shell.execute_reply": "2022-07-02T19:37:15.503600Z"
    },
    "papermill": {
     "duration": 5.028009,
     "end_time": "2022-07-02T19:37:15.507054",
     "exception": false,
     "start_time": "2022-07-02T19:37:10.479045",
     "status": "completed"
    },
    "tags": []
   },
   "outputs": [
    {
     "name": "stdout",
     "output_type": "stream",
     "text": [
      "start load data\n",
      "start process data\n",
      "Number of users = 100 , Number of venues = 392 , Number of venuecategorys = 40\n"
     ]
    }
   ],
   "source": [
    "data_path=\"../input/foursquare-nyc-and-tokyo-checkin-dataset/dataset_TSMC2014_NYC.csv\"\n",
    "dp = DataProcess(data_path)"
   ]
  },
  {
   "cell_type": "code",
   "execution_count": 8,
   "id": "011902b8",
   "metadata": {
    "execution": {
     "iopub.execute_input": "2022-07-02T19:37:15.519693Z",
     "iopub.status.busy": "2022-07-02T19:37:15.519094Z",
     "iopub.status.idle": "2022-07-02T19:37:16.181667Z",
     "shell.execute_reply": "2022-07-02T19:37:16.180448Z"
    },
    "papermill": {
     "duration": 0.672264,
     "end_time": "2022-07-02T19:37:16.184395",
     "exception": false,
     "start_time": "2022-07-02T19:37:15.512131",
     "status": "completed"
    },
    "tags": []
   },
   "outputs": [],
   "source": [
    "user_day_venue_mx=np.zeros((dp.n_user*7,dp.n_venue))\n",
    "for i in range(len(dp.df)):\n",
    "    u=dp.df.loc[i,'userId']\n",
    "    d=dp.df.loc[i,'dayweek']\n",
    "    v=dp.df.loc[i,'venueId']\n",
    "    user_day_venue_mx[u*7+d][v]+=1\n",
    "user_day_venue_mx=user_day_venue_mx[np.sum(user_day_venue_mx,axis=-1)>10]"
   ]
  },
  {
   "cell_type": "code",
   "execution_count": 9,
   "id": "a50fa798",
   "metadata": {
    "execution": {
     "iopub.execute_input": "2022-07-02T19:37:16.196250Z",
     "iopub.status.busy": "2022-07-02T19:37:16.195649Z",
     "iopub.status.idle": "2022-07-02T19:37:16.842647Z",
     "shell.execute_reply": "2022-07-02T19:37:16.841456Z"
    },
    "papermill": {
     "duration": 0.656013,
     "end_time": "2022-07-02T19:37:16.845200",
     "exception": false,
     "start_time": "2022-07-02T19:37:16.189187",
     "status": "completed"
    },
    "tags": []
   },
   "outputs": [],
   "source": [
    "alpha=0.8\n",
    "train_data=[]\n",
    "test_data=[]\n",
    "for i in range(user_day_venue_mx.shape[0]):\n",
    "    if np.random.rand()<alpha:\n",
    "        for j in range(user_day_venue_mx.shape[1]):\n",
    "            train_data.append([i//7,j,dp.v2vc[j],i&7,user_day_venue_mx[i][j]])\n",
    "    else:\n",
    "        for j in range(user_day_venue_mx.shape[1]):\n",
    "            test_data.append([i//7,j,dp.v2vc[j],i&7,user_day_venue_mx[i][j]])\n",
    "train_data=np.array(train_data)\n",
    "test_data=np.array(test_data)"
   ]
  },
  {
   "cell_type": "code",
   "execution_count": 10,
   "id": "347d7ae0",
   "metadata": {
    "execution": {
     "iopub.execute_input": "2022-07-02T19:37:16.857443Z",
     "iopub.status.busy": "2022-07-02T19:37:16.856442Z",
     "iopub.status.idle": "2022-07-02T19:37:16.865896Z",
     "shell.execute_reply": "2022-07-02T19:37:16.864756Z"
    },
    "papermill": {
     "duration": 0.019481,
     "end_time": "2022-07-02T19:37:16.869649",
     "exception": false,
     "start_time": "2022-07-02T19:37:16.850168",
     "status": "completed"
    },
    "tags": []
   },
   "outputs": [],
   "source": [
    "df_train=pd.DataFrame(train_data,columns=['uid','vid','vcid','day','times'])\n",
    "df_test=pd.DataFrame(test_data,columns=['uid','vid','vcid','day','times'])\n",
    "df_train=df_train[df_train['times']>0]\n",
    "df_test=df_test[df_test['times']>0]"
   ]
  },
  {
   "cell_type": "code",
   "execution_count": 11,
   "id": "2b7d3e7e",
   "metadata": {
    "execution": {
     "iopub.execute_input": "2022-07-02T19:37:16.885139Z",
     "iopub.status.busy": "2022-07-02T19:37:16.884198Z",
     "iopub.status.idle": "2022-07-02T19:37:16.920094Z",
     "shell.execute_reply": "2022-07-02T19:37:16.918837Z"
    },
    "papermill": {
     "duration": 0.047395,
     "end_time": "2022-07-02T19:37:16.924104",
     "exception": false,
     "start_time": "2022-07-02T19:37:16.876709",
     "status": "completed"
    },
    "tags": []
   },
   "outputs": [],
   "source": [
    "df=pd.concat([df_train,df_test])\n",
    "df = df.reset_index(drop=True)\n",
    "df=pd.get_dummies(df,columns=['uid','vid','vcid','day'])\n",
    "df_train = df.iloc[:len(df_train),:]\n",
    "df_test = df.iloc[len(df_train):,:]"
   ]
  },
  {
   "cell_type": "code",
   "execution_count": 12,
   "id": "c11b087d",
   "metadata": {
    "execution": {
     "iopub.execute_input": "2022-07-02T19:37:16.941300Z",
     "iopub.status.busy": "2022-07-02T19:37:16.940808Z",
     "iopub.status.idle": "2022-07-02T19:37:16.952997Z",
     "shell.execute_reply": "2022-07-02T19:37:16.951680Z"
    },
    "papermill": {
     "duration": 0.023642,
     "end_time": "2022-07-02T19:37:16.955678",
     "exception": false,
     "start_time": "2022-07-02T19:37:16.932036",
     "status": "completed"
    },
    "tags": []
   },
   "outputs": [],
   "source": [
    "X_train = df_train.drop('times', axis=1).values\n",
    "Y_train = df_train['times'].values\n",
    "X_test = df_test.drop('times', axis=1).values\n",
    "Y_test = df_test['times'].values"
   ]
  },
  {
   "cell_type": "code",
   "execution_count": 13,
   "id": "1837eefe",
   "metadata": {
    "execution": {
     "iopub.execute_input": "2022-07-02T19:37:16.970543Z",
     "iopub.status.busy": "2022-07-02T19:37:16.969212Z",
     "iopub.status.idle": "2022-07-02T19:37:16.982485Z",
     "shell.execute_reply": "2022-07-02T19:37:16.981378Z"
    },
    "papermill": {
     "duration": 0.02288,
     "end_time": "2022-07-02T19:37:16.984646",
     "exception": false,
     "start_time": "2022-07-02T19:37:16.961766",
     "status": "completed"
    },
    "tags": []
   },
   "outputs": [
    {
     "data": {
      "text/plain": [
       "array([[1, 0, 0, ..., 0, 0, 0],\n",
       "       [1, 0, 0, ..., 0, 0, 0],\n",
       "       [1, 0, 0, ..., 0, 0, 0],\n",
       "       ...,\n",
       "       [0, 0, 0, ..., 0, 1, 0],\n",
       "       [0, 0, 0, ..., 0, 1, 0],\n",
       "       [0, 0, 0, ..., 0, 1, 0]], dtype=uint8)"
      ]
     },
     "execution_count": 13,
     "metadata": {},
     "output_type": "execute_result"
    }
   ],
   "source": [
    "X_train"
   ]
  },
  {
   "cell_type": "code",
   "execution_count": 14,
   "id": "54b7a80e",
   "metadata": {
    "execution": {
     "iopub.execute_input": "2022-07-02T19:37:16.996377Z",
     "iopub.status.busy": "2022-07-02T19:37:16.995496Z",
     "iopub.status.idle": "2022-07-02T19:42:35.837656Z",
     "shell.execute_reply": "2022-07-02T19:42:35.836418Z"
    },
    "papermill": {
     "duration": 318.850527,
     "end_time": "2022-07-02T19:42:35.840124",
     "exception": false,
     "start_time": "2022-07-02T19:37:16.989597",
     "status": "completed"
    },
    "scrolled": true,
    "tags": []
   },
   "outputs": [
    {
     "name": "stdout",
     "output_type": "stream",
     "text": [
      "iter :0| loss :21.7135\n",
      "iter :10| loss :7.1270\n",
      "iter :20| loss :4.7633\n",
      "iter :30| loss :3.1933\n",
      "iter :40| loss :2.1710\n",
      "iter :50| loss :1.5656\n",
      "iter :60| loss :1.2249\n",
      "iter :70| loss :1.0224\n",
      "iter :80| loss :0.8889\n",
      "iter :90| loss :0.7939\n"
     ]
    }
   ],
   "source": [
    "md=FactorizationMachine(k=10, lr=0.001, iterations=100)\n",
    "md.train(X_train, Y_train)"
   ]
  },
  {
   "cell_type": "code",
   "execution_count": 15,
   "id": "96d5ad2d",
   "metadata": {
    "execution": {
     "iopub.execute_input": "2022-07-02T19:42:35.853071Z",
     "iopub.status.busy": "2022-07-02T19:42:35.852695Z",
     "iopub.status.idle": "2022-07-02T19:42:35.859411Z",
     "shell.execute_reply": "2022-07-02T19:42:35.858396Z"
    },
    "papermill": {
     "duration": 0.015968,
     "end_time": "2022-07-02T19:42:35.861546",
     "exception": false,
     "start_time": "2022-07-02T19:42:35.845578",
     "status": "completed"
    },
    "tags": []
   },
   "outputs": [],
   "source": [
    "def get_list(p,r):\n",
    "    p_=[]\n",
    "    r_=[]\n",
    "    for i in range(len(p)):\n",
    "        p_.append(p[i][0])\n",
    "        r_.append(r[i][0])\n",
    "    return p_,r_\n",
    "def Recall(p,r):\n",
    "    num=0\n",
    "    for i in range(len(p)):\n",
    "        if p[i] in r:\n",
    "            num+=1\n",
    "    return num/len(p)"
   ]
  },
  {
   "cell_type": "code",
   "execution_count": 16,
   "id": "20e6fe05",
   "metadata": {
    "execution": {
     "iopub.execute_input": "2022-07-02T19:42:35.875943Z",
     "iopub.status.busy": "2022-07-02T19:42:35.875600Z",
     "iopub.status.idle": "2022-07-02T19:42:35.881904Z",
     "shell.execute_reply": "2022-07-02T19:42:35.880779Z"
    },
    "papermill": {
     "duration": 0.01791,
     "end_time": "2022-07-02T19:42:35.884828",
     "exception": false,
     "start_time": "2022-07-02T19:42:35.866918",
     "status": "completed"
    },
    "tags": []
   },
   "outputs": [],
   "source": [
    "def AP(p,r,k):\n",
    "    sum_ap=num=0\n",
    "    n=len(p)\n",
    "    for i in range(k):\n",
    "        if p[i] in r:\n",
    "            num+=1\n",
    "            sum_ap+=num/(i+1)\n",
    "    return sum_ap/(max(k,n))"
   ]
  },
  {
   "cell_type": "code",
   "execution_count": 17,
   "id": "33bc7ee0",
   "metadata": {
    "execution": {
     "iopub.execute_input": "2022-07-02T19:42:35.902828Z",
     "iopub.status.busy": "2022-07-02T19:42:35.902240Z",
     "iopub.status.idle": "2022-07-02T19:42:35.908392Z",
     "shell.execute_reply": "2022-07-02T19:42:35.907417Z"
    },
    "papermill": {
     "duration": 0.016538,
     "end_time": "2022-07-02T19:42:35.910635",
     "exception": false,
     "start_time": "2022-07-02T19:42:35.894097",
     "status": "completed"
    },
    "tags": []
   },
   "outputs": [],
   "source": [
    "def nDCG(p,r,k):\n",
    "    sum_dcg=0\n",
    "    sum_idcg=0\n",
    "    for i in range(k):\n",
    "        sum_idcg+=1/math.log(i+2,2)\n",
    "        if p[i] in r:\n",
    "            sum_dcg+=1/math.log(i+2,2)\n",
    "    return sum_dcg/sum_idcg    "
   ]
  },
  {
   "cell_type": "code",
   "execution_count": 18,
   "id": "1061701a",
   "metadata": {
    "execution": {
     "iopub.execute_input": "2022-07-02T19:42:35.927183Z",
     "iopub.status.busy": "2022-07-02T19:42:35.926686Z",
     "iopub.status.idle": "2022-07-02T19:42:35.979684Z",
     "shell.execute_reply": "2022-07-02T19:42:35.978228Z"
    },
    "papermill": {
     "duration": 0.065327,
     "end_time": "2022-07-02T19:42:35.982096",
     "exception": false,
     "start_time": "2022-07-02T19:42:35.916769",
     "status": "completed"
    },
    "tags": []
   },
   "outputs": [
    {
     "name": "stdout",
     "output_type": "stream",
     "text": [
      "Recall :0.6000 |AP@5 :0.5000 |AP@10 :0.5750 |nDCG@5 :1.0000 |nDCG@10 :0.7184\n",
      "Recall :0.6000 |AP@5 :0.3217 |AP@10 :0.4681 |nDCG@5 :0.7860 |nDCG@10 :0.6529\n",
      "Recall :0.8000 |AP@5 :0.5000 |AP@10 :0.8000 |nDCG@5 :1.0000 |nDCG@10 :0.8701\n",
      "Recall :0.9000 |AP@5 :0.5000 |AP@10 :0.9000 |nDCG@5 :1.0000 |nDCG@10 :0.9364\n",
      "Recall :0.8000 |AP@5 :0.2717 |AP@10 :0.6082 |nDCG@5 :0.6608 |nDCG@10 :0.7137\n",
      "Recall :1.0000 |AP@5 :0.5000 |AP@10 :1.0000 |nDCG@5 :1.0000 |nDCG@10 :1.0000\n",
      "Recall :0.9000 |AP@5 :0.5000 |AP@10 :0.8900 |nDCG@5 :1.0000 |nDCG@10 :0.9337\n",
      "Recall :0.7000 |AP@5 :0.5000 |AP@10 :0.6732 |nDCG@5 :1.0000 |nDCG@10 :0.7917\n",
      "Recall :1.0000 |AP@5 :0.5000 |AP@10 :1.0000 |nDCG@5 :1.0000 |nDCG@10 :1.0000\n",
      "Recall :0.9000 |AP@5 :0.5000 |AP@10 :0.8664 |nDCG@5 :1.0000 |nDCG@10 :0.9266\n",
      "Recall :0.9000 |AP@5 :0.5000 |AP@10 :0.8900 |nDCG@5 :1.0000 |nDCG@10 :0.9337\n",
      "Recall :0.9000 |AP@5 :0.5000 |AP@10 :0.8900 |nDCG@5 :1.0000 |nDCG@10 :0.9337\n",
      "Recall :0.9000 |AP@5 :0.5000 |AP@10 :0.8900 |nDCG@5 :1.0000 |nDCG@10 :0.9337\n",
      "Recall :0.9000 |AP@5 :0.5000 |AP@10 :0.9000 |nDCG@5 :1.0000 |nDCG@10 :0.9364\n",
      "Recall :1.0000 |AP@5 :0.5000 |AP@10 :1.0000 |nDCG@5 :1.0000 |nDCG@10 :1.0000\n",
      "Recall :0.9000 |AP@5 :0.5000 |AP@10 :0.8789 |nDCG@5 :1.0000 |nDCG@10 :0.9306\n",
      "Recall :0.9000 |AP@5 :0.5000 |AP@10 :0.8900 |nDCG@5 :1.0000 |nDCG@10 :0.9337\n",
      "MAP5 :0.4761 |MAP10 :0.8306\n"
     ]
    }
   ],
   "source": [
    "Y_predict=md.evaluate(X_test, Y_test)\n",
    "n=10\n",
    "m=len(Y_predict)\n",
    "t=[X_test[0].nonzero()[0][0],X_test[0].nonzero()[0][-1]]\n",
    "cnt=0\n",
    "map5=0\n",
    "map10=0\n",
    "num=0\n",
    "for i in range(1,m):\n",
    "    t_=[X_test[i].nonzero()[0][0],X_test[i].nonzero()[0][-1]]\n",
    "    if t!=t_:\n",
    "        predict = dict(zip(range(i-cnt),Y_predict[cnt:i]))\n",
    "        real = dict(zip(range(i-cnt),Y_test[cnt:i]))\n",
    "        p=sorted(predict.items(),key=lambda kv:kv[1],reverse=True)\n",
    "        r=sorted(real.items(),key=lambda kv:kv[1],reverse=True)\n",
    "        p,r=get_list(p,r)\n",
    "        cnt=i\n",
    "        t=t_\n",
    "        if len(p)<10:\n",
    "            continue\n",
    "        num+=1\n",
    "        p=p[0:n]\n",
    "        r=r[0:n]\n",
    "        recall=Recall(p,r)\n",
    "        ap5=AP(p,r,5)\n",
    "        map5+=ap5\n",
    "        ap10=AP(p,r,10)\n",
    "        map10+=ap10\n",
    "        ndcg5=nDCG(p,r,5)\n",
    "        ndcg10=nDCG(p,r,10)\n",
    "        print('Recall :{:.4f} |AP@5 :{:.4f} |AP@10 :{:.4f} |nDCG@5 :{:.4f} |nDCG@10 :{:.4f}'.format(recall,ap5,ap10,ndcg5,ndcg10))\n",
    "map5/=num\n",
    "map10/=num\n",
    "print('MAP5 :{:.4f} |MAP10 :{:.4f}'.format(map5,map10))"
   ]
  },
  {
   "cell_type": "code",
   "execution_count": 19,
   "id": "eb7095f9",
   "metadata": {
    "execution": {
     "iopub.execute_input": "2022-07-02T19:42:35.995386Z",
     "iopub.status.busy": "2022-07-02T19:42:35.994788Z",
     "iopub.status.idle": "2022-07-02T19:42:36.206665Z",
     "shell.execute_reply": "2022-07-02T19:42:36.205562Z"
    },
    "papermill": {
     "duration": 0.221148,
     "end_time": "2022-07-02T19:42:36.209088",
     "exception": false,
     "start_time": "2022-07-02T19:42:35.987940",
     "status": "completed"
    },
    "tags": []
   },
   "outputs": [
    {
     "data": {
      "text/plain": [
       "Text(0, 0.5, 'loss')"
      ]
     },
     "execution_count": 19,
     "metadata": {},
     "output_type": "execute_result"
    },
    {
     "data": {
      "image/png": "[encoded data removed]",
      "text/plain": [
       "<Figure size 432x288 with 1 Axes>"
      ]
     },
     "metadata": {
      "needs_background": "light"
     },
     "output_type": "display_data"
    }
   ],
   "source": [
    "plt.plot(md.losses)\n",
    "plt.xlabel('Iteration')\n",
    "plt.ylabel('loss')"
   ]
  }
 ],
 "metadata": {
  "kernelspec": {
   "display_name": "Python 3",
   "language": "python",
   "name": "python3"
  },
  "language_info": {
   "codemirror_mode": {
    "name": "ipython",
    "version": 3
   },
   "file_extension": ".py",
   "mimetype": "text/x-python",
   "name": "python",
   "nbconvert_exporter": "python",
   "pygments_lexer": "ipython3",
   "version": "3.7.12"
  },
  "papermill": {
   "default_parameters": {},
   "duration": 340.825211,
   "end_time": "2022-07-02T19:42:36.936695",
   "environment_variables": {},
   "exception": null,
   "input_path": "__notebook__.ipynb",
   "output_path": "__notebook__.ipynb",
   "parameters": {},
   "start_time": "2022-07-02T19:36:56.111484",
   "version": "2.3.4"
  }
 },
 "nbformat": 4,
 "nbformat_minor": 5
}
