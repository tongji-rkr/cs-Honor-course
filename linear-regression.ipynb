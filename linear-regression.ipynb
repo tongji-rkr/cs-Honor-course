{
 "cells": [
  {
   "cell_type": "code",
   "execution_count": 1,
   "id": "537ef6ae",
   "metadata": {
    "_cell_guid": "b1076dfc-b9ad-4769-8c92-a6c4dae69d19",
    "_uuid": "8f2839f25d086af736a60e9eeb907d3b93b6e0e5",
    "execution": {
     "iopub.execute_input": "2022-07-03T15:44:57.400396Z",
     "iopub.status.busy": "2022-07-03T15:44:57.399806Z",
     "iopub.status.idle": "2022-07-03T15:45:00.679151Z",
     "shell.execute_reply": "2022-07-03T15:45:00.678289Z"
    },
    "papermill": {
     "duration": 3.291631,
     "end_time": "2022-07-03T15:45:00.681525",
     "exception": false,
     "start_time": "2022-07-03T15:44:57.389894",
     "status": "completed"
    },
    "tags": []
   },
   "outputs": [],
   "source": [
    "#2053635任柯睿\n",
    "import torch \n",
    "import numpy as np\n",
    "import pandas as pd\n",
    "import json\n",
    "from datetime import datetime\n",
    "from sklearn.model_selection import train_test_split\n",
    "import matplotlib.pyplot as plt"
   ]
  },
  {
   "cell_type": "markdown",
   "id": "60d93c98",
   "metadata": {
    "papermill": {
     "duration": 0.004396,
     "end_time": "2022-07-03T15:45:00.691344",
     "exception": false,
     "start_time": "2022-07-03T15:45:00.686948",
     "status": "completed"
    },
    "tags": []
   },
   "source": [
    "### **读取数据**\n",
    "#### 读取数据集tmdb_5000_credits.csv和tmdb_5000_movies.csv并去除无关因素。"
   ]
  },
  {
   "cell_type": "code",
   "execution_count": 2,
   "id": "74f2faa2",
   "metadata": {
    "execution": {
     "iopub.execute_input": "2022-07-03T15:45:00.702871Z",
     "iopub.status.busy": "2022-07-03T15:45:00.702109Z",
     "iopub.status.idle": "2022-07-03T15:45:02.068904Z",
     "shell.execute_reply": "2022-07-03T15:45:02.067499Z"
    },
    "papermill": {
     "duration": 1.375373,
     "end_time": "2022-07-03T15:45:02.071435",
     "exception": false,
     "start_time": "2022-07-03T15:45:00.696062",
     "status": "completed"
    },
    "tags": []
   },
   "outputs": [
    {
     "data": {
      "text/html": [
       "<div>\n",
       "<style scoped>\n",
       "    .dataframe tbody tr th:only-of-type {\n",
       "        vertical-align: middle;\n",
       "    }\n",
       "\n",
       "    .dataframe tbody tr th {\n",
       "        vertical-align: top;\n",
       "    }\n",
       "\n",
       "    .dataframe thead th {\n",
       "        text-align: right;\n",
       "    }\n",
       "</style>\n",
       "<table border=\"1\" class=\"dataframe\">\n",
       "  <thead>\n",
       "    <tr style=\"text-align: right;\">\n",
       "      <th></th>\n",
       "      <th>budget</th>\n",
       "      <th>genres</th>\n",
       "      <th>original_language</th>\n",
       "      <th>popularity</th>\n",
       "      <th>release_date</th>\n",
       "      <th>revenue</th>\n",
       "      <th>runtime</th>\n",
       "      <th>status</th>\n",
       "      <th>vote_count</th>\n",
       "    </tr>\n",
       "  </thead>\n",
       "  <tbody>\n",
       "    <tr>\n",
       "      <th>0</th>\n",
       "      <td>237000000</td>\n",
       "      <td>[{\"id\": 28, \"name\": \"Action\"}, {\"id\": 12, \"nam...</td>\n",
       "      <td>en</td>\n",
       "      <td>150.437577</td>\n",
       "      <td>2009-12-10</td>\n",
       "      <td>2787965087</td>\n",
       "      <td>162.0</td>\n",
       "      <td>Released</td>\n",
       "      <td>11800</td>\n",
       "    </tr>\n",
       "    <tr>\n",
       "      <th>1</th>\n",
       "      <td>300000000</td>\n",
       "      <td>[{\"id\": 12, \"name\": \"Adventure\"}, {\"id\": 14, \"...</td>\n",
       "      <td>en</td>\n",
       "      <td>139.082615</td>\n",
       "      <td>2007-05-19</td>\n",
       "      <td>961000000</td>\n",
       "      <td>169.0</td>\n",
       "      <td>Released</td>\n",
       "      <td>4500</td>\n",
       "    </tr>\n",
       "    <tr>\n",
       "      <th>2</th>\n",
       "      <td>245000000</td>\n",
       "      <td>[{\"id\": 28, \"name\": \"Action\"}, {\"id\": 12, \"nam...</td>\n",
       "      <td>en</td>\n",
       "      <td>107.376788</td>\n",
       "      <td>2015-10-26</td>\n",
       "      <td>880674609</td>\n",
       "      <td>148.0</td>\n",
       "      <td>Released</td>\n",
       "      <td>4466</td>\n",
       "    </tr>\n",
       "    <tr>\n",
       "      <th>3</th>\n",
       "      <td>250000000</td>\n",
       "      <td>[{\"id\": 28, \"name\": \"Action\"}, {\"id\": 80, \"nam...</td>\n",
       "      <td>en</td>\n",
       "      <td>112.312950</td>\n",
       "      <td>2012-07-16</td>\n",
       "      <td>1084939099</td>\n",
       "      <td>165.0</td>\n",
       "      <td>Released</td>\n",
       "      <td>9106</td>\n",
       "    </tr>\n",
       "    <tr>\n",
       "      <th>4</th>\n",
       "      <td>260000000</td>\n",
       "      <td>[{\"id\": 28, \"name\": \"Action\"}, {\"id\": 12, \"nam...</td>\n",
       "      <td>en</td>\n",
       "      <td>43.926995</td>\n",
       "      <td>2012-03-07</td>\n",
       "      <td>284139100</td>\n",
       "      <td>132.0</td>\n",
       "      <td>Released</td>\n",
       "      <td>2124</td>\n",
       "    </tr>\n",
       "    <tr>\n",
       "      <th>...</th>\n",
       "      <td>...</td>\n",
       "      <td>...</td>\n",
       "      <td>...</td>\n",
       "      <td>...</td>\n",
       "      <td>...</td>\n",
       "      <td>...</td>\n",
       "      <td>...</td>\n",
       "      <td>...</td>\n",
       "      <td>...</td>\n",
       "    </tr>\n",
       "    <tr>\n",
       "      <th>4798</th>\n",
       "      <td>220000</td>\n",
       "      <td>[{\"id\": 28, \"name\": \"Action\"}, {\"id\": 80, \"nam...</td>\n",
       "      <td>es</td>\n",
       "      <td>14.269792</td>\n",
       "      <td>1992-09-04</td>\n",
       "      <td>2040920</td>\n",
       "      <td>81.0</td>\n",
       "      <td>Released</td>\n",
       "      <td>238</td>\n",
       "    </tr>\n",
       "    <tr>\n",
       "      <th>4799</th>\n",
       "      <td>9000</td>\n",
       "      <td>[{\"id\": 35, \"name\": \"Comedy\"}, {\"id\": 10749, \"...</td>\n",
       "      <td>en</td>\n",
       "      <td>0.642552</td>\n",
       "      <td>2011-12-26</td>\n",
       "      <td>0</td>\n",
       "      <td>85.0</td>\n",
       "      <td>Released</td>\n",
       "      <td>5</td>\n",
       "    </tr>\n",
       "    <tr>\n",
       "      <th>4800</th>\n",
       "      <td>0</td>\n",
       "      <td>[{\"id\": 35, \"name\": \"Comedy\"}, {\"id\": 18, \"nam...</td>\n",
       "      <td>en</td>\n",
       "      <td>1.444476</td>\n",
       "      <td>2013-10-13</td>\n",
       "      <td>0</td>\n",
       "      <td>120.0</td>\n",
       "      <td>Released</td>\n",
       "      <td>6</td>\n",
       "    </tr>\n",
       "    <tr>\n",
       "      <th>4801</th>\n",
       "      <td>0</td>\n",
       "      <td>[]</td>\n",
       "      <td>en</td>\n",
       "      <td>0.857008</td>\n",
       "      <td>2012-05-03</td>\n",
       "      <td>0</td>\n",
       "      <td>98.0</td>\n",
       "      <td>Released</td>\n",
       "      <td>7</td>\n",
       "    </tr>\n",
       "    <tr>\n",
       "      <th>4802</th>\n",
       "      <td>0</td>\n",
       "      <td>[{\"id\": 99, \"name\": \"Documentary\"}]</td>\n",
       "      <td>en</td>\n",
       "      <td>1.929883</td>\n",
       "      <td>2005-08-05</td>\n",
       "      <td>0</td>\n",
       "      <td>90.0</td>\n",
       "      <td>Released</td>\n",
       "      <td>16</td>\n",
       "    </tr>\n",
       "  </tbody>\n",
       "</table>\n",
       "<p>4803 rows × 9 columns</p>\n",
       "</div>"
      ],
      "text/plain": [
       "         budget                                             genres  \\\n",
       "0     237000000  [{\"id\": 28, \"name\": \"Action\"}, {\"id\": 12, \"nam...   \n",
       "1     300000000  [{\"id\": 12, \"name\": \"Adventure\"}, {\"id\": 14, \"...   \n",
       "2     245000000  [{\"id\": 28, \"name\": \"Action\"}, {\"id\": 12, \"nam...   \n",
       "3     250000000  [{\"id\": 28, \"name\": \"Action\"}, {\"id\": 80, \"nam...   \n",
       "4     260000000  [{\"id\": 28, \"name\": \"Action\"}, {\"id\": 12, \"nam...   \n",
       "...         ...                                                ...   \n",
       "4798     220000  [{\"id\": 28, \"name\": \"Action\"}, {\"id\": 80, \"nam...   \n",
       "4799       9000  [{\"id\": 35, \"name\": \"Comedy\"}, {\"id\": 10749, \"...   \n",
       "4800          0  [{\"id\": 35, \"name\": \"Comedy\"}, {\"id\": 18, \"nam...   \n",
       "4801          0                                                 []   \n",
       "4802          0                [{\"id\": 99, \"name\": \"Documentary\"}]   \n",
       "\n",
       "     original_language  popularity release_date     revenue  runtime  \\\n",
       "0                   en  150.437577   2009-12-10  2787965087    162.0   \n",
       "1                   en  139.082615   2007-05-19   961000000    169.0   \n",
       "2                   en  107.376788   2015-10-26   880674609    148.0   \n",
       "3                   en  112.312950   2012-07-16  1084939099    165.0   \n",
       "4                   en   43.926995   2012-03-07   284139100    132.0   \n",
       "...                ...         ...          ...         ...      ...   \n",
       "4798                es   14.269792   1992-09-04     2040920     81.0   \n",
       "4799                en    0.642552   2011-12-26           0     85.0   \n",
       "4800                en    1.444476   2013-10-13           0    120.0   \n",
       "4801                en    0.857008   2012-05-03           0     98.0   \n",
       "4802                en    1.929883   2005-08-05           0     90.0   \n",
       "\n",
       "        status  vote_count  \n",
       "0     Released       11800  \n",
       "1     Released        4500  \n",
       "2     Released        4466  \n",
       "3     Released        9106  \n",
       "4     Released        2124  \n",
       "...        ...         ...  \n",
       "4798  Released         238  \n",
       "4799  Released           5  \n",
       "4800  Released           6  \n",
       "4801  Released           7  \n",
       "4802  Released          16  \n",
       "\n",
       "[4803 rows x 9 columns]"
      ]
     },
     "execution_count": 2,
     "metadata": {},
     "output_type": "execute_result"
    }
   ],
   "source": [
    "np.random.seed(555)\n",
    "df1=pd.read_csv('../input/tmdb-movie-metadata/tmdb_5000_credits.csv')\n",
    "df2=pd.read_csv('../input/tmdb-movie-metadata/tmdb_5000_movies.csv')\n",
    "y=df2['vote_average'].astype(float)\n",
    "ls=['budget', 'genres','original_language','popularity', 'release_date','revenue', 'runtime','status','vote_count']\n",
    "df=df2.loc[:,ls]\n",
    "df"
   ]
  },
  {
   "cell_type": "markdown",
   "id": "f05a26ee",
   "metadata": {
    "papermill": {
     "duration": 0.005028,
     "end_time": "2022-07-03T15:45:02.082290",
     "exception": false,
     "start_time": "2022-07-03T15:45:02.077262",
     "status": "completed"
    },
    "tags": []
   },
   "source": [
    "### **数据处理**\n",
    "#### 将genres中属性提取并进行分类，并将release_date等结果为离散值的属性进行独热处理。\n",
    "#### 之后对缺失数据用平均值进行补充，并对结果进行01正则化，方便训练。"
   ]
  },
  {
   "cell_type": "code",
   "execution_count": 3,
   "id": "56853d0e",
   "metadata": {
    "execution": {
     "iopub.execute_input": "2022-07-03T15:45:02.095486Z",
     "iopub.status.busy": "2022-07-03T15:45:02.095102Z",
     "iopub.status.idle": "2022-07-03T15:45:02.100427Z",
     "shell.execute_reply": "2022-07-03T15:45:02.099149Z"
    },
    "papermill": {
     "duration": 0.015018,
     "end_time": "2022-07-03T15:45:02.102900",
     "exception": false,
     "start_time": "2022-07-03T15:45:02.087882",
     "status": "completed"
    },
    "tags": []
   },
   "outputs": [],
   "source": [
    "def process_jsoncols(colname):\n",
    "    jsoncollist=[]\n",
    "    for x in colname:\n",
    "        jsoncollist.append(x['name'])\n",
    "    return jsoncollist"
   ]
  },
  {
   "cell_type": "code",
   "execution_count": 4,
   "id": "ec5f0b2c",
   "metadata": {
    "execution": {
     "iopub.execute_input": "2022-07-03T15:45:02.115138Z",
     "iopub.status.busy": "2022-07-03T15:45:02.114765Z",
     "iopub.status.idle": "2022-07-03T15:45:02.153241Z",
     "shell.execute_reply": "2022-07-03T15:45:02.152210Z"
    },
    "papermill": {
     "duration": 0.047365,
     "end_time": "2022-07-03T15:45:02.155552",
     "exception": false,
     "start_time": "2022-07-03T15:45:02.108187",
     "status": "completed"
    },
    "tags": []
   },
   "outputs": [],
   "source": [
    "df['genres'] = df['genres'].apply(json.loads, encoding=\"utf-8\")\n",
    "df['genres'] = df['genres'].apply(process_jsoncols)\n",
    "df['genres'] = df['genres'].apply(lambda x: ','.join(map(str, x)))"
   ]
  },
  {
   "cell_type": "code",
   "execution_count": 5,
   "id": "e08f3209",
   "metadata": {
    "execution": {
     "iopub.execute_input": "2022-07-03T15:45:02.167382Z",
     "iopub.status.busy": "2022-07-03T15:45:02.166951Z",
     "iopub.status.idle": "2022-07-03T15:45:02.181467Z",
     "shell.execute_reply": "2022-07-03T15:45:02.180332Z"
    },
    "papermill": {
     "duration": 0.022947,
     "end_time": "2022-07-03T15:45:02.183832",
     "exception": false,
     "start_time": "2022-07-03T15:45:02.160885",
     "status": "completed"
    },
    "tags": []
   },
   "outputs": [],
   "source": [
    "df['release_date'] = pd.to_datetime(df['release_date'])\n",
    "df['year'] = df['release_date'].dt.year\n",
    "df['month'] = df['release_date'].dt.month"
   ]
  },
  {
   "cell_type": "code",
   "execution_count": 6,
   "id": "d523e5ef",
   "metadata": {
    "execution": {
     "iopub.execute_input": "2022-07-03T15:45:02.196807Z",
     "iopub.status.busy": "2022-07-03T15:45:02.196353Z",
     "iopub.status.idle": "2022-07-03T15:45:02.213582Z",
     "shell.execute_reply": "2022-07-03T15:45:02.212827Z"
    },
    "papermill": {
     "duration": 0.026168,
     "end_time": "2022-07-03T15:45:02.215545",
     "exception": false,
     "start_time": "2022-07-03T15:45:02.189377",
     "status": "completed"
    },
    "tags": []
   },
   "outputs": [
    {
     "data": {
      "text/plain": [
       "['Drama',\n",
       " 'Documentary',\n",
       " 'Mystery',\n",
       " 'Crime',\n",
       " 'Music',\n",
       " 'Science Fiction',\n",
       " 'Fantasy',\n",
       " 'Romance',\n",
       " 'Adventure',\n",
       " 'Action',\n",
       " 'TV Movie',\n",
       " 'Family',\n",
       " 'War',\n",
       " 'Animation',\n",
       " 'Horror',\n",
       " 'History',\n",
       " 'Foreign',\n",
       " 'Thriller',\n",
       " 'Comedy',\n",
       " 'Western']"
      ]
     },
     "execution_count": 6,
     "metadata": {},
     "output_type": "execute_result"
    }
   ],
   "source": [
    "genres_list = set()\n",
    "for sstr in df['genres'].str.split(','):\n",
    "    genres_list = set().union(sstr, genres_list)\n",
    "genres_list = list(genres_list)\n",
    "genres_list.remove('')\n",
    "genres_list"
   ]
  },
  {
   "cell_type": "code",
   "execution_count": 7,
   "id": "67ed87df",
   "metadata": {
    "execution": {
     "iopub.execute_input": "2022-07-03T15:45:02.228647Z",
     "iopub.status.busy": "2022-07-03T15:45:02.227494Z",
     "iopub.status.idle": "2022-07-03T15:45:02.327154Z",
     "shell.execute_reply": "2022-07-03T15:45:02.326327Z"
    },
    "papermill": {
     "duration": 0.108697,
     "end_time": "2022-07-03T15:45:02.329425",
     "exception": false,
     "start_time": "2022-07-03T15:45:02.220728",
     "status": "completed"
    },
    "tags": []
   },
   "outputs": [],
   "source": [
    "for genres in genres_list:\n",
    "    df[genres] = df['genres'].str.contains(genres).apply(lambda x:1 if x else 0)"
   ]
  },
  {
   "cell_type": "code",
   "execution_count": 8,
   "id": "5bcc37d6",
   "metadata": {
    "execution": {
     "iopub.execute_input": "2022-07-03T15:45:02.342165Z",
     "iopub.status.busy": "2022-07-03T15:45:02.341212Z",
     "iopub.status.idle": "2022-07-03T15:45:02.356560Z",
     "shell.execute_reply": "2022-07-03T15:45:02.355485Z"
    },
    "papermill": {
     "duration": 0.024027,
     "end_time": "2022-07-03T15:45:02.358869",
     "exception": false,
     "start_time": "2022-07-03T15:45:02.334842",
     "status": "completed"
    },
    "tags": []
   },
   "outputs": [
    {
     "name": "stdout",
     "output_type": "stream",
     "text": [
      "Index(['release_date', 'runtime', 'year', 'month'], dtype='object')\n"
     ]
    }
   ],
   "source": [
    "ls=df.columns[df.isnull().sum()>0]\n",
    "print(ls)\n",
    "for s in ls:\n",
    "    meantime=df[s].mean()\n",
    "    df[s] = df[s].fillna(meantime)"
   ]
  },
  {
   "cell_type": "code",
   "execution_count": 9,
   "id": "9407edff",
   "metadata": {
    "execution": {
     "iopub.execute_input": "2022-07-03T15:45:02.371373Z",
     "iopub.status.busy": "2022-07-03T15:45:02.370487Z",
     "iopub.status.idle": "2022-07-03T15:45:02.383659Z",
     "shell.execute_reply": "2022-07-03T15:45:02.382668Z"
    },
    "papermill": {
     "duration": 0.021687,
     "end_time": "2022-07-03T15:45:02.385848",
     "exception": false,
     "start_time": "2022-07-03T15:45:02.364161",
     "status": "completed"
    },
    "tags": []
   },
   "outputs": [
    {
     "data": {
      "text/plain": [
       "budget               0\n",
       "genres               0\n",
       "original_language    0\n",
       "popularity           0\n",
       "release_date         0\n",
       "revenue              0\n",
       "runtime              0\n",
       "status               0\n",
       "vote_count           0\n",
       "year                 0\n",
       "month                0\n",
       "Drama                0\n",
       "Documentary          0\n",
       "Mystery              0\n",
       "Crime                0\n",
       "Music                0\n",
       "Science Fiction      0\n",
       "Fantasy              0\n",
       "Romance              0\n",
       "Adventure            0\n",
       "Action               0\n",
       "TV Movie             0\n",
       "Family               0\n",
       "War                  0\n",
       "Animation            0\n",
       "Horror               0\n",
       "History              0\n",
       "Foreign              0\n",
       "Thriller             0\n",
       "Comedy               0\n",
       "Western              0\n",
       "dtype: int64"
      ]
     },
     "execution_count": 9,
     "metadata": {},
     "output_type": "execute_result"
    }
   ],
   "source": [
    "#查看df中是否还有缺失数据\n",
    "df.isnull().sum()"
   ]
  },
  {
   "cell_type": "code",
   "execution_count": 10,
   "id": "3b39b18b",
   "metadata": {
    "execution": {
     "iopub.execute_input": "2022-07-03T15:45:02.398942Z",
     "iopub.status.busy": "2022-07-03T15:45:02.398538Z",
     "iopub.status.idle": "2022-07-03T15:45:02.463100Z",
     "shell.execute_reply": "2022-07-03T15:45:02.461990Z"
    },
    "papermill": {
     "duration": 0.074666,
     "end_time": "2022-07-03T15:45:02.465841",
     "exception": false,
     "start_time": "2022-07-03T15:45:02.391175",
     "status": "completed"
    },
    "tags": []
   },
   "outputs": [
    {
     "data": {
      "text/html": [
       "<div>\n",
       "<style scoped>\n",
       "    .dataframe tbody tr th:only-of-type {\n",
       "        vertical-align: middle;\n",
       "    }\n",
       "\n",
       "    .dataframe tbody tr th {\n",
       "        vertical-align: top;\n",
       "    }\n",
       "\n",
       "    .dataframe thead th {\n",
       "        text-align: right;\n",
       "    }\n",
       "</style>\n",
       "<table border=\"1\" class=\"dataframe\">\n",
       "  <thead>\n",
       "    <tr style=\"text-align: right;\">\n",
       "      <th></th>\n",
       "      <th>budget</th>\n",
       "      <th>popularity</th>\n",
       "      <th>revenue</th>\n",
       "      <th>runtime</th>\n",
       "      <th>vote_count</th>\n",
       "      <th>year</th>\n",
       "      <th>month</th>\n",
       "      <th>Drama</th>\n",
       "      <th>Documentary</th>\n",
       "      <th>Mystery</th>\n",
       "      <th>...</th>\n",
       "      <th>original_language_ta</th>\n",
       "      <th>original_language_te</th>\n",
       "      <th>original_language_th</th>\n",
       "      <th>original_language_tr</th>\n",
       "      <th>original_language_vi</th>\n",
       "      <th>original_language_xx</th>\n",
       "      <th>original_language_zh</th>\n",
       "      <th>status_Post Production</th>\n",
       "      <th>status_Released</th>\n",
       "      <th>status_Rumored</th>\n",
       "    </tr>\n",
       "  </thead>\n",
       "  <tbody>\n",
       "    <tr>\n",
       "      <th>0</th>\n",
       "      <td>0.623684</td>\n",
       "      <td>0.171815</td>\n",
       "      <td>1.000000</td>\n",
       "      <td>0.479290</td>\n",
       "      <td>0.858057</td>\n",
       "      <td>0.920792</td>\n",
       "      <td>1.000000</td>\n",
       "      <td>0.0</td>\n",
       "      <td>0.0</td>\n",
       "      <td>0.0</td>\n",
       "      <td>...</td>\n",
       "      <td>0.0</td>\n",
       "      <td>0.0</td>\n",
       "      <td>0.0</td>\n",
       "      <td>0.0</td>\n",
       "      <td>0.0</td>\n",
       "      <td>0.0</td>\n",
       "      <td>0.0</td>\n",
       "      <td>0.0</td>\n",
       "      <td>1.0</td>\n",
       "      <td>0.0</td>\n",
       "    </tr>\n",
       "    <tr>\n",
       "      <th>1</th>\n",
       "      <td>0.789474</td>\n",
       "      <td>0.158846</td>\n",
       "      <td>0.344696</td>\n",
       "      <td>0.500000</td>\n",
       "      <td>0.327225</td>\n",
       "      <td>0.900990</td>\n",
       "      <td>0.363636</td>\n",
       "      <td>0.0</td>\n",
       "      <td>0.0</td>\n",
       "      <td>0.0</td>\n",
       "      <td>...</td>\n",
       "      <td>0.0</td>\n",
       "      <td>0.0</td>\n",
       "      <td>0.0</td>\n",
       "      <td>0.0</td>\n",
       "      <td>0.0</td>\n",
       "      <td>0.0</td>\n",
       "      <td>0.0</td>\n",
       "      <td>0.0</td>\n",
       "      <td>1.0</td>\n",
       "      <td>0.0</td>\n",
       "    </tr>\n",
       "    <tr>\n",
       "      <th>2</th>\n",
       "      <td>0.644737</td>\n",
       "      <td>0.122635</td>\n",
       "      <td>0.315884</td>\n",
       "      <td>0.437870</td>\n",
       "      <td>0.324753</td>\n",
       "      <td>0.980198</td>\n",
       "      <td>0.818182</td>\n",
       "      <td>0.0</td>\n",
       "      <td>0.0</td>\n",
       "      <td>0.0</td>\n",
       "      <td>...</td>\n",
       "      <td>0.0</td>\n",
       "      <td>0.0</td>\n",
       "      <td>0.0</td>\n",
       "      <td>0.0</td>\n",
       "      <td>0.0</td>\n",
       "      <td>0.0</td>\n",
       "      <td>0.0</td>\n",
       "      <td>0.0</td>\n",
       "      <td>1.0</td>\n",
       "      <td>0.0</td>\n",
       "    </tr>\n",
       "    <tr>\n",
       "      <th>3</th>\n",
       "      <td>0.657895</td>\n",
       "      <td>0.128272</td>\n",
       "      <td>0.389151</td>\n",
       "      <td>0.488166</td>\n",
       "      <td>0.662158</td>\n",
       "      <td>0.950495</td>\n",
       "      <td>0.545455</td>\n",
       "      <td>1.0</td>\n",
       "      <td>0.0</td>\n",
       "      <td>0.0</td>\n",
       "      <td>...</td>\n",
       "      <td>0.0</td>\n",
       "      <td>0.0</td>\n",
       "      <td>0.0</td>\n",
       "      <td>0.0</td>\n",
       "      <td>0.0</td>\n",
       "      <td>0.0</td>\n",
       "      <td>0.0</td>\n",
       "      <td>0.0</td>\n",
       "      <td>1.0</td>\n",
       "      <td>0.0</td>\n",
       "    </tr>\n",
       "    <tr>\n",
       "      <th>4</th>\n",
       "      <td>0.684211</td>\n",
       "      <td>0.050169</td>\n",
       "      <td>0.101916</td>\n",
       "      <td>0.390533</td>\n",
       "      <td>0.154450</td>\n",
       "      <td>0.950495</td>\n",
       "      <td>0.181818</td>\n",
       "      <td>0.0</td>\n",
       "      <td>0.0</td>\n",
       "      <td>0.0</td>\n",
       "      <td>...</td>\n",
       "      <td>0.0</td>\n",
       "      <td>0.0</td>\n",
       "      <td>0.0</td>\n",
       "      <td>0.0</td>\n",
       "      <td>0.0</td>\n",
       "      <td>0.0</td>\n",
       "      <td>0.0</td>\n",
       "      <td>0.0</td>\n",
       "      <td>1.0</td>\n",
       "      <td>0.0</td>\n",
       "    </tr>\n",
       "    <tr>\n",
       "      <th>...</th>\n",
       "      <td>...</td>\n",
       "      <td>...</td>\n",
       "      <td>...</td>\n",
       "      <td>...</td>\n",
       "      <td>...</td>\n",
       "      <td>...</td>\n",
       "      <td>...</td>\n",
       "      <td>...</td>\n",
       "      <td>...</td>\n",
       "      <td>...</td>\n",
       "      <td>...</td>\n",
       "      <td>...</td>\n",
       "      <td>...</td>\n",
       "      <td>...</td>\n",
       "      <td>...</td>\n",
       "      <td>...</td>\n",
       "      <td>...</td>\n",
       "      <td>...</td>\n",
       "      <td>...</td>\n",
       "      <td>...</td>\n",
       "      <td>...</td>\n",
       "    </tr>\n",
       "    <tr>\n",
       "      <th>4798</th>\n",
       "      <td>0.000579</td>\n",
       "      <td>0.016298</td>\n",
       "      <td>0.000732</td>\n",
       "      <td>0.239645</td>\n",
       "      <td>0.017307</td>\n",
       "      <td>0.752475</td>\n",
       "      <td>0.727273</td>\n",
       "      <td>0.0</td>\n",
       "      <td>0.0</td>\n",
       "      <td>0.0</td>\n",
       "      <td>...</td>\n",
       "      <td>0.0</td>\n",
       "      <td>0.0</td>\n",
       "      <td>0.0</td>\n",
       "      <td>0.0</td>\n",
       "      <td>0.0</td>\n",
       "      <td>0.0</td>\n",
       "      <td>0.0</td>\n",
       "      <td>0.0</td>\n",
       "      <td>1.0</td>\n",
       "      <td>0.0</td>\n",
       "    </tr>\n",
       "    <tr>\n",
       "      <th>4799</th>\n",
       "      <td>0.000024</td>\n",
       "      <td>0.000734</td>\n",
       "      <td>0.000000</td>\n",
       "      <td>0.251479</td>\n",
       "      <td>0.000364</td>\n",
       "      <td>0.940594</td>\n",
       "      <td>1.000000</td>\n",
       "      <td>0.0</td>\n",
       "      <td>0.0</td>\n",
       "      <td>0.0</td>\n",
       "      <td>...</td>\n",
       "      <td>0.0</td>\n",
       "      <td>0.0</td>\n",
       "      <td>0.0</td>\n",
       "      <td>0.0</td>\n",
       "      <td>0.0</td>\n",
       "      <td>0.0</td>\n",
       "      <td>0.0</td>\n",
       "      <td>0.0</td>\n",
       "      <td>1.0</td>\n",
       "      <td>0.0</td>\n",
       "    </tr>\n",
       "    <tr>\n",
       "      <th>4800</th>\n",
       "      <td>0.000000</td>\n",
       "      <td>0.001650</td>\n",
       "      <td>0.000000</td>\n",
       "      <td>0.355030</td>\n",
       "      <td>0.000436</td>\n",
       "      <td>0.960396</td>\n",
       "      <td>0.818182</td>\n",
       "      <td>1.0</td>\n",
       "      <td>0.0</td>\n",
       "      <td>0.0</td>\n",
       "      <td>...</td>\n",
       "      <td>0.0</td>\n",
       "      <td>0.0</td>\n",
       "      <td>0.0</td>\n",
       "      <td>0.0</td>\n",
       "      <td>0.0</td>\n",
       "      <td>0.0</td>\n",
       "      <td>0.0</td>\n",
       "      <td>0.0</td>\n",
       "      <td>1.0</td>\n",
       "      <td>0.0</td>\n",
       "    </tr>\n",
       "    <tr>\n",
       "      <th>4801</th>\n",
       "      <td>0.000000</td>\n",
       "      <td>0.000979</td>\n",
       "      <td>0.000000</td>\n",
       "      <td>0.289941</td>\n",
       "      <td>0.000509</td>\n",
       "      <td>0.950495</td>\n",
       "      <td>0.363636</td>\n",
       "      <td>0.0</td>\n",
       "      <td>0.0</td>\n",
       "      <td>0.0</td>\n",
       "      <td>...</td>\n",
       "      <td>0.0</td>\n",
       "      <td>0.0</td>\n",
       "      <td>0.0</td>\n",
       "      <td>0.0</td>\n",
       "      <td>0.0</td>\n",
       "      <td>0.0</td>\n",
       "      <td>0.0</td>\n",
       "      <td>0.0</td>\n",
       "      <td>1.0</td>\n",
       "      <td>0.0</td>\n",
       "    </tr>\n",
       "    <tr>\n",
       "      <th>4802</th>\n",
       "      <td>0.000000</td>\n",
       "      <td>0.002204</td>\n",
       "      <td>0.000000</td>\n",
       "      <td>0.266272</td>\n",
       "      <td>0.001163</td>\n",
       "      <td>0.881188</td>\n",
       "      <td>0.636364</td>\n",
       "      <td>0.0</td>\n",
       "      <td>1.0</td>\n",
       "      <td>0.0</td>\n",
       "      <td>...</td>\n",
       "      <td>0.0</td>\n",
       "      <td>0.0</td>\n",
       "      <td>0.0</td>\n",
       "      <td>0.0</td>\n",
       "      <td>0.0</td>\n",
       "      <td>0.0</td>\n",
       "      <td>0.0</td>\n",
       "      <td>0.0</td>\n",
       "      <td>1.0</td>\n",
       "      <td>0.0</td>\n",
       "    </tr>\n",
       "  </tbody>\n",
       "</table>\n",
       "<p>4803 rows × 67 columns</p>\n",
       "</div>"
      ],
      "text/plain": [
       "        budget  popularity   revenue   runtime  vote_count      year  \\\n",
       "0     0.623684    0.171815  1.000000  0.479290    0.858057  0.920792   \n",
       "1     0.789474    0.158846  0.344696  0.500000    0.327225  0.900990   \n",
       "2     0.644737    0.122635  0.315884  0.437870    0.324753  0.980198   \n",
       "3     0.657895    0.128272  0.389151  0.488166    0.662158  0.950495   \n",
       "4     0.684211    0.050169  0.101916  0.390533    0.154450  0.950495   \n",
       "...        ...         ...       ...       ...         ...       ...   \n",
       "4798  0.000579    0.016298  0.000732  0.239645    0.017307  0.752475   \n",
       "4799  0.000024    0.000734  0.000000  0.251479    0.000364  0.940594   \n",
       "4800  0.000000    0.001650  0.000000  0.355030    0.000436  0.960396   \n",
       "4801  0.000000    0.000979  0.000000  0.289941    0.000509  0.950495   \n",
       "4802  0.000000    0.002204  0.000000  0.266272    0.001163  0.881188   \n",
       "\n",
       "         month  Drama  Documentary  Mystery  ...  original_language_ta  \\\n",
       "0     1.000000    0.0          0.0      0.0  ...                   0.0   \n",
       "1     0.363636    0.0          0.0      0.0  ...                   0.0   \n",
       "2     0.818182    0.0          0.0      0.0  ...                   0.0   \n",
       "3     0.545455    1.0          0.0      0.0  ...                   0.0   \n",
       "4     0.181818    0.0          0.0      0.0  ...                   0.0   \n",
       "...        ...    ...          ...      ...  ...                   ...   \n",
       "4798  0.727273    0.0          0.0      0.0  ...                   0.0   \n",
       "4799  1.000000    0.0          0.0      0.0  ...                   0.0   \n",
       "4800  0.818182    1.0          0.0      0.0  ...                   0.0   \n",
       "4801  0.363636    0.0          0.0      0.0  ...                   0.0   \n",
       "4802  0.636364    0.0          1.0      0.0  ...                   0.0   \n",
       "\n",
       "      original_language_te  original_language_th  original_language_tr  \\\n",
       "0                      0.0                   0.0                   0.0   \n",
       "1                      0.0                   0.0                   0.0   \n",
       "2                      0.0                   0.0                   0.0   \n",
       "3                      0.0                   0.0                   0.0   \n",
       "4                      0.0                   0.0                   0.0   \n",
       "...                    ...                   ...                   ...   \n",
       "4798                   0.0                   0.0                   0.0   \n",
       "4799                   0.0                   0.0                   0.0   \n",
       "4800                   0.0                   0.0                   0.0   \n",
       "4801                   0.0                   0.0                   0.0   \n",
       "4802                   0.0                   0.0                   0.0   \n",
       "\n",
       "      original_language_vi  original_language_xx  original_language_zh  \\\n",
       "0                      0.0                   0.0                   0.0   \n",
       "1                      0.0                   0.0                   0.0   \n",
       "2                      0.0                   0.0                   0.0   \n",
       "3                      0.0                   0.0                   0.0   \n",
       "4                      0.0                   0.0                   0.0   \n",
       "...                    ...                   ...                   ...   \n",
       "4798                   0.0                   0.0                   0.0   \n",
       "4799                   0.0                   0.0                   0.0   \n",
       "4800                   0.0                   0.0                   0.0   \n",
       "4801                   0.0                   0.0                   0.0   \n",
       "4802                   0.0                   0.0                   0.0   \n",
       "\n",
       "      status_Post Production  status_Released  status_Rumored  \n",
       "0                        0.0              1.0             0.0  \n",
       "1                        0.0              1.0             0.0  \n",
       "2                        0.0              1.0             0.0  \n",
       "3                        0.0              1.0             0.0  \n",
       "4                        0.0              1.0             0.0  \n",
       "...                      ...              ...             ...  \n",
       "4798                     0.0              1.0             0.0  \n",
       "4799                     0.0              1.0             0.0  \n",
       "4800                     0.0              1.0             0.0  \n",
       "4801                     0.0              1.0             0.0  \n",
       "4802                     0.0              1.0             0.0  \n",
       "\n",
       "[4803 rows x 67 columns]"
      ]
     },
     "execution_count": 10,
     "metadata": {},
     "output_type": "execute_result"
    }
   ],
   "source": [
    "df.drop(['release_date','genres'],axis=1,inplace=True) \n",
    "df=pd.get_dummies(df)\n",
    "df = (df-df.min())/(df.max()-df.min())\n",
    "df"
   ]
  },
  {
   "cell_type": "code",
   "execution_count": 11,
   "id": "8ea61d54",
   "metadata": {
    "execution": {
     "iopub.execute_input": "2022-07-03T15:45:02.480372Z",
     "iopub.status.busy": "2022-07-03T15:45:02.479250Z",
     "iopub.status.idle": "2022-07-03T15:45:02.489647Z",
     "shell.execute_reply": "2022-07-03T15:45:02.488518Z"
    },
    "papermill": {
     "duration": 0.020209,
     "end_time": "2022-07-03T15:45:02.492158",
     "exception": false,
     "start_time": "2022-07-03T15:45:02.471949",
     "status": "completed"
    },
    "tags": []
   },
   "outputs": [],
   "source": [
    "x = df.values\n",
    "x = np.column_stack((np.ones(len(x)),x))"
   ]
  },
  {
   "cell_type": "markdown",
   "id": "33b4e40f",
   "metadata": {
    "papermill": {
     "duration": 0.00563,
     "end_time": "2022-07-03T15:45:02.503842",
     "exception": false,
     "start_time": "2022-07-03T15:45:02.498212",
     "status": "completed"
    },
    "tags": []
   },
   "source": [
    "### **获得训练集和测试集**\n",
    "#### 将数据以0.8:0.2的比例分为训练集和测试集。"
   ]
  },
  {
   "cell_type": "code",
   "execution_count": 12,
   "id": "ed4ba2a6",
   "metadata": {
    "execution": {
     "iopub.execute_input": "2022-07-03T15:45:02.518412Z",
     "iopub.status.busy": "2022-07-03T15:45:02.517728Z",
     "iopub.status.idle": "2022-07-03T15:45:02.524766Z",
     "shell.execute_reply": "2022-07-03T15:45:02.523902Z"
    },
    "papermill": {
     "duration": 0.016816,
     "end_time": "2022-07-03T15:45:02.526978",
     "exception": false,
     "start_time": "2022-07-03T15:45:02.510162",
     "status": "completed"
    },
    "tags": []
   },
   "outputs": [],
   "source": [
    "#将数据分为训练集和测试集\n",
    "x_train, x_test, y_train, y_test = train_test_split(x, y, test_size=0.20)"
   ]
  },
  {
   "cell_type": "markdown",
   "id": "7231f9cb",
   "metadata": {
    "papermill": {
     "duration": 0.005682,
     "end_time": "2022-07-03T15:45:02.538646",
     "exception": false,
     "start_time": "2022-07-03T15:45:02.532964",
     "status": "completed"
    },
    "tags": []
   },
   "source": [
    "### **评估函数**\n",
    "#### 计算MAE和RMSE。"
   ]
  },
  {
   "cell_type": "code",
   "execution_count": 13,
   "id": "ccf5df8f",
   "metadata": {
    "execution": {
     "iopub.execute_input": "2022-07-03T15:45:02.553500Z",
     "iopub.status.busy": "2022-07-03T15:45:02.552775Z",
     "iopub.status.idle": "2022-07-03T15:45:02.557048Z",
     "shell.execute_reply": "2022-07-03T15:45:02.556167Z"
    },
    "papermill": {
     "duration": 0.014278,
     "end_time": "2022-07-03T15:45:02.559235",
     "exception": false,
     "start_time": "2022-07-03T15:45:02.544957",
     "status": "completed"
    },
    "tags": []
   },
   "outputs": [],
   "source": [
    "def MAE(r,p):\n",
    "    return sum(np.fabs(r-p))/len(r)"
   ]
  },
  {
   "cell_type": "code",
   "execution_count": 14,
   "id": "c1363ab8",
   "metadata": {
    "execution": {
     "iopub.execute_input": "2022-07-03T15:45:02.574034Z",
     "iopub.status.busy": "2022-07-03T15:45:02.573361Z",
     "iopub.status.idle": "2022-07-03T15:45:02.577585Z",
     "shell.execute_reply": "2022-07-03T15:45:02.576857Z"
    },
    "papermill": {
     "duration": 0.014345,
     "end_time": "2022-07-03T15:45:02.580168",
     "exception": false,
     "start_time": "2022-07-03T15:45:02.565823",
     "status": "completed"
    },
    "tags": []
   },
   "outputs": [],
   "source": [
    "def RMSE(r,p):\n",
    "    return np.sqrt(sum((r-p)**2)/len(r))"
   ]
  },
  {
   "cell_type": "markdown",
   "id": "044e9fd9",
   "metadata": {
    "papermill": {
     "duration": 0.006367,
     "end_time": "2022-07-03T15:45:02.593177",
     "exception": false,
     "start_time": "2022-07-03T15:45:02.586810",
     "status": "completed"
    },
    "tags": []
   },
   "source": [
    "### **开始训练**\n",
    "#### epoch=5000，lr=0.1，没100轮对预测结果进行评估。\n",
    "#### 每条数据有67个属性对照，同时在第一列是一列1，用于与w相乘作为b"
   ]
  },
  {
   "cell_type": "code",
   "execution_count": 15,
   "id": "d9ef99e4",
   "metadata": {
    "execution": {
     "iopub.execute_input": "2022-07-03T15:45:02.607372Z",
     "iopub.status.busy": "2022-07-03T15:45:02.606939Z",
     "iopub.status.idle": "2022-07-03T15:45:17.369236Z",
     "shell.execute_reply": "2022-07-03T15:45:17.368063Z"
    },
    "papermill": {
     "duration": 14.773565,
     "end_time": "2022-07-03T15:45:17.372846",
     "exception": false,
     "start_time": "2022-07-03T15:45:02.599281",
     "status": "completed"
    },
    "tags": []
   },
   "outputs": [
    {
     "name": "stdout",
     "output_type": "stream",
     "text": [
      "Start training\n",
      "total epoch=5000,learning rate=0.1\n",
      "epoch1 MAE=0.952 RMSE=1.304\n",
      "epoch101 MAE=0.768 RMSE=1.131\n",
      "epoch201 MAE=0.728 RMSE=1.090\n",
      "epoch301 MAE=0.704 RMSE=1.066\n",
      "epoch401 MAE=0.689 RMSE=1.050\n",
      "epoch501 MAE=0.679 RMSE=1.039\n",
      "epoch601 MAE=0.672 RMSE=1.031\n",
      "epoch701 MAE=0.667 RMSE=1.025\n",
      "epoch801 MAE=0.663 RMSE=1.021\n",
      "epoch901 MAE=0.660 RMSE=1.018\n",
      "epoch1001 MAE=0.658 RMSE=1.016\n",
      "epoch1101 MAE=0.657 RMSE=1.014\n",
      "epoch1201 MAE=0.656 RMSE=1.013\n",
      "epoch1301 MAE=0.656 RMSE=1.012\n",
      "epoch1401 MAE=0.655 RMSE=1.011\n",
      "epoch1501 MAE=0.655 RMSE=1.010\n",
      "epoch1601 MAE=0.654 RMSE=1.009\n",
      "epoch1701 MAE=0.654 RMSE=1.009\n",
      "epoch1801 MAE=0.654 RMSE=1.009\n",
      "epoch1901 MAE=0.653 RMSE=1.008\n",
      "epoch2001 MAE=0.653 RMSE=1.008\n",
      "epoch2101 MAE=0.653 RMSE=1.008\n",
      "epoch2201 MAE=0.653 RMSE=1.008\n",
      "epoch2301 MAE=0.653 RMSE=1.007\n",
      "epoch2401 MAE=0.652 RMSE=1.007\n",
      "epoch2501 MAE=0.652 RMSE=1.007\n",
      "epoch2601 MAE=0.652 RMSE=1.007\n",
      "epoch2701 MAE=0.652 RMSE=1.007\n",
      "epoch2801 MAE=0.652 RMSE=1.007\n",
      "epoch2901 MAE=0.652 RMSE=1.007\n",
      "epoch3001 MAE=0.652 RMSE=1.007\n",
      "epoch3101 MAE=0.652 RMSE=1.006\n",
      "epoch3201 MAE=0.652 RMSE=1.006\n",
      "epoch3301 MAE=0.652 RMSE=1.006\n",
      "epoch3401 MAE=0.652 RMSE=1.006\n",
      "epoch3501 MAE=0.652 RMSE=1.006\n",
      "epoch3601 MAE=0.652 RMSE=1.006\n",
      "epoch3701 MAE=0.652 RMSE=1.006\n",
      "epoch3801 MAE=0.652 RMSE=1.006\n",
      "epoch3901 MAE=0.652 RMSE=1.006\n",
      "epoch4001 MAE=0.652 RMSE=1.006\n",
      "epoch4101 MAE=0.652 RMSE=1.006\n",
      "epoch4201 MAE=0.652 RMSE=1.006\n",
      "epoch4301 MAE=0.652 RMSE=1.006\n",
      "epoch4401 MAE=0.652 RMSE=1.006\n",
      "epoch4501 MAE=0.652 RMSE=1.006\n",
      "epoch4601 MAE=0.652 RMSE=1.006\n",
      "epoch4701 MAE=0.652 RMSE=1.006\n",
      "epoch4801 MAE=0.652 RMSE=1.006\n",
      "epoch4901 MAE=0.652 RMSE=1.006\n"
     ]
    }
   ],
   "source": [
    "attr_num=x_train.shape[1]\n",
    "w=np.zeros(attr_num)\n",
    "epoch=5000\n",
    "lr=0.1\n",
    "print(\"Start training\")\n",
    "print(\"total epoch={},learning rate={}\".format(epoch,lr))\n",
    "mae_list=[]\n",
    "rmse_list=[]\n",
    "for i in range(epoch):\n",
    "    e=y_train-np.dot(x_train,w)\n",
    "    loss=sum(e**2)/len(x_train)\n",
    "    #print(x_train.T)\n",
    "    w=w-lr*(-2*np.dot(x_train.T,e)/len(x_train))\n",
    "    y_test_pre=np.dot(x_test,w)\n",
    "    mae=MAE(y_test,y_test_pre)\n",
    "    rmse=RMSE(y_test,y_test_pre)\n",
    "    if i%100==0:\n",
    "        mae_list.append(mae)\n",
    "        rmse_list.append(rmse)\n",
    "        print(\"epoch{} MAE={:.3f} RMSE={:.3f}\".format(i+1,mae,rmse))"
   ]
  },
  {
   "cell_type": "markdown",
   "id": "b67c9de9",
   "metadata": {
    "papermill": {
     "duration": 0.017951,
     "end_time": "2022-07-03T15:45:17.410041",
     "exception": false,
     "start_time": "2022-07-03T15:45:17.392090",
     "status": "completed"
    },
    "tags": []
   },
   "source": [
    "### **绘制MAE-epoch曲线与RMSE-epoch曲线**"
   ]
  },
  {
   "cell_type": "code",
   "execution_count": 16,
   "id": "18589f67",
   "metadata": {
    "execution": {
     "iopub.execute_input": "2022-07-03T15:45:17.447251Z",
     "iopub.status.busy": "2022-07-03T15:45:17.446580Z",
     "iopub.status.idle": "2022-07-03T15:45:17.674015Z",
     "shell.execute_reply": "2022-07-03T15:45:17.672784Z"
    },
    "papermill": {
     "duration": 0.248206,
     "end_time": "2022-07-03T15:45:17.676233",
     "exception": false,
     "start_time": "2022-07-03T15:45:17.428027",
     "status": "completed"
    },
    "tags": []
   },
   "outputs": [
    {
     "data": {
      "text/plain": [
       "[<matplotlib.lines.Line2D at 0x7f68dbe17890>]"
      ]
     },
     "execution_count": 16,
     "metadata": {},
     "output_type": "execute_result"
    },
    {
     "data": {
      "image/png": "[encoded data removed]",
      "text/plain": [
       "<Figure size 432x288 with 1 Axes>"
      ]
     },
     "metadata": {
      "needs_background": "light"
     },
     "output_type": "display_data"
    }
   ],
   "source": [
    "#MAE\n",
    "plt.plot(mae_list)"
   ]
  },
  {
   "cell_type": "code",
   "execution_count": 17,
   "id": "f59b23be",
   "metadata": {
    "execution": {
     "iopub.execute_input": "2022-07-03T15:45:17.696175Z",
     "iopub.status.busy": "2022-07-03T15:45:17.695783Z",
     "iopub.status.idle": "2022-07-03T15:45:17.878139Z",
     "shell.execute_reply": "2022-07-03T15:45:17.877213Z"
    },
    "papermill": {
     "duration": 0.195031,
     "end_time": "2022-07-03T15:45:17.880488",
     "exception": false,
     "start_time": "2022-07-03T15:45:17.685457",
     "status": "completed"
    },
    "tags": []
   },
   "outputs": [
    {
     "data": {
      "text/plain": [
       "[<matplotlib.lines.Line2D at 0x7f68dbdf51d0>]"
      ]
     },
     "execution_count": 17,
     "metadata": {},
     "output_type": "execute_result"
    },
    {
     "data": {
      "image/png": "[encoded data removed]",
      "text/plain": [
       "<Figure size 432x288 with 1 Axes>"
      ]
     },
     "metadata": {
      "needs_background": "light"
     },
     "output_type": "display_data"
    }
   ],
   "source": [
    "#RMSE\n",
    "plt.plot(rmse_list)"
   ]
  }
 ],
 "metadata": {
  "kernelspec": {
   "display_name": "Python 3",
   "language": "python",
   "name": "python3"
  },
  "language_info": {
   "codemirror_mode": {
    "name": "ipython",
    "version": 3
   },
   "file_extension": ".py",
   "mimetype": "text/x-python",
   "name": "python",
   "nbconvert_exporter": "python",
   "pygments_lexer": "ipython3",
   "version": "3.7.12"
  },
  "papermill": {
   "default_parameters": {},
   "duration": 30.879147,
   "end_time": "2022-07-03T15:45:18.813262",
   "environment_variables": {},
   "exception": null,
   "input_path": "__notebook__.ipynb",
   "output_path": "__notebook__.ipynb",
   "parameters": {},
   "start_time": "2022-07-03T15:44:47.934115",
   "version": "2.3.4"
  }
 },
 "nbformat": 4,
 "nbformat_minor": 5
}
