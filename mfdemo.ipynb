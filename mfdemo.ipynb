{
 "cells": [
  {
   "cell_type": "code",
   "execution_count": 1,
   "id": "dcc1d91f",
   "metadata": {
    "execution": {
     "iopub.execute_input": "2022-06-30T17:02:17.769393Z",
     "iopub.status.busy": "2022-06-30T17:02:17.768871Z",
     "iopub.status.idle": "2022-06-30T17:02:39.018348Z",
     "shell.execute_reply": "2022-06-30T17:02:39.016694Z"
    },
    "papermill": {
     "duration": 21.259252,
     "end_time": "2022-06-30T17:02:39.021630",
     "exception": false,
     "start_time": "2022-06-30T17:02:17.762378",
     "status": "completed"
    },
    "tags": []
   },
   "outputs": [
    {
     "name": "stderr",
     "output_type": "stream",
     "text": [
      "/opt/conda/lib/python3.7/site-packages/pandas/util/_decorators.py:311: ParserWarning: Falling back to the 'python' engine because the 'c' engine does not support regex separators (separators > 1 char and different from '\\s+' are interpreted as regex); you can avoid this warning by specifying engine='python'.\n",
      "  return func(*args, **kwargs)\n"
     ]
    },
    {
     "name": "stdout",
     "output_type": "stream",
     "text": [
      "Number of users = 6040 | Number of items = 3706\n"
     ]
    }
   ],
   "source": [
    "from keras.layers import Input, Embedding, dot, Lambda\n",
    "from keras.models import Model\n",
    "from keras.regularizers import l2\n",
    "import keras.backend as K\n",
    "import numpy as np\n",
    "import pandas as pd\n",
    "from sklearn.model_selection import train_test_split\n",
    "\n",
    "# 读入文件\n",
    "df = pd.read_csv('../input/movielens-1m-dataset/ratings.dat',sep='::',names=['uid','mid','ratings','time'])\n",
    "\n",
    "user_ids = set(df.uid)\n",
    "item_ids = set(df.mid)\n",
    "n_user=len(user_ids)\n",
    "n_item=len(item_ids)\n",
    "print('Number of users = %d | Number of items = %d' % (n_user, n_item))\n",
    "\n",
    "u_id2idx = dict(zip(user_ids, range(n_user)))\n",
    "i_id2idx = dict(zip(item_ids, range(n_item)))\n",
    "\n",
    "# 替换ID为Index\n",
    "df = df.assign(uid=[u_id2idx[uid] for uid in df.uid])\n",
    "df = df.assign(mid=[i_id2idx[iid] for iid in df.mid])"
   ]
  },
  {
   "cell_type": "code",
   "execution_count": 2,
   "id": "b244dc7c",
   "metadata": {
    "execution": {
     "iopub.execute_input": "2022-06-30T17:02:39.032309Z",
     "iopub.status.busy": "2022-06-30T17:02:39.030858Z",
     "iopub.status.idle": "2022-06-30T17:02:39.162089Z",
     "shell.execute_reply": "2022-06-30T17:02:39.160754Z"
    },
    "papermill": {
     "duration": 0.139661,
     "end_time": "2022-06-30T17:02:39.165312",
     "exception": false,
     "start_time": "2022-06-30T17:02:39.025651",
     "status": "completed"
    },
    "tags": []
   },
   "outputs": [],
   "source": [
    "y=df['ratings'].values\n",
    "x=df[['uid','mid']].values\n",
    "x_train,x_test,y_train,y_test=train_test_split(x,y,test_size=0.2,random_state=5)"
   ]
  },
  {
   "cell_type": "code",
   "execution_count": 3,
   "id": "79e81bde",
   "metadata": {
    "execution": {
     "iopub.execute_input": "2022-06-30T17:02:39.175115Z",
     "iopub.status.busy": "2022-06-30T17:02:39.174130Z",
     "iopub.status.idle": "2022-06-30T17:02:39.180963Z",
     "shell.execute_reply": "2022-06-30T17:02:39.179691Z"
    },
    "papermill": {
     "duration": 0.014852,
     "end_time": "2022-06-30T17:02:39.184084",
     "exception": false,
     "start_time": "2022-06-30T17:02:39.169232",
     "status": "completed"
    },
    "tags": []
   },
   "outputs": [],
   "source": [
    "def x_split(x):\n",
    "    n=len(x)\n",
    "    x_uid=x_mid=np.zeros(n)\n",
    "    for i in range(n):\n",
    "        x_uid[i]=x[i][0]\n",
    "        x_mid[i]=x[i][1]\n",
    "    return x_uid,x_mid"
   ]
  },
  {
   "cell_type": "code",
   "execution_count": 4,
   "id": "d6eeee5f",
   "metadata": {
    "execution": {
     "iopub.execute_input": "2022-06-30T17:02:39.192690Z",
     "iopub.status.busy": "2022-06-30T17:02:39.192310Z",
     "iopub.status.idle": "2022-06-30T17:02:40.647149Z",
     "shell.execute_reply": "2022-06-30T17:02:40.645974Z"
    },
    "papermill": {
     "duration": 1.462266,
     "end_time": "2022-06-30T17:02:40.649787",
     "exception": false,
     "start_time": "2022-06-30T17:02:39.187521",
     "status": "completed"
    },
    "tags": []
   },
   "outputs": [
    {
     "data": {
      "text/plain": [
       "(800167,)"
      ]
     },
     "execution_count": 4,
     "metadata": {},
     "output_type": "execute_result"
    }
   ],
   "source": [
    "x_train_uid,x_train_mid=x_split(x_train)\n",
    "x_test_uid,x_test_mid=x_split(x_test)\n",
    "x_train_uid.shape"
   ]
  },
  {
   "cell_type": "code",
   "execution_count": 5,
   "id": "0ebff64c",
   "metadata": {
    "collapsed": false,
    "execution": {
     "iopub.execute_input": "2022-06-30T17:02:40.659962Z",
     "iopub.status.busy": "2022-06-30T17:02:40.658755Z",
     "iopub.status.idle": "2022-06-30T17:02:40.825545Z",
     "shell.execute_reply": "2022-06-30T17:02:40.821758Z"
    },
    "jupyter": {
     "outputs_hidden": false
    },
    "papermill": {
     "duration": 0.174457,
     "end_time": "2022-06-30T17:02:40.827949",
     "exception": false,
     "start_time": "2022-06-30T17:02:40.653492",
     "status": "completed"
    },
    "pycharm": {
     "name": "#%%\n"
    },
    "tags": []
   },
   "outputs": [
    {
     "name": "stdout",
     "output_type": "stream",
     "text": [
      "Model: \"mf_model\"\n",
      "__________________________________________________________________________________________________\n",
      "Layer (type)                    Output Shape         Param #     Connected to                     \n",
      "==================================================================================================\n",
      "user_idx (InputLayer)           [(None, 1)]          0                                            \n",
      "__________________________________________________________________________________________________\n",
      "item_idx (InputLayer)           [(None, 1)]          0                                            \n",
      "__________________________________________________________________________________________________\n",
      "user_embedding (Embedding)      (None, 1, 100)       604000      user_idx[0][0]                   \n",
      "__________________________________________________________________________________________________\n",
      "item_embedding (Embedding)      (None, 1, 100)       370600      item_idx[0][0]                   \n",
      "__________________________________________________________________________________________________\n",
      "lambda (Lambda)                 (None, 100)          0           user_embedding[0][0]             \n",
      "                                                                 item_embedding[0][0]             \n",
      "__________________________________________________________________________________________________\n",
      "dot (Dot)                       (None, 1)            0           lambda[0][0]                     \n",
      "                                                                 lambda[1][0]                     \n",
      "==================================================================================================\n",
      "Total params: 974,600\n",
      "Trainable params: 974,600\n",
      "Non-trainable params: 0\n",
      "__________________________________________________________________________________________________\n"
     ]
    },
    {
     "name": "stderr",
     "output_type": "stream",
     "text": [
      "2022-06-30 17:02:40.722428: I tensorflow/core/common_runtime/process_util.cc:146] Creating new thread pool with default inter op setting: 2. Tune using inter_op_parallelism_threads for best performance.\n"
     ]
    }
   ],
   "source": [
    "# 构造MF模型\n",
    "reg = l2(1e-5)\n",
    "n_latent_factor = 100\n",
    "\n",
    "user_idx = Input(shape=[1], name='user_idx')\n",
    "item_idx = Input(shape=[1], name='item_idx')\n",
    "\n",
    "user_emb = Embedding(input_dim=n_user, output_dim=n_latent_factor, input_length=1, embeddings_regularizer=reg, name='user_embedding')\n",
    "item_emb = Embedding(input_dim=n_item, output_dim=n_latent_factor, input_length=1, embeddings_regularizer=reg, name='item_embedding')\n",
    "\n",
    "u_lf = user_emb(user_idx)\n",
    "i_lf = item_emb(item_idx)\n",
    "\n",
    "SqueezeEmbed = Lambda(lambda x: K.squeeze(x, 1))\n",
    "u_lf = SqueezeEmbed(u_lf)\n",
    "i_lf = SqueezeEmbed(i_lf)\n",
    "\n",
    "pred_rating = dot([u_lf, i_lf], axes=-1)\n",
    "\n",
    "mf = Model(inputs=[user_idx, item_idx], outputs=pred_rating, name='mf_model')\n",
    "mf.compile(optimizer='adam', loss='mse', metrics=['mse'])\n",
    "mf.summary()"
   ]
  },
  {
   "cell_type": "code",
   "execution_count": 6,
   "id": "e099a514",
   "metadata": {
    "collapsed": false,
    "execution": {
     "iopub.execute_input": "2022-06-30T17:02:40.837949Z",
     "iopub.status.busy": "2022-06-30T17:02:40.837492Z",
     "iopub.status.idle": "2022-06-30T17:07:44.729941Z",
     "shell.execute_reply": "2022-06-30T17:07:44.729098Z"
    },
    "jupyter": {
     "outputs_hidden": false
    },
    "papermill": {
     "duration": 304.161884,
     "end_time": "2022-06-30T17:07:44.994162",
     "exception": false,
     "start_time": "2022-06-30T17:02:40.832278",
     "status": "completed"
    },
    "pycharm": {
     "name": "#%%\n"
    },
    "tags": []
   },
   "outputs": [
    {
     "name": "stderr",
     "output_type": "stream",
     "text": [
      "2022-06-30 17:02:40.934566: I tensorflow/compiler/mlir/mlir_graph_optimization_pass.cc:185] None of the MLIR Optimization Passes are enabled (registered 2)\n"
     ]
    },
    {
     "name": "stdout",
     "output_type": "stream",
     "text": [
      "Epoch 1/3\n",
      "12503/12503 [==============================] - 102s 8ms/step - loss: 2.0140 - mse: 1.8683\n",
      "Epoch 2/3\n",
      "12503/12503 [==============================] - 102s 8ms/step - loss: 1.5093 - mse: 1.3468\n",
      "Epoch 3/3\n",
      "12503/12503 [==============================] - 100s 8ms/step - loss: 1.5064 - mse: 1.3436\n"
     ]
    },
    {
     "data": {
      "text/plain": [
       "<keras.callbacks.History at 0x7f67b14fdb90>"
      ]
     },
     "execution_count": 6,
     "metadata": {},
     "output_type": "execute_result"
    }
   ],
   "source": [
    "# 模型训练\n",
    "mf.fit(x=[x_train_uid,x_train_mid], y=y_train, epochs=3, batch_size=64)"
   ]
  },
  {
   "cell_type": "code",
   "execution_count": 7,
   "id": "31a34436",
   "metadata": {
    "collapsed": false,
    "execution": {
     "iopub.execute_input": "2022-06-30T17:07:45.918711Z",
     "iopub.status.busy": "2022-06-30T17:07:45.918036Z",
     "iopub.status.idle": "2022-06-30T17:07:51.540845Z",
     "shell.execute_reply": "2022-06-30T17:07:51.539319Z"
    },
    "jupyter": {
     "outputs_hidden": false
    },
    "papermill": {
     "duration": 6.126072,
     "end_time": "2022-06-30T17:07:51.545550",
     "exception": false,
     "start_time": "2022-06-30T17:07:45.419478",
     "status": "completed"
    },
    "pycharm": {
     "name": "#%%\n"
    },
    "tags": []
   },
   "outputs": [
    {
     "name": "stdout",
     "output_type": "stream",
     "text": [
      "MF Model MAE: 0.886668\n",
      "MF Model RMSE: 1.16211\n"
     ]
    }
   ],
   "source": [
    "# 模型预测\n",
    "p_ratings = mf.predict(x=[x_test_uid,x_test_mid])\n",
    "\n",
    "# MAE\n",
    "N = len(p_ratings)\n",
    "e=np.abs(p_ratings.flatten() - y_test)\n",
    "MAE = np.sum(e) / N\n",
    "RMSE = np.sqrt(np.dot(e.T,e) / N)\n",
    "print('MF Model MAE: %g' % MAE)\n",
    "print('MF Model RMSE: %g' % RMSE)"
   ]
  }
 ],
 "metadata": {
  "kernelspec": {
   "display_name": "Python 3",
   "language": "python",
   "name": "python3"
  },
  "language_info": {
   "codemirror_mode": {
    "name": "ipython",
    "version": 3
   },
   "file_extension": ".py",
   "mimetype": "text/x-python",
   "name": "python",
   "nbconvert_exporter": "python",
   "pygments_lexer": "ipython3",
   "version": "3.7.12"
  },
  "papermill": {
   "default_parameters": {},
   "duration": 348.075407,
   "end_time": "2022-06-30T17:07:55.016604",
   "environment_variables": {},
   "exception": null,
   "input_path": "__notebook__.ipynb",
   "output_path": "__notebook__.ipynb",
   "parameters": {},
   "start_time": "2022-06-30T17:02:06.941197",
   "version": "2.3.4"
  }
 },
 "nbformat": 4,
 "nbformat_minor": 5
}
