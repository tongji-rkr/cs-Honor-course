{
 "cells": [
  {
   "cell_type": "code",
   "execution_count": 1,
   "id": "962171ad",
   "metadata": {
    "execution": {
     "iopub.execute_input": "2022-07-03T15:47:18.795701Z",
     "iopub.status.busy": "2022-07-03T15:47:18.795249Z",
     "iopub.status.idle": "2022-07-03T15:47:19.881045Z",
     "shell.execute_reply": "2022-07-03T15:47:19.879936Z"
    },
    "papermill": {
     "duration": 1.095872,
     "end_time": "2022-07-03T15:47:19.884204",
     "exception": false,
     "start_time": "2022-07-03T15:47:18.788332",
     "status": "completed"
    },
    "tags": []
   },
   "outputs": [],
   "source": [
    "import pandas as pd\n",
    "import numpy as np\n",
    "from matplotlib import pyplot as plt\n",
    "from sklearn.model_selection import train_test_split\n",
    "from matplotlib import pyplot as plt\n",
    "\n",
    "np.random.seed(555)"
   ]
  },
  {
   "cell_type": "markdown",
   "id": "3d1562aa",
   "metadata": {
    "papermill": {
     "duration": 0.003901,
     "end_time": "2022-07-03T15:47:19.892658",
     "exception": false,
     "start_time": "2022-07-03T15:47:19.888757",
     "status": "completed"
    },
    "tags": []
   },
   "source": [
    "#### **数据处理**\n",
    "##### 数据集来源为Movielens-1M\n",
    "##### 从movies.dat获取电影属性，从ratings.dat获取评分数据，从users.dat获取用户属性\n",
    "##### 选择属性“gender”,“age”,\"occupation\",\"year\"作为输入\n",
    "##### 对获得的数据划分训练集和测试集，其中训练集占比为0.8，之后进行训练得到结果"
   ]
  },
  {
   "cell_type": "code",
   "execution_count": 2,
   "id": "cc970f74",
   "metadata": {
    "execution": {
     "iopub.execute_input": "2022-07-03T15:47:19.902778Z",
     "iopub.status.busy": "2022-07-03T15:47:19.902408Z",
     "iopub.status.idle": "2022-07-03T15:47:19.908777Z",
     "shell.execute_reply": "2022-07-03T15:47:19.907667Z"
    },
    "papermill": {
     "duration": 0.014196,
     "end_time": "2022-07-03T15:47:19.910949",
     "exception": false,
     "start_time": "2022-07-03T15:47:19.896753",
     "status": "completed"
    },
    "tags": []
   },
   "outputs": [],
   "source": [
    " def get_users_attr(df_users):\n",
    "    df_users = pd.read_csv(users_path,sep=\"::\",names=['uid','gender','age','occupation','zipcode'],encoding='utf-8')\n",
    "    user_ids=set(df_users['uid'].values)\n",
    "    df_users = df_users.drop(['zipcode'],axis=1)\n",
    "    df_users = pd.get_dummies(df_users,columns=['gender','age','occupation'])\n",
    "    return df_users,user_ids"
   ]
  },
  {
   "cell_type": "code",
   "execution_count": 3,
   "id": "7e2ce2bc",
   "metadata": {
    "execution": {
     "iopub.execute_input": "2022-07-03T15:47:19.921738Z",
     "iopub.status.busy": "2022-07-03T15:47:19.921020Z",
     "iopub.status.idle": "2022-07-03T15:47:19.930176Z",
     "shell.execute_reply": "2022-07-03T15:47:19.929390Z"
    },
    "papermill": {
     "duration": 0.017186,
     "end_time": "2022-07-03T15:47:19.932447",
     "exception": false,
     "start_time": "2022-07-03T15:47:19.915261",
     "status": "completed"
    },
    "tags": []
   },
   "outputs": [],
   "source": [
    "def get_movies_attr(df_movies):\n",
    "    year=df_movies['title'].values\n",
    "    for i in range(len(year)):\n",
    "        year[i]=year[i].split('(')[-1].split(')')[0]\n",
    "    df_movies['year']=year\n",
    "    genres_list = set()\n",
    "    for sstr in df_movies['genres'].str.split('|'):\n",
    "        genres_list = set().union(sstr, genres_list)\n",
    "    genres_list = list(genres_list)\n",
    "    for genres in genres_list:\n",
    "        df_movies[genres] = df_movies['genres'].str.contains(genres).apply(lambda x:1 if x else 0)\n",
    "    item_ids=set(df_movies['iid'].values)\n",
    "    df_movies = df_movies.drop(['title','genres'],axis=1)\n",
    "    df_movies = pd.get_dummies(df_movies,columns=['year'])\n",
    "    return df_movies,item_ids"
   ]
  },
  {
   "cell_type": "code",
   "execution_count": 4,
   "id": "3d3605c5",
   "metadata": {
    "execution": {
     "iopub.execute_input": "2022-07-03T15:47:19.943102Z",
     "iopub.status.busy": "2022-07-03T15:47:19.942398Z",
     "iopub.status.idle": "2022-07-03T15:47:19.955907Z",
     "shell.execute_reply": "2022-07-03T15:47:19.955149Z"
    },
    "papermill": {
     "duration": 0.021513,
     "end_time": "2022-07-03T15:47:19.958255",
     "exception": false,
     "start_time": "2022-07-03T15:47:19.936742",
     "status": "completed"
    },
    "tags": []
   },
   "outputs": [],
   "source": [
    "class DataProcess:\n",
    "    def __init__(self, ratings_path, users_path, movies_path, alpha=0.8):\n",
    "        print(\"start load data\")\n",
    "        df_ratings=pd.read_csv(ratings_path,sep=\"::\",names=['uid', 'iid', 'ratings','time'],encoding='utf-8',engine='python')\n",
    "        df_users=pd.read_csv(users_path,sep=\"::\",names=['uid', 'gender', 'age','occupation','zipcode'],encoding='utf-8',engine='python')\n",
    "        df_movies=pd.read_csv(movies_path,sep=\"::\",names=['iid', 'title', 'genres'],encoding='ISO-8859-1',engine='python')\n",
    "        print(\"start process data\")\n",
    "        df_ratings=df_ratings.drop('time',axis=1)\n",
    "        df_users,user_ids=get_users_attr(df_users)\n",
    "        df_movies,item_ids=get_movies_attr(df_movies)\n",
    "    \n",
    "        self.n_user=len(user_ids)\n",
    "        self.n_item=len(item_ids)\n",
    "        print(\"Number of users = {} , Number of items = {}\".format(self.n_user,self.n_item))\n",
    "        u_id2idx = dict(zip(user_ids, range(self.n_user)))\n",
    "        i_id2idx = dict(zip(item_ids, range(self.n_item)))\n",
    "        \n",
    "        df_ratings = df_ratings.assign(uid=[u_id2idx[uid] for uid in df_ratings.uid])\n",
    "        df_ratings = df_ratings.assign(iid=[i_id2idx[iid] for iid in df_ratings.iid])\n",
    "        df_ratings = df_ratings.loc[df_ratings['uid']<=100]\n",
    "        df_ratings = df_ratings.loc[df_ratings['iid']<=100]\n",
    "        self.df = pd.merge(pd.merge(df_ratings, df_users, on='uid'), df_movies, on='iid')\n",
    "        #print(self.df.info())\n",
    "        self.df = pd.get_dummies(self.df,columns=['uid','iid'])\n",
    "        self.X = self.df.drop('ratings', axis=1).values\n",
    "        self.Y = self.df['ratings'].values"
   ]
  },
  {
   "cell_type": "markdown",
   "id": "962bac54",
   "metadata": {
    "papermill": {
     "duration": 0.004173,
     "end_time": "2022-07-03T15:47:19.967747",
     "exception": false,
     "start_time": "2022-07-03T15:47:19.963574",
     "status": "completed"
    },
    "tags": []
   },
   "source": [
    "#### **FM**\n",
    "##### 模型如下"
   ]
  },
  {
   "cell_type": "code",
   "execution_count": 5,
   "id": "06a74958",
   "metadata": {
    "execution": {
     "iopub.execute_input": "2022-07-03T15:47:19.978602Z",
     "iopub.status.busy": "2022-07-03T15:47:19.977805Z",
     "iopub.status.idle": "2022-07-03T15:47:19.997285Z",
     "shell.execute_reply": "2022-07-03T15:47:19.996048Z"
    },
    "papermill": {
     "duration": 0.028258,
     "end_time": "2022-07-03T15:47:20.000376",
     "exception": false,
     "start_time": "2022-07-03T15:47:19.972118",
     "status": "completed"
    },
    "tags": []
   },
   "outputs": [],
   "source": [
    "class FactorizationMachine():\n",
    "    def __init__(self, k=5, lr=0.01, iterations=100): \n",
    "        self.w0 = None \n",
    "        self.w = None \n",
    "        self.v = None \n",
    "        self.k = k \n",
    "        self.lr = lr\n",
    "        self.iterations = iterations\n",
    "        self.losses = []\n",
    "        \n",
    "        \n",
    "    def FM_cul(self, x):\n",
    "        inter2 = np.sum((x.dot(self.v)) ** 2 - (x ** 2).dot(self.v ** 2)) \n",
    "        y = self.w0 + x.dot(self.w) + inter2 / 2  \n",
    "        return y[0]\n",
    "        \n",
    "        \n",
    "    def train(self, X, Y):\n",
    "        m, n = np.shape(X)\n",
    "        self.w0 = 0\n",
    "        self.w = np.random.uniform(size=(n, 1))\n",
    "        self.v = np.random.uniform(size=(n, self.k)) \n",
    "        \n",
    "        for it in range(self.iterations):\n",
    "            loss = 0  \n",
    "            for i in range(m):  \n",
    "                y = self.FM_cul(x=X[i])  \n",
    "                loss += pow(Y[i]-y,2)  #计算损失函数值\n",
    "                dloss_w0 = -2*(Y[i]-y)# 对w0求导\n",
    "                self.w0 = self.w0 - self.lr * dloss_w0 \n",
    "                for j in range(n): \n",
    "                    if X[i][j] > 0:\n",
    "                        dloss_wj = dloss_w0 * X[i][j]  # 对wj求导\n",
    "                        self.w[j] = self.w[j] - self.lr * dloss_wj \n",
    "                        for f in range(self.k):  # 对vjf求导\n",
    "                            dloss_vjf = dloss_wj * (X[i].dot(self.v[:, f]) - self.v[j, f] * X[i, j])\n",
    "                            self.v[j][f] = self.v[j][f] - self.lr * dloss_vjf \n",
    "                            \n",
    "            self.losses.append(loss/m)\n",
    "            if it % 10==0:\n",
    "                print(\"iter :{}| loss :{:.4f}\".format(it, loss/m))\n",
    "                \n",
    "    def evaluate(self, X, Y):\n",
    "        Y_predict=[]\n",
    "        m=X.shape[0]\n",
    "        for i in range(m):  # 遍历测试集\n",
    "            y = self.FM_cul(x=X[i])  # FM的模型方程 \n",
    "            Y_predict.append(y)\n",
    "        mae=sum(np.fabs(Y-Y_predict))/m\n",
    "        rmse=np.sqrt(sum((Y-Y_predict)**2)/m)\n",
    "        print(\"test mae :{:.4f} test rmse :{:.4f}\".format(mae,rmse))        \n",
    "    "
   ]
  },
  {
   "cell_type": "markdown",
   "id": "407f2ecb",
   "metadata": {
    "papermill": {
     "duration": 0.004123,
     "end_time": "2022-07-03T15:47:20.009089",
     "exception": false,
     "start_time": "2022-07-03T15:47:20.004966",
     "status": "completed"
    },
    "tags": []
   },
   "source": [
    "#### **数据导入及处理**"
   ]
  },
  {
   "cell_type": "code",
   "execution_count": 6,
   "id": "ae51f907",
   "metadata": {
    "execution": {
     "iopub.execute_input": "2022-07-03T15:47:20.019457Z",
     "iopub.status.busy": "2022-07-03T15:47:20.019079Z",
     "iopub.status.idle": "2022-07-03T15:47:29.129515Z",
     "shell.execute_reply": "2022-07-03T15:47:29.127984Z"
    },
    "papermill": {
     "duration": 9.118821,
     "end_time": "2022-07-03T15:47:29.132212",
     "exception": false,
     "start_time": "2022-07-03T15:47:20.013391",
     "status": "completed"
    },
    "tags": []
   },
   "outputs": [
    {
     "name": "stdout",
     "output_type": "stream",
     "text": [
      "start load data\n",
      "start process data\n",
      "Number of users = 6040 , Number of items = 3883\n"
     ]
    },
    {
     "name": "stderr",
     "output_type": "stream",
     "text": [
      "/opt/conda/lib/python3.7/site-packages/pandas/util/_decorators.py:311: ParserWarning: Falling back to the 'python' engine because the 'c' engine does not support regex separators (separators > 1 char and different from '\\s+' are interpreted as regex); you can avoid this warning by specifying engine='python'.\n",
      "  return func(*args, **kwargs)\n"
     ]
    }
   ],
   "source": [
    "ratings_path=\"../input/movielens-1m-dataset/ratings.dat\"\n",
    "users_path=\"../input/movielens-1m-dataset/users.dat\"\n",
    "movies_path=\"../input/movielens-1m-dataset/movies.dat\"\n",
    "dp = DataProcess(ratings_path,users_path,movies_path)\n",
    "X_train,X_test,Y_train,Y_test=train_test_split(dp.X, dp.Y, test_size=0.2, random_state=123)"
   ]
  },
  {
   "cell_type": "markdown",
   "id": "898e3dfa",
   "metadata": {
    "papermill": {
     "duration": 0.004367,
     "end_time": "2022-07-03T15:47:29.142019",
     "exception": false,
     "start_time": "2022-07-03T15:47:29.137652",
     "status": "completed"
    },
    "tags": []
   },
   "source": [
    "#### **训练&预测**\n",
    "##### 使用MAE和RMSE进行评估"
   ]
  },
  {
   "cell_type": "code",
   "execution_count": 7,
   "id": "fd9f9409",
   "metadata": {
    "execution": {
     "iopub.execute_input": "2022-07-03T15:47:29.153138Z",
     "iopub.status.busy": "2022-07-03T15:47:29.152341Z",
     "iopub.status.idle": "2022-07-03T15:48:22.695796Z",
     "shell.execute_reply": "2022-07-03T15:48:22.694461Z"
    },
    "papermill": {
     "duration": 53.552513,
     "end_time": "2022-07-03T15:48:22.699115",
     "exception": false,
     "start_time": "2022-07-03T15:47:29.146602",
     "status": "completed"
    },
    "scrolled": true,
    "tags": []
   },
   "outputs": [
    {
     "name": "stdout",
     "output_type": "stream",
     "text": [
      "iter :0| loss :41.0644\n",
      "iter :10| loss :0.9337\n",
      "iter :20| loss :0.5788\n",
      "iter :30| loss :0.4299\n",
      "iter :40| loss :0.3412\n",
      "iter :50| loss :0.2794\n",
      "iter :60| loss :0.2326\n",
      "iter :70| loss :0.1953\n",
      "iter :80| loss :0.1647\n",
      "iter :90| loss :0.1394\n",
      "iter :100| loss :0.1182\n",
      "iter :110| loss :0.1004\n",
      "iter :120| loss :0.0856\n",
      "iter :130| loss :0.0732\n",
      "iter :140| loss :0.0628\n",
      "iter :150| loss :0.0542\n",
      "iter :160| loss :0.0469\n",
      "iter :170| loss :0.0409\n",
      "iter :180| loss :0.0357\n",
      "iter :190| loss :0.0314\n"
     ]
    }
   ],
   "source": [
    "md=FactorizationMachine(k=10, lr=0.001, iterations=200)\n",
    "md.train(X_train, Y_train)"
   ]
  },
  {
   "cell_type": "code",
   "execution_count": 8,
   "id": "158884db",
   "metadata": {
    "execution": {
     "iopub.execute_input": "2022-07-03T15:48:22.713868Z",
     "iopub.status.busy": "2022-07-03T15:48:22.713494Z",
     "iopub.status.idle": "2022-07-03T15:48:22.723761Z",
     "shell.execute_reply": "2022-07-03T15:48:22.722559Z"
    },
    "papermill": {
     "duration": 0.020216,
     "end_time": "2022-07-03T15:48:22.726424",
     "exception": false,
     "start_time": "2022-07-03T15:48:22.706208",
     "status": "completed"
    },
    "tags": []
   },
   "outputs": [
    {
     "name": "stdout",
     "output_type": "stream",
     "text": [
      "test mae :1.3045 test rmse :1.6949\n"
     ]
    }
   ],
   "source": [
    "md.evaluate(X_test, Y_test)"
   ]
  },
  {
   "cell_type": "markdown",
   "id": "b4b6fe36",
   "metadata": {
    "papermill": {
     "duration": 0.00565,
     "end_time": "2022-07-03T15:48:22.738210",
     "exception": false,
     "start_time": "2022-07-03T15:48:22.732560",
     "status": "completed"
    },
    "tags": []
   },
   "source": [
    "#### **输出训练过程中loss的变化**"
   ]
  },
  {
   "cell_type": "code",
   "execution_count": 9,
   "id": "48f9236a",
   "metadata": {
    "execution": {
     "iopub.execute_input": "2022-07-03T15:48:22.752394Z",
     "iopub.status.busy": "2022-07-03T15:48:22.752002Z",
     "iopub.status.idle": "2022-07-03T15:48:22.965391Z",
     "shell.execute_reply": "2022-07-03T15:48:22.964058Z"
    },
    "papermill": {
     "duration": 0.224129,
     "end_time": "2022-07-03T15:48:22.968349",
     "exception": false,
     "start_time": "2022-07-03T15:48:22.744220",
     "status": "completed"
    },
    "tags": []
   },
   "outputs": [
    {
     "data": {
      "text/plain": [
       "Text(0, 0.5, 'loss')"
      ]
     },
     "execution_count": 9,
     "metadata": {},
     "output_type": "execute_result"
    },
    {
     "data": {
      "image/png": "[encoded data removed]",
      "text/plain": [
       "<Figure size 432x288 with 1 Axes>"
      ]
     },
     "metadata": {
      "needs_background": "light"
     },
     "output_type": "display_data"
    }
   ],
   "source": [
    "plt.plot(md.losses)\n",
    "plt.xlabel('Iteration')\n",
    "plt.ylabel('loss')"
   ]
  }
 ],
 "metadata": {
  "kernelspec": {
   "display_name": "Python 3",
   "language": "python",
   "name": "python3"
  },
  "language_info": {
   "codemirror_mode": {
    "name": "ipython",
    "version": 3
   },
   "file_extension": ".py",
   "mimetype": "text/x-python",
   "name": "python",
   "nbconvert_exporter": "python",
   "pygments_lexer": "ipython3",
   "version": "3.7.12"
  },
  "papermill": {
   "default_parameters": {},
   "duration": 74.658352,
   "end_time": "2022-07-03T15:48:23.697684",
   "environment_variables": {},
   "exception": null,
   "input_path": "__notebook__.ipynb",
   "output_path": "__notebook__.ipynb",
   "parameters": {},
   "start_time": "2022-07-03T15:47:09.039332",
   "version": "2.3.4"
  }
 },
 "nbformat": 4,
 "nbformat_minor": 5
}
