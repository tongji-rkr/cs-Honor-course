{
 "cells": [
  {
   "cell_type": "code",
   "execution_count": 1,
   "id": "bba007f9",
   "metadata": {
    "_cell_guid": "b1076dfc-b9ad-4769-8c92-a6c4dae69d19",
    "_uuid": "8f2839f25d086af736a60e9eeb907d3b93b6e0e5",
    "execution": {
     "iopub.execute_input": "2022-06-30T06:02:38.561016Z",
     "iopub.status.busy": "2022-06-30T06:02:38.560230Z",
     "iopub.status.idle": "2022-06-30T06:02:38.569993Z",
     "shell.execute_reply": "2022-06-30T06:02:38.569311Z"
    },
    "papermill": {
     "duration": 0.024831,
     "end_time": "2022-06-30T06:02:38.572320",
     "exception": false,
     "start_time": "2022-06-30T06:02:38.547489",
     "status": "completed"
    },
    "tags": []
   },
   "outputs": [],
   "source": [
    "import numpy as np\n",
    "import pandas as pd\n",
    "import math\n",
    "import matplotlib.pyplot as plt"
   ]
  },
  {
   "cell_type": "markdown",
   "id": "820650a2",
   "metadata": {
    "papermill": {
     "duration": 0.007417,
     "end_time": "2022-06-30T06:02:38.587888",
     "exception": false,
     "start_time": "2022-06-30T06:02:38.580471",
     "status": "completed"
    },
    "tags": []
   },
   "source": [
    "### **读入数据**\n",
    "#### 选择ctr-in-advertisement作为实验数据\n",
    "#### 其中Ad_Click_prediciton_train(1).csv作为训练集，Ad_Click_prediciton_test.csv作为测试集"
   ]
  },
  {
   "cell_type": "code",
   "execution_count": 2,
   "id": "f693706e",
   "metadata": {
    "execution": {
     "iopub.execute_input": "2022-06-30T06:02:38.604887Z",
     "iopub.status.busy": "2022-06-30T06:02:38.604293Z",
     "iopub.status.idle": "2022-06-30T06:02:40.001876Z",
     "shell.execute_reply": "2022-06-30T06:02:40.000914Z"
    },
    "papermill": {
     "duration": 1.408998,
     "end_time": "2022-06-30T06:02:40.004472",
     "exception": false,
     "start_time": "2022-06-30T06:02:38.595474",
     "status": "completed"
    },
    "tags": []
   },
   "outputs": [],
   "source": [
    "df1=pd.read_csv(\"../input/ctr-in-advertisement/Ad_click_prediction_train (1).csv\",encoding='utf-8')\n",
    "df2=pd.read_csv(\"../input/ctr-in-advertisement/Ad_Click_prediciton_test.csv\",encoding='utf-8')\n",
    "df2['is_click']=1"
   ]
  },
  {
   "cell_type": "code",
   "execution_count": 3,
   "id": "b0d74330",
   "metadata": {
    "execution": {
     "iopub.execute_input": "2022-06-30T06:02:40.022844Z",
     "iopub.status.busy": "2022-06-30T06:02:40.021916Z",
     "iopub.status.idle": "2022-06-30T06:02:40.029325Z",
     "shell.execute_reply": "2022-06-30T06:02:40.028471Z"
    },
    "papermill": {
     "duration": 0.018902,
     "end_time": "2022-06-30T06:02:40.031321",
     "exception": false,
     "start_time": "2022-06-30T06:02:40.012419",
     "status": "completed"
    },
    "tags": []
   },
   "outputs": [],
   "source": [
    "def PreProcess(df):\n",
    "    ls=[]\n",
    "    for i in range(len(df)):\n",
    "        ls.append(float(df.loc[i,'DateTime'][9]))\n",
    "    df['day']=ls\n",
    "    df['product_category_2'] = df['product_category_2'].fillna(0.0)\n",
    "    mean_index=df['city_development_index'].mean()\n",
    "    df['city_development_index'] = df['city_development_index'].fillna(mean_index)\n",
    "    df=df.dropna()\n",
    "    return df"
   ]
  },
  {
   "cell_type": "code",
   "execution_count": 4,
   "id": "af1f96c1",
   "metadata": {
    "execution": {
     "iopub.execute_input": "2022-06-30T06:02:40.048219Z",
     "iopub.status.busy": "2022-06-30T06:02:40.047818Z",
     "iopub.status.idle": "2022-06-30T06:02:40.053066Z",
     "shell.execute_reply": "2022-06-30T06:02:40.052155Z"
    },
    "papermill": {
     "duration": 0.016039,
     "end_time": "2022-06-30T06:02:40.055042",
     "exception": false,
     "start_time": "2022-06-30T06:02:40.039003",
     "status": "completed"
    },
    "tags": []
   },
   "outputs": [],
   "source": [
    "def OneHotEncoder(df):\n",
    "    col=['product', 'campaign_id','webpage_id', 'product_category_1', 'product_category_2','user_group_id', 'gender']\n",
    "    df = pd.get_dummies(df,columns=col)\n",
    "    df=df.iloc[:,3:]\n",
    "    return df"
   ]
  },
  {
   "cell_type": "markdown",
   "id": "330a7673",
   "metadata": {
    "papermill": {
     "duration": 0.007554,
     "end_time": "2022-06-30T06:02:40.070846",
     "exception": false,
     "start_time": "2022-06-30T06:02:40.063292",
     "status": "completed"
    },
    "tags": []
   },
   "source": [
    "### **数据处理**\n",
    "#### 首先进行DateTime属性的提取关键值，并用各属性平均值来替换缺失值；\n",
    "#### 之后对于离散值进行独热处理"
   ]
  },
  {
   "cell_type": "code",
   "execution_count": 5,
   "id": "2c1a2a2c",
   "metadata": {
    "execution": {
     "iopub.execute_input": "2022-06-30T06:02:40.088182Z",
     "iopub.status.busy": "2022-06-30T06:02:40.087771Z",
     "iopub.status.idle": "2022-06-30T06:02:48.956438Z",
     "shell.execute_reply": "2022-06-30T06:02:48.955654Z"
    },
    "papermill": {
     "duration": 8.879636,
     "end_time": "2022-06-30T06:02:48.958617",
     "exception": false,
     "start_time": "2022-06-30T06:02:40.078981",
     "status": "completed"
    },
    "tags": []
   },
   "outputs": [],
   "source": [
    "df1=PreProcess(df1)\n",
    "df2=PreProcess(df2)\n",
    "df=pd.concat([df1,df2],axis=0,ignore_index=True)\n",
    "df=OneHotEncoder(df)\n",
    "df1=df.iloc[0:df1.shape[0],:]\n",
    "df2=df.iloc[df1.shape[0]:df1.shape[0]+df2.shape[0],:]"
   ]
  },
  {
   "cell_type": "code",
   "execution_count": 6,
   "id": "bb06747c",
   "metadata": {
    "execution": {
     "iopub.execute_input": "2022-06-30T06:02:48.975904Z",
     "iopub.status.busy": "2022-06-30T06:02:48.975400Z",
     "iopub.status.idle": "2022-06-30T06:02:49.130503Z",
     "shell.execute_reply": "2022-06-30T06:02:49.129279Z"
    },
    "papermill": {
     "duration": 0.166562,
     "end_time": "2022-06-30T06:02:49.132990",
     "exception": false,
     "start_time": "2022-06-30T06:02:48.966428",
     "status": "completed"
    },
    "tags": []
   },
   "outputs": [],
   "source": [
    "Y_train=df1['is_click'].values.T\n",
    "df1=df1.drop(['is_click'],axis=1)\n",
    "X_train=df1.values.T"
   ]
  },
  {
   "cell_type": "code",
   "execution_count": 7,
   "id": "d4e5156b",
   "metadata": {
    "execution": {
     "iopub.execute_input": "2022-06-30T06:02:49.150052Z",
     "iopub.status.busy": "2022-06-30T06:02:49.149651Z",
     "iopub.status.idle": "2022-06-30T06:02:49.199908Z",
     "shell.execute_reply": "2022-06-30T06:02:49.198783Z"
    },
    "papermill": {
     "duration": 0.06172,
     "end_time": "2022-06-30T06:02:49.202431",
     "exception": false,
     "start_time": "2022-06-30T06:02:49.140711",
     "status": "completed"
    },
    "tags": []
   },
   "outputs": [],
   "source": [
    "Y_test=df2['is_click'].values.T\n",
    "df2=df2.drop(['is_click'],axis=1)\n",
    "X_test=df2.values.T"
   ]
  },
  {
   "cell_type": "code",
   "execution_count": 8,
   "id": "a51c3007",
   "metadata": {
    "execution": {
     "iopub.execute_input": "2022-06-30T06:02:49.219324Z",
     "iopub.status.busy": "2022-06-30T06:02:49.218944Z",
     "iopub.status.idle": "2022-06-30T06:02:49.225952Z",
     "shell.execute_reply": "2022-06-30T06:02:49.225334Z"
    },
    "papermill": {
     "duration": 0.0189,
     "end_time": "2022-06-30T06:02:49.229036",
     "exception": false,
     "start_time": "2022-06-30T06:02:49.210136",
     "status": "completed"
    },
    "tags": []
   },
   "outputs": [
    {
     "data": {
      "text/plain": [
       "numpy.ndarray"
      ]
     },
     "execution_count": 8,
     "metadata": {},
     "output_type": "execute_result"
    }
   ],
   "source": [
    "type(Y_train)"
   ]
  },
  {
   "cell_type": "markdown",
   "id": "ee4082c6",
   "metadata": {
    "papermill": {
     "duration": 0.007442,
     "end_time": "2022-06-30T06:02:49.244321",
     "exception": false,
     "start_time": "2022-06-30T06:02:49.236879",
     "status": "completed"
    },
    "tags": []
   },
   "source": [
    "### **1.sigmod函数**"
   ]
  },
  {
   "cell_type": "code",
   "execution_count": 9,
   "id": "9c1f35b6",
   "metadata": {
    "execution": {
     "iopub.execute_input": "2022-06-30T06:02:49.261619Z",
     "iopub.status.busy": "2022-06-30T06:02:49.260737Z",
     "iopub.status.idle": "2022-06-30T06:02:49.265741Z",
     "shell.execute_reply": "2022-06-30T06:02:49.265073Z"
    },
    "papermill": {
     "duration": 0.015666,
     "end_time": "2022-06-30T06:02:49.267644",
     "exception": false,
     "start_time": "2022-06-30T06:02:49.251978",
     "status": "completed"
    },
    "tags": []
   },
   "outputs": [],
   "source": [
    "def sigmoid(z):\n",
    "    s = 1 / (1 + np.exp(-z))\n",
    "    return s"
   ]
  },
  {
   "cell_type": "markdown",
   "id": "84d4edc5",
   "metadata": {
    "papermill": {
     "duration": 0.007477,
     "end_time": "2022-06-30T06:02:49.283175",
     "exception": false,
     "start_time": "2022-06-30T06:02:49.275698",
     "status": "completed"
    },
    "tags": []
   },
   "source": [
    "### **2.前向传播与反向传播**"
   ]
  },
  {
   "cell_type": "code",
   "execution_count": 10,
   "id": "479bb421",
   "metadata": {
    "execution": {
     "iopub.execute_input": "2022-06-30T06:02:49.300713Z",
     "iopub.status.busy": "2022-06-30T06:02:49.300149Z",
     "iopub.status.idle": "2022-06-30T06:02:49.307959Z",
     "shell.execute_reply": "2022-06-30T06:02:49.307044Z"
    },
    "papermill": {
     "duration": 0.019027,
     "end_time": "2022-06-30T06:02:49.310271",
     "exception": false,
     "start_time": "2022-06-30T06:02:49.291244",
     "status": "completed"
    },
    "tags": []
   },
   "outputs": [],
   "source": [
    "def propagate(w, b, X, Y):\n",
    "    m = X.shape[1]\n",
    "    A = sigmoid(np.dot(w.T, X) + b)\n",
    "    cross_intropy = -(np.dot(Y, np.log(A.T)) + np.dot(np.log(1 - A), (1 - Y).T)) / m\n",
    "    # 反向传播\n",
    "    dw = np.dot(X, (A - Y).T) / m\n",
    "    db = np.sum(A - Y) / m\n",
    "    # 降维\n",
    "    cross_intropy = np.squeeze(cross_intropy)\n",
    "    grads = {\"dw\": dw,\"db\": db}\n",
    "    return grads, cross_intropy\n"
   ]
  },
  {
   "cell_type": "markdown",
   "id": "05794b73",
   "metadata": {
    "papermill": {
     "duration": 0.007387,
     "end_time": "2022-06-30T06:02:49.325802",
     "exception": false,
     "start_time": "2022-06-30T06:02:49.318415",
     "status": "completed"
    },
    "tags": []
   },
   "source": [
    "### **3.预测函数**"
   ]
  },
  {
   "cell_type": "code",
   "execution_count": 11,
   "id": "533bc9a6",
   "metadata": {
    "execution": {
     "iopub.execute_input": "2022-06-30T06:02:49.342589Z",
     "iopub.status.busy": "2022-06-30T06:02:49.342227Z",
     "iopub.status.idle": "2022-06-30T06:02:49.348822Z",
     "shell.execute_reply": "2022-06-30T06:02:49.348152Z"
    },
    "papermill": {
     "duration": 0.017191,
     "end_time": "2022-06-30T06:02:49.350554",
     "exception": false,
     "start_time": "2022-06-30T06:02:49.333363",
     "status": "completed"
    },
    "tags": []
   },
   "outputs": [],
   "source": [
    "def predict(w, b, X):\n",
    "    m = X.shape[1]\n",
    "    Y_prediction = np.zeros((1, m))\n",
    "    Y_prediction_bin = np.zeros((1, m))\n",
    "    w = w.reshape(X.shape[0], 1)\n",
    "    # 计算输出值\n",
    "    A = sigmoid(np.dot(w.T, X) + b)\n",
    "    Y_prediction = A\n",
    "    # 将结果离散化\n",
    "    for i in range(m):\n",
    "        if A[0][i]>0.5:\n",
    "            A[0][i]=1\n",
    "        else:\n",
    "            A[0][i]=0\n",
    "    Y_prediction_bindic=A\n",
    "    return  Y_prediction,Y_prediction_bin\n"
   ]
  },
  {
   "cell_type": "markdown",
   "id": "3a333d96",
   "metadata": {
    "papermill": {
     "duration": 0.007374,
     "end_time": "2022-06-30T06:02:49.365815",
     "exception": false,
     "start_time": "2022-06-30T06:02:49.358441",
     "status": "completed"
    },
    "tags": []
   },
   "source": [
    "### **4.更新参数w和b,使用梯度下降找出梯度最下点**"
   ]
  },
  {
   "cell_type": "code",
   "execution_count": 12,
   "id": "36040604",
   "metadata": {
    "execution": {
     "iopub.execute_input": "2022-06-30T06:02:49.382943Z",
     "iopub.status.busy": "2022-06-30T06:02:49.382244Z",
     "iopub.status.idle": "2022-06-30T06:02:49.390165Z",
     "shell.execute_reply": "2022-06-30T06:02:49.389166Z"
    },
    "papermill": {
     "duration": 0.018679,
     "end_time": "2022-06-30T06:02:49.392226",
     "exception": false,
     "start_time": "2022-06-30T06:02:49.373547",
     "status": "completed"
    },
    "tags": []
   },
   "outputs": [],
   "source": [
    "def optimizer(w, b, X_train, Y_train, X_test, Y_test, iterations, lr):\n",
    "    costs = []\n",
    "    for i in range(iterations):\n",
    "        #计算梯度和交叉熵\n",
    "        grads, cross_intropy = propagate(w, b, X_train, Y_train)\n",
    "        dw = grads[\"dw\"]\n",
    "        db = grads[\"db\"]\n",
    "        #更新参数\n",
    "        w = w - lr * dw\n",
    "        b = b - lr * db\n",
    "        # 每20次记录1次交叉熵\n",
    "        if i % 20 == 0:\n",
    "            costs.append(cross_intropy)\n",
    "        #输出交叉熵的变化\n",
    "        if i % 100 == 0:  # 打印成本值\n",
    "            print(\"Iteration {}|Cross Intropy {:.4f}\".format(i,cross_intropy))\n",
    "        params = {\"w\": w,\"b\": b}\n",
    "    return params, costs"
   ]
  },
  {
   "cell_type": "markdown",
   "id": "8a2d920e",
   "metadata": {
    "papermill": {
     "duration": 0.007792,
     "end_time": "2022-06-30T06:02:49.407972",
     "exception": false,
     "start_time": "2022-06-30T06:02:49.400180",
     "status": "completed"
    },
    "tags": []
   },
   "source": [
    "### **5.评估函数**"
   ]
  },
  {
   "cell_type": "code",
   "execution_count": 13,
   "id": "3422c129",
   "metadata": {
    "execution": {
     "iopub.execute_input": "2022-06-30T06:02:49.425625Z",
     "iopub.status.busy": "2022-06-30T06:02:49.424843Z",
     "iopub.status.idle": "2022-06-30T06:02:49.430853Z",
     "shell.execute_reply": "2022-06-30T06:02:49.429988Z"
    },
    "papermill": {
     "duration": 0.0171,
     "end_time": "2022-06-30T06:02:49.432828",
     "exception": false,
     "start_time": "2022-06-30T06:02:49.415728",
     "status": "completed"
    },
    "tags": []
   },
   "outputs": [],
   "source": [
    "def Recall(Y_predict,Y_real,k,n):\n",
    "    num=0\n",
    "    for i in range(k):\n",
    "        if Y_predict[i]==1 and Y_real[i]==1:\n",
    "            num+=1\n",
    "    return num/n"
   ]
  },
  {
   "cell_type": "code",
   "execution_count": 14,
   "id": "345b3da5",
   "metadata": {
    "execution": {
     "iopub.execute_input": "2022-06-30T06:02:49.450149Z",
     "iopub.status.busy": "2022-06-30T06:02:49.449728Z",
     "iopub.status.idle": "2022-06-30T06:02:49.458400Z",
     "shell.execute_reply": "2022-06-30T06:02:49.457361Z"
    },
    "papermill": {
     "duration": 0.019575,
     "end_time": "2022-06-30T06:02:49.460236",
     "exception": false,
     "start_time": "2022-06-30T06:02:49.440661",
     "status": "completed"
    },
    "tags": []
   },
   "outputs": [],
   "source": [
    "def AP(Y_predict,Y_real,k,n):\n",
    "    sum_ap=r=0\n",
    "    for i in range(k):\n",
    "        if Y_predict[i]==1 and Y_real[i]==1:\n",
    "            r+=1\n",
    "            sum_ap+=r/(i+1)\n",
    "    return sum_ap/(max(k,n))\n",
    "def MAP(Y_predict,Y_real,k,n):\n",
    "    m=n//3\n",
    "    ap1=AP(Y_predict[0:m],Y_real[0:m],k,m)\n",
    "    ap2=AP(Y_predict[m:2*m],Y_real[m:2*m],k,m)\n",
    "    ap3=AP(Y_predict[2*m:3*m],Y_real[2*m:3*m],k,m)\n",
    "    return (ap1+ap2+ap3)/3\n",
    "    "
   ]
  },
  {
   "cell_type": "code",
   "execution_count": 15,
   "id": "3c0bda60",
   "metadata": {
    "execution": {
     "iopub.execute_input": "2022-06-30T06:02:49.477705Z",
     "iopub.status.busy": "2022-06-30T06:02:49.477060Z",
     "iopub.status.idle": "2022-06-30T06:02:49.483901Z",
     "shell.execute_reply": "2022-06-30T06:02:49.483139Z"
    },
    "papermill": {
     "duration": 0.017967,
     "end_time": "2022-06-30T06:02:49.485910",
     "exception": false,
     "start_time": "2022-06-30T06:02:49.467943",
     "status": "completed"
    },
    "tags": []
   },
   "outputs": [],
   "source": [
    "def DCG(Y_predict,Y_real,k):\n",
    "    sum_dcg=0\n",
    "    for i in range(k):\n",
    "        if Y_predict[i]==1 and Y_real[i]==1:\n",
    "            sum_dcg+=1/math.log(i+2,2)\n",
    "    return sum_dcg\n",
    "def IDCG(Y_predict,Y_real,k):\n",
    "    sum_idcg=0\n",
    "    for i in range(k):\n",
    "        sum_idcg+=1/math.log(i+2,2)\n",
    "    return sum_idcg\n",
    "def nDCG(Y_predict,Y_real,k):\n",
    "    return DCG(Y_predict,Y_real,k)/IDCG(Y_predict,Y_real,k)"
   ]
  },
  {
   "cell_type": "code",
   "execution_count": 16,
   "id": "d5dff0d1",
   "metadata": {
    "execution": {
     "iopub.execute_input": "2022-06-30T06:02:49.503551Z",
     "iopub.status.busy": "2022-06-30T06:02:49.502943Z",
     "iopub.status.idle": "2022-06-30T06:02:49.510859Z",
     "shell.execute_reply": "2022-06-30T06:02:49.510158Z"
    },
    "papermill": {
     "duration": 0.019041,
     "end_time": "2022-06-30T06:02:49.512853",
     "exception": false,
     "start_time": "2022-06-30T06:02:49.493812",
     "status": "completed"
    },
    "tags": []
   },
   "outputs": [],
   "source": [
    "def evaluate(Y_predict,Y_real):\n",
    "    Y_predict=np.squeeze(Y_predict)\n",
    "    n=len(Y_real)\n",
    "    #Accu \n",
    "    print(\"Accu: {} %\".format(1 - np.mean(np.abs(Y_predict - Y_real))))\n",
    "    #Recall@1~20\n",
    "    for i in range(20):\n",
    "        k=i+1\n",
    "        r=Recall(Y_predict,Y_real,k,n)\n",
    "        print('Recall@{}: {}'.format(k,r))\n",
    "    #MAP@5\n",
    "    map5=MAP(Y_predict,Y_real,5,n)\n",
    "    print('MAP@{}: {}'.format(5,map5))\n",
    "    #MAP@10\n",
    "    map10=MAP(Y_predict,Y_real,10,n)\n",
    "    print('MAP@{}: {}'.format(10,map10))\n",
    "    #nDCG@5\n",
    "    ndcg5=nDCG(Y_predict,Y_real,5)\n",
    "    print('nDCG@{}: {}'.format(5,ndcg5))\n",
    "    #nDCG@10\n",
    "    ndcg10=nDCG(Y_predict,Y_real,10)\n",
    "    print('nDCG@{}: {}'.format(10,ndcg10))"
   ]
  },
  {
   "cell_type": "markdown",
   "id": "8f7e3806",
   "metadata": {
    "papermill": {
     "duration": 0.007827,
     "end_time": "2022-06-30T06:02:49.528463",
     "exception": false,
     "start_time": "2022-06-30T06:02:49.520636",
     "status": "completed"
    },
    "tags": []
   },
   "source": [
    "### **6.建立整个预测模型，并输出acc的变化**"
   ]
  },
  {
   "cell_type": "code",
   "execution_count": 17,
   "id": "39bd51dd",
   "metadata": {
    "execution": {
     "iopub.execute_input": "2022-06-30T06:02:49.545766Z",
     "iopub.status.busy": "2022-06-30T06:02:49.545331Z",
     "iopub.status.idle": "2022-06-30T06:02:49.553745Z",
     "shell.execute_reply": "2022-06-30T06:02:49.552748Z"
    },
    "papermill": {
     "duration": 0.019541,
     "end_time": "2022-06-30T06:02:49.555894",
     "exception": false,
     "start_time": "2022-06-30T06:02:49.536353",
     "status": "completed"
    },
    "tags": []
   },
   "outputs": [],
   "source": [
    "def model(X_train, Y_train, X_test, Y_test, iterations, lr):\n",
    "    #初始化参数\n",
    "    dim = X_train.shape[0]\n",
    "    w = np.zeros((dim, 1))\n",
    "    b = 0\n",
    "    #训练得到最终参数\n",
    "    parameters, costs = optimizer(w, b, X_train, Y_train, X_test, Y_test, iterations, lr)\n",
    "    w = parameters[\"w\"]\n",
    "    b = parameters[\"b\"]\n",
    "    # 训练集的预测结果\n",
    "    Y_prediction_train,Y_prediction_train_bin = predict(w, b, X_train)\n",
    "    # 测试集的预测结果\n",
    "    Y_prediction_test,Y_prediction_test_bin = predict(w, b, X_test)\n",
    "    # 评估函数\n",
    "    print('----------train----------')\n",
    "    evaluate(Y_prediction_train_bin,Y_train)\n",
    "    print('----------test----------')\n",
    "    evaluate(Y_prediction_test_bin,Y_test)\n",
    "    model = {\"lr\" : lr,\"iterations\": iterations,\"costs\": costs,\"w\" : w,\"b\" : b}\n",
    "    return model"
   ]
  },
  {
   "cell_type": "markdown",
   "id": "19686ad1",
   "metadata": {
    "papermill": {
     "duration": 0.007394,
     "end_time": "2022-06-30T06:02:49.571068",
     "exception": false,
     "start_time": "2022-06-30T06:02:49.563674",
     "status": "completed"
    },
    "tags": []
   },
   "source": [
    "### **基于数据集进行测试**"
   ]
  },
  {
   "cell_type": "code",
   "execution_count": 18,
   "id": "4135c676",
   "metadata": {
    "execution": {
     "iopub.execute_input": "2022-06-30T06:02:49.588692Z",
     "iopub.status.busy": "2022-06-30T06:02:49.588103Z",
     "iopub.status.idle": "2022-06-30T06:04:59.391984Z",
     "shell.execute_reply": "2022-06-30T06:04:59.391050Z"
    },
    "papermill": {
     "duration": 129.82494,
     "end_time": "2022-06-30T06:04:59.403800",
     "exception": false,
     "start_time": "2022-06-30T06:02:49.578860",
     "status": "completed"
    },
    "tags": []
   },
   "outputs": [
    {
     "name": "stdout",
     "output_type": "stream",
     "text": [
      "Iteration 0|Cross Intropy 0.6931\n",
      "Iteration 100|Cross Intropy 0.2514\n",
      "Iteration 200|Cross Intropy 0.2507\n",
      "Iteration 300|Cross Intropy 0.2503\n",
      "Iteration 400|Cross Intropy 0.2499\n",
      "Iteration 500|Cross Intropy 0.2496\n",
      "Iteration 600|Cross Intropy 0.2494\n",
      "Iteration 700|Cross Intropy 0.2492\n",
      "Iteration 800|Cross Intropy 0.2490\n",
      "Iteration 900|Cross Intropy 0.2488\n",
      "Iteration 1000|Cross Intropy 0.2486\n",
      "Iteration 1100|Cross Intropy 0.2485\n",
      "Iteration 1200|Cross Intropy 0.2484\n",
      "Iteration 1300|Cross Intropy 0.2483\n",
      "Iteration 1400|Cross Intropy 0.2482\n",
      "Iteration 1500|Cross Intropy 0.2481\n",
      "Iteration 1600|Cross Intropy 0.2480\n",
      "Iteration 1700|Cross Intropy 0.2479\n",
      "Iteration 1800|Cross Intropy 0.2479\n",
      "Iteration 1900|Cross Intropy 0.2478\n",
      "----------train----------\n",
      "Accu: 0.9324634646150528 %\n",
      "Recall@1: 0.0\n",
      "Recall@2: 0.0\n",
      "Recall@3: 0.0\n",
      "Recall@4: 0.0\n",
      "Recall@5: 0.0\n",
      "Recall@6: 0.0\n",
      "Recall@7: 0.0\n",
      "Recall@8: 0.0\n",
      "Recall@9: 0.0\n",
      "Recall@10: 0.0\n",
      "Recall@11: 0.0\n",
      "Recall@12: 0.0\n",
      "Recall@13: 0.0\n",
      "Recall@14: 0.0\n",
      "Recall@15: 0.0\n",
      "Recall@16: 0.0\n",
      "Recall@17: 0.0\n",
      "Recall@18: 0.0\n",
      "Recall@19: 0.0\n",
      "Recall@20: 0.0\n",
      "MAP@5: 0.0\n",
      "MAP@10: 0.0\n",
      "nDCG@5: 0.0\n",
      "nDCG@10: 0.0\n",
      "----------test----------\n",
      "Accu: 0.0 %\n",
      "Recall@1: 0.0\n",
      "Recall@2: 0.0\n",
      "Recall@3: 0.0\n",
      "Recall@4: 0.0\n",
      "Recall@5: 0.0\n",
      "Recall@6: 0.0\n",
      "Recall@7: 0.0\n",
      "Recall@8: 0.0\n",
      "Recall@9: 0.0\n",
      "Recall@10: 0.0\n",
      "Recall@11: 0.0\n",
      "Recall@12: 0.0\n",
      "Recall@13: 0.0\n",
      "Recall@14: 0.0\n",
      "Recall@15: 0.0\n",
      "Recall@16: 0.0\n",
      "Recall@17: 0.0\n",
      "Recall@18: 0.0\n",
      "Recall@19: 0.0\n",
      "Recall@20: 0.0\n",
      "MAP@5: 0.0\n",
      "MAP@10: 0.0\n",
      "nDCG@5: 0.0\n",
      "nDCG@10: 0.0\n",
      "{'lr': 0.01, 'iterations': 2000, 'costs': [array(0.69314718), array(0.28171087), array(0.25765988), array(0.25306882), array(0.25181349), array(0.25137088), array(0.25116021), array(0.25102266), array(0.25091077), array(0.25080959), array(0.25071423), array(0.25062302), array(0.25053529), array(0.25045075), array(0.2503692), array(0.2502905), array(0.25021452), array(0.25014114), array(0.25007024), array(0.25000171), array(0.24993546), array(0.24987139), array(0.2498094), array(0.2497494), array(0.24969131), array(0.24963505), array(0.24958054), array(0.24952771), array(0.24947649), array(0.2494268), array(0.2493786), array(0.24933181), array(0.24928638), array(0.24924225), array(0.24919938), array(0.24915771), array(0.24911718), array(0.24907777), array(0.24903942), array(0.24900209), array(0.24896574), array(0.24893034), array(0.24889584), array(0.24886222), array(0.24882944), array(0.24879746), array(0.24876627), array(0.24873582), array(0.2487061), array(0.24867707), array(0.24864871), array(0.248621), array(0.24859392), array(0.24856743), array(0.24854153), array(0.24851618), array(0.24849138), array(0.2484671), array(0.24844333), array(0.24842004), array(0.24839723), array(0.24837487), array(0.24835295), array(0.24833147), array(0.24831039), array(0.24828972), array(0.24826944), array(0.24824953), array(0.24822999), array(0.2482108), array(0.24819195), array(0.24817344), array(0.24815525), array(0.24813738), array(0.24811981), array(0.24810253), array(0.24808555), array(0.24806884), array(0.2480524), array(0.24803623), array(0.24802032), array(0.24800466), array(0.24798924), array(0.24797406), array(0.24795911), array(0.24794438), array(0.24792988), array(0.24791559), array(0.24790151), array(0.24788763), array(0.24787395), array(0.24786047), array(0.24784717), array(0.24783406), array(0.24782113), array(0.24780837), array(0.24779579), array(0.24778338), array(0.24777113), array(0.24775904)], 'w': array([[-1.50972482e-01],\n",
      "       [-2.84644822e-01],\n",
      "       [-1.85374506e-01],\n",
      "       [-3.65353394e-03],\n",
      "       [-1.15957031e-01],\n",
      "       [-7.09809250e-03],\n",
      "       [-1.70485614e-02],\n",
      "       [-2.94432976e-02],\n",
      "       [ 2.35896450e-03],\n",
      "       [-5.49381647e-03],\n",
      "       [-9.71510473e-03],\n",
      "       [-9.26537708e-03],\n",
      "       [-1.69502849e-02],\n",
      "       [-3.30794508e-02],\n",
      "       [ 6.87367870e-03],\n",
      "       [-1.94065473e-02],\n",
      "       [ 7.14648191e-03],\n",
      "       [-2.72468027e-03],\n",
      "       [-5.87311649e-03],\n",
      "       [-4.43998366e-02],\n",
      "       [-5.72205930e-02],\n",
      "       [-1.31504123e-02],\n",
      "       [-3.51132861e-03],\n",
      "       [ 3.72037129e-02],\n",
      "       [-1.69250224e-02],\n",
      "       [-1.94065473e-02],\n",
      "       [ 7.14648191e-03],\n",
      "       [-2.72468027e-03],\n",
      "       [-1.01620430e-01],\n",
      "       [-5.87311649e-03],\n",
      "       [-1.69250224e-02],\n",
      "       [-1.31504123e-02],\n",
      "       [-3.51132861e-03],\n",
      "       [ 3.72037129e-02],\n",
      "       [-3.49991315e-02],\n",
      "       [-3.81504663e-02],\n",
      "       [ 1.81555648e-02],\n",
      "       [-4.47852414e-02],\n",
      "       [-1.90820678e-02],\n",
      "       [-9.34374676e-02],\n",
      "       [-1.50072084e-04],\n",
      "       [ 1.72797669e-04],\n",
      "       [-3.34297158e-05],\n",
      "       [-5.87311649e-03],\n",
      "       [-9.54440253e-06],\n",
      "       [-2.37645632e-03],\n",
      "       [-8.33249536e-03],\n",
      "       [-6.37741352e-06],\n",
      "       [-4.21092707e-06],\n",
      "       [-4.41492776e-06],\n",
      "       [-8.44021781e-05],\n",
      "       [-1.64540469e-05],\n",
      "       [-3.59085817e-06],\n",
      "       [-5.70420690e-03],\n",
      "       [ 4.31745310e-05],\n",
      "       [ 8.04792095e-04],\n",
      "       [ 0.00000000e+00],\n",
      "       [-5.58371432e-06],\n",
      "       [-3.37007393e-03],\n",
      "       [-1.28472507e-05],\n",
      "       [-4.92348528e-06],\n",
      "       [-2.45982593e-05],\n",
      "       [ 0.00000000e+00],\n",
      "       [-1.04600788e-04],\n",
      "       [-4.90334778e-06],\n",
      "       [-1.72014552e-04],\n",
      "       [-4.97080676e-05],\n",
      "       [-4.01608298e-06],\n",
      "       [-3.30364722e-05],\n",
      "       [-9.46944747e-06],\n",
      "       [-5.00918699e-05],\n",
      "       [-2.10363324e-04],\n",
      "       [-4.23333372e-02],\n",
      "       [-5.45340276e-02],\n",
      "       [-2.46081609e-02],\n",
      "       [-3.25238024e-03],\n",
      "       [ 1.76745460e-02],\n",
      "       [ 2.45310146e-03],\n",
      "       [-2.73961285e-03],\n",
      "       [-6.58170148e-03],\n",
      "       [-8.66081460e-03],\n",
      "       [-4.66082944e-03],\n",
      "       [ 6.85307480e-03],\n",
      "       [ 1.73916319e-03],\n",
      "       [-1.41945664e-02],\n",
      "       [-1.04666776e-01]]), 'b': -0.11886134220670656}\n"
     ]
    }
   ],
   "source": [
    "test = model(X_train, Y_train, X_test, Y_test, iterations = 2000, lr = 0.01)\n",
    "print(str(test))"
   ]
  },
  {
   "cell_type": "markdown",
   "id": "9937c2a7",
   "metadata": {
    "papermill": {
     "duration": 0.00939,
     "end_time": "2022-06-30T06:04:59.422873",
     "exception": false,
     "start_time": "2022-06-30T06:04:59.413483",
     "status": "completed"
    },
    "tags": []
   },
   "source": [
    "### **绘制交叉熵变化曲线**"
   ]
  },
  {
   "cell_type": "code",
   "execution_count": null,
   "id": "232ceb7f",
   "metadata": {
    "papermill": {
     "duration": 0.009103,
     "end_time": "2022-06-30T06:04:59.441470",
     "exception": false,
     "start_time": "2022-06-30T06:04:59.432367",
     "status": "completed"
    },
    "tags": []
   },
   "outputs": [],
   "source": []
  },
  {
   "cell_type": "code",
   "execution_count": 19,
   "id": "d092a41d",
   "metadata": {
    "execution": {
     "iopub.execute_input": "2022-06-30T06:04:59.462613Z",
     "iopub.status.busy": "2022-06-30T06:04:59.461585Z",
     "iopub.status.idle": "2022-06-30T06:04:59.658928Z",
     "shell.execute_reply": "2022-06-30T06:04:59.658021Z"
    },
    "papermill": {
     "duration": 0.210036,
     "end_time": "2022-06-30T06:04:59.660886",
     "exception": false,
     "start_time": "2022-06-30T06:04:59.450850",
     "status": "completed"
    },
    "tags": []
   },
   "outputs": [
    {
     "data": {
      "text/plain": [
       "[<matplotlib.lines.Line2D at 0x7ffa209b6310>]"
      ]
     },
     "execution_count": 19,
     "metadata": {},
     "output_type": "execute_result"
    },
    {
     "data": {
      "image/png": "[encoded data removed]",
      "text/plain": [
       "<Figure size 432x288 with 1 Axes>"
      ]
     },
     "metadata": {
      "needs_background": "light"
     },
     "output_type": "display_data"
    }
   ],
   "source": [
    "plt.plot(test['costs'])"
   ]
  }
 ],
 "metadata": {
  "kernelspec": {
   "display_name": "Python 3",
   "language": "python",
   "name": "python3"
  },
  "language_info": {
   "codemirror_mode": {
    "name": "ipython",
    "version": 3
   },
   "file_extension": ".py",
   "mimetype": "text/x-python",
   "name": "python",
   "nbconvert_exporter": "python",
   "pygments_lexer": "ipython3",
   "version": "3.7.12"
  },
  "papermill": {
   "default_parameters": {},
   "duration": 152.184874,
   "end_time": "2022-06-30T06:05:00.392541",
   "environment_variables": {},
   "exception": null,
   "input_path": "__notebook__.ipynb",
   "output_path": "__notebook__.ipynb",
   "parameters": {},
   "start_time": "2022-06-30T06:02:28.207667",
   "version": "2.3.4"
  }
 },
 "nbformat": 4,
 "nbformat_minor": 5
}
