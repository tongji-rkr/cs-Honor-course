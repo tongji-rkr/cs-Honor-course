{
 "cells": [
  {
   "cell_type": "code",
   "execution_count": 1,
   "id": "e56d9758",
   "metadata": {
    "_cell_guid": "b1076dfc-b9ad-4769-8c92-a6c4dae69d19",
    "_uuid": "8f2839f25d086af736a60e9eeb907d3b93b6e0e5",
    "execution": {
     "iopub.execute_input": "2022-06-30T06:01:27.297638Z",
     "iopub.status.busy": "2022-06-30T06:01:27.296837Z",
     "iopub.status.idle": "2022-06-30T06:01:27.309576Z",
     "shell.execute_reply": "2022-06-30T06:01:27.308740Z"
    },
    "papermill": {
     "duration": 0.026375,
     "end_time": "2022-06-30T06:01:27.312060",
     "exception": false,
     "start_time": "2022-06-30T06:01:27.285685",
     "status": "completed"
    },
    "tags": []
   },
   "outputs": [],
   "source": [
    "#2053635任柯睿\n",
    "import numpy as np\n",
    "import pandas as pd"
   ]
  },
  {
   "cell_type": "markdown",
   "id": "30854050",
   "metadata": {
    "papermill": {
     "duration": 0.005509,
     "end_time": "2022-06-30T06:01:27.323497",
     "exception": false,
     "start_time": "2022-06-30T06:01:27.317988",
     "status": "completed"
    },
    "tags": []
   },
   "source": [
    "### **导入数据**\n",
    "#### 训练集为ua.base，读取数据为u_base\n",
    "#### 测试集为ua.test，读取数据为u_test\n",
    "#### 之后基于u_base构建用户-物品交互矩阵"
   ]
  },
  {
   "cell_type": "code",
   "execution_count": 2,
   "id": "0670fa77",
   "metadata": {
    "execution": {
     "iopub.execute_input": "2022-06-30T06:01:27.337710Z",
     "iopub.status.busy": "2022-06-30T06:01:27.336728Z",
     "iopub.status.idle": "2022-06-30T06:01:28.624023Z",
     "shell.execute_reply": "2022-06-30T06:01:28.623032Z"
    },
    "papermill": {
     "duration": 1.296948,
     "end_time": "2022-06-30T06:01:28.626541",
     "exception": false,
     "start_time": "2022-06-30T06:01:27.329593",
     "status": "completed"
    },
    "tags": []
   },
   "outputs": [
    {
     "data": {
      "text/plain": [
       "array([[1.000e+00, 1.000e+00, 5.000e+00],\n",
       "       [1.000e+00, 2.000e+00, 3.000e+00],\n",
       "       [1.000e+00, 3.000e+00, 4.000e+00],\n",
       "       ...,\n",
       "       [9.430e+02, 1.188e+03, 3.000e+00],\n",
       "       [9.430e+02, 1.228e+03, 3.000e+00],\n",
       "       [9.430e+02, 1.330e+03, 3.000e+00]])"
      ]
     },
     "execution_count": 2,
     "metadata": {},
     "output_type": "execute_result"
    }
   ],
   "source": [
    "u_base=np.loadtxt(\"../input/movielens100k/ml-100k/ua.base\",delimiter='\\t',encoding='utf-8')\n",
    "u_base=u_base[:,:-1]\n",
    "u_test=np.loadtxt(\"../input/movielens100k/ml-100k/ua.test\",delimiter='\\t',encoding='utf-8')\n",
    "u_test=u_test[:,:-1]\n",
    "user_num=943\n",
    "item_num=1682\n",
    "user_item_mx=np.zeros((user_num,item_num),dtype=np.int32)\n",
    "user_user_mx=np.zeros((user_num,user_num),dtype=np.int32)\n",
    "#构建用户-物品交互矩阵\n",
    "for i in range(len(u_base)):\n",
    "    user_item_mx[int(u_base[i][0])-1][int(u_base[i][1])-1]=int(u_base[i][2])\n",
    "u_base"
   ]
  },
  {
   "cell_type": "markdown",
   "id": "2a96d649",
   "metadata": {
    "papermill": {
     "duration": 0.005549,
     "end_time": "2022-06-30T06:01:28.637923",
     "exception": false,
     "start_time": "2022-06-30T06:01:28.632374",
     "status": "completed"
    },
    "tags": []
   },
   "source": [
    "### **基于点击的User-CF预测**\n",
    "#### 使用Jaccard相似系数得到不同用户之间的关联度，并据此计算u_test中用户点击对应物品的概率\n",
    "#### 由于使用全部数据运行时间较长，我选择100个用户和100个物品，并对u_test前100条进行预测，"
   ]
  },
  {
   "cell_type": "code",
   "execution_count": 3,
   "id": "77569d37",
   "metadata": {
    "execution": {
     "iopub.execute_input": "2022-06-30T06:01:28.651527Z",
     "iopub.status.busy": "2022-06-30T06:01:28.650580Z",
     "iopub.status.idle": "2022-06-30T06:01:28.656901Z",
     "shell.execute_reply": "2022-06-30T06:01:28.656212Z"
    },
    "papermill": {
     "duration": 0.015162,
     "end_time": "2022-06-30T06:01:28.658848",
     "exception": false,
     "start_time": "2022-06-30T06:01:28.643686",
     "status": "completed"
    },
    "tags": []
   },
   "outputs": [],
   "source": [
    "#计算相关度\n",
    "def JaccardCul(u1,u2,item_num):\n",
    "    up=down=0\n",
    "    for i in range(item_num):\n",
    "        if user_item_mx[u1][i]>0 and user_item_mx[u2][i]>0:\n",
    "            up+=1\n",
    "        if user_item_mx[u1][i]>0 or user_item_mx[u2][i]>0:\n",
    "            down+=1\n",
    "    if down!=0:\n",
    "        return up/down\n",
    "    else:\n",
    "        return 0\n",
    "    "
   ]
  },
  {
   "cell_type": "code",
   "execution_count": 4,
   "id": "f09b67e4",
   "metadata": {
    "execution": {
     "iopub.execute_input": "2022-06-30T06:01:28.672973Z",
     "iopub.status.busy": "2022-06-30T06:01:28.671877Z",
     "iopub.status.idle": "2022-06-30T06:01:28.679263Z",
     "shell.execute_reply": "2022-06-30T06:01:28.678549Z"
    },
    "papermill": {
     "duration": 0.016418,
     "end_time": "2022-06-30T06:01:28.681086",
     "exception": false,
     "start_time": "2022-06-30T06:01:28.664668",
     "status": "completed"
    },
    "tags": []
   },
   "outputs": [],
   "source": [
    "#基于用户点击的User-CF\n",
    "def User_CF_Click(user_num,item_num,test_num):\n",
    "    item_scores=[]\n",
    "    for i in range(test_num):\n",
    "        r=num=0.0\n",
    "        user_id=int(u_test[i][0])\n",
    "        item_id=int(u_test[i][1])\n",
    "        for j in range(user_num):\n",
    "            if j!=user_id-1 and user_item_mx[j][item_id-1]>0:\n",
    "                num+=1\n",
    "                r+=JaccardCul(user_id-1,j,item_num)\n",
    "        if num!=0:\n",
    "            item_scores.append(r/num)\n",
    "        else:\n",
    "            item_scores.append(0)\n",
    "    return item_scores"
   ]
  },
  {
   "cell_type": "code",
   "execution_count": 5,
   "id": "2fe25e7e",
   "metadata": {
    "execution": {
     "iopub.execute_input": "2022-06-30T06:01:28.694699Z",
     "iopub.status.busy": "2022-06-30T06:01:28.693848Z",
     "iopub.status.idle": "2022-06-30T06:01:30.322666Z",
     "shell.execute_reply": "2022-06-30T06:01:30.321954Z"
    },
    "papermill": {
     "duration": 1.637817,
     "end_time": "2022-06-30T06:01:30.324548",
     "exception": false,
     "start_time": "2022-06-30T06:01:28.686731",
     "status": "completed"
    },
    "tags": []
   },
   "outputs": [
    {
     "name": "stdout",
     "output_type": "stream",
     "text": [
      "开始进行基于点击的User-CF预测\n"
     ]
    },
    {
     "data": {
      "text/plain": [
       "[0.2401051329622758,\n",
       " 0.431377264710598,\n",
       " 0.45750017178588614,\n",
       " 0.2387775556958179,\n",
       " 0.38854789310004195,\n",
       " 0.4355066702005478,\n",
       " 0.3559825054670415,\n",
       " 0.29352125389078126,\n",
       " 0.30237274110109424,\n",
       " 0.2854554287928176]"
      ]
     },
     "execution_count": 5,
     "metadata": {},
     "output_type": "execute_result"
    }
   ],
   "source": [
    "print(\"开始进行基于点击的User-CF预测\")\n",
    "item_list_click=User_CF_Click(100,100,100)\n",
    "item_list_click[0:10]"
   ]
  },
  {
   "cell_type": "markdown",
   "id": "c1910b4d",
   "metadata": {
    "papermill": {
     "duration": 0.0059,
     "end_time": "2022-06-30T06:01:30.336492",
     "exception": false,
     "start_time": "2022-06-30T06:01:30.330592",
     "status": "completed"
    },
    "tags": []
   },
   "source": [
    "### **基于评分的User-CF预测**\n",
    "#### 使用PersonCorrelavation相似系数得到不同用户之间的关联度，并据此预测出u_test中用户对物品的评分\n",
    "#### 我选择全部用户和物品，并对u_test前100条进行预测，结果使用MAE函数和RMSE函数进行评估。"
   ]
  },
  {
   "cell_type": "code",
   "execution_count": 6,
   "id": "3609c4f7",
   "metadata": {
    "execution": {
     "iopub.execute_input": "2022-06-30T06:01:30.350300Z",
     "iopub.status.busy": "2022-06-30T06:01:30.349729Z",
     "iopub.status.idle": "2022-06-30T06:01:35.524905Z",
     "shell.execute_reply": "2022-06-30T06:01:35.523968Z"
    },
    "papermill": {
     "duration": 5.18512,
     "end_time": "2022-06-30T06:01:35.527588",
     "exception": false,
     "start_time": "2022-06-30T06:01:30.342468",
     "status": "completed"
    },
    "tags": []
   },
   "outputs": [],
   "source": [
    "ratings_mean=[]\n",
    "#建立字典存储两个用户的交叉物品集合\n",
    "user_item_id=[]\n",
    "for u in range(user_num):\n",
    "    uitem=[]\n",
    "    total=0\n",
    "    num=0\n",
    "    for i in range(item_num):\n",
    "        if user_item_mx[u][i]>0:\n",
    "            num+=1\n",
    "            total+=user_item_mx[u][i]\n",
    "            uitem.append(i)\n",
    "    if num!=0:\n",
    "        ratings_mean.append(total/num)\n",
    "    else:\n",
    "        ratings_mean.append(0)\n",
    "    user_item_id.append(uitem)"
   ]
  },
  {
   "cell_type": "code",
   "execution_count": 7,
   "id": "91045899",
   "metadata": {
    "execution": {
     "iopub.execute_input": "2022-06-30T06:01:35.542030Z",
     "iopub.status.busy": "2022-06-30T06:01:35.541601Z",
     "iopub.status.idle": "2022-06-30T06:01:35.551481Z",
     "shell.execute_reply": "2022-06-30T06:01:35.550744Z"
    },
    "papermill": {
     "duration": 0.019441,
     "end_time": "2022-06-30T06:01:35.553449",
     "exception": false,
     "start_time": "2022-06-30T06:01:35.534008",
     "status": "completed"
    },
    "tags": []
   },
   "outputs": [],
   "source": [
    "#计算相关度\n",
    "def PersonCorrelavationCul(u1,u2):\n",
    "    s1=s2=s3=0.0\n",
    "    u1item=user_item_id[u1]\n",
    "    u2item=user_item_id[u2]\n",
    "    item_list= list(set(u1item) & set(u2item))\n",
    "    for i in item_list:\n",
    "        s1+=(user_item_mx[u1][i]-ratings_mean[u1])*(user_item_mx[u2][i]-ratings_mean[u2])\n",
    "        s2+=(user_item_mx[u1][i]-ratings_mean[u1])*(user_item_mx[u1][i]-ratings_mean[u1])\n",
    "        s3+=(user_item_mx[u2][i]-ratings_mean[u2])*(user_item_mx[u2][i]-ratings_mean[u2])\n",
    "    if s2*s3!=0: \n",
    "        return s1/(np.sqrt(s2)*np.sqrt(s3))\n",
    "    else:\n",
    "        return 0"
   ]
  },
  {
   "cell_type": "code",
   "execution_count": 8,
   "id": "ea4a6452",
   "metadata": {
    "execution": {
     "iopub.execute_input": "2022-06-30T06:01:35.568132Z",
     "iopub.status.busy": "2022-06-30T06:01:35.567545Z",
     "iopub.status.idle": "2022-06-30T06:01:35.575472Z",
     "shell.execute_reply": "2022-06-30T06:01:35.574397Z"
    },
    "papermill": {
     "duration": 0.018148,
     "end_time": "2022-06-30T06:01:35.577880",
     "exception": false,
     "start_time": "2022-06-30T06:01:35.559732",
     "status": "completed"
    },
    "tags": []
   },
   "outputs": [
    {
     "data": {
      "text/plain": [
       "[257, 10, 209, 270]"
      ]
     },
     "execution_count": 8,
     "metadata": {},
     "output_type": "execute_result"
    }
   ],
   "source": [
    "u1item=user_item_id[0]\n",
    "u2item=user_item_id[3]\n",
    "item_list= list(set(u1item) & set(u2item))\n",
    "item_list"
   ]
  },
  {
   "cell_type": "code",
   "execution_count": 9,
   "id": "702c13ac",
   "metadata": {
    "execution": {
     "iopub.execute_input": "2022-06-30T06:01:35.592213Z",
     "iopub.status.busy": "2022-06-30T06:01:35.591797Z",
     "iopub.status.idle": "2022-06-30T06:01:35.602120Z",
     "shell.execute_reply": "2022-06-30T06:01:35.601180Z"
    },
    "papermill": {
     "duration": 0.019754,
     "end_time": "2022-06-30T06:01:35.604047",
     "exception": false,
     "start_time": "2022-06-30T06:01:35.584293",
     "status": "completed"
    },
    "tags": []
   },
   "outputs": [],
   "source": [
    "#基于用户对物品评分的User-CF\n",
    "def User_CF_Ratings(user_num,test_num=len(u_test)):\n",
    "    item_scores=[]\n",
    "    for i in range(test_num):\n",
    "        dr_up=dr_down=0.0\n",
    "        user_id=int(u_test[i][0])\n",
    "        item_id=int(u_test[i][1])\n",
    "        for j in range(user_num):\n",
    "            if j!=user_id-1 and user_item_mx[j][item_id-1]>0:\n",
    "                if user_user_mx[user_id][j]!=0:\n",
    "                    s=user_user_mx[user_id-1][j]\n",
    "                else:\n",
    "                    s=PersonCorrelavationCul(user_id-1,j)\n",
    "                    user_user_mx[user_id-1][j]=user_user_mx[j][user_id-1]=s\n",
    "                dr_up+=s*(user_item_mx[j][item_id-1]-ratings_mean[j])\n",
    "                dr_down+=s\n",
    "        r=ratings_mean[user_id-1]+(dr_up/dr_down)\n",
    "        if r>5:r=5\n",
    "        if r<0:r=0\n",
    "        item_scores.append(r)\n",
    "    return item_scores"
   ]
  },
  {
   "cell_type": "code",
   "execution_count": 10,
   "id": "1fdec82a",
   "metadata": {
    "execution": {
     "iopub.execute_input": "2022-06-30T06:01:35.619270Z",
     "iopub.status.busy": "2022-06-30T06:01:35.617643Z",
     "iopub.status.idle": "2022-06-30T06:01:49.715984Z",
     "shell.execute_reply": "2022-06-30T06:01:49.714594Z"
    },
    "papermill": {
     "duration": 14.108075,
     "end_time": "2022-06-30T06:01:49.718173",
     "exception": false,
     "start_time": "2022-06-30T06:01:35.610098",
     "status": "completed"
    },
    "tags": []
   },
   "outputs": [
    {
     "name": "stdout",
     "output_type": "stream",
     "text": [
      "开始进行基于评分的User-CF预测\n"
     ]
    },
    {
     "data": {
      "text/plain": [
       "[3.5314716846633862,\n",
       " 3.523963175642749,\n",
       " 4.001296999385892,\n",
       " 3.70662074773827,\n",
       " 2.8357314885533804,\n",
       " 3.555782717003127,\n",
       " 4.223049977509987,\n",
       " 4.270654418177749,\n",
       " 3.850747346607824,\n",
       " 3.9509954414645576]"
      ]
     },
     "execution_count": 10,
     "metadata": {},
     "output_type": "execute_result"
    }
   ],
   "source": [
    "print(\"开始进行基于评分的User-CF预测\")\n",
    "item_list_ratings=User_CF_Ratings(user_num,100)\n",
    "item_list_ratings[0:10]"
   ]
  },
  {
   "cell_type": "code",
   "execution_count": 11,
   "id": "3b4d31f0",
   "metadata": {
    "execution": {
     "iopub.execute_input": "2022-06-30T06:01:49.732516Z",
     "iopub.status.busy": "2022-06-30T06:01:49.732118Z",
     "iopub.status.idle": "2022-06-30T06:01:49.736939Z",
     "shell.execute_reply": "2022-06-30T06:01:49.736087Z"
    },
    "papermill": {
     "duration": 0.01456,
     "end_time": "2022-06-30T06:01:49.739092",
     "exception": false,
     "start_time": "2022-06-30T06:01:49.724532",
     "status": "completed"
    },
    "tags": []
   },
   "outputs": [],
   "source": [
    "for i in range(len(item_list_ratings)):\n",
    "    item_list_ratings[i]=round(item_list_ratings[i])"
   ]
  },
  {
   "cell_type": "markdown",
   "id": "0c6a944b",
   "metadata": {
    "papermill": {
     "duration": 0.006128,
     "end_time": "2022-06-30T06:01:49.751561",
     "exception": false,
     "start_time": "2022-06-30T06:01:49.745433",
     "status": "completed"
    },
    "tags": []
   },
   "source": [
    "### **定义评估函数**\n",
    "#### 定义MAE函数和RMSE函数，用于评估预测结果的准确性"
   ]
  },
  {
   "cell_type": "code",
   "execution_count": 12,
   "id": "28fd9707",
   "metadata": {
    "execution": {
     "iopub.execute_input": "2022-06-30T06:01:49.766164Z",
     "iopub.status.busy": "2022-06-30T06:01:49.765457Z",
     "iopub.status.idle": "2022-06-30T06:01:49.771223Z",
     "shell.execute_reply": "2022-06-30T06:01:49.770288Z"
    },
    "papermill": {
     "duration": 0.015138,
     "end_time": "2022-06-30T06:01:49.773103",
     "exception": false,
     "start_time": "2022-06-30T06:01:49.757965",
     "status": "completed"
    },
    "tags": []
   },
   "outputs": [],
   "source": [
    "#计算MAE\n",
    "def MAE(item_list):\n",
    "    tot=0.0\n",
    "    n=len(item_list)\n",
    "    for i in range(n):\n",
    "        r=u_test[i][2]\n",
    "        p=item_list[i]\n",
    "        if r!=0: tot+=np.fabs(r-p)\n",
    "    return tot/n"
   ]
  },
  {
   "cell_type": "code",
   "execution_count": 13,
   "id": "a99f382a",
   "metadata": {
    "execution": {
     "iopub.execute_input": "2022-06-30T06:01:49.787752Z",
     "iopub.status.busy": "2022-06-30T06:01:49.786826Z",
     "iopub.status.idle": "2022-06-30T06:01:49.792966Z",
     "shell.execute_reply": "2022-06-30T06:01:49.792269Z"
    },
    "papermill": {
     "duration": 0.015402,
     "end_time": "2022-06-30T06:01:49.794722",
     "exception": false,
     "start_time": "2022-06-30T06:01:49.779320",
     "status": "completed"
    },
    "tags": []
   },
   "outputs": [],
   "source": [
    "#计算RMSE\n",
    "def RMSE(item_list):\n",
    "    tot=0.0\n",
    "    n=len(item_list)\n",
    "    for i in range(n):\n",
    "        r=u_test[i][2]\n",
    "        p=item_list[i]\n",
    "        if r!=0:tot+=(r-p)*(r-p)\n",
    "    return np.sqrt(tot/n)"
   ]
  },
  {
   "cell_type": "code",
   "execution_count": 14,
   "id": "58468707",
   "metadata": {
    "execution": {
     "iopub.execute_input": "2022-06-30T06:01:49.809441Z",
     "iopub.status.busy": "2022-06-30T06:01:49.808824Z",
     "iopub.status.idle": "2022-06-30T06:01:49.814285Z",
     "shell.execute_reply": "2022-06-30T06:01:49.813438Z"
    },
    "papermill": {
     "duration": 0.015214,
     "end_time": "2022-06-30T06:01:49.816234",
     "exception": false,
     "start_time": "2022-06-30T06:01:49.801020",
     "status": "completed"
    },
    "tags": []
   },
   "outputs": [
    {
     "name": "stdout",
     "output_type": "stream",
     "text": [
      "MAE=0.8000,RMSE=1.2884\n"
     ]
    }
   ],
   "source": [
    "#输出结果\n",
    "mae=MAE(item_list_ratings)\n",
    "rmse=RMSE(item_list_ratings)\n",
    "print('MAE={0:.4f},RMSE={1:.4f}'.format(mae,rmse))"
   ]
  },
  {
   "cell_type": "code",
   "execution_count": 15,
   "id": "9d995d68",
   "metadata": {
    "execution": {
     "iopub.execute_input": "2022-06-30T06:01:49.831118Z",
     "iopub.status.busy": "2022-06-30T06:01:49.830291Z",
     "iopub.status.idle": "2022-06-30T06:01:49.836957Z",
     "shell.execute_reply": "2022-06-30T06:01:49.835993Z"
    },
    "papermill": {
     "duration": 0.016563,
     "end_time": "2022-06-30T06:01:49.839080",
     "exception": false,
     "start_time": "2022-06-30T06:01:49.822517",
     "status": "completed"
    },
    "tags": []
   },
   "outputs": [
    {
     "name": "stdout",
     "output_type": "stream",
     "text": [
      "[4.0, 4.0, 4.0, 3.0, 2.0, 4.0, 5.0, 3.0, 5.0, 4.0, 4.0, 5.0, 5.0, 3.0, 3.0, 3.0, 4.0, 4.0, 3.0, 1.0, 1.0, 2.0, 2.0, 5.0, 4.0, 1.0, 3.0, 1.0, 1.0, 3.0, 5.0, 4.0, 3.0, 4.0, 5.0, 5.0, 5.0, 3.0, 4.0, 5.0, 4.0, 3.0, 4.0, 3.0, 1.0, 2.0, 3.0, 1.0, 1.0, 1.0, 5.0, 4.0, 3.0, 3.0, 5.0, 2.0, 2.0, 4.0, 5.0, 4.0, 4.0, 4.0, 4.0, 3.0, 4.0, 4.0, 5.0, 4.0, 5.0, 5.0, 5.0, 5.0, 4.0, 4.0, 5.0, 3.0, 4.0, 1.0, 1.0, 3.0, 5.0, 5.0, 5.0, 4.0, 4.0, 5.0, 4.0, 4.0, 3.0, 5.0, 4.0, 4.0, 5.0, 3.0, 5.0, 3.0, 4.0, 5.0, 5.0, 5.0]\n",
      "[4, 4, 4, 4, 3, 4, 4, 4, 4, 4, 4, 4, 4, 3, 3, 3, 4, 4, 3, 2, 0, 2, 1, 3, 5, 5, 5, 5, 2, 2, 5, 3, 4, 1, 5, 0, 5, 5, 5, 5, 3, 3, 3, 4, 2, 2, 2, 1, 1, 2, 4, 4, 4, 4, 4, 4, 3, 4, 4, 4, 4, 4, 4, 4, 4, 5, 4, 4, 4, 4, 4, 5, 4, 5, 4, 3, 3, 4, 2, 4, 4, 4, 4, 5, 5, 5, 4, 4, 5, 0, 4, 4, 5, 4, 5, 4, 4, 5, 5, 5]\n"
     ]
    }
   ],
   "source": [
    "#用于具体对比预测结果和测试结果\n",
    "n=len(item_list_ratings)\n",
    "real_list=[]\n",
    "precision_list=[]\n",
    "for i in range(n):\n",
    "    r=u_test[i][2]\n",
    "    if r!=0:\n",
    "        real_list.append(r)\n",
    "        precision_list.append(item_list_ratings[i])\n",
    "print(real_list)\n",
    "print(precision_list)"
   ]
  }
 ],
 "metadata": {
  "kernelspec": {
   "display_name": "Python 3",
   "language": "python",
   "name": "python3"
  },
  "language_info": {
   "codemirror_mode": {
    "name": "ipython",
    "version": 3
   },
   "file_extension": ".py",
   "mimetype": "text/x-python",
   "name": "python",
   "nbconvert_exporter": "python",
   "pygments_lexer": "ipython3",
   "version": "3.7.12"
  },
  "papermill": {
   "default_parameters": {},
   "duration": 33.496954,
   "end_time": "2022-06-30T06:01:50.466568",
   "environment_variables": {},
   "exception": null,
   "input_path": "__notebook__.ipynb",
   "output_path": "__notebook__.ipynb",
   "parameters": {},
   "start_time": "2022-06-30T06:01:16.969614",
   "version": "2.3.4"
  }
 },
 "nbformat": 4,
 "nbformat_minor": 5
}
