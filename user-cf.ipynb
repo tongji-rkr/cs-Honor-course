{
 "cells": [
  {
   "cell_type": "code",
   "execution_count": 1,
   "id": "9029e345",
   "metadata": {
    "_cell_guid": "b1076dfc-b9ad-4769-8c92-a6c4dae69d19",
    "_uuid": "8f2839f25d086af736a60e9eeb907d3b93b6e0e5",
    "execution": {
     "iopub.execute_input": "2022-07-03T15:37:14.715847Z",
     "iopub.status.busy": "2022-07-03T15:37:14.715003Z",
     "iopub.status.idle": "2022-07-03T15:37:14.727585Z",
     "shell.execute_reply": "2022-07-03T15:37:14.726662Z"
    },
    "papermill": {
     "duration": 0.02571,
     "end_time": "2022-07-03T15:37:14.729638",
     "exception": false,
     "start_time": "2022-07-03T15:37:14.703928",
     "status": "completed"
    },
    "tags": []
   },
   "outputs": [],
   "source": [
    "#2053635任柯睿\n",
    "import numpy as np\n",
    "import pandas as pd"
   ]
  },
  {
   "cell_type": "markdown",
   "id": "9aa58de4",
   "metadata": {
    "papermill": {
     "duration": 0.00533,
     "end_time": "2022-07-03T15:37:14.740865",
     "exception": false,
     "start_time": "2022-07-03T15:37:14.735535",
     "status": "completed"
    },
    "tags": []
   },
   "source": [
    "### **导入数据**\n",
    "#### 训练集为ua.base，读取数据为u_base\n",
    "#### 测试集为ua.test，读取数据为u_test\n",
    "#### 之后基于u_base构建用户-物品交互矩阵"
   ]
  },
  {
   "cell_type": "code",
   "execution_count": 2,
   "id": "248619d2",
   "metadata": {
    "execution": {
     "iopub.execute_input": "2022-07-03T15:37:14.753632Z",
     "iopub.status.busy": "2022-07-03T15:37:14.752970Z",
     "iopub.status.idle": "2022-07-03T15:37:16.037922Z",
     "shell.execute_reply": "2022-07-03T15:37:16.036815Z"
    },
    "papermill": {
     "duration": 1.293954,
     "end_time": "2022-07-03T15:37:16.040362",
     "exception": false,
     "start_time": "2022-07-03T15:37:14.746408",
     "status": "completed"
    },
    "tags": []
   },
   "outputs": [
    {
     "data": {
      "text/plain": [
       "array([[1.000e+00, 1.000e+00, 5.000e+00],\n",
       "       [1.000e+00, 2.000e+00, 3.000e+00],\n",
       "       [1.000e+00, 3.000e+00, 4.000e+00],\n",
       "       ...,\n",
       "       [9.430e+02, 1.188e+03, 3.000e+00],\n",
       "       [9.430e+02, 1.228e+03, 3.000e+00],\n",
       "       [9.430e+02, 1.330e+03, 3.000e+00]])"
      ]
     },
     "execution_count": 2,
     "metadata": {},
     "output_type": "execute_result"
    }
   ],
   "source": [
    "u_base=np.loadtxt(\"../input/movielens100k/ml-100k/ua.base\",delimiter='\\t',encoding='utf-8')\n",
    "u_base=u_base[:,:-1]\n",
    "u_test=np.loadtxt(\"../input/movielens100k/ml-100k/ua.test\",delimiter='\\t',encoding='utf-8')\n",
    "u_test=u_test[:,:-1]\n",
    "user_num=943\n",
    "item_num=1682\n",
    "user_item_mx=np.zeros((user_num,item_num),dtype=np.int32)\n",
    "user_user_mx=np.zeros((user_num,user_num),dtype=np.int32)\n",
    "#构建用户-物品交互矩阵\n",
    "for i in range(len(u_base)):\n",
    "    user_item_mx[int(u_base[i][0])-1][int(u_base[i][1])-1]=int(u_base[i][2])\n",
    "u_base"
   ]
  },
  {
   "cell_type": "markdown",
   "id": "2302bc4b",
   "metadata": {
    "papermill": {
     "duration": 0.005569,
     "end_time": "2022-07-03T15:37:16.051692",
     "exception": false,
     "start_time": "2022-07-03T15:37:16.046123",
     "status": "completed"
    },
    "tags": []
   },
   "source": [
    "### **基于点击的User-CF预测**\n",
    "#### 使用Jaccard相似系数得到不同用户之间的关联度，并据此计算u_test中用户点击对应物品的概率\n",
    "#### 由于使用全部数据运行时间较长，我选择100个用户和100个物品，并对u_test前100条进行预测，"
   ]
  },
  {
   "cell_type": "code",
   "execution_count": 3,
   "id": "3e3d6048",
   "metadata": {
    "execution": {
     "iopub.execute_input": "2022-07-03T15:37:16.065862Z",
     "iopub.status.busy": "2022-07-03T15:37:16.064987Z",
     "iopub.status.idle": "2022-07-03T15:37:16.072214Z",
     "shell.execute_reply": "2022-07-03T15:37:16.071262Z"
    },
    "papermill": {
     "duration": 0.016744,
     "end_time": "2022-07-03T15:37:16.074223",
     "exception": false,
     "start_time": "2022-07-03T15:37:16.057479",
     "status": "completed"
    },
    "tags": []
   },
   "outputs": [],
   "source": [
    "#计算相关度\n",
    "def JaccardCul(u1,u2,item_num):\n",
    "    up=down=0\n",
    "    for i in range(item_num):\n",
    "        if user_item_mx[u1][i]>0 and user_item_mx[u2][i]>0:\n",
    "            up+=1\n",
    "        if user_item_mx[u1][i]>0 or user_item_mx[u2][i]>0:\n",
    "            down+=1\n",
    "    if down!=0:\n",
    "        return up/down\n",
    "    else:\n",
    "        return 0\n",
    "    "
   ]
  },
  {
   "cell_type": "code",
   "execution_count": 4,
   "id": "335c8a79",
   "metadata": {
    "execution": {
     "iopub.execute_input": "2022-07-03T15:37:16.089148Z",
     "iopub.status.busy": "2022-07-03T15:37:16.087920Z",
     "iopub.status.idle": "2022-07-03T15:37:16.096185Z",
     "shell.execute_reply": "2022-07-03T15:37:16.095419Z"
    },
    "papermill": {
     "duration": 0.017889,
     "end_time": "2022-07-03T15:37:16.098277",
     "exception": false,
     "start_time": "2022-07-03T15:37:16.080388",
     "status": "completed"
    },
    "tags": []
   },
   "outputs": [],
   "source": [
    "#基于用户点击的User-CF\n",
    "def User_CF_Click(user_num,item_num,test_num):\n",
    "    item_scores=[]\n",
    "    for i in range(test_num):\n",
    "        r=num=0.0\n",
    "        user_id=int(u_test[i][0])\n",
    "        item_id=int(u_test[i][1])\n",
    "        for j in range(user_num):\n",
    "            if j!=user_id-1 and user_item_mx[j][item_id-1]>0:\n",
    "                num+=1\n",
    "                r+=JaccardCul(user_id-1,j,item_num)\n",
    "        if num!=0:\n",
    "            item_scores.append(r/num)\n",
    "        else:\n",
    "            item_scores.append(0)\n",
    "    return item_scores"
   ]
  },
  {
   "cell_type": "code",
   "execution_count": 5,
   "id": "c61f2a26",
   "metadata": {
    "execution": {
     "iopub.execute_input": "2022-07-03T15:37:16.111959Z",
     "iopub.status.busy": "2022-07-03T15:37:16.111079Z",
     "iopub.status.idle": "2022-07-03T15:37:17.718950Z",
     "shell.execute_reply": "2022-07-03T15:37:17.718011Z"
    },
    "papermill": {
     "duration": 1.617151,
     "end_time": "2022-07-03T15:37:17.721169",
     "exception": false,
     "start_time": "2022-07-03T15:37:16.104018",
     "status": "completed"
    },
    "tags": []
   },
   "outputs": [
    {
     "name": "stdout",
     "output_type": "stream",
     "text": [
      "开始进行基于点击的User-CF预测\n"
     ]
    },
    {
     "data": {
      "text/plain": [
       "[0.2401051329622758,\n",
       " 0.431377264710598,\n",
       " 0.45750017178588614,\n",
       " 0.2387775556958179,\n",
       " 0.38854789310004195,\n",
       " 0.4355066702005478,\n",
       " 0.3559825054670415,\n",
       " 0.29352125389078126,\n",
       " 0.30237274110109424,\n",
       " 0.2854554287928176]"
      ]
     },
     "execution_count": 5,
     "metadata": {},
     "output_type": "execute_result"
    }
   ],
   "source": [
    "print(\"开始进行基于点击的User-CF预测\")\n",
    "item_list_click=User_CF_Click(100,100,100)\n",
    "item_list_click[0:10]"
   ]
  },
  {
   "cell_type": "markdown",
   "id": "349f2a99",
   "metadata": {
    "papermill": {
     "duration": 0.005723,
     "end_time": "2022-07-03T15:37:17.732894",
     "exception": false,
     "start_time": "2022-07-03T15:37:17.727171",
     "status": "completed"
    },
    "tags": []
   },
   "source": [
    "### **基于评分的User-CF预测**\n",
    "#### 使用PersonCorrelavation相似系数得到不同用户之间的关联度，并据此预测出u_test中用户对物品的评分\n",
    "#### 我选择全部用户和物品，并对u_test前100条进行预测，结果使用MAE函数和RMSE函数进行评估。"
   ]
  },
  {
   "cell_type": "code",
   "execution_count": 6,
   "id": "2cb77743",
   "metadata": {
    "execution": {
     "iopub.execute_input": "2022-07-03T15:37:17.746705Z",
     "iopub.status.busy": "2022-07-03T15:37:17.745947Z",
     "iopub.status.idle": "2022-07-03T15:37:22.846037Z",
     "shell.execute_reply": "2022-07-03T15:37:22.844978Z"
    },
    "papermill": {
     "duration": 5.109606,
     "end_time": "2022-07-03T15:37:22.848526",
     "exception": false,
     "start_time": "2022-07-03T15:37:17.738920",
     "status": "completed"
    },
    "tags": []
   },
   "outputs": [],
   "source": [
    "ratings_mean=[]\n",
    "#建立字典存储两个用户的交叉物品集合\n",
    "user_item_id=[]\n",
    "for u in range(user_num):\n",
    "    uitem=[]\n",
    "    total=0\n",
    "    num=0\n",
    "    for i in range(item_num):\n",
    "        if user_item_mx[u][i]>0:\n",
    "            num+=1\n",
    "            total+=user_item_mx[u][i]\n",
    "            uitem.append(i)\n",
    "    if num!=0:\n",
    "        ratings_mean.append(total/num)\n",
    "    else:\n",
    "        ratings_mean.append(0)\n",
    "    user_item_id.append(uitem)"
   ]
  },
  {
   "cell_type": "code",
   "execution_count": 7,
   "id": "e98216b8",
   "metadata": {
    "execution": {
     "iopub.execute_input": "2022-07-03T15:37:22.863660Z",
     "iopub.status.busy": "2022-07-03T15:37:22.863247Z",
     "iopub.status.idle": "2022-07-03T15:37:22.872168Z",
     "shell.execute_reply": "2022-07-03T15:37:22.871344Z"
    },
    "papermill": {
     "duration": 0.018673,
     "end_time": "2022-07-03T15:37:22.873970",
     "exception": false,
     "start_time": "2022-07-03T15:37:22.855297",
     "status": "completed"
    },
    "tags": []
   },
   "outputs": [],
   "source": [
    "#计算相关度\n",
    "def PersonCorrelavationCul(u1,u2):\n",
    "    s1=s2=s3=0.0\n",
    "    u1item=user_item_id[u1]\n",
    "    u2item=user_item_id[u2]\n",
    "    item_list= list(set(u1item) & set(u2item))\n",
    "    for i in item_list:\n",
    "        s1+=(user_item_mx[u1][i]-ratings_mean[u1])*(user_item_mx[u2][i]-ratings_mean[u2])\n",
    "        s2+=(user_item_mx[u1][i]-ratings_mean[u1])*(user_item_mx[u1][i]-ratings_mean[u1])\n",
    "        s3+=(user_item_mx[u2][i]-ratings_mean[u2])*(user_item_mx[u2][i]-ratings_mean[u2])\n",
    "    if s2*s3!=0: \n",
    "        return s1/(np.sqrt(s2)*np.sqrt(s3))\n",
    "    else:\n",
    "        return 0"
   ]
  },
  {
   "cell_type": "code",
   "execution_count": 8,
   "id": "b6c0bec3",
   "metadata": {
    "execution": {
     "iopub.execute_input": "2022-07-03T15:37:22.887826Z",
     "iopub.status.busy": "2022-07-03T15:37:22.887443Z",
     "iopub.status.idle": "2022-07-03T15:37:22.894431Z",
     "shell.execute_reply": "2022-07-03T15:37:22.893499Z"
    },
    "papermill": {
     "duration": 0.016267,
     "end_time": "2022-07-03T15:37:22.896523",
     "exception": false,
     "start_time": "2022-07-03T15:37:22.880256",
     "status": "completed"
    },
    "tags": []
   },
   "outputs": [
    {
     "data": {
      "text/plain": [
       "[257, 10, 209, 270]"
      ]
     },
     "execution_count": 8,
     "metadata": {},
     "output_type": "execute_result"
    }
   ],
   "source": [
    "u1item=user_item_id[0]\n",
    "u2item=user_item_id[3]\n",
    "item_list= list(set(u1item) & set(u2item))\n",
    "item_list"
   ]
  },
  {
   "cell_type": "code",
   "execution_count": 9,
   "id": "11459236",
   "metadata": {
    "execution": {
     "iopub.execute_input": "2022-07-03T15:37:22.911676Z",
     "iopub.status.busy": "2022-07-03T15:37:22.910861Z",
     "iopub.status.idle": "2022-07-03T15:37:22.921077Z",
     "shell.execute_reply": "2022-07-03T15:37:22.920029Z"
    },
    "papermill": {
     "duration": 0.020539,
     "end_time": "2022-07-03T15:37:22.923370",
     "exception": false,
     "start_time": "2022-07-03T15:37:22.902831",
     "status": "completed"
    },
    "tags": []
   },
   "outputs": [],
   "source": [
    "#基于用户对物品评分的User-CF\n",
    "def User_CF_Ratings(user_num,test_num=len(u_test)):\n",
    "    item_scores=[]\n",
    "    for i in range(test_num):\n",
    "        dr_up=dr_down=0.0\n",
    "        user_id=int(u_test[i][0])\n",
    "        item_id=int(u_test[i][1])\n",
    "        for j in range(user_num):\n",
    "            if j!=user_id-1 and user_item_mx[j][item_id-1]>0:\n",
    "                if user_user_mx[user_id][j]!=0:\n",
    "                    s=user_user_mx[user_id-1][j]\n",
    "                else:\n",
    "                    s=PersonCorrelavationCul(user_id-1,j)\n",
    "                    user_user_mx[user_id-1][j]=user_user_mx[j][user_id-1]=s\n",
    "                dr_up+=s*(user_item_mx[j][item_id-1]-ratings_mean[j])\n",
    "                dr_down+=s\n",
    "        r=ratings_mean[user_id-1]+(dr_up/dr_down)\n",
    "        if r>5:r=5\n",
    "        if r<0:r=0\n",
    "        item_scores.append(r)\n",
    "    return item_scores"
   ]
  },
  {
   "cell_type": "code",
   "execution_count": 10,
   "id": "96d63ac9",
   "metadata": {
    "execution": {
     "iopub.execute_input": "2022-07-03T15:37:22.937477Z",
     "iopub.status.busy": "2022-07-03T15:37:22.937079Z",
     "iopub.status.idle": "2022-07-03T15:37:36.990655Z",
     "shell.execute_reply": "2022-07-03T15:37:36.989640Z"
    },
    "papermill": {
     "duration": 14.063107,
     "end_time": "2022-07-03T15:37:36.992984",
     "exception": false,
     "start_time": "2022-07-03T15:37:22.929877",
     "status": "completed"
    },
    "tags": []
   },
   "outputs": [
    {
     "name": "stdout",
     "output_type": "stream",
     "text": [
      "开始进行基于评分的User-CF预测\n"
     ]
    },
    {
     "data": {
      "text/plain": [
       "[3.5314716846633862,\n",
       " 3.523963175642749,\n",
       " 4.001296999385892,\n",
       " 3.70662074773827,\n",
       " 2.8357314885533804,\n",
       " 3.555782717003127,\n",
       " 4.223049977509987,\n",
       " 4.270654418177749,\n",
       " 3.850747346607824,\n",
       " 3.9509954414645576]"
      ]
     },
     "execution_count": 10,
     "metadata": {},
     "output_type": "execute_result"
    }
   ],
   "source": [
    "print(\"开始进行基于评分的User-CF预测\")\n",
    "item_list_ratings=User_CF_Ratings(user_num,100)\n",
    "item_list_ratings[0:10]"
   ]
  },
  {
   "cell_type": "code",
   "execution_count": 11,
   "id": "79561289",
   "metadata": {
    "execution": {
     "iopub.execute_input": "2022-07-03T15:37:37.007816Z",
     "iopub.status.busy": "2022-07-03T15:37:37.007172Z",
     "iopub.status.idle": "2022-07-03T15:37:37.014025Z",
     "shell.execute_reply": "2022-07-03T15:37:37.013234Z"
    },
    "papermill": {
     "duration": 0.01679,
     "end_time": "2022-07-03T15:37:37.016375",
     "exception": false,
     "start_time": "2022-07-03T15:37:36.999585",
     "status": "completed"
    },
    "tags": []
   },
   "outputs": [],
   "source": [
    "for i in range(len(item_list_ratings)):\n",
    "    item_list_ratings[i]=round(item_list_ratings[i])"
   ]
  },
  {
   "cell_type": "markdown",
   "id": "c5028100",
   "metadata": {
    "papermill": {
     "duration": 0.006416,
     "end_time": "2022-07-03T15:37:37.029246",
     "exception": false,
     "start_time": "2022-07-03T15:37:37.022830",
     "status": "completed"
    },
    "tags": []
   },
   "source": [
    "### **定义评估函数**\n",
    "#### 定义MAE函数和RMSE函数，用于评估预测结果的准确性"
   ]
  },
  {
   "cell_type": "code",
   "execution_count": 12,
   "id": "b68d041b",
   "metadata": {
    "execution": {
     "iopub.execute_input": "2022-07-03T15:37:37.044040Z",
     "iopub.status.busy": "2022-07-03T15:37:37.043677Z",
     "iopub.status.idle": "2022-07-03T15:37:37.048986Z",
     "shell.execute_reply": "2022-07-03T15:37:37.048348Z"
    },
    "papermill": {
     "duration": 0.015411,
     "end_time": "2022-07-03T15:37:37.050981",
     "exception": false,
     "start_time": "2022-07-03T15:37:37.035570",
     "status": "completed"
    },
    "tags": []
   },
   "outputs": [],
   "source": [
    "#计算MAE\n",
    "def MAE(item_list):\n",
    "    tot=0.0\n",
    "    n=len(item_list)\n",
    "    for i in range(n):\n",
    "        r=u_test[i][2]\n",
    "        p=item_list[i]\n",
    "        if r!=0: tot+=np.fabs(r-p)\n",
    "    return tot/n"
   ]
  },
  {
   "cell_type": "code",
   "execution_count": 13,
   "id": "c802037a",
   "metadata": {
    "execution": {
     "iopub.execute_input": "2022-07-03T15:37:37.065486Z",
     "iopub.status.busy": "2022-07-03T15:37:37.064493Z",
     "iopub.status.idle": "2022-07-03T15:37:37.070602Z",
     "shell.execute_reply": "2022-07-03T15:37:37.069931Z"
    },
    "papermill": {
     "duration": 0.01519,
     "end_time": "2022-07-03T15:37:37.072370",
     "exception": false,
     "start_time": "2022-07-03T15:37:37.057180",
     "status": "completed"
    },
    "tags": []
   },
   "outputs": [],
   "source": [
    "#计算RMSE\n",
    "def RMSE(item_list):\n",
    "    tot=0.0\n",
    "    n=len(item_list)\n",
    "    for i in range(n):\n",
    "        r=u_test[i][2]\n",
    "        p=item_list[i]\n",
    "        if r!=0:tot+=(r-p)*(r-p)\n",
    "    return np.sqrt(tot/n)"
   ]
  },
  {
   "cell_type": "code",
   "execution_count": 14,
   "id": "ff0f771b",
   "metadata": {
    "execution": {
     "iopub.execute_input": "2022-07-03T15:37:37.086755Z",
     "iopub.status.busy": "2022-07-03T15:37:37.086135Z",
     "iopub.status.idle": "2022-07-03T15:37:37.092299Z",
     "shell.execute_reply": "2022-07-03T15:37:37.090994Z"
    },
    "papermill": {
     "duration": 0.016642,
     "end_time": "2022-07-03T15:37:37.095367",
     "exception": false,
     "start_time": "2022-07-03T15:37:37.078725",
     "status": "completed"
    },
    "tags": []
   },
   "outputs": [
    {
     "name": "stdout",
     "output_type": "stream",
     "text": [
      "MAE=0.8000,RMSE=1.2884\n"
     ]
    }
   ],
   "source": [
    "#输出结果\n",
    "mae=MAE(item_list_ratings)\n",
    "rmse=RMSE(item_list_ratings)\n",
    "print('MAE={0:.4f},RMSE={1:.4f}'.format(mae,rmse))"
   ]
  },
  {
   "cell_type": "code",
   "execution_count": 15,
   "id": "611365fb",
   "metadata": {
    "execution": {
     "iopub.execute_input": "2022-07-03T15:37:37.110827Z",
     "iopub.status.busy": "2022-07-03T15:37:37.110308Z",
     "iopub.status.idle": "2022-07-03T15:37:37.116863Z",
     "shell.execute_reply": "2022-07-03T15:37:37.115639Z"
    },
    "papermill": {
     "duration": 0.016636,
     "end_time": "2022-07-03T15:37:37.119216",
     "exception": false,
     "start_time": "2022-07-03T15:37:37.102580",
     "status": "completed"
    },
    "tags": []
   },
   "outputs": [
    {
     "name": "stdout",
     "output_type": "stream",
     "text": [
      "[4.0, 4.0, 4.0, 3.0, 2.0, 4.0, 5.0, 3.0, 5.0, 4.0, 4.0, 5.0, 5.0, 3.0, 3.0, 3.0, 4.0, 4.0, 3.0, 1.0, 1.0, 2.0, 2.0, 5.0, 4.0, 1.0, 3.0, 1.0, 1.0, 3.0, 5.0, 4.0, 3.0, 4.0, 5.0, 5.0, 5.0, 3.0, 4.0, 5.0, 4.0, 3.0, 4.0, 3.0, 1.0, 2.0, 3.0, 1.0, 1.0, 1.0, 5.0, 4.0, 3.0, 3.0, 5.0, 2.0, 2.0, 4.0, 5.0, 4.0, 4.0, 4.0, 4.0, 3.0, 4.0, 4.0, 5.0, 4.0, 5.0, 5.0, 5.0, 5.0, 4.0, 4.0, 5.0, 3.0, 4.0, 1.0, 1.0, 3.0, 5.0, 5.0, 5.0, 4.0, 4.0, 5.0, 4.0, 4.0, 3.0, 5.0, 4.0, 4.0, 5.0, 3.0, 5.0, 3.0, 4.0, 5.0, 5.0, 5.0]\n",
      "[4, 4, 4, 4, 3, 4, 4, 4, 4, 4, 4, 4, 4, 3, 3, 3, 4, 4, 3, 2, 0, 2, 1, 3, 5, 5, 5, 5, 2, 2, 5, 3, 4, 1, 5, 0, 5, 5, 5, 5, 3, 3, 3, 4, 2, 2, 2, 1, 1, 2, 4, 4, 4, 4, 4, 4, 3, 4, 4, 4, 4, 4, 4, 4, 4, 5, 4, 4, 4, 4, 4, 5, 4, 5, 4, 3, 3, 4, 2, 4, 4, 4, 4, 5, 5, 5, 4, 4, 5, 0, 4, 4, 5, 4, 5, 4, 4, 5, 5, 5]\n"
     ]
    }
   ],
   "source": [
    "#用于具体对比预测结果和测试结果\n",
    "n=len(item_list_ratings)\n",
    "real_list=[]\n",
    "precision_list=[]\n",
    "for i in range(n):\n",
    "    r=u_test[i][2]\n",
    "    if r!=0:\n",
    "        real_list.append(r)\n",
    "        precision_list.append(item_list_ratings[i])\n",
    "print(real_list)\n",
    "print(precision_list)"
   ]
  }
 ],
 "metadata": {
  "kernelspec": {
   "display_name": "Python 3",
   "language": "python",
   "name": "python3"
  },
  "language_info": {
   "codemirror_mode": {
    "name": "ipython",
    "version": 3
   },
   "file_extension": ".py",
   "mimetype": "text/x-python",
   "name": "python",
   "nbconvert_exporter": "python",
   "pygments_lexer": "ipython3",
   "version": "3.7.12"
  },
  "papermill": {
   "default_parameters": {},
   "duration": 33.379557,
   "end_time": "2022-07-03T15:37:37.746896",
   "environment_variables": {},
   "exception": null,
   "input_path": "__notebook__.ipynb",
   "output_path": "__notebook__.ipynb",
   "parameters": {},
   "start_time": "2022-07-03T15:37:04.367339",
   "version": "2.3.4"
  }
 },
 "nbformat": 4,
 "nbformat_minor": 5
}
