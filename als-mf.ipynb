{
 "cells": [
  {
   "cell_type": "code",
   "execution_count": 1,
   "id": "019906b4",
   "metadata": {
    "execution": {
     "iopub.execute_input": "2022-07-01T13:39:32.261036Z",
     "iopub.status.busy": "2022-07-01T13:39:32.260629Z",
     "iopub.status.idle": "2022-07-01T13:39:32.272431Z",
     "shell.execute_reply": "2022-07-01T13:39:32.271506Z"
    },
    "papermill": {
     "duration": 0.021834,
     "end_time": "2022-07-01T13:39:32.274639",
     "exception": false,
     "start_time": "2022-07-01T13:39:32.252805",
     "status": "completed"
    },
    "tags": []
   },
   "outputs": [],
   "source": [
    "import pandas as pd\n",
    "import numpy as np\n",
    "from matplotlib import pyplot as plt\n",
    "\n",
    "np.random.seed(555)"
   ]
  },
  {
   "cell_type": "markdown",
   "id": "be1c4784",
   "metadata": {
    "papermill": {
     "duration": 0.004436,
     "end_time": "2022-07-01T13:39:32.283916",
     "exception": false,
     "start_time": "2022-07-01T13:39:32.279480",
     "status": "completed"
    },
    "tags": []
   },
   "source": [
    "### **数据处理**\n",
    "#### 本实验选择数据集为MovieLens-1M数据集，其中80%作为训练集，20%作为测试集\n",
    "#### 并分别对训练数据和测试数据进行用户-电影交互矩阵的构建"
   ]
  },
  {
   "cell_type": "code",
   "execution_count": 2,
   "id": "28ff103e",
   "metadata": {
    "execution": {
     "iopub.execute_input": "2022-07-01T13:39:32.294661Z",
     "iopub.status.busy": "2022-07-01T13:39:32.294306Z",
     "iopub.status.idle": "2022-07-01T13:39:32.303899Z",
     "shell.execute_reply": "2022-07-01T13:39:32.303122Z"
    },
    "papermill": {
     "duration": 0.01751,
     "end_time": "2022-07-01T13:39:32.305964",
     "exception": false,
     "start_time": "2022-07-01T13:39:32.288454",
     "status": "completed"
    },
    "tags": []
   },
   "outputs": [],
   "source": [
    "class DataProcess:\n",
    "    def __init__(self, data_path, alpha=0.8):\n",
    "        print(\"start load data\")\n",
    "        df=pd.read_csv(data_path,sep=\"::\",names=['uid', 'iid', 'ratings','time'],encoding='utf-8')\n",
    "        print(\"start process data\")\n",
    "        df.drop('time',axis=1)\n",
    "        #\n",
    "        self.n_user = max(df['uid'].values)\n",
    "        self.n_item = max(df['iid'].values)\n",
    "        \n",
    "        self.data = df[['uid', 'iid', 'ratings']].values\n",
    "        self.train_mx = np.zeros((self.n_user, self.n_item))\n",
    "        self.test_mx = np.zeros((self.n_user, self.n_item))\n",
    "        \n",
    "        for u,i,r in self.data:\n",
    "            if (np.random.random() < alpha):\n",
    "                self.train_mx[u-1][i-1] = r\n",
    "            else:\n",
    "                self.test_mx[u-1][i-1] = r "
   ]
  },
  {
   "cell_type": "markdown",
   "id": "86ff5bd4",
   "metadata": {
    "papermill": {
     "duration": 0.004538,
     "end_time": "2022-07-01T13:39:32.315163",
     "exception": false,
     "start_time": "2022-07-01T13:39:32.310625",
     "status": "completed"
    },
    "tags": []
   },
   "source": [
    "### **构造评估函数**\n",
    "#### 使用MAE和RMSE对预测结果进行评估。"
   ]
  },
  {
   "cell_type": "code",
   "execution_count": 3,
   "id": "d1bb67ca",
   "metadata": {
    "execution": {
     "iopub.execute_input": "2022-07-01T13:39:32.326337Z",
     "iopub.status.busy": "2022-07-01T13:39:32.325976Z",
     "iopub.status.idle": "2022-07-01T13:39:32.333337Z",
     "shell.execute_reply": "2022-07-01T13:39:32.332291Z"
    },
    "papermill": {
     "duration": 0.015757,
     "end_time": "2022-07-01T13:39:32.335610",
     "exception": false,
     "start_time": "2022-07-01T13:39:32.319853",
     "status": "completed"
    },
    "tags": []
   },
   "outputs": [],
   "source": [
    "# MAE\n",
    "def MAE(mx,u,v):\n",
    "    I=mx.copy()\n",
    "    I[I>0]=1\n",
    "    return np.sum(np.fabs(I * (mx - np.dot(u.T,v))))/len(mx[mx > 0])\n",
    "# RMSE\n",
    "def RMSE(mx,u,v):\n",
    "    I=mx.copy()\n",
    "    I[I>0]=1\n",
    "    return np.sqrt(np.sum((I * (mx - np.dot(u.T,v)))**2)/len(mx[mx > 0]))"
   ]
  },
  {
   "cell_type": "markdown",
   "id": "a11e11df",
   "metadata": {
    "papermill": {
     "duration": 0.004409,
     "end_time": "2022-07-01T13:39:32.345125",
     "exception": false,
     "start_time": "2022-07-01T13:39:32.340716",
     "status": "completed"
    },
    "tags": []
   },
   "source": [
    "### **ALS矩阵分解**\n",
    "#### 使用ALS方法实现矩阵分解。"
   ]
  },
  {
   "cell_type": "code",
   "execution_count": 4,
   "id": "744955a3",
   "metadata": {
    "execution": {
     "iopub.execute_input": "2022-07-01T13:39:32.356006Z",
     "iopub.status.busy": "2022-07-01T13:39:32.355651Z",
     "iopub.status.idle": "2022-07-01T13:39:32.375617Z",
     "shell.execute_reply": "2022-07-01T13:39:32.374538Z"
    },
    "papermill": {
     "duration": 0.028109,
     "end_time": "2022-07-01T13:39:32.377730",
     "exception": false,
     "start_time": "2022-07-01T13:39:32.349621",
     "status": "completed"
    },
    "tags": []
   },
   "outputs": [],
   "source": [
    "class ALS_MF():\n",
    "    def __init__(self, train_mx, test_mx, k=20, beta=0.1, iterations = 15):      \n",
    "        # training and test matrix\n",
    "        self.train_mx = train_mx \n",
    "        self.test_mx = test_mx\n",
    "        self.m = train_mx.shape[0]\n",
    "        self.n = train_mx.shape[1]\n",
    "        self.k = k\n",
    "        self.beta = beta \n",
    "        self.iterations=iterations\n",
    "        self.train_mae_list = []\n",
    "        self.train_rmse_list = []\n",
    "        self.test_mae_list = []\n",
    "        self.test_rmse_list = []\n",
    "        self.u=np.zeros((self.k, self.m))\n",
    "        self.v=np.zeros((self.k, self.n))\n",
    "    \n",
    "    def train(self):\n",
    "        print(\"start train\")\n",
    "        u = np.random.rand(self.k, self.m) \n",
    "        v = np.random.rand(self.k, self.n) \n",
    "        v[0,:] = self.train_mx[self.train_mx>0].mean(axis=0)\n",
    "        I = np.eye(self.k)\n",
    "\n",
    "        for iteration in range(self.iterations):\n",
    "            # 固定v预测u\n",
    "            for i in range(self.m):\n",
    "                nonzero_list=np.nonzero(self.train_mx[i])[0]\n",
    "                num = max(len(nonzero_list),1)\n",
    "                v_nonzero = v[:, nonzero_list]\n",
    "                line = self.train_mx[i, nonzero_list]\n",
    "                A = np.dot(v_nonzero, v_nonzero.T) + self.beta * num * I\n",
    "                B = np.dot(v_nonzero, line.T)\n",
    "                u[:, i] = np.linalg.solve(A, B)\n",
    "            \n",
    "            # 固定u预测v\n",
    "            for i in range(self.n):\n",
    "                nonzero_list=np.nonzero(self.train_mx.T[i])[0]\n",
    "                num = max(len(nonzero_list),1)\n",
    "                u_nonzero = u[:, nonzero_list]\n",
    "                line = self.train_mx.T[i, nonzero_list]\n",
    "                A = np.dot(u_nonzero, u_nonzero.T) + self.beta * num * I\n",
    "                B = np.dot(u_nonzero, line.T)\n",
    "                v[:, i] = np.linalg.solve(A, B)\n",
    "            \n",
    "            train_mae=MAE(self.train_mx, u, v)\n",
    "            train_rmse=RMSE(self.train_mx, u, v)\n",
    "            test_mae=MAE(self.test_mx, u, v)\n",
    "            test_rmse=RMSE(self.test_mx, u, v)\n",
    "            \n",
    "            self.train_mae_list.append(train_mae)\n",
    "            self.train_rmse_list.append(train_rmse)\n",
    "            self.test_mae_list.append(test_mae)\n",
    "            self.test_rmse_list.append(test_rmse)\n",
    "            \n",
    "            print(\"[Iteration {}/{}] train mae: {:.4f}|train rmse: {:.4f}|test mae: {:.4f}|test rmse: {:.4f}\"\n",
    "                  .format(iteration+1,self.iterations,train_mae,train_rmse,test_mae,test_rmse))\n",
    "        self.u=u\n",
    "        self.v=v\n",
    "            \n",
    "    def evaluate(self):\n",
    "        test_mae=MAE(self.test_mx, self.u, self.v)\n",
    "        test_rmse=RMSE(self.test_mx, self.u, self.v)\n",
    "        return test_mae,test_rmse"
   ]
  },
  {
   "cell_type": "markdown",
   "id": "948240e3",
   "metadata": {
    "papermill": {
     "duration": 0.004369,
     "end_time": "2022-07-01T13:39:32.386931",
     "exception": false,
     "start_time": "2022-07-01T13:39:32.382562",
     "status": "completed"
    },
    "tags": []
   },
   "source": [
    "### **训练模型**\n",
    "#### 训练模型，并对模型预测结果进行评估"
   ]
  },
  {
   "cell_type": "code",
   "execution_count": 5,
   "id": "7438b09f",
   "metadata": {
    "execution": {
     "iopub.execute_input": "2022-07-01T13:39:32.397691Z",
     "iopub.status.busy": "2022-07-01T13:39:32.397352Z",
     "iopub.status.idle": "2022-07-01T13:40:55.778188Z",
     "shell.execute_reply": "2022-07-01T13:40:55.776905Z"
    },
    "papermill": {
     "duration": 83.389072,
     "end_time": "2022-07-01T13:40:55.780584",
     "exception": false,
     "start_time": "2022-07-01T13:39:32.391512",
     "status": "completed"
    },
    "tags": []
   },
   "outputs": [
    {
     "name": "stdout",
     "output_type": "stream",
     "text": [
      "start load data\n"
     ]
    },
    {
     "name": "stderr",
     "output_type": "stream",
     "text": [
      "/opt/conda/lib/python3.7/site-packages/pandas/util/_decorators.py:311: ParserWarning: Falling back to the 'python' engine because the 'c' engine does not support regex separators (separators > 1 char and different from '\\s+' are interpreted as regex); you can avoid this warning by specifying engine='python'.\n",
      "  return func(*args, **kwargs)\n"
     ]
    },
    {
     "name": "stdout",
     "output_type": "stream",
     "text": [
      "start process data\n",
      "start train\n",
      "[Iteration 1/15] train mae: 0.8124|train rmse: 0.9890|test mae: 0.8422|test rmse: 1.0250\n",
      "[Iteration 2/15] train mae: 0.7438|train rmse: 0.9079|test mae: 0.7747|test rmse: 0.9474\n",
      "[Iteration 3/15] train mae: 0.7018|train rmse: 0.8619|test mae: 0.7394|test rmse: 0.9106\n",
      "[Iteration 4/15] train mae: 0.6819|train rmse: 0.8404|test mae: 0.7228|test rmse: 0.8938\n",
      "[Iteration 5/15] train mae: 0.6697|train rmse: 0.8275|test mae: 0.7129|test rmse: 0.8840\n",
      "[Iteration 6/15] train mae: 0.6613|train rmse: 0.8188|test mae: 0.7062|test rmse: 0.8775\n",
      "[Iteration 7/15] train mae: 0.6553|train rmse: 0.8126|test mae: 0.7014|test rmse: 0.8730\n",
      "[Iteration 8/15] train mae: 0.6507|train rmse: 0.8080|test mae: 0.6978|test rmse: 0.8697\n",
      "[Iteration 9/15] train mae: 0.6473|train rmse: 0.8046|test mae: 0.6951|test rmse: 0.8672\n",
      "[Iteration 10/15] train mae: 0.6446|train rmse: 0.8019|test mae: 0.6929|test rmse: 0.8653\n",
      "[Iteration 11/15] train mae: 0.6424|train rmse: 0.7999|test mae: 0.6912|test rmse: 0.8638\n",
      "[Iteration 12/15] train mae: 0.6407|train rmse: 0.7982|test mae: 0.6898|test rmse: 0.8626\n",
      "[Iteration 13/15] train mae: 0.6393|train rmse: 0.7969|test mae: 0.6887|test rmse: 0.8616\n",
      "[Iteration 14/15] train mae: 0.6381|train rmse: 0.7958|test mae: 0.6877|test rmse: 0.8608\n",
      "[Iteration 15/15] train mae: 0.6371|train rmse: 0.7949|test mae: 0.6869|test rmse: 0.8601\n",
      "mae :0.6868903406798436 rmse :0.8601316507189333\n"
     ]
    }
   ],
   "source": [
    "dp = DataProcess(\"../input/movielens-1m-dataset/ratings.dat\")\n",
    "md = ALS_MF(dp.train_mx, dp.test_mx)\n",
    "md.train()\n",
    "test_mae,test_rmse=md.evaluate()\n",
    "print(\"mae :{} rmse :{}\".format(test_mae,test_rmse))"
   ]
  },
  {
   "cell_type": "markdown",
   "id": "04a4c8b5",
   "metadata": {
    "papermill": {
     "duration": 0.005864,
     "end_time": "2022-07-01T13:40:55.792774",
     "exception": false,
     "start_time": "2022-07-01T13:40:55.786910",
     "status": "completed"
    },
    "tags": []
   },
   "source": [
    "### **绘制曲线**\n",
    "#### 使用plt绘制模型在训练集和测试集上MAE和RMSE的下降趋势"
   ]
  },
  {
   "cell_type": "code",
   "execution_count": 6,
   "id": "c239a4ef",
   "metadata": {
    "execution": {
     "iopub.execute_input": "2022-07-01T13:40:55.806823Z",
     "iopub.status.busy": "2022-07-01T13:40:55.806439Z",
     "iopub.status.idle": "2022-07-01T13:40:55.982855Z",
     "shell.execute_reply": "2022-07-01T13:40:55.981728Z"
    },
    "papermill": {
     "duration": 0.186548,
     "end_time": "2022-07-01T13:40:55.985582",
     "exception": false,
     "start_time": "2022-07-01T13:40:55.799034",
     "status": "completed"
    },
    "tags": []
   },
   "outputs": [
    {
     "data": {
      "image/png": "[encoded data removed]",
      "text/plain": [
       "<Figure size 432x288 with 1 Axes>"
      ]
     },
     "metadata": {
      "needs_background": "light"
     },
     "output_type": "display_data"
    }
   ],
   "source": [
    "plt.plot(md.train_mae_list)\n",
    "plt.plot(md.test_mae_list)\n",
    "plt.xlabel(\"Iteration\")\n",
    "plt.ylabel(\"mae\")\n",
    "plt.legend([\"train_mae\",\"test_mae\"]);"
   ]
  },
  {
   "cell_type": "code",
   "execution_count": 7,
   "id": "9c0fe2b4",
   "metadata": {
    "execution": {
     "iopub.execute_input": "2022-07-01T13:40:56.000518Z",
     "iopub.status.busy": "2022-07-01T13:40:55.999758Z",
     "iopub.status.idle": "2022-07-01T13:40:56.147017Z",
     "shell.execute_reply": "2022-07-01T13:40:56.145975Z"
    },
    "papermill": {
     "duration": 0.15731,
     "end_time": "2022-07-01T13:40:56.149262",
     "exception": false,
     "start_time": "2022-07-01T13:40:55.991952",
     "status": "completed"
    },
    "tags": []
   },
   "outputs": [
    {
     "data": {
      "image/png": "[encoded data removed]",
      "text/plain": [
       "<Figure size 432x288 with 1 Axes>"
      ]
     },
     "metadata": {
      "needs_background": "light"
     },
     "output_type": "display_data"
    }
   ],
   "source": [
    "plt.plot(md.train_rmse_list)\n",
    "plt.plot(md.test_rmse_list)\n",
    "plt.xlabel(\"Iteration\")\n",
    "plt.ylabel(\"rmse\")\n",
    "plt.legend([\"train_rmse\",\"test_rmse\"]);"
   ]
  },
  {
   "cell_type": "code",
   "execution_count": 8,
   "id": "b16254ce",
   "metadata": {
    "execution": {
     "iopub.execute_input": "2022-07-01T13:40:56.164872Z",
     "iopub.status.busy": "2022-07-01T13:40:56.164469Z",
     "iopub.status.idle": "2022-07-01T13:54:21.021193Z",
     "shell.execute_reply": "2022-07-01T13:54:21.019957Z"
    },
    "papermill": {
     "duration": 804.868565,
     "end_time": "2022-07-01T13:54:21.024894",
     "exception": false,
     "start_time": "2022-07-01T13:40:56.156329",
     "status": "completed"
    },
    "tags": []
   },
   "outputs": [
    {
     "name": "stdout",
     "output_type": "stream",
     "text": [
      "start train\n",
      "[Iteration 1/10] train mae: 0.7982|train rmse: 0.9795|test mae: 0.8071|test rmse: 0.9896\n",
      "[Iteration 2/10] train mae: 0.7688|train rmse: 0.9448|test mae: 0.7769|test rmse: 0.9544\n",
      "[Iteration 3/10] train mae: 0.7583|train rmse: 0.9347|test mae: 0.7663|test rmse: 0.9443\n",
      "[Iteration 4/10] train mae: 0.7512|train rmse: 0.9283|test mae: 0.7592|test rmse: 0.9380\n",
      "[Iteration 5/10] train mae: 0.7461|train rmse: 0.9239|test mae: 0.7541|test rmse: 0.9335\n",
      "[Iteration 6/10] train mae: 0.7423|train rmse: 0.9206|test mae: 0.7503|test rmse: 0.9303\n",
      "[Iteration 7/10] train mae: 0.7393|train rmse: 0.9182|test mae: 0.7473|test rmse: 0.9278\n",
      "[Iteration 8/10] train mae: 0.7370|train rmse: 0.9163|test mae: 0.7450|test rmse: 0.9259\n",
      "[Iteration 9/10] train mae: 0.7352|train rmse: 0.9148|test mae: 0.7432|test rmse: 0.9245\n",
      "[Iteration 10/10] train mae: 0.7337|train rmse: 0.9136|test mae: 0.7417|test rmse: 0.9233\n",
      "k =1 mae :0.7416672254340588 rmse :0.9232785749330779\n",
      "start train\n",
      "[Iteration 1/10] train mae: 0.7990|train rmse: 0.9801|test mae: 0.8093|test rmse: 0.9919\n",
      "[Iteration 2/10] train mae: 0.7672|train rmse: 0.9423|test mae: 0.7773|test rmse: 0.9546\n",
      "[Iteration 3/10] train mae: 0.7513|train rmse: 0.9259|test mae: 0.7628|test rmse: 0.9403\n",
      "[Iteration 4/10] train mae: 0.7363|train rmse: 0.9107|test mae: 0.7489|test rmse: 0.9266\n",
      "[Iteration 5/10] train mae: 0.7248|train rmse: 0.8990|test mae: 0.7376|test rmse: 0.9153\n",
      "[Iteration 6/10] train mae: 0.7161|train rmse: 0.8900|test mae: 0.7291|test rmse: 0.9068\n",
      "[Iteration 7/10] train mae: 0.7108|train rmse: 0.8846|test mae: 0.7239|test rmse: 0.9016\n",
      "[Iteration 8/10] train mae: 0.7077|train rmse: 0.8817|test mae: 0.7209|test rmse: 0.8988\n",
      "[Iteration 9/10] train mae: 0.7057|train rmse: 0.8800|test mae: 0.7189|test rmse: 0.8971\n",
      "[Iteration 10/10] train mae: 0.7042|train rmse: 0.8788|test mae: 0.7174|test rmse: 0.8958\n",
      "k =2 mae :0.7173658720905058 rmse :0.8958304478571605\n",
      "start train\n",
      "[Iteration 1/10] train mae: 0.7980|train rmse: 0.9785|test mae: 0.8096|test rmse: 0.9921\n",
      "[Iteration 2/10] train mae: 0.7614|train rmse: 0.9348|test mae: 0.7740|test rmse: 0.9505\n",
      "[Iteration 3/10] train mae: 0.7320|train rmse: 0.9031|test mae: 0.7479|test rmse: 0.9235\n",
      "[Iteration 4/10] train mae: 0.7166|train rmse: 0.8870|test mae: 0.7336|test rmse: 0.9091\n",
      "[Iteration 5/10] train mae: 0.7082|train rmse: 0.8784|test mae: 0.7255|test rmse: 0.9011\n",
      "[Iteration 6/10] train mae: 0.7024|train rmse: 0.8727|test mae: 0.7200|test rmse: 0.8957\n",
      "[Iteration 7/10] train mae: 0.6983|train rmse: 0.8687|test mae: 0.7161|test rmse: 0.8919\n",
      "[Iteration 8/10] train mae: 0.6953|train rmse: 0.8658|test mae: 0.7131|test rmse: 0.8892\n",
      "[Iteration 9/10] train mae: 0.6930|train rmse: 0.8638|test mae: 0.7108|test rmse: 0.8872\n",
      "[Iteration 10/10] train mae: 0.6912|train rmse: 0.8622|test mae: 0.7091|test rmse: 0.8856\n",
      "k =3 mae :0.7090868338688076 rmse :0.8856222603236825\n",
      "start train\n",
      "[Iteration 1/10] train mae: 0.7997|train rmse: 0.9802|test mae: 0.8127|test rmse: 0.9955\n",
      "[Iteration 2/10] train mae: 0.7623|train rmse: 0.9353|test mae: 0.7759|test rmse: 0.9526\n",
      "[Iteration 3/10] train mae: 0.7291|train rmse: 0.8988|test mae: 0.7468|test rmse: 0.9221\n",
      "[Iteration 4/10] train mae: 0.7098|train rmse: 0.8781|test mae: 0.7298|test rmse: 0.9045\n",
      "[Iteration 5/10] train mae: 0.6998|train rmse: 0.8676|test mae: 0.7207|test rmse: 0.8951\n",
      "[Iteration 6/10] train mae: 0.6937|train rmse: 0.8616|test mae: 0.7149|test rmse: 0.8895\n",
      "[Iteration 7/10] train mae: 0.6897|train rmse: 0.8578|test mae: 0.7110|test rmse: 0.8858\n",
      "[Iteration 8/10] train mae: 0.6869|train rmse: 0.8552|test mae: 0.7082|test rmse: 0.8833\n",
      "[Iteration 9/10] train mae: 0.6847|train rmse: 0.8532|test mae: 0.7060|test rmse: 0.8814\n",
      "[Iteration 10/10] train mae: 0.6830|train rmse: 0.8517|test mae: 0.7043|test rmse: 0.8799\n",
      "k =4 mae :0.704284914576743 rmse :0.8798761004080696\n",
      "start train\n",
      "[Iteration 1/10] train mae: 0.7997|train rmse: 0.9796|test mae: 0.8139|test rmse: 0.9963\n",
      "[Iteration 2/10] train mae: 0.7539|train rmse: 0.9249|test mae: 0.7698|test rmse: 0.9451\n",
      "[Iteration 3/10] train mae: 0.7176|train rmse: 0.8851|test mae: 0.7390|test rmse: 0.9129\n",
      "[Iteration 4/10] train mae: 0.7022|train rmse: 0.8687|test mae: 0.7258|test rmse: 0.8993\n",
      "[Iteration 5/10] train mae: 0.6936|train rmse: 0.8598|test mae: 0.7179|test rmse: 0.8916\n",
      "[Iteration 6/10] train mae: 0.6878|train rmse: 0.8541|test mae: 0.7125|test rmse: 0.8864\n",
      "[Iteration 7/10] train mae: 0.6837|train rmse: 0.8501|test mae: 0.7084|test rmse: 0.8826\n",
      "[Iteration 8/10] train mae: 0.6805|train rmse: 0.8472|test mae: 0.7053|test rmse: 0.8797\n",
      "[Iteration 9/10] train mae: 0.6780|train rmse: 0.8449|test mae: 0.7029|test rmse: 0.8775\n",
      "[Iteration 10/10] train mae: 0.6761|train rmse: 0.8432|test mae: 0.7009|test rmse: 0.8758\n",
      "k =5 mae :0.7009116719984985 rmse :0.875837558325383\n",
      "start train\n",
      "[Iteration 1/10] train mae: 0.8001|train rmse: 0.9798|test mae: 0.8157|test rmse: 0.9982\n",
      "[Iteration 2/10] train mae: 0.7523|train rmse: 0.9226|test mae: 0.7694|test rmse: 0.9445\n",
      "[Iteration 3/10] train mae: 0.7198|train rmse: 0.8872|test mae: 0.7417|test rmse: 0.9159\n",
      "[Iteration 4/10] train mae: 0.7028|train rmse: 0.8688|test mae: 0.7274|test rmse: 0.9013\n",
      "[Iteration 5/10] train mae: 0.6918|train rmse: 0.8571|test mae: 0.7180|test rmse: 0.8918\n",
      "[Iteration 6/10] train mae: 0.6848|train rmse: 0.8500|test mae: 0.7117|test rmse: 0.8856\n",
      "[Iteration 7/10] train mae: 0.6801|train rmse: 0.8453|test mae: 0.7073|test rmse: 0.8814\n",
      "[Iteration 8/10] train mae: 0.6767|train rmse: 0.8421|test mae: 0.7041|test rmse: 0.8784\n",
      "[Iteration 9/10] train mae: 0.6741|train rmse: 0.8397|test mae: 0.7016|test rmse: 0.8761\n",
      "[Iteration 10/10] train mae: 0.6720|train rmse: 0.8378|test mae: 0.6997|test rmse: 0.8743\n",
      "k =6 mae :0.6996545932609812 rmse :0.8743041660127793\n",
      "start train\n",
      "[Iteration 1/10] train mae: 0.8016|train rmse: 0.9811|test mae: 0.8181|test rmse: 1.0007\n",
      "[Iteration 2/10] train mae: 0.7513|train rmse: 0.9209|test mae: 0.7697|test rmse: 0.9444\n",
      "[Iteration 3/10] train mae: 0.7145|train rmse: 0.8804|test mae: 0.7386|test rmse: 0.9118\n",
      "[Iteration 4/10] train mae: 0.6975|train rmse: 0.8621|test mae: 0.7244|test rmse: 0.8973\n",
      "[Iteration 5/10] train mae: 0.6869|train rmse: 0.8509|test mae: 0.7154|test rmse: 0.8884\n",
      "[Iteration 6/10] train mae: 0.6794|train rmse: 0.8430|test mae: 0.7089|test rmse: 0.8820\n",
      "[Iteration 7/10] train mae: 0.6738|train rmse: 0.8373|test mae: 0.7039|test rmse: 0.8772\n",
      "[Iteration 8/10] train mae: 0.6698|train rmse: 0.8334|test mae: 0.7003|test rmse: 0.8737\n",
      "[Iteration 9/10] train mae: 0.6670|train rmse: 0.8307|test mae: 0.6976|test rmse: 0.8712\n",
      "[Iteration 10/10] train mae: 0.6650|train rmse: 0.8289|test mae: 0.6957|test rmse: 0.8694\n",
      "k =7 mae :0.6956851490241449 rmse :0.8694421371093084\n",
      "start train\n",
      "[Iteration 1/10] train mae: 0.8014|train rmse: 0.9807|test mae: 0.8193|test rmse: 1.0021\n",
      "[Iteration 2/10] train mae: 0.7541|train rmse: 0.9240|test mae: 0.7736|test rmse: 0.9488\n",
      "[Iteration 3/10] train mae: 0.7134|train rmse: 0.8787|test mae: 0.7393|test rmse: 0.9123\n",
      "[Iteration 4/10] train mae: 0.6945|train rmse: 0.8581|test mae: 0.7235|test rmse: 0.8961\n",
      "[Iteration 5/10] train mae: 0.6832|train rmse: 0.8461|test mae: 0.7140|test rmse: 0.8866\n",
      "[Iteration 6/10] train mae: 0.6756|train rmse: 0.8382|test mae: 0.7075|test rmse: 0.8801\n",
      "[Iteration 7/10] train mae: 0.6703|train rmse: 0.8328|test mae: 0.7027|test rmse: 0.8755\n",
      "[Iteration 8/10] train mae: 0.6666|train rmse: 0.8292|test mae: 0.6993|test rmse: 0.8723\n",
      "[Iteration 9/10] train mae: 0.6638|train rmse: 0.8266|test mae: 0.6968|test rmse: 0.8699\n",
      "[Iteration 10/10] train mae: 0.6618|train rmse: 0.8247|test mae: 0.6948|test rmse: 0.8682\n",
      "k =8 mae :0.6948337182789545 rmse :0.8682234114021995\n",
      "start train\n",
      "[Iteration 1/10] train mae: 0.8032|train rmse: 0.9821|test mae: 0.8221|test rmse: 1.0048\n",
      "[Iteration 2/10] train mae: 0.7535|train rmse: 0.9228|test mae: 0.7739|test rmse: 0.9487\n",
      "[Iteration 3/10] train mae: 0.7126|train rmse: 0.8775|test mae: 0.7395|test rmse: 0.9126\n",
      "[Iteration 4/10] train mae: 0.6942|train rmse: 0.8575|test mae: 0.7243|test rmse: 0.8968\n",
      "[Iteration 5/10] train mae: 0.6823|train rmse: 0.8447|test mae: 0.7143|test rmse: 0.8868\n",
      "[Iteration 6/10] train mae: 0.6743|train rmse: 0.8364|test mae: 0.7076|test rmse: 0.8802\n",
      "[Iteration 7/10] train mae: 0.6688|train rmse: 0.8308|test mae: 0.7028|test rmse: 0.8757\n",
      "[Iteration 8/10] train mae: 0.6649|train rmse: 0.8269|test mae: 0.6993|test rmse: 0.8724\n",
      "[Iteration 9/10] train mae: 0.6619|train rmse: 0.8240|test mae: 0.6967|test rmse: 0.8699\n",
      "[Iteration 10/10] train mae: 0.6596|train rmse: 0.8218|test mae: 0.6946|test rmse: 0.8680\n",
      "k =9 mae :0.6945736595781977 rmse :0.8680190922487522\n",
      "start train\n",
      "[Iteration 1/10] train mae: 0.8030|train rmse: 0.9815|test mae: 0.8231|test rmse: 1.0059\n",
      "[Iteration 2/10] train mae: 0.7493|train rmse: 0.9174|test mae: 0.7715|test rmse: 0.9460\n",
      "[Iteration 3/10] train mae: 0.7112|train rmse: 0.8755|test mae: 0.7395|test rmse: 0.9123\n",
      "[Iteration 4/10] train mae: 0.6926|train rmse: 0.8553|test mae: 0.7240|test rmse: 0.8963\n",
      "[Iteration 5/10] train mae: 0.6807|train rmse: 0.8426|test mae: 0.7141|test rmse: 0.8864\n",
      "[Iteration 6/10] train mae: 0.6728|train rmse: 0.8343|test mae: 0.7074|test rmse: 0.8799\n",
      "[Iteration 7/10] train mae: 0.6673|train rmse: 0.8287|test mae: 0.7027|test rmse: 0.8754\n",
      "[Iteration 8/10] train mae: 0.6633|train rmse: 0.8248|test mae: 0.6993|test rmse: 0.8722\n",
      "[Iteration 9/10] train mae: 0.6603|train rmse: 0.8218|test mae: 0.6967|test rmse: 0.8698\n",
      "[Iteration 10/10] train mae: 0.6579|train rmse: 0.8195|test mae: 0.6946|test rmse: 0.8678\n",
      "k =10 mae :0.6946204348263361 rmse :0.8678432815509236\n",
      "start train\n",
      "[Iteration 1/10] train mae: 0.8064|train rmse: 0.9853|test mae: 0.8273|test rmse: 1.0106\n",
      "[Iteration 2/10] train mae: 0.7559|train rmse: 0.9247|test mae: 0.7780|test rmse: 0.9529\n",
      "[Iteration 3/10] train mae: 0.7121|train rmse: 0.8760|test mae: 0.7413|test rmse: 0.9140\n",
      "[Iteration 4/10] train mae: 0.6917|train rmse: 0.8538|test mae: 0.7245|test rmse: 0.8966\n",
      "[Iteration 5/10] train mae: 0.6791|train rmse: 0.8403|test mae: 0.7142|test rmse: 0.8862\n",
      "[Iteration 6/10] train mae: 0.6705|train rmse: 0.8311|test mae: 0.7071|test rmse: 0.8792\n",
      "[Iteration 7/10] train mae: 0.6646|train rmse: 0.8251|test mae: 0.7021|test rmse: 0.8744\n",
      "[Iteration 8/10] train mae: 0.6604|train rmse: 0.8209|test mae: 0.6985|test rmse: 0.8710\n",
      "[Iteration 9/10] train mae: 0.6573|train rmse: 0.8179|test mae: 0.6958|test rmse: 0.8686\n",
      "[Iteration 10/10] train mae: 0.6550|train rmse: 0.8156|test mae: 0.6937|test rmse: 0.8667\n",
      "k =11 mae :0.6937212294739069 rmse :0.8666976369289588\n",
      "start train\n",
      "[Iteration 1/10] train mae: 0.8055|train rmse: 0.9840|test mae: 0.8275|test rmse: 1.0103\n",
      "[Iteration 2/10] train mae: 0.7564|train rmse: 0.9254|test mae: 0.7795|test rmse: 0.9548\n",
      "[Iteration 3/10] train mae: 0.7128|train rmse: 0.8767|test mae: 0.7432|test rmse: 0.9158\n",
      "[Iteration 4/10] train mae: 0.6902|train rmse: 0.8521|test mae: 0.7242|test rmse: 0.8962\n",
      "[Iteration 5/10] train mae: 0.6785|train rmse: 0.8397|test mae: 0.7144|test rmse: 0.8863\n",
      "[Iteration 6/10] train mae: 0.6704|train rmse: 0.8312|test mae: 0.7077|test rmse: 0.8798\n",
      "[Iteration 7/10] train mae: 0.6642|train rmse: 0.8246|test mae: 0.7026|test rmse: 0.8749\n",
      "[Iteration 8/10] train mae: 0.6594|train rmse: 0.8196|test mae: 0.6987|test rmse: 0.8711\n",
      "[Iteration 9/10] train mae: 0.6558|train rmse: 0.8160|test mae: 0.6957|test rmse: 0.8683\n",
      "[Iteration 10/10] train mae: 0.6532|train rmse: 0.8134|test mae: 0.6934|test rmse: 0.8662\n",
      "k =12 mae :0.6934272209864899 rmse :0.866204856123426\n",
      "start train\n",
      "[Iteration 1/10] train mae: 0.8069|train rmse: 0.9859|test mae: 0.8302|test rmse: 1.0139\n",
      "[Iteration 2/10] train mae: 0.7494|train rmse: 0.9165|test mae: 0.7741|test rmse: 0.9483\n",
      "[Iteration 3/10] train mae: 0.7080|train rmse: 0.8709|test mae: 0.7394|test rmse: 0.9119\n",
      "[Iteration 4/10] train mae: 0.6883|train rmse: 0.8495|test mae: 0.7233|test rmse: 0.8953\n",
      "[Iteration 5/10] train mae: 0.6756|train rmse: 0.8358|test mae: 0.7131|test rmse: 0.8850\n",
      "[Iteration 6/10] train mae: 0.6672|train rmse: 0.8269|test mae: 0.7063|test rmse: 0.8782\n",
      "[Iteration 7/10] train mae: 0.6613|train rmse: 0.8209|test mae: 0.7015|test rmse: 0.8736\n",
      "[Iteration 8/10] train mae: 0.6571|train rmse: 0.8166|test mae: 0.6979|test rmse: 0.8703\n",
      "[Iteration 9/10] train mae: 0.6540|train rmse: 0.8135|test mae: 0.6953|test rmse: 0.8679\n",
      "[Iteration 10/10] train mae: 0.6515|train rmse: 0.8112|test mae: 0.6932|test rmse: 0.8660\n",
      "k =13 mae :0.6931826879847169 rmse :0.8659878244902816\n",
      "start train\n",
      "[Iteration 1/10] train mae: 0.8070|train rmse: 0.9850|test mae: 0.8313|test rmse: 1.0146\n",
      "[Iteration 2/10] train mae: 0.7495|train rmse: 0.9161|test mae: 0.7757|test rmse: 0.9497\n",
      "[Iteration 3/10] train mae: 0.7061|train rmse: 0.8682|test mae: 0.7396|test rmse: 0.9116\n",
      "[Iteration 4/10] train mae: 0.6853|train rmse: 0.8454|test mae: 0.7225|test rmse: 0.8939\n",
      "[Iteration 5/10] train mae: 0.6732|train rmse: 0.8325|test mae: 0.7124|test rmse: 0.8838\n",
      "[Iteration 6/10] train mae: 0.6653|train rmse: 0.8243|test mae: 0.7059|test rmse: 0.8775\n",
      "[Iteration 7/10] train mae: 0.6598|train rmse: 0.8188|test mae: 0.7013|test rmse: 0.8732\n",
      "[Iteration 8/10] train mae: 0.6559|train rmse: 0.8149|test mae: 0.6980|test rmse: 0.8702\n",
      "[Iteration 9/10] train mae: 0.6528|train rmse: 0.8120|test mae: 0.6954|test rmse: 0.8679\n",
      "[Iteration 10/10] train mae: 0.6505|train rmse: 0.8097|test mae: 0.6934|test rmse: 0.8662\n",
      "k =14 mae :0.6933828193623359 rmse :0.8661597857890466\n",
      "start train\n",
      "[Iteration 1/10] train mae: 0.8081|train rmse: 0.9865|test mae: 0.8336|test rmse: 1.0172\n",
      "[Iteration 2/10] train mae: 0.7420|train rmse: 0.9078|test mae: 0.7695|test rmse: 0.9429\n",
      "[Iteration 3/10] train mae: 0.7043|train rmse: 0.8661|test mae: 0.7381|test rmse: 0.9098\n",
      "[Iteration 4/10] train mae: 0.6841|train rmse: 0.8440|test mae: 0.7218|test rmse: 0.8930\n",
      "[Iteration 5/10] train mae: 0.6721|train rmse: 0.8311|test mae: 0.7119|test rmse: 0.8833\n",
      "[Iteration 6/10] train mae: 0.6642|train rmse: 0.8229|test mae: 0.7055|test rmse: 0.8770\n",
      "[Iteration 7/10] train mae: 0.6586|train rmse: 0.8173|test mae: 0.7009|test rmse: 0.8728\n",
      "[Iteration 8/10] train mae: 0.6546|train rmse: 0.8132|test mae: 0.6975|test rmse: 0.8697\n",
      "[Iteration 9/10] train mae: 0.6515|train rmse: 0.8102|test mae: 0.6950|test rmse: 0.8673\n",
      "[Iteration 10/10] train mae: 0.6490|train rmse: 0.8079|test mae: 0.6929|test rmse: 0.8656\n",
      "k =15 mae :0.6929376781571625 rmse :0.8655504364944898\n",
      "start train\n",
      "[Iteration 1/10] train mae: 0.8087|train rmse: 0.9859|test mae: 0.8347|test rmse: 1.0177\n",
      "[Iteration 2/10] train mae: 0.7462|train rmse: 0.9119|test mae: 0.7739|test rmse: 0.9474\n",
      "[Iteration 3/10] train mae: 0.7057|train rmse: 0.8674|test mae: 0.7403|test rmse: 0.9121\n",
      "[Iteration 4/10] train mae: 0.6845|train rmse: 0.8441|test mae: 0.7231|test rmse: 0.8942\n",
      "[Iteration 5/10] train mae: 0.6715|train rmse: 0.8302|test mae: 0.7125|test rmse: 0.8836\n",
      "[Iteration 6/10] train mae: 0.6632|train rmse: 0.8215|test mae: 0.7057|test rmse: 0.8770\n",
      "[Iteration 7/10] train mae: 0.6575|train rmse: 0.8157|test mae: 0.7010|test rmse: 0.8726\n",
      "[Iteration 8/10] train mae: 0.6534|train rmse: 0.8116|test mae: 0.6976|test rmse: 0.8694\n",
      "[Iteration 9/10] train mae: 0.6502|train rmse: 0.8085|test mae: 0.6949|test rmse: 0.8671\n",
      "[Iteration 10/10] train mae: 0.6477|train rmse: 0.8062|test mae: 0.6928|test rmse: 0.8653\n",
      "k =16 mae :0.692842930137252 rmse :0.8652543865632679\n",
      "start train\n",
      "[Iteration 1/10] train mae: 0.8098|train rmse: 0.9876|test mae: 0.8372|test rmse: 1.0207\n",
      "[Iteration 2/10] train mae: 0.7469|train rmse: 0.9126|test mae: 0.7753|test rmse: 0.9490\n",
      "[Iteration 3/10] train mae: 0.7057|train rmse: 0.8673|test mae: 0.7406|test rmse: 0.9125\n",
      "[Iteration 4/10] train mae: 0.6855|train rmse: 0.8453|test mae: 0.7240|test rmse: 0.8955\n",
      "[Iteration 5/10] train mae: 0.6724|train rmse: 0.8312|test mae: 0.7134|test rmse: 0.8849\n",
      "[Iteration 6/10] train mae: 0.6636|train rmse: 0.8219|test mae: 0.7064|test rmse: 0.8779\n",
      "[Iteration 7/10] train mae: 0.6575|train rmse: 0.8157|test mae: 0.7015|test rmse: 0.8733\n",
      "[Iteration 8/10] train mae: 0.6532|train rmse: 0.8113|test mae: 0.6979|test rmse: 0.8700\n",
      "[Iteration 9/10] train mae: 0.6499|train rmse: 0.8081|test mae: 0.6952|test rmse: 0.8676\n",
      "[Iteration 10/10] train mae: 0.6473|train rmse: 0.8056|test mae: 0.6931|test rmse: 0.8657\n",
      "k =17 mae :0.6931105329131669 rmse :0.8656962715501366\n",
      "start train\n",
      "[Iteration 1/10] train mae: 0.8123|train rmse: 0.9894|test mae: 0.8407|test rmse: 1.0237\n",
      "[Iteration 2/10] train mae: 0.7442|train rmse: 0.9090|test mae: 0.7737|test rmse: 0.9469\n",
      "[Iteration 3/10] train mae: 0.7042|train rmse: 0.8650|test mae: 0.7400|test rmse: 0.9116\n",
      "[Iteration 4/10] train mae: 0.6840|train rmse: 0.8431|test mae: 0.7235|test rmse: 0.8947\n",
      "[Iteration 5/10] train mae: 0.6715|train rmse: 0.8299|test mae: 0.7134|test rmse: 0.8847\n",
      "[Iteration 6/10] train mae: 0.6631|train rmse: 0.8211|test mae: 0.7066|test rmse: 0.8781\n",
      "[Iteration 7/10] train mae: 0.6570|train rmse: 0.8149|test mae: 0.7017|test rmse: 0.8734\n",
      "[Iteration 8/10] train mae: 0.6526|train rmse: 0.8104|test mae: 0.6981|test rmse: 0.8700\n",
      "[Iteration 9/10] train mae: 0.6492|train rmse: 0.8071|test mae: 0.6953|test rmse: 0.8675\n",
      "[Iteration 10/10] train mae: 0.6466|train rmse: 0.8046|test mae: 0.6932|test rmse: 0.8656\n",
      "k =18 mae :0.6931839859340639 rmse :0.8655514587276574\n",
      "start train\n",
      "[Iteration 1/10] train mae: 0.8103|train rmse: 0.9874|test mae: 0.8394|test rmse: 1.0227\n",
      "[Iteration 2/10] train mae: 0.7406|train rmse: 0.9049|test mae: 0.7715|test rmse: 0.9444\n",
      "[Iteration 3/10] train mae: 0.7017|train rmse: 0.8620|test mae: 0.7392|test rmse: 0.9104\n",
      "[Iteration 4/10] train mae: 0.6808|train rmse: 0.8392|test mae: 0.7222|test rmse: 0.8930\n",
      "[Iteration 5/10] train mae: 0.6686|train rmse: 0.8263|test mae: 0.7122|test rmse: 0.8831\n",
      "[Iteration 6/10] train mae: 0.6606|train rmse: 0.8181|test mae: 0.7057|test rmse: 0.8768\n",
      "[Iteration 7/10] train mae: 0.6549|train rmse: 0.8123|test mae: 0.7011|test rmse: 0.8725\n",
      "[Iteration 8/10] train mae: 0.6507|train rmse: 0.8081|test mae: 0.6976|test rmse: 0.8694\n",
      "[Iteration 9/10] train mae: 0.6474|train rmse: 0.8049|test mae: 0.6950|test rmse: 0.8670\n",
      "[Iteration 10/10] train mae: 0.6448|train rmse: 0.8024|test mae: 0.6929|test rmse: 0.8652\n",
      "k =19 mae :0.6928673365598986 rmse :0.86521380539524\n",
      "start train\n",
      "[Iteration 1/10] train mae: 0.8117|train rmse: 0.9886|test mae: 0.8417|test rmse: 1.0247\n",
      "[Iteration 2/10] train mae: 0.7438|train rmse: 0.9081|test mae: 0.7750|test rmse: 0.9481\n",
      "[Iteration 3/10] train mae: 0.7035|train rmse: 0.8637|test mae: 0.7410|test rmse: 0.9124\n",
      "[Iteration 4/10] train mae: 0.6818|train rmse: 0.8401|test mae: 0.7233|test rmse: 0.8941\n",
      "[Iteration 5/10] train mae: 0.6687|train rmse: 0.8261|test mae: 0.7127|test rmse: 0.8835\n",
      "[Iteration 6/10] train mae: 0.6603|train rmse: 0.8175|test mae: 0.7059|test rmse: 0.8769\n",
      "[Iteration 7/10] train mae: 0.6545|train rmse: 0.8116|test mae: 0.7011|test rmse: 0.8724\n",
      "[Iteration 8/10] train mae: 0.6502|train rmse: 0.8073|test mae: 0.6976|test rmse: 0.8692\n",
      "[Iteration 9/10] train mae: 0.6469|train rmse: 0.8040|test mae: 0.6950|test rmse: 0.8669\n",
      "[Iteration 10/10] train mae: 0.6443|train rmse: 0.8015|test mae: 0.6928|test rmse: 0.8650\n",
      "k =20 mae :0.6928429768172915 rmse :0.8650180548923723\n"
     ]
    }
   ],
   "source": [
    "k_mae=[]\n",
    "k_rmse=[]\n",
    "for i in range(20):\n",
    "    md = ALS_MF(dp.train_mx, dp.test_mx,k=i+1,iterations=10)\n",
    "    md.train()\n",
    "    test_mae,test_rmse=md.evaluate()\n",
    "    print(\"k ={} mae :{} rmse :{}\".format(i+1,test_mae,test_rmse))\n",
    "    k_mae.append(test_mae)\n",
    "    k_rmse.append(test_rmse)"
   ]
  },
  {
   "cell_type": "code",
   "execution_count": 9,
   "id": "eef91bc7",
   "metadata": {
    "execution": {
     "iopub.execute_input": "2022-07-01T13:54:21.073679Z",
     "iopub.status.busy": "2022-07-01T13:54:21.072983Z",
     "iopub.status.idle": "2022-07-01T13:54:21.080947Z",
     "shell.execute_reply": "2022-07-01T13:54:21.079870Z"
    },
    "papermill": {
     "duration": 0.035189,
     "end_time": "2022-07-01T13:54:21.083256",
     "exception": false,
     "start_time": "2022-07-01T13:54:21.048067",
     "status": "completed"
    },
    "tags": []
   },
   "outputs": [
    {
     "data": {
      "text/plain": [
       "[0.7416672254340588,\n",
       " 0.7173658720905058,\n",
       " 0.7090868338688076,\n",
       " 0.704284914576743,\n",
       " 0.7009116719984985,\n",
       " 0.6996545932609812,\n",
       " 0.6956851490241449,\n",
       " 0.6948337182789545,\n",
       " 0.6945736595781977,\n",
       " 0.6946204348263361,\n",
       " 0.6937212294739069,\n",
       " 0.6934272209864899,\n",
       " 0.6931826879847169,\n",
       " 0.6933828193623359,\n",
       " 0.6929376781571625,\n",
       " 0.692842930137252,\n",
       " 0.6931105329131669,\n",
       " 0.6931839859340639,\n",
       " 0.6928673365598986,\n",
       " 0.6928429768172915]"
      ]
     },
     "execution_count": 9,
     "metadata": {},
     "output_type": "execute_result"
    }
   ],
   "source": [
    "k_mae"
   ]
  },
  {
   "cell_type": "code",
   "execution_count": 10,
   "id": "aadead4f",
   "metadata": {
    "execution": {
     "iopub.execute_input": "2022-07-01T13:54:21.130027Z",
     "iopub.status.busy": "2022-07-01T13:54:21.129287Z",
     "iopub.status.idle": "2022-07-01T13:54:21.304798Z",
     "shell.execute_reply": "2022-07-01T13:54:21.304027Z"
    },
    "papermill": {
     "duration": 0.201175,
     "end_time": "2022-07-01T13:54:21.306989",
     "exception": false,
     "start_time": "2022-07-01T13:54:21.105814",
     "status": "completed"
    },
    "tags": []
   },
   "outputs": [
    {
     "data": {
      "text/plain": [
       "Text(0, 0.5, 'test_mae')"
      ]
     },
     "execution_count": 10,
     "metadata": {},
     "output_type": "execute_result"
    },
    {
     "data": {
      "image/png": "[encoded data removed]",
      "text/plain": [
       "<Figure size 432x288 with 1 Axes>"
      ]
     },
     "metadata": {
      "needs_background": "light"
     },
     "output_type": "display_data"
    }
   ],
   "source": [
    "plt.plot(k_mae)\n",
    "plt.xlabel(\"k\")\n",
    "plt.ylabel(\"test_mae\")"
   ]
  },
  {
   "cell_type": "code",
   "execution_count": 11,
   "id": "c609e8a9",
   "metadata": {
    "execution": {
     "iopub.execute_input": "2022-07-01T13:54:21.354399Z",
     "iopub.status.busy": "2022-07-01T13:54:21.353653Z",
     "iopub.status.idle": "2022-07-01T13:54:21.533857Z",
     "shell.execute_reply": "2022-07-01T13:54:21.533114Z"
    },
    "papermill": {
     "duration": 0.206832,
     "end_time": "2022-07-01T13:54:21.536244",
     "exception": false,
     "start_time": "2022-07-01T13:54:21.329412",
     "status": "completed"
    },
    "tags": []
   },
   "outputs": [
    {
     "data": {
      "text/plain": [
       "Text(0, 0.5, 'test_mae')"
      ]
     },
     "execution_count": 11,
     "metadata": {},
     "output_type": "execute_result"
    },
    {
     "data": {
      "image/png": "[encoded data removed]",
      "text/plain": [
       "<Figure size 432x288 with 1 Axes>"
      ]
     },
     "metadata": {
      "needs_background": "light"
     },
     "output_type": "display_data"
    }
   ],
   "source": [
    "plt.plot(k_rmse)\n",
    "plt.xlabel(\"k\")\n",
    "plt.ylabel(\"test_mae\")"
   ]
  }
 ],
 "metadata": {
  "kernelspec": {
   "display_name": "Python 3",
   "language": "python",
   "name": "python3"
  },
  "language_info": {
   "codemirror_mode": {
    "name": "ipython",
    "version": 3
   },
   "file_extension": ".py",
   "mimetype": "text/x-python",
   "name": "python",
   "nbconvert_exporter": "python",
   "pygments_lexer": "ipython3",
   "version": "3.7.12"
  },
  "papermill": {
   "default_parameters": {},
   "duration": 899.37716,
   "end_time": "2022-07-01T13:54:22.183053",
   "environment_variables": {},
   "exception": null,
   "input_path": "__notebook__.ipynb",
   "output_path": "__notebook__.ipynb",
   "parameters": {},
   "start_time": "2022-07-01T13:39:22.805893",
   "version": "2.3.4"
  }
 },
 "nbformat": 4,
 "nbformat_minor": 5
}
