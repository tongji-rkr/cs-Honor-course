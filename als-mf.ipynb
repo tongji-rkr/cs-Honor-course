{
 "cells": [
  {
   "cell_type": "code",
   "execution_count": 1,
   "id": "a719ce74",
   "metadata": {
    "execution": {
     "iopub.execute_input": "2022-07-01T11:49:54.382738Z",
     "iopub.status.busy": "2022-07-01T11:49:54.382055Z",
     "iopub.status.idle": "2022-07-01T11:49:54.395951Z",
     "shell.execute_reply": "2022-07-01T11:49:54.394752Z"
    },
    "papermill": {
     "duration": 0.024645,
     "end_time": "2022-07-01T11:49:54.399261",
     "exception": false,
     "start_time": "2022-07-01T11:49:54.374616",
     "status": "completed"
    },
    "tags": []
   },
   "outputs": [],
   "source": [
    "import pandas as pd\n",
    "import numpy as np\n",
    "from matplotlib import pyplot as plt\n",
    "\n",
    "np.random.seed(555)"
   ]
  },
  {
   "cell_type": "markdown",
   "id": "c8a9dcbf",
   "metadata": {
    "papermill": {
     "duration": 0.003701,
     "end_time": "2022-07-01T11:49:54.407881",
     "exception": false,
     "start_time": "2022-07-01T11:49:54.404180",
     "status": "completed"
    },
    "tags": []
   },
   "source": [
    "### **数据处理**\n",
    "#### 本实验选择数据集为MovieLens-1M数据集，其中80%作为训练集，20%作为测试集\n",
    "#### 并分别对训练数据和测试数据进行用户-电影交互矩阵的构建"
   ]
  },
  {
   "cell_type": "code",
   "execution_count": 2,
   "id": "33e45980",
   "metadata": {
    "execution": {
     "iopub.execute_input": "2022-07-01T11:49:54.417594Z",
     "iopub.status.busy": "2022-07-01T11:49:54.417208Z",
     "iopub.status.idle": "2022-07-01T11:49:54.427213Z",
     "shell.execute_reply": "2022-07-01T11:49:54.425937Z"
    },
    "papermill": {
     "duration": 0.018067,
     "end_time": "2022-07-01T11:49:54.429809",
     "exception": false,
     "start_time": "2022-07-01T11:49:54.411742",
     "status": "completed"
    },
    "tags": []
   },
   "outputs": [],
   "source": [
    "class DataProcess:\n",
    "    def __init__(self, data_path, alpha=0.8):\n",
    "        print(\"start load data\")\n",
    "        df=pd.read_csv(data_path,sep=\"::\",names=['uid', 'iid', 'ratings','time'],encoding='utf-8')\n",
    "        print(\"start process data\")\n",
    "        df.drop('time',axis=1)\n",
    "        #\n",
    "        self.n_user = max(df['uid'].values)\n",
    "        self.n_item = max(df['iid'].values)\n",
    "        \n",
    "        self.data = df[['uid', 'iid', 'ratings']].values\n",
    "        self.train_mx = np.zeros((self.n_user, self.n_item))\n",
    "        self.test_mx = np.zeros((self.n_user, self.n_item))\n",
    "        \n",
    "        for u,i,r in self.data:\n",
    "            if (np.random.random() < alpha):\n",
    "                self.train_mx[u-1][i-1] = r\n",
    "            else:\n",
    "                self.test_mx[u-1][i-1] = r "
   ]
  },
  {
   "cell_type": "markdown",
   "id": "b87fd553",
   "metadata": {
    "papermill": {
     "duration": 0.003548,
     "end_time": "2022-07-01T11:49:54.437316",
     "exception": false,
     "start_time": "2022-07-01T11:49:54.433768",
     "status": "completed"
    },
    "tags": []
   },
   "source": [
    "### **构造评估函数**\n",
    "#### 使用MAE和RMSE对预测结果进行评估。"
   ]
  },
  {
   "cell_type": "code",
   "execution_count": 3,
   "id": "32ba20c6",
   "metadata": {
    "execution": {
     "iopub.execute_input": "2022-07-01T11:49:54.447271Z",
     "iopub.status.busy": "2022-07-01T11:49:54.446896Z",
     "iopub.status.idle": "2022-07-01T11:49:54.454418Z",
     "shell.execute_reply": "2022-07-01T11:49:54.453259Z"
    },
    "papermill": {
     "duration": 0.015356,
     "end_time": "2022-07-01T11:49:54.456850",
     "exception": false,
     "start_time": "2022-07-01T11:49:54.441494",
     "status": "completed"
    },
    "tags": []
   },
   "outputs": [],
   "source": [
    "# MAE\n",
    "def MAE(mx,u,v):\n",
    "    I=mx.copy()\n",
    "    I[I>0]=1\n",
    "    return np.sum(np.fabs(I * (mx - np.dot(u.T,v))))/len(mx[mx > 0])\n",
    "# RMSE\n",
    "def RMSE(mx,u,v):\n",
    "    I=mx.copy()\n",
    "    I[I>0]=1\n",
    "    return np.sqrt(np.sum((I * (mx - np.dot(u.T,v)))**2)/len(mx[mx > 0]))"
   ]
  },
  {
   "cell_type": "markdown",
   "id": "b21f8785",
   "metadata": {
    "papermill": {
     "duration": 0.00359,
     "end_time": "2022-07-01T11:49:54.464442",
     "exception": false,
     "start_time": "2022-07-01T11:49:54.460852",
     "status": "completed"
    },
    "tags": []
   },
   "source": [
    "### **ALS矩阵分解**\n",
    "#### 使用ALS方法实现矩阵分解。"
   ]
  },
  {
   "cell_type": "code",
   "execution_count": 4,
   "id": "050978af",
   "metadata": {
    "execution": {
     "iopub.execute_input": "2022-07-01T11:49:54.474393Z",
     "iopub.status.busy": "2022-07-01T11:49:54.474039Z",
     "iopub.status.idle": "2022-07-01T11:49:54.496123Z",
     "shell.execute_reply": "2022-07-01T11:49:54.495066Z"
    },
    "papermill": {
     "duration": 0.030484,
     "end_time": "2022-07-01T11:49:54.498796",
     "exception": false,
     "start_time": "2022-07-01T11:49:54.468312",
     "status": "completed"
    },
    "tags": []
   },
   "outputs": [],
   "source": [
    "class ALS_MF():\n",
    "    def __init__(self, train_mx, test_mx, k=20, beta=0.1, iterations = 15):      \n",
    "        # training and test matrix\n",
    "        self.train_mx = train_mx \n",
    "        self.test_mx = test_mx\n",
    "        self.m = train_mx.shape[0]\n",
    "        self.n = train_mx.shape[1]\n",
    "        self.k = k\n",
    "        self.beta = beta \n",
    "        self.iterations=iterations\n",
    "        self.train_mae_list = []\n",
    "        self.train_rmse_list = []\n",
    "        self.test_mae_list = []\n",
    "        self.test_rmse_list = []\n",
    "        self.u=np.zeros((self.k, self.m))\n",
    "        self.v=np.zeros((self.k, self.n))\n",
    "    \n",
    "    def train(self):\n",
    "        print(\"start train\")\n",
    "        u = np.random.rand(self.k, self.m) \n",
    "        v = np.random.rand(self.k, self.n) \n",
    "        v[0,:] = self.train_mx[self.train_mx>0].mean(axis=0)\n",
    "        I = np.eye(self.k)\n",
    "\n",
    "        for iteration in range(self.iterations):\n",
    "            # 固定v预测u\n",
    "            for i in range(self.m):\n",
    "                nonzero_list=np.nonzero(self.train_mx[i])[0]\n",
    "                num = max(len(nonzero_list),1)\n",
    "                v_nonzero = v[:, nonzero_list]\n",
    "                line = self.train_mx[i, nonzero_list]\n",
    "                A = np.dot(v_nonzero, v_nonzero.T) + self.beta * num * I\n",
    "                B = np.dot(v_nonzero, line.T)\n",
    "                u[:, i] = np.linalg.solve(A, B)\n",
    "            \n",
    "            # 固定u预测v\n",
    "            for i in range(self.n):\n",
    "                nonzero_list=np.nonzero(self.train_mx.T[i])[0]\n",
    "                num = max(len(nonzero_list),1)\n",
    "                u_nonzero = u[:, nonzero_list]\n",
    "                line = self.train_mx.T[i, nonzero_list]\n",
    "                A = np.dot(u_nonzero, u_nonzero.T) + self.beta * num * I\n",
    "                B = np.dot(u_nonzero, line.T)\n",
    "                v[:, i] = np.linalg.solve(A, B)\n",
    "            \n",
    "            train_mae=MAE(self.train_mx, u, v)\n",
    "            train_rmse=RMSE(self.train_mx, u, v)\n",
    "            test_mae=MAE(self.test_mx, u, v)\n",
    "            test_rmse=RMSE(self.test_mx, u, v)\n",
    "            \n",
    "            self.train_mae_list.append(train_mae)\n",
    "            self.train_rmse_list.append(train_rmse)\n",
    "            self.test_mae_list.append(test_mae)\n",
    "            self.test_rmse_list.append(test_rmse)\n",
    "            \n",
    "            print(\"[Iteration {}/{}] train mae: {:.4f}|train rmse: {:.4f}|test mae: {:.4f}|test rmse: {:.4f}\"\n",
    "                  .format(iteration+1,self.iterations,train_mae,train_rmse,test_mae,test_rmse))\n",
    "        self.u=u\n",
    "        self.v=v\n",
    "            \n",
    "    def evaluate(self):\n",
    "        test_mae=MAE(self.test_mx, self.u, self.v)\n",
    "        test_rmse=RMSE(self.test_mx, self.u, self.v)\n",
    "        print(\"mae :{} rmse :{}\".format(test_mae,test_rmse))"
   ]
  },
  {
   "cell_type": "markdown",
   "id": "2d6ed064",
   "metadata": {
    "papermill": {
     "duration": 0.003628,
     "end_time": "2022-07-01T11:49:54.506406",
     "exception": false,
     "start_time": "2022-07-01T11:49:54.502778",
     "status": "completed"
    },
    "tags": []
   },
   "source": [
    "### **训练模型**\n",
    "#### 训练模型，并对模型预测结果进行评估"
   ]
  },
  {
   "cell_type": "code",
   "execution_count": 5,
   "id": "ed43df02",
   "metadata": {
    "execution": {
     "iopub.execute_input": "2022-07-01T11:49:54.516197Z",
     "iopub.status.busy": "2022-07-01T11:49:54.515662Z",
     "iopub.status.idle": "2022-07-01T11:51:21.089674Z",
     "shell.execute_reply": "2022-07-01T11:51:21.088217Z"
    },
    "papermill": {
     "duration": 86.582517,
     "end_time": "2022-07-01T11:51:21.092775",
     "exception": false,
     "start_time": "2022-07-01T11:49:54.510258",
     "status": "completed"
    },
    "tags": []
   },
   "outputs": [
    {
     "name": "stdout",
     "output_type": "stream",
     "text": [
      "start load data\n"
     ]
    },
    {
     "name": "stderr",
     "output_type": "stream",
     "text": [
      "/opt/conda/lib/python3.7/site-packages/pandas/util/_decorators.py:311: ParserWarning: Falling back to the 'python' engine because the 'c' engine does not support regex separators (separators > 1 char and different from '\\s+' are interpreted as regex); you can avoid this warning by specifying engine='python'.\n",
      "  return func(*args, **kwargs)\n"
     ]
    },
    {
     "name": "stdout",
     "output_type": "stream",
     "text": [
      "start process data\n",
      "start train\n",
      "[Iteration 1/15] train mae: 0.8124|train rmse: 0.9890|test mae: 0.8422|test rmse: 1.0250\n",
      "[Iteration 2/15] train mae: 0.7438|train rmse: 0.9079|test mae: 0.7747|test rmse: 0.9474\n",
      "[Iteration 3/15] train mae: 0.7018|train rmse: 0.8619|test mae: 0.7394|test rmse: 0.9106\n",
      "[Iteration 4/15] train mae: 0.6819|train rmse: 0.8404|test mae: 0.7228|test rmse: 0.8938\n",
      "[Iteration 5/15] train mae: 0.6697|train rmse: 0.8275|test mae: 0.7129|test rmse: 0.8840\n",
      "[Iteration 6/15] train mae: 0.6613|train rmse: 0.8188|test mae: 0.7062|test rmse: 0.8775\n",
      "[Iteration 7/15] train mae: 0.6553|train rmse: 0.8126|test mae: 0.7014|test rmse: 0.8730\n",
      "[Iteration 8/15] train mae: 0.6507|train rmse: 0.8080|test mae: 0.6978|test rmse: 0.8697\n",
      "[Iteration 9/15] train mae: 0.6473|train rmse: 0.8046|test mae: 0.6951|test rmse: 0.8672\n",
      "[Iteration 10/15] train mae: 0.6446|train rmse: 0.8019|test mae: 0.6929|test rmse: 0.8653\n",
      "[Iteration 11/15] train mae: 0.6424|train rmse: 0.7999|test mae: 0.6912|test rmse: 0.8638\n",
      "[Iteration 12/15] train mae: 0.6407|train rmse: 0.7982|test mae: 0.6898|test rmse: 0.8626\n",
      "[Iteration 13/15] train mae: 0.6393|train rmse: 0.7969|test mae: 0.6887|test rmse: 0.8616\n",
      "[Iteration 14/15] train mae: 0.6381|train rmse: 0.7958|test mae: 0.6877|test rmse: 0.8608\n",
      "[Iteration 15/15] train mae: 0.6371|train rmse: 0.7949|test mae: 0.6869|test rmse: 0.8601\n",
      "mae :0.6868903406798436 rmse :0.8601316507189333\n"
     ]
    }
   ],
   "source": [
    "dp = DataProcess(\"../input/movielens-1m-dataset/ratings.dat\")\n",
    "md = ALS_MF(dp.train_mx, dp.test_mx)\n",
    "md.train()\n",
    "md.evaluate()"
   ]
  },
  {
   "cell_type": "markdown",
   "id": "f1c978ea",
   "metadata": {
    "papermill": {
     "duration": 0.005046,
     "end_time": "2022-07-01T11:51:21.103441",
     "exception": false,
     "start_time": "2022-07-01T11:51:21.098395",
     "status": "completed"
    },
    "tags": []
   },
   "source": [
    "### **绘制曲线**\n",
    "#### 使用plt绘制模型在训练集和测试集上MAE和RMSE的下降趋势"
   ]
  },
  {
   "cell_type": "code",
   "execution_count": 6,
   "id": "0b69c3a5",
   "metadata": {
    "execution": {
     "iopub.execute_input": "2022-07-01T11:51:21.115768Z",
     "iopub.status.busy": "2022-07-01T11:51:21.115392Z",
     "iopub.status.idle": "2022-07-01T11:51:21.346942Z",
     "shell.execute_reply": "2022-07-01T11:51:21.345699Z"
    },
    "papermill": {
     "duration": 0.240719,
     "end_time": "2022-07-01T11:51:21.349455",
     "exception": false,
     "start_time": "2022-07-01T11:51:21.108736",
     "status": "completed"
    },
    "tags": []
   },
   "outputs": [
    {
     "data": {
      "image/png": "[encoded data removed]",
      "text/plain": [
       "<Figure size 432x288 with 1 Axes>"
      ]
     },
     "metadata": {
      "needs_background": "light"
     },
     "output_type": "display_data"
    }
   ],
   "source": [
    "plt.plot(md.train_mae_list)\n",
    "plt.plot(md.test_mae_list)\n",
    "plt.xlabel(\"Iteration\")\n",
    "plt.ylabel(\"mae\")\n",
    "plt.legend([\"train_mae\",\"test_mae\"]);"
   ]
  },
  {
   "cell_type": "code",
   "execution_count": 7,
   "id": "c9dd5389",
   "metadata": {
    "execution": {
     "iopub.execute_input": "2022-07-01T11:51:21.362685Z",
     "iopub.status.busy": "2022-07-01T11:51:21.362310Z",
     "iopub.status.idle": "2022-07-01T11:51:21.566685Z",
     "shell.execute_reply": "2022-07-01T11:51:21.565307Z"
    },
    "papermill": {
     "duration": 0.213759,
     "end_time": "2022-07-01T11:51:21.569059",
     "exception": false,
     "start_time": "2022-07-01T11:51:21.355300",
     "status": "completed"
    },
    "tags": []
   },
   "outputs": [
    {
     "data": {
      "image/png": "[encoded data removed]",
      "text/plain": [
       "<Figure size 432x288 with 1 Axes>"
      ]
     },
     "metadata": {
      "needs_background": "light"
     },
     "output_type": "display_data"
    }
   ],
   "source": [
    "plt.plot(md.train_rmse_list)\n",
    "plt.plot(md.test_rmse_list)\n",
    "plt.xlabel(\"Iteration\")\n",
    "plt.ylabel(\"rmse\")\n",
    "plt.legend([\"train_rmse\",\"test_rmse\"]);"
   ]
  }
 ],
 "metadata": {
  "kernelspec": {
   "display_name": "Python 3",
   "language": "python",
   "name": "python3"
  },
  "language_info": {
   "codemirror_mode": {
    "name": "ipython",
    "version": 3
   },
   "file_extension": ".py",
   "mimetype": "text/x-python",
   "name": "python",
   "nbconvert_exporter": "python",
   "pygments_lexer": "ipython3",
   "version": "3.7.12"
  },
  "papermill": {
   "default_parameters": {},
   "duration": 99.549181,
   "end_time": "2022-07-01T11:51:22.297493",
   "environment_variables": {},
   "exception": null,
   "input_path": "__notebook__.ipynb",
   "output_path": "__notebook__.ipynb",
   "parameters": {},
   "start_time": "2022-07-01T11:49:42.748312",
   "version": "2.3.4"
  }
 },
 "nbformat": 4,
 "nbformat_minor": 5
}
